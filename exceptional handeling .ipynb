{
 "cells": [
  {
   "cell_type": "code",
   "execution_count": 114,
   "id": "5f630577",
   "metadata": {},
   "outputs": [
    {
     "data": {
      "text/plain": [
       "6.0"
      ]
     },
     "execution_count": 114,
     "metadata": {},
     "output_type": "execute_result"
    }
   ],
   "source": [
    "12/2"
   ]
  },
  {
   "cell_type": "code",
   "execution_count": 115,
   "id": "8744011e",
   "metadata": {},
   "outputs": [
    {
     "name": "stderr",
     "output_type": "stream",
     "text": [
      "<>:1: SyntaxWarning: 'int' object is not callable; perhaps you missed a comma?\n",
      "C:\\Users\\admin\\AppData\\Local\\Temp\\ipykernel_14508\\540811526.py:1: SyntaxWarning: 'int' object is not callable; perhaps you missed a comma?\n",
      "  21()\n"
     ]
    },
    {
     "ename": "TypeError",
     "evalue": "'int' object is not callable",
     "output_type": "error",
     "traceback": [
      "\u001b[31m---------------------------------------------------------------------------\u001b[39m",
      "\u001b[31mTypeError\u001b[39m                                 Traceback (most recent call last)",
      "\u001b[36mCell\u001b[39m\u001b[36m \u001b[39m\u001b[32mIn[115]\u001b[39m\u001b[32m, line 1\u001b[39m\n\u001b[32m----> \u001b[39m\u001b[32m1\u001b[39m \u001b[32;43m21\u001b[39;49m\u001b[43m(\u001b[49m\u001b[43m)\u001b[49m\n",
      "\u001b[31mTypeError\u001b[39m: 'int' object is not callable"
     ]
    }
   ],
   "source": [
    "/21"
   ]
  },
  {
   "cell_type": "code",
   "execution_count": 116,
   "id": "f8a8c24c",
   "metadata": {},
   "outputs": [
    {
     "ename": "TypeError",
     "evalue": "unsupported operand type(s) for /: 'str' and 'int'",
     "output_type": "error",
     "traceback": [
      "\u001b[31m---------------------------------------------------------------------------\u001b[39m",
      "\u001b[31mTypeError\u001b[39m                                 Traceback (most recent call last)",
      "\u001b[36mCell\u001b[39m\u001b[36m \u001b[39m\u001b[32mIn[116]\u001b[39m\u001b[32m, line 1\u001b[39m\n\u001b[32m----> \u001b[39m\u001b[32m1\u001b[39m \u001b[33;43m'\u001b[39;49m\u001b[33;43mstr\u001b[39;49m\u001b[33;43m'\u001b[39;49m\u001b[43m/\u001b[49m\u001b[32;43m12\u001b[39;49m\n",
      "\u001b[31mTypeError\u001b[39m: unsupported operand type(s) for /: 'str' and 'int'"
     ]
    }
   ],
   "source": [
    "'str'/12"
   ]
  },
  {
   "cell_type": "code",
   "execution_count": 117,
   "id": "9020aafe",
   "metadata": {},
   "outputs": [
    {
     "ename": "TypeError",
     "evalue": "unsupported operand type(s) for /: 'str' and 'int'",
     "output_type": "error",
     "traceback": [
      "\u001b[31m---------------------------------------------------------------------------\u001b[39m",
      "\u001b[31mTypeError\u001b[39m                                 Traceback (most recent call last)",
      "\u001b[36mCell\u001b[39m\u001b[36m \u001b[39m\u001b[32mIn[117]\u001b[39m\u001b[32m, line 1\u001b[39m\n\u001b[32m----> \u001b[39m\u001b[32m1\u001b[39m \u001b[33;43m'\u001b[39;49m\u001b[33;43m12\u001b[39;49m\u001b[33;43m'\u001b[39;49m\u001b[43m/\u001b[49m\u001b[32;43m2\u001b[39;49m\n",
      "\u001b[31mTypeError\u001b[39m: unsupported operand type(s) for /: 'str' and 'int'"
     ]
    }
   ],
   "source": [
    "'12'/2"
   ]
  },
  {
   "cell_type": "code",
   "execution_count": 118,
   "id": "95c763dd",
   "metadata": {},
   "outputs": [
    {
     "data": {
      "text/plain": [
       "1233"
      ]
     },
     "execution_count": 118,
     "metadata": {},
     "output_type": "execute_result"
    }
   ],
   "source": [
    "s  =  '1233'\n",
    "int(s)"
   ]
  },
  {
   "cell_type": "code",
   "execution_count": 119,
   "id": "2898e7a8",
   "metadata": {},
   "outputs": [
    {
     "ename": "ValueError",
     "evalue": "invalid literal for int() with base 10: 'abc'",
     "output_type": "error",
     "traceback": [
      "\u001b[31m---------------------------------------------------------------------------\u001b[39m",
      "\u001b[31mValueError\u001b[39m                                Traceback (most recent call last)",
      "\u001b[36mCell\u001b[39m\u001b[36m \u001b[39m\u001b[32mIn[119]\u001b[39m\u001b[32m, line 2\u001b[39m\n\u001b[32m      1\u001b[39m v  = \u001b[33m'\u001b[39m\u001b[33mabc\u001b[39m\u001b[33m'\u001b[39m\n\u001b[32m----> \u001b[39m\u001b[32m2\u001b[39m \u001b[38;5;28;43mint\u001b[39;49m\u001b[43m(\u001b[49m\u001b[43mv\u001b[49m\u001b[43m)\u001b[49m\n",
      "\u001b[31mValueError\u001b[39m: invalid literal for int() with base 10: 'abc'"
     ]
    }
   ],
   "source": [
    "v  = 'abc'\n",
    "int(v)"
   ]
  },
  {
   "cell_type": "code",
   "execution_count": null,
   "id": "b8e544b9",
   "metadata": {},
   "outputs": [],
   "source": []
  },
  {
   "cell_type": "code",
   "execution_count": 1,
   "id": "60c9e12b",
   "metadata": {},
   "outputs": [],
   "source": [
    "def div():\n",
    "  num  =  float(input('enter numerator here'))\n",
    "  den  =  float(input('enter denomenator here'))\n",
    "  div  =  num/den\n",
    "  print(f\"division between {num}  and {den} --> {div}\")\n",
    "  return div"
   ]
  },
  {
   "cell_type": "code",
   "execution_count": 2,
   "id": "1fac9d42",
   "metadata": {},
   "outputs": [
    {
     "name": "stdout",
     "output_type": "stream",
     "text": [
      "division between 12.0  and 3.0 --> 4.0\n"
     ]
    },
    {
     "data": {
      "text/plain": [
       "4.0"
      ]
     },
     "execution_count": 2,
     "metadata": {},
     "output_type": "execute_result"
    }
   ],
   "source": [
    "div()"
   ]
  },
  {
   "cell_type": "code",
   "execution_count": 3,
   "id": "c2f23258",
   "metadata": {},
   "outputs": [
    {
     "ename": "ValueError",
     "evalue": "could not convert string to float: ''",
     "output_type": "error",
     "traceback": [
      "\u001b[31m---------------------------------------------------------------------------\u001b[39m",
      "\u001b[31mValueError\u001b[39m                                Traceback (most recent call last)",
      "\u001b[36mCell\u001b[39m\u001b[36m \u001b[39m\u001b[32mIn[3]\u001b[39m\u001b[32m, line 1\u001b[39m\n\u001b[32m----> \u001b[39m\u001b[32m1\u001b[39m \u001b[43mdiv\u001b[49m\u001b[43m(\u001b[49m\u001b[43m)\u001b[49m\n",
      "\u001b[36mCell\u001b[39m\u001b[36m \u001b[39m\u001b[32mIn[1]\u001b[39m\u001b[32m, line 2\u001b[39m, in \u001b[36mdiv\u001b[39m\u001b[34m()\u001b[39m\n\u001b[32m      1\u001b[39m \u001b[38;5;28;01mdef\u001b[39;00m\u001b[38;5;250m \u001b[39m\u001b[34mdiv\u001b[39m():\n\u001b[32m----> \u001b[39m\u001b[32m2\u001b[39m   num  =  \u001b[38;5;28;43mfloat\u001b[39;49m\u001b[43m(\u001b[49m\u001b[38;5;28;43minput\u001b[39;49m\u001b[43m(\u001b[49m\u001b[33;43m'\u001b[39;49m\u001b[33;43menter numerator here\u001b[39;49m\u001b[33;43m'\u001b[39;49m\u001b[43m)\u001b[49m\u001b[43m)\u001b[49m\n\u001b[32m      3\u001b[39m   den  =  \u001b[38;5;28mfloat\u001b[39m(\u001b[38;5;28minput\u001b[39m(\u001b[33m'\u001b[39m\u001b[33menter denomenator here\u001b[39m\u001b[33m'\u001b[39m))\n\u001b[32m      4\u001b[39m   div  =  num/den\n",
      "\u001b[31mValueError\u001b[39m: could not convert string to float: ''"
     ]
    }
   ],
   "source": [
    "div()"
   ]
  },
  {
   "cell_type": "code",
   "execution_count": null,
   "id": "55b7680f",
   "metadata": {},
   "outputs": [],
   "source": []
  },
  {
   "cell_type": "code",
   "execution_count": 4,
   "id": "b1aaca26",
   "metadata": {},
   "outputs": [
    {
     "ename": "ValueError",
     "evalue": "could not convert string to float: 'swara'",
     "output_type": "error",
     "traceback": [
      "\u001b[31m---------------------------------------------------------------------------\u001b[39m",
      "\u001b[31mValueError\u001b[39m                                Traceback (most recent call last)",
      "\u001b[36mCell\u001b[39m\u001b[36m \u001b[39m\u001b[32mIn[4]\u001b[39m\u001b[32m, line 1\u001b[39m\n\u001b[32m----> \u001b[39m\u001b[32m1\u001b[39m \u001b[43mdiv\u001b[49m\u001b[43m(\u001b[49m\u001b[43m)\u001b[49m\n",
      "\u001b[36mCell\u001b[39m\u001b[36m \u001b[39m\u001b[32mIn[1]\u001b[39m\u001b[32m, line 2\u001b[39m, in \u001b[36mdiv\u001b[39m\u001b[34m()\u001b[39m\n\u001b[32m      1\u001b[39m \u001b[38;5;28;01mdef\u001b[39;00m\u001b[38;5;250m \u001b[39m\u001b[34mdiv\u001b[39m():\n\u001b[32m----> \u001b[39m\u001b[32m2\u001b[39m   num  =  \u001b[38;5;28;43mfloat\u001b[39;49m\u001b[43m(\u001b[49m\u001b[38;5;28;43minput\u001b[39;49m\u001b[43m(\u001b[49m\u001b[33;43m'\u001b[39;49m\u001b[33;43menter numerator here\u001b[39;49m\u001b[33;43m'\u001b[39;49m\u001b[43m)\u001b[49m\u001b[43m)\u001b[49m\n\u001b[32m      3\u001b[39m   den  =  \u001b[38;5;28mfloat\u001b[39m(\u001b[38;5;28minput\u001b[39m(\u001b[33m'\u001b[39m\u001b[33menter denomenator here\u001b[39m\u001b[33m'\u001b[39m))\n\u001b[32m      4\u001b[39m   div  =  num/den\n",
      "\u001b[31mValueError\u001b[39m: could not convert string to float: 'swara'"
     ]
    }
   ],
   "source": [
    "div()"
   ]
  },
  {
   "cell_type": "code",
   "execution_count": 5,
   "id": "5ee1d0b5",
   "metadata": {},
   "outputs": [
    {
     "ename": "ValueError",
     "evalue": "could not convert string to float: \"'12\"",
     "output_type": "error",
     "traceback": [
      "\u001b[31m---------------------------------------------------------------------------\u001b[39m",
      "\u001b[31mValueError\u001b[39m                                Traceback (most recent call last)",
      "\u001b[36mCell\u001b[39m\u001b[36m \u001b[39m\u001b[32mIn[5]\u001b[39m\u001b[32m, line 1\u001b[39m\n\u001b[32m----> \u001b[39m\u001b[32m1\u001b[39m \u001b[43mdiv\u001b[49m\u001b[43m(\u001b[49m\u001b[43m)\u001b[49m\n",
      "\u001b[36mCell\u001b[39m\u001b[36m \u001b[39m\u001b[32mIn[1]\u001b[39m\u001b[32m, line 3\u001b[39m, in \u001b[36mdiv\u001b[39m\u001b[34m()\u001b[39m\n\u001b[32m      1\u001b[39m \u001b[38;5;28;01mdef\u001b[39;00m\u001b[38;5;250m \u001b[39m\u001b[34mdiv\u001b[39m():\n\u001b[32m      2\u001b[39m   num  =  \u001b[38;5;28mfloat\u001b[39m(\u001b[38;5;28minput\u001b[39m(\u001b[33m'\u001b[39m\u001b[33menter numerator here\u001b[39m\u001b[33m'\u001b[39m))\n\u001b[32m----> \u001b[39m\u001b[32m3\u001b[39m   den  =  \u001b[38;5;28;43mfloat\u001b[39;49m\u001b[43m(\u001b[49m\u001b[38;5;28;43minput\u001b[39;49m\u001b[43m(\u001b[49m\u001b[33;43m'\u001b[39;49m\u001b[33;43menter denomenator here\u001b[39;49m\u001b[33;43m'\u001b[39;49m\u001b[43m)\u001b[49m\u001b[43m)\u001b[49m\n\u001b[32m      4\u001b[39m   div  =  num/den\n\u001b[32m      5\u001b[39m   \u001b[38;5;28mprint\u001b[39m(\u001b[33mf\u001b[39m\u001b[33m\"\u001b[39m\u001b[33mdivision between \u001b[39m\u001b[38;5;132;01m{\u001b[39;00mnum\u001b[38;5;132;01m}\u001b[39;00m\u001b[33m  and \u001b[39m\u001b[38;5;132;01m{\u001b[39;00mden\u001b[38;5;132;01m}\u001b[39;00m\u001b[33m --> \u001b[39m\u001b[38;5;132;01m{\u001b[39;00mdiv\u001b[38;5;132;01m}\u001b[39;00m\u001b[33m\"\u001b[39m)\n",
      "\u001b[31mValueError\u001b[39m: could not convert string to float: \"'12\""
     ]
    }
   ],
   "source": [
    "div()"
   ]
  },
  {
   "cell_type": "code",
   "execution_count": 6,
   "id": "0c0df762",
   "metadata": {},
   "outputs": [
    {
     "ename": "ZeroDivisionError",
     "evalue": "float division by zero",
     "output_type": "error",
     "traceback": [
      "\u001b[31m---------------------------------------------------------------------------\u001b[39m",
      "\u001b[31mZeroDivisionError\u001b[39m                         Traceback (most recent call last)",
      "\u001b[36mCell\u001b[39m\u001b[36m \u001b[39m\u001b[32mIn[6]\u001b[39m\u001b[32m, line 1\u001b[39m\n\u001b[32m----> \u001b[39m\u001b[32m1\u001b[39m \u001b[43mdiv\u001b[49m\u001b[43m(\u001b[49m\u001b[43m)\u001b[49m\n",
      "\u001b[36mCell\u001b[39m\u001b[36m \u001b[39m\u001b[32mIn[1]\u001b[39m\u001b[32m, line 4\u001b[39m, in \u001b[36mdiv\u001b[39m\u001b[34m()\u001b[39m\n\u001b[32m      2\u001b[39m num  =  \u001b[38;5;28mfloat\u001b[39m(\u001b[38;5;28minput\u001b[39m(\u001b[33m'\u001b[39m\u001b[33menter numerator here\u001b[39m\u001b[33m'\u001b[39m))\n\u001b[32m      3\u001b[39m den  =  \u001b[38;5;28mfloat\u001b[39m(\u001b[38;5;28minput\u001b[39m(\u001b[33m'\u001b[39m\u001b[33menter denomenator here\u001b[39m\u001b[33m'\u001b[39m))\n\u001b[32m----> \u001b[39m\u001b[32m4\u001b[39m div  =  \u001b[43mnum\u001b[49m\u001b[43m/\u001b[49m\u001b[43mden\u001b[49m\n\u001b[32m      5\u001b[39m \u001b[38;5;28mprint\u001b[39m(\u001b[33mf\u001b[39m\u001b[33m\"\u001b[39m\u001b[33mdivision between \u001b[39m\u001b[38;5;132;01m{\u001b[39;00mnum\u001b[38;5;132;01m}\u001b[39;00m\u001b[33m  and \u001b[39m\u001b[38;5;132;01m{\u001b[39;00mden\u001b[38;5;132;01m}\u001b[39;00m\u001b[33m --> \u001b[39m\u001b[38;5;132;01m{\u001b[39;00mdiv\u001b[38;5;132;01m}\u001b[39;00m\u001b[33m\"\u001b[39m)\n\u001b[32m      6\u001b[39m \u001b[38;5;28;01mreturn\u001b[39;00m div\n",
      "\u001b[31mZeroDivisionError\u001b[39m: float division by zero"
     ]
    }
   ],
   "source": [
    "div()"
   ]
  },
  {
   "cell_type": "code",
   "execution_count": 9,
   "id": "80c274f9",
   "metadata": {},
   "outputs": [
    {
     "ename": "ValueError",
     "evalue": "could not convert string to float: ''",
     "output_type": "error",
     "traceback": [
      "\u001b[31m---------------------------------------------------------------------------\u001b[39m",
      "\u001b[31mValueError\u001b[39m                                Traceback (most recent call last)",
      "\u001b[36mCell\u001b[39m\u001b[36m \u001b[39m\u001b[32mIn[9]\u001b[39m\u001b[32m, line 1\u001b[39m\n\u001b[32m----> \u001b[39m\u001b[32m1\u001b[39m \u001b[43mdiv\u001b[49m\u001b[43m(\u001b[49m\u001b[43m)\u001b[49m\n\u001b[32m      2\u001b[39m \u001b[38;5;28mprint\u001b[39m(\u001b[33m'\u001b[39m\u001b[33mhello python\u001b[39m\u001b[33m'\u001b[39m)\n",
      "\u001b[36mCell\u001b[39m\u001b[36m \u001b[39m\u001b[32mIn[1]\u001b[39m\u001b[32m, line 2\u001b[39m, in \u001b[36mdiv\u001b[39m\u001b[34m()\u001b[39m\n\u001b[32m      1\u001b[39m \u001b[38;5;28;01mdef\u001b[39;00m\u001b[38;5;250m \u001b[39m\u001b[34mdiv\u001b[39m():\n\u001b[32m----> \u001b[39m\u001b[32m2\u001b[39m   num  =  \u001b[38;5;28;43mfloat\u001b[39;49m\u001b[43m(\u001b[49m\u001b[38;5;28;43minput\u001b[39;49m\u001b[43m(\u001b[49m\u001b[33;43m'\u001b[39;49m\u001b[33;43menter numerator here\u001b[39;49m\u001b[33;43m'\u001b[39;49m\u001b[43m)\u001b[49m\u001b[43m)\u001b[49m\n\u001b[32m      3\u001b[39m   den  =  \u001b[38;5;28mfloat\u001b[39m(\u001b[38;5;28minput\u001b[39m(\u001b[33m'\u001b[39m\u001b[33menter denomenator here\u001b[39m\u001b[33m'\u001b[39m))\n\u001b[32m      4\u001b[39m   div  =  num/den\n",
      "\u001b[31mValueError\u001b[39m: could not convert string to float: ''"
     ]
    }
   ],
   "source": [
    "div()\n",
    "print('hello python')"
   ]
  },
  {
   "cell_type": "code",
   "execution_count": 11,
   "id": "be78a451",
   "metadata": {},
   "outputs": [
    {
     "ename": "ValueError",
     "evalue": "could not convert string to float: ''",
     "output_type": "error",
     "traceback": [
      "\u001b[31m---------------------------------------------------------------------------\u001b[39m",
      "\u001b[31mValueError\u001b[39m                                Traceback (most recent call last)",
      "\u001b[36mCell\u001b[39m\u001b[36m \u001b[39m\u001b[32mIn[11]\u001b[39m\u001b[32m, line 1\u001b[39m\n\u001b[32m----> \u001b[39m\u001b[32m1\u001b[39m \u001b[43mdiv\u001b[49m\u001b[43m(\u001b[49m\u001b[43m)\u001b[49m\n\u001b[32m      2\u001b[39m \u001b[32m12\u001b[39m+\u001b[32m34\u001b[39m\n",
      "\u001b[36mCell\u001b[39m\u001b[36m \u001b[39m\u001b[32mIn[1]\u001b[39m\u001b[32m, line 2\u001b[39m, in \u001b[36mdiv\u001b[39m\u001b[34m()\u001b[39m\n\u001b[32m      1\u001b[39m \u001b[38;5;28;01mdef\u001b[39;00m\u001b[38;5;250m \u001b[39m\u001b[34mdiv\u001b[39m():\n\u001b[32m----> \u001b[39m\u001b[32m2\u001b[39m   num  =  \u001b[38;5;28;43mfloat\u001b[39;49m\u001b[43m(\u001b[49m\u001b[38;5;28;43minput\u001b[39;49m\u001b[43m(\u001b[49m\u001b[33;43m'\u001b[39;49m\u001b[33;43menter numerator here\u001b[39;49m\u001b[33;43m'\u001b[39;49m\u001b[43m)\u001b[49m\u001b[43m)\u001b[49m\n\u001b[32m      3\u001b[39m   den  =  \u001b[38;5;28mfloat\u001b[39m(\u001b[38;5;28minput\u001b[39m(\u001b[33m'\u001b[39m\u001b[33menter denomenator here\u001b[39m\u001b[33m'\u001b[39m))\n\u001b[32m      4\u001b[39m   div  =  num/den\n",
      "\u001b[31mValueError\u001b[39m: could not convert string to float: ''"
     ]
    }
   ],
   "source": [
    "div()\n",
    "12+34"
   ]
  },
  {
   "cell_type": "code",
   "execution_count": null,
   "id": "edd96781",
   "metadata": {},
   "outputs": [],
   "source": [
    "# try \n",
    "# except"
   ]
  },
  {
   "cell_type": "markdown",
   "id": "2a7fa14a",
   "metadata": {},
   "source": [
    "# create  division function with exceptional handling"
   ]
  },
  {
   "cell_type": "code",
   "execution_count": 12,
   "id": "f9cee55e",
   "metadata": {},
   "outputs": [],
   "source": [
    "def div1():\n",
    "    try:\n",
    "        num  =  float(input('enter numerator here'))\n",
    "        den  =  float(input('enter denominator here'))\n",
    "        div  =  num/den\n",
    "        print(f\"division between {num}  and {den} -->{div}\")\n",
    "        return  div\n",
    "\n",
    "    except Exception as e:\n",
    "        print(f\"Exception occured at {e}\")\n",
    "\n"
   ]
  },
  {
   "cell_type": "code",
   "execution_count": 14,
   "id": "ca790bb0",
   "metadata": {},
   "outputs": [
    {
     "name": "stdout",
     "output_type": "stream",
     "text": [
      "division between 12.0  and 2.0 -->6.0\n"
     ]
    },
    {
     "data": {
      "text/plain": [
       "6.0"
      ]
     },
     "execution_count": 14,
     "metadata": {},
     "output_type": "execute_result"
    }
   ],
   "source": [
    "# check\n",
    "div1()"
   ]
  },
  {
   "cell_type": "code",
   "execution_count": 16,
   "id": "fbbbbf3b",
   "metadata": {},
   "outputs": [
    {
     "name": "stdout",
     "output_type": "stream",
     "text": [
      "Exception occured at could not convert string to float: ''\n",
      "hello python\n"
     ]
    }
   ],
   "source": [
    "div1()\n",
    "print('hello python')"
   ]
  },
  {
   "cell_type": "code",
   "execution_count": 18,
   "id": "c15c52d6",
   "metadata": {},
   "outputs": [
    {
     "name": "stdout",
     "output_type": "stream",
     "text": [
      "Exception occured at could not convert string to float: \"'12'\"\n"
     ]
    },
    {
     "data": {
      "text/plain": [
       "57"
      ]
     },
     "execution_count": 18,
     "metadata": {},
     "output_type": "execute_result"
    }
   ],
   "source": [
    "div1()\n",
    "12+45"
   ]
  },
  {
   "cell_type": "code",
   "execution_count": 21,
   "id": "769159c4",
   "metadata": {},
   "outputs": [
    {
     "name": "stdout",
     "output_type": "stream",
     "text": [
      "Exception occured at float division by zero\n",
      "hello python\n",
      "1\n",
      "2\n",
      "3\n",
      "4\n",
      "5\n",
      "6\n",
      "7\n",
      "8\n",
      "9\n",
      "10\n"
     ]
    }
   ],
   "source": [
    "div1()\n",
    "print('hello python')\n",
    "for i in range(1,11):\n",
    "    print(i)"
   ]
  },
  {
   "cell_type": "code",
   "execution_count": 25,
   "id": "a3fe7138",
   "metadata": {},
   "outputs": [],
   "source": [
    "path  =  r\"C:\\Users\\admin\\Download\\sample_set.csv\"\n",
    "import pandas  as pd"
   ]
  },
  {
   "cell_type": "code",
   "execution_count": 26,
   "id": "3233ed57",
   "metadata": {},
   "outputs": [
    {
     "ename": "FileNotFoundError",
     "evalue": "[Errno 2] No such file or directory: 'C:\\\\Users\\\\admin\\\\Download\\\\sample_set.csv'",
     "output_type": "error",
     "traceback": [
      "\u001b[31m---------------------------------------------------------------------------\u001b[39m",
      "\u001b[31mFileNotFoundError\u001b[39m                         Traceback (most recent call last)",
      "\u001b[36mCell\u001b[39m\u001b[36m \u001b[39m\u001b[32mIn[26]\u001b[39m\u001b[32m, line 1\u001b[39m\n\u001b[32m----> \u001b[39m\u001b[32m1\u001b[39m \u001b[38;5;28;01mwith\u001b[39;00m  \u001b[38;5;28;43mopen\u001b[39;49m\u001b[43m(\u001b[49m\u001b[43mpath\u001b[49m\u001b[43m)\u001b[49m \u001b[38;5;28;01mas\u001b[39;00m file :\n\u001b[32m      2\u001b[39m     data  =  pd.read_csv(path)\n\u001b[32m      3\u001b[39m \u001b[38;5;28mprint\u001b[39m(data)\n",
      "\u001b[36mFile \u001b[39m\u001b[32md:\\Adv_python_3_july_weekday_830\\repository\\venv\\Lib\\site-packages\\IPython\\core\\interactiveshell.py:343\u001b[39m, in \u001b[36m_modified_open\u001b[39m\u001b[34m(file, *args, **kwargs)\u001b[39m\n\u001b[32m    336\u001b[39m \u001b[38;5;28;01mif\u001b[39;00m file \u001b[38;5;129;01min\u001b[39;00m {\u001b[32m0\u001b[39m, \u001b[32m1\u001b[39m, \u001b[32m2\u001b[39m}:\n\u001b[32m    337\u001b[39m     \u001b[38;5;28;01mraise\u001b[39;00m \u001b[38;5;167;01mValueError\u001b[39;00m(\n\u001b[32m    338\u001b[39m         \u001b[33mf\u001b[39m\u001b[33m\"\u001b[39m\u001b[33mIPython won\u001b[39m\u001b[33m'\u001b[39m\u001b[33mt let you open fd=\u001b[39m\u001b[38;5;132;01m{\u001b[39;00mfile\u001b[38;5;132;01m}\u001b[39;00m\u001b[33m by default \u001b[39m\u001b[33m\"\u001b[39m\n\u001b[32m    339\u001b[39m         \u001b[33m\"\u001b[39m\u001b[33mas it is likely to crash IPython. If you know what you are doing, \u001b[39m\u001b[33m\"\u001b[39m\n\u001b[32m    340\u001b[39m         \u001b[33m\"\u001b[39m\u001b[33myou can use builtins\u001b[39m\u001b[33m'\u001b[39m\u001b[33m open.\u001b[39m\u001b[33m\"\u001b[39m\n\u001b[32m    341\u001b[39m     )\n\u001b[32m--> \u001b[39m\u001b[32m343\u001b[39m \u001b[38;5;28;01mreturn\u001b[39;00m \u001b[43mio_open\u001b[49m\u001b[43m(\u001b[49m\u001b[43mfile\u001b[49m\u001b[43m,\u001b[49m\u001b[43m \u001b[49m\u001b[43m*\u001b[49m\u001b[43margs\u001b[49m\u001b[43m,\u001b[49m\u001b[43m \u001b[49m\u001b[43m*\u001b[49m\u001b[43m*\u001b[49m\u001b[43mkwargs\u001b[49m\u001b[43m)\u001b[49m\n",
      "\u001b[31mFileNotFoundError\u001b[39m: [Errno 2] No such file or directory: 'C:\\\\Users\\\\admin\\\\Download\\\\sample_set.csv'"
     ]
    }
   ],
   "source": [
    "with  open(path) as file :\n",
    "    data  =  pd.read_csv(path)\n",
    "print(data)"
   ]
  },
  {
   "cell_type": "code",
   "execution_count": 84,
   "id": "a3c7786c",
   "metadata": {},
   "outputs": [],
   "source": [
    "def file_reading(path):\n",
    "    try:\n",
    "        with  open(path) as file :\n",
    "            data  =  pd.read_csv(path)\n",
    "        return data\n",
    "\n",
    "    except Exception as e :\n",
    "        print('file doesn\"t exist'  , e)\n",
    "\n",
    "\n"
   ]
  },
  {
   "cell_type": "code",
   "execution_count": 86,
   "id": "59a84e6a",
   "metadata": {},
   "outputs": [
    {
     "data": {
      "text/html": [
       "<div>\n",
       "<style scoped>\n",
       "    .dataframe tbody tr th:only-of-type {\n",
       "        vertical-align: middle;\n",
       "    }\n",
       "\n",
       "    .dataframe tbody tr th {\n",
       "        vertical-align: top;\n",
       "    }\n",
       "\n",
       "    .dataframe thead th {\n",
       "        text-align: right;\n",
       "    }\n",
       "</style>\n",
       "<table border=\"1\" class=\"dataframe\">\n",
       "  <thead>\n",
       "    <tr style=\"text-align: right;\">\n",
       "      <th></th>\n",
       "      <th>EmpID</th>\n",
       "      <th>Age</th>\n",
       "      <th>AgeGroup</th>\n",
       "      <th>Attrition</th>\n",
       "      <th>BusinessTravel</th>\n",
       "      <th>DailyRate</th>\n",
       "      <th>Department</th>\n",
       "      <th>DistanceFromHome</th>\n",
       "      <th>Education</th>\n",
       "      <th>EducationField</th>\n",
       "      <th>...</th>\n",
       "      <th>RelationshipSatisfaction</th>\n",
       "      <th>StandardHours</th>\n",
       "      <th>StockOptionLevel</th>\n",
       "      <th>TotalWorkingYears</th>\n",
       "      <th>TrainingTimesLastYear</th>\n",
       "      <th>WorkLifeBalance</th>\n",
       "      <th>YearsAtCompany</th>\n",
       "      <th>YearsInCurrentRole</th>\n",
       "      <th>YearsSinceLastPromotion</th>\n",
       "      <th>YearsWithCurrManager</th>\n",
       "    </tr>\n",
       "  </thead>\n",
       "  <tbody>\n",
       "    <tr>\n",
       "      <th>0</th>\n",
       "      <td>RM297</td>\n",
       "      <td>18</td>\n",
       "      <td>18-25</td>\n",
       "      <td>Yes</td>\n",
       "      <td>Travel_Rarely</td>\n",
       "      <td>230</td>\n",
       "      <td>Research &amp; Development</td>\n",
       "      <td>3</td>\n",
       "      <td>3</td>\n",
       "      <td>Life Sciences</td>\n",
       "      <td>...</td>\n",
       "      <td>3</td>\n",
       "      <td>80</td>\n",
       "      <td>0</td>\n",
       "      <td>0</td>\n",
       "      <td>2</td>\n",
       "      <td>3</td>\n",
       "      <td>0</td>\n",
       "      <td>0</td>\n",
       "      <td>0</td>\n",
       "      <td>0.0</td>\n",
       "    </tr>\n",
       "    <tr>\n",
       "      <th>1</th>\n",
       "      <td>RM302</td>\n",
       "      <td>18</td>\n",
       "      <td>18-25</td>\n",
       "      <td>No</td>\n",
       "      <td>Travel_Rarely</td>\n",
       "      <td>812</td>\n",
       "      <td>Sales</td>\n",
       "      <td>10</td>\n",
       "      <td>3</td>\n",
       "      <td>Medical</td>\n",
       "      <td>...</td>\n",
       "      <td>1</td>\n",
       "      <td>80</td>\n",
       "      <td>0</td>\n",
       "      <td>0</td>\n",
       "      <td>2</td>\n",
       "      <td>3</td>\n",
       "      <td>0</td>\n",
       "      <td>0</td>\n",
       "      <td>0</td>\n",
       "      <td>0.0</td>\n",
       "    </tr>\n",
       "    <tr>\n",
       "      <th>2</th>\n",
       "      <td>RM458</td>\n",
       "      <td>18</td>\n",
       "      <td>18-25</td>\n",
       "      <td>Yes</td>\n",
       "      <td>Travel_Frequently</td>\n",
       "      <td>1306</td>\n",
       "      <td>Sales</td>\n",
       "      <td>5</td>\n",
       "      <td>3</td>\n",
       "      <td>Marketing</td>\n",
       "      <td>...</td>\n",
       "      <td>4</td>\n",
       "      <td>80</td>\n",
       "      <td>0</td>\n",
       "      <td>0</td>\n",
       "      <td>3</td>\n",
       "      <td>3</td>\n",
       "      <td>0</td>\n",
       "      <td>0</td>\n",
       "      <td>0</td>\n",
       "      <td>0.0</td>\n",
       "    </tr>\n",
       "    <tr>\n",
       "      <th>3</th>\n",
       "      <td>RM728</td>\n",
       "      <td>18</td>\n",
       "      <td>18-25</td>\n",
       "      <td>No</td>\n",
       "      <td>Non-Travel</td>\n",
       "      <td>287</td>\n",
       "      <td>Research &amp; Development</td>\n",
       "      <td>5</td>\n",
       "      <td>2</td>\n",
       "      <td>Life Sciences</td>\n",
       "      <td>...</td>\n",
       "      <td>4</td>\n",
       "      <td>80</td>\n",
       "      <td>0</td>\n",
       "      <td>0</td>\n",
       "      <td>2</td>\n",
       "      <td>3</td>\n",
       "      <td>0</td>\n",
       "      <td>0</td>\n",
       "      <td>0</td>\n",
       "      <td>0.0</td>\n",
       "    </tr>\n",
       "    <tr>\n",
       "      <th>4</th>\n",
       "      <td>RM829</td>\n",
       "      <td>18</td>\n",
       "      <td>18-25</td>\n",
       "      <td>Yes</td>\n",
       "      <td>Non-Travel</td>\n",
       "      <td>247</td>\n",
       "      <td>Research &amp; Development</td>\n",
       "      <td>8</td>\n",
       "      <td>1</td>\n",
       "      <td>Medical</td>\n",
       "      <td>...</td>\n",
       "      <td>4</td>\n",
       "      <td>80</td>\n",
       "      <td>0</td>\n",
       "      <td>0</td>\n",
       "      <td>0</td>\n",
       "      <td>3</td>\n",
       "      <td>0</td>\n",
       "      <td>0</td>\n",
       "      <td>0</td>\n",
       "      <td>0.0</td>\n",
       "    </tr>\n",
       "    <tr>\n",
       "      <th>...</th>\n",
       "      <td>...</td>\n",
       "      <td>...</td>\n",
       "      <td>...</td>\n",
       "      <td>...</td>\n",
       "      <td>...</td>\n",
       "      <td>...</td>\n",
       "      <td>...</td>\n",
       "      <td>...</td>\n",
       "      <td>...</td>\n",
       "      <td>...</td>\n",
       "      <td>...</td>\n",
       "      <td>...</td>\n",
       "      <td>...</td>\n",
       "      <td>...</td>\n",
       "      <td>...</td>\n",
       "      <td>...</td>\n",
       "      <td>...</td>\n",
       "      <td>...</td>\n",
       "      <td>...</td>\n",
       "      <td>...</td>\n",
       "      <td>...</td>\n",
       "    </tr>\n",
       "    <tr>\n",
       "      <th>1475</th>\n",
       "      <td>RM412</td>\n",
       "      <td>60</td>\n",
       "      <td>55+</td>\n",
       "      <td>No</td>\n",
       "      <td>Travel_Rarely</td>\n",
       "      <td>422</td>\n",
       "      <td>Research &amp; Development</td>\n",
       "      <td>7</td>\n",
       "      <td>3</td>\n",
       "      <td>Life Sciences</td>\n",
       "      <td>...</td>\n",
       "      <td>4</td>\n",
       "      <td>80</td>\n",
       "      <td>0</td>\n",
       "      <td>33</td>\n",
       "      <td>5</td>\n",
       "      <td>1</td>\n",
       "      <td>29</td>\n",
       "      <td>8</td>\n",
       "      <td>11</td>\n",
       "      <td>10.0</td>\n",
       "    </tr>\n",
       "    <tr>\n",
       "      <th>1476</th>\n",
       "      <td>RM428</td>\n",
       "      <td>60</td>\n",
       "      <td>55+</td>\n",
       "      <td>No</td>\n",
       "      <td>Travel_Frequently</td>\n",
       "      <td>1499</td>\n",
       "      <td>Sales</td>\n",
       "      <td>28</td>\n",
       "      <td>3</td>\n",
       "      <td>Marketing</td>\n",
       "      <td>...</td>\n",
       "      <td>4</td>\n",
       "      <td>80</td>\n",
       "      <td>0</td>\n",
       "      <td>22</td>\n",
       "      <td>5</td>\n",
       "      <td>4</td>\n",
       "      <td>18</td>\n",
       "      <td>13</td>\n",
       "      <td>13</td>\n",
       "      <td>11.0</td>\n",
       "    </tr>\n",
       "    <tr>\n",
       "      <th>1477</th>\n",
       "      <td>RM537</td>\n",
       "      <td>60</td>\n",
       "      <td>55+</td>\n",
       "      <td>No</td>\n",
       "      <td>Travel_Rarely</td>\n",
       "      <td>1179</td>\n",
       "      <td>Sales</td>\n",
       "      <td>16</td>\n",
       "      <td>4</td>\n",
       "      <td>Marketing</td>\n",
       "      <td>...</td>\n",
       "      <td>4</td>\n",
       "      <td>80</td>\n",
       "      <td>0</td>\n",
       "      <td>10</td>\n",
       "      <td>1</td>\n",
       "      <td>3</td>\n",
       "      <td>2</td>\n",
       "      <td>2</td>\n",
       "      <td>2</td>\n",
       "      <td>2.0</td>\n",
       "    </tr>\n",
       "    <tr>\n",
       "      <th>1478</th>\n",
       "      <td>RM880</td>\n",
       "      <td>60</td>\n",
       "      <td>55+</td>\n",
       "      <td>No</td>\n",
       "      <td>Travel_Rarely</td>\n",
       "      <td>696</td>\n",
       "      <td>Sales</td>\n",
       "      <td>7</td>\n",
       "      <td>4</td>\n",
       "      <td>Marketing</td>\n",
       "      <td>...</td>\n",
       "      <td>2</td>\n",
       "      <td>80</td>\n",
       "      <td>1</td>\n",
       "      <td>12</td>\n",
       "      <td>3</td>\n",
       "      <td>3</td>\n",
       "      <td>11</td>\n",
       "      <td>7</td>\n",
       "      <td>1</td>\n",
       "      <td>9.0</td>\n",
       "    </tr>\n",
       "    <tr>\n",
       "      <th>1479</th>\n",
       "      <td>RM1210</td>\n",
       "      <td>60</td>\n",
       "      <td>55+</td>\n",
       "      <td>No</td>\n",
       "      <td>Travel_Rarely</td>\n",
       "      <td>370</td>\n",
       "      <td>Research &amp; Development</td>\n",
       "      <td>1</td>\n",
       "      <td>4</td>\n",
       "      <td>Medical</td>\n",
       "      <td>...</td>\n",
       "      <td>3</td>\n",
       "      <td>80</td>\n",
       "      <td>1</td>\n",
       "      <td>19</td>\n",
       "      <td>2</td>\n",
       "      <td>4</td>\n",
       "      <td>1</td>\n",
       "      <td>0</td>\n",
       "      <td>0</td>\n",
       "      <td>0.0</td>\n",
       "    </tr>\n",
       "  </tbody>\n",
       "</table>\n",
       "<p>1480 rows × 38 columns</p>\n",
       "</div>"
      ],
      "text/plain": [
       "       EmpID  Age AgeGroup Attrition     BusinessTravel  DailyRate  \\\n",
       "0      RM297   18    18-25       Yes      Travel_Rarely        230   \n",
       "1      RM302   18    18-25        No      Travel_Rarely        812   \n",
       "2      RM458   18    18-25       Yes  Travel_Frequently       1306   \n",
       "3      RM728   18    18-25        No         Non-Travel        287   \n",
       "4      RM829   18    18-25       Yes         Non-Travel        247   \n",
       "...      ...  ...      ...       ...                ...        ...   \n",
       "1475   RM412   60      55+        No      Travel_Rarely        422   \n",
       "1476   RM428   60      55+        No  Travel_Frequently       1499   \n",
       "1477   RM537   60      55+        No      Travel_Rarely       1179   \n",
       "1478   RM880   60      55+        No      Travel_Rarely        696   \n",
       "1479  RM1210   60      55+        No      Travel_Rarely        370   \n",
       "\n",
       "                  Department  DistanceFromHome  Education EducationField  ...  \\\n",
       "0     Research & Development                 3          3  Life Sciences  ...   \n",
       "1                      Sales                10          3        Medical  ...   \n",
       "2                      Sales                 5          3      Marketing  ...   \n",
       "3     Research & Development                 5          2  Life Sciences  ...   \n",
       "4     Research & Development                 8          1        Medical  ...   \n",
       "...                      ...               ...        ...            ...  ...   \n",
       "1475  Research & Development                 7          3  Life Sciences  ...   \n",
       "1476                   Sales                28          3      Marketing  ...   \n",
       "1477                   Sales                16          4      Marketing  ...   \n",
       "1478                   Sales                 7          4      Marketing  ...   \n",
       "1479  Research & Development                 1          4        Medical  ...   \n",
       "\n",
       "      RelationshipSatisfaction  StandardHours  StockOptionLevel  \\\n",
       "0                            3             80                 0   \n",
       "1                            1             80                 0   \n",
       "2                            4             80                 0   \n",
       "3                            4             80                 0   \n",
       "4                            4             80                 0   \n",
       "...                        ...            ...               ...   \n",
       "1475                         4             80                 0   \n",
       "1476                         4             80                 0   \n",
       "1477                         4             80                 0   \n",
       "1478                         2             80                 1   \n",
       "1479                         3             80                 1   \n",
       "\n",
       "     TotalWorkingYears  TrainingTimesLastYear  WorkLifeBalance  \\\n",
       "0                    0                      2                3   \n",
       "1                    0                      2                3   \n",
       "2                    0                      3                3   \n",
       "3                    0                      2                3   \n",
       "4                    0                      0                3   \n",
       "...                ...                    ...              ...   \n",
       "1475                33                      5                1   \n",
       "1476                22                      5                4   \n",
       "1477                10                      1                3   \n",
       "1478                12                      3                3   \n",
       "1479                19                      2                4   \n",
       "\n",
       "      YearsAtCompany YearsInCurrentRole  YearsSinceLastPromotion  \\\n",
       "0                  0                  0                        0   \n",
       "1                  0                  0                        0   \n",
       "2                  0                  0                        0   \n",
       "3                  0                  0                        0   \n",
       "4                  0                  0                        0   \n",
       "...              ...                ...                      ...   \n",
       "1475              29                  8                       11   \n",
       "1476              18                 13                       13   \n",
       "1477               2                  2                        2   \n",
       "1478              11                  7                        1   \n",
       "1479               1                  0                        0   \n",
       "\n",
       "     YearsWithCurrManager  \n",
       "0                     0.0  \n",
       "1                     0.0  \n",
       "2                     0.0  \n",
       "3                     0.0  \n",
       "4                     0.0  \n",
       "...                   ...  \n",
       "1475                 10.0  \n",
       "1476                 11.0  \n",
       "1477                  2.0  \n",
       "1478                  9.0  \n",
       "1479                  0.0  \n",
       "\n",
       "[1480 rows x 38 columns]"
      ]
     },
     "execution_count": 86,
     "metadata": {},
     "output_type": "execute_result"
    }
   ],
   "source": [
    "file_reading(r\"C:\\Users\\admin\\Downloads\\HR_Analytics.csv\")"
   ]
  },
  {
   "cell_type": "code",
   "execution_count": 87,
   "id": "f055f348",
   "metadata": {},
   "outputs": [
    {
     "name": "stdout",
     "output_type": "stream",
     "text": [
      "file doesn\"t exist [Errno 2] No such file or directory: 'C:\\\\Users\\\\admin\\\\Downloads\\\\HR_Analytic.csv'\n"
     ]
    }
   ],
   "source": [
    "file_reading(r\"C:\\Users\\admin\\Downloads\\HR_Analytic.csv\")"
   ]
  },
  {
   "cell_type": "markdown",
   "id": "87ed4974",
   "metadata": {},
   "source": [
    "# Try with file not found error "
   ]
  },
  {
   "cell_type": "code",
   "execution_count": 92,
   "id": "3b3db262",
   "metadata": {},
   "outputs": [],
   "source": [
    "def file_reading1(path):\n",
    "    try:\n",
    "        with  open(path) as file :\n",
    "            data  =  pd.read_csv(path)\n",
    "            print(data)\n",
    "\n",
    "    except FileNotFoundError:\n",
    "        print(\"path is invalid or file doesn't exists\")"
   ]
  },
  {
   "cell_type": "code",
   "execution_count": 93,
   "id": "ef067869",
   "metadata": {},
   "outputs": [
    {
     "name": "stdout",
     "output_type": "stream",
     "text": [
      "       EmpID  Age AgeGroup Attrition     BusinessTravel  DailyRate  \\\n",
      "0      RM297   18    18-25       Yes      Travel_Rarely        230   \n",
      "1      RM302   18    18-25        No      Travel_Rarely        812   \n",
      "2      RM458   18    18-25       Yes  Travel_Frequently       1306   \n",
      "3      RM728   18    18-25        No         Non-Travel        287   \n",
      "4      RM829   18    18-25       Yes         Non-Travel        247   \n",
      "...      ...  ...      ...       ...                ...        ...   \n",
      "1475   RM412   60      55+        No      Travel_Rarely        422   \n",
      "1476   RM428   60      55+        No  Travel_Frequently       1499   \n",
      "1477   RM537   60      55+        No      Travel_Rarely       1179   \n",
      "1478   RM880   60      55+        No      Travel_Rarely        696   \n",
      "1479  RM1210   60      55+        No      Travel_Rarely        370   \n",
      "\n",
      "                  Department  DistanceFromHome  Education EducationField  ...  \\\n",
      "0     Research & Development                 3          3  Life Sciences  ...   \n",
      "1                      Sales                10          3        Medical  ...   \n",
      "2                      Sales                 5          3      Marketing  ...   \n",
      "3     Research & Development                 5          2  Life Sciences  ...   \n",
      "4     Research & Development                 8          1        Medical  ...   \n",
      "...                      ...               ...        ...            ...  ...   \n",
      "1475  Research & Development                 7          3  Life Sciences  ...   \n",
      "1476                   Sales                28          3      Marketing  ...   \n",
      "1477                   Sales                16          4      Marketing  ...   \n",
      "1478                   Sales                 7          4      Marketing  ...   \n",
      "1479  Research & Development                 1          4        Medical  ...   \n",
      "\n",
      "      RelationshipSatisfaction  StandardHours  StockOptionLevel  \\\n",
      "0                            3             80                 0   \n",
      "1                            1             80                 0   \n",
      "2                            4             80                 0   \n",
      "3                            4             80                 0   \n",
      "4                            4             80                 0   \n",
      "...                        ...            ...               ...   \n",
      "1475                         4             80                 0   \n",
      "1476                         4             80                 0   \n",
      "1477                         4             80                 0   \n",
      "1478                         2             80                 1   \n",
      "1479                         3             80                 1   \n",
      "\n",
      "     TotalWorkingYears  TrainingTimesLastYear  WorkLifeBalance  \\\n",
      "0                    0                      2                3   \n",
      "1                    0                      2                3   \n",
      "2                    0                      3                3   \n",
      "3                    0                      2                3   \n",
      "4                    0                      0                3   \n",
      "...                ...                    ...              ...   \n",
      "1475                33                      5                1   \n",
      "1476                22                      5                4   \n",
      "1477                10                      1                3   \n",
      "1478                12                      3                3   \n",
      "1479                19                      2                4   \n",
      "\n",
      "      YearsAtCompany YearsInCurrentRole  YearsSinceLastPromotion  \\\n",
      "0                  0                  0                        0   \n",
      "1                  0                  0                        0   \n",
      "2                  0                  0                        0   \n",
      "3                  0                  0                        0   \n",
      "4                  0                  0                        0   \n",
      "...              ...                ...                      ...   \n",
      "1475              29                  8                       11   \n",
      "1476              18                 13                       13   \n",
      "1477               2                  2                        2   \n",
      "1478              11                  7                        1   \n",
      "1479               1                  0                        0   \n",
      "\n",
      "     YearsWithCurrManager  \n",
      "0                     0.0  \n",
      "1                     0.0  \n",
      "2                     0.0  \n",
      "3                     0.0  \n",
      "4                     0.0  \n",
      "...                   ...  \n",
      "1475                 10.0  \n",
      "1476                 11.0  \n",
      "1477                  2.0  \n",
      "1478                  9.0  \n",
      "1479                  0.0  \n",
      "\n",
      "[1480 rows x 38 columns]\n",
      "57\n"
     ]
    }
   ],
   "source": [
    "file_reading1(r\"C:\\Users\\admin\\Downloads\\HR_Analytics.csv\")\n",
    "print(12+45)"
   ]
  },
  {
   "cell_type": "code",
   "execution_count": 94,
   "id": "06b9bd07",
   "metadata": {},
   "outputs": [
    {
     "name": "stdout",
     "output_type": "stream",
     "text": [
      "path is invalid or file doesn't exists\n"
     ]
    }
   ],
   "source": [
    "file_reading1(r\"HR_Analytics.csv\")"
   ]
  },
  {
   "cell_type": "code",
   "execution_count": 79,
   "id": "f17eed88",
   "metadata": {},
   "outputs": [
    {
     "name": "stdout",
     "output_type": "stream",
     "text": [
      "path is invalid or file doesn't exists\n"
     ]
    }
   ],
   "source": [
    "file_reading1()"
   ]
  },
  {
   "cell_type": "markdown",
   "id": "dee7d142",
   "metadata": {},
   "source": [
    "# try with multiple excepts"
   ]
  },
  {
   "cell_type": "code",
   "execution_count": 30,
   "id": "13dacc98",
   "metadata": {},
   "outputs": [],
   "source": [
    "def div2():\n",
    "    try:\n",
    "        num  =  float(input())\n",
    "        den  =  float(input())\n",
    "        div =  num/den\n",
    "        print(f\"division between {num} and {den} --> {div}\")\n",
    "        return div\n",
    "\n",
    "    except ValueError:\n",
    "        print('strings are not allowed')\n",
    "        print('Blank Spaces are not allowed')\n",
    "        print('Please enter only numerical data')\n",
    "\n",
    "    except ZeroDivisionError:\n",
    "        print('Denominator should not zero')\n",
    "\n",
    "    except Exception as e:\n",
    "        print('Exception occured' ,  e)\n",
    "\n"
   ]
  },
  {
   "cell_type": "code",
   "execution_count": 32,
   "id": "81d988e9",
   "metadata": {},
   "outputs": [
    {
     "name": "stdout",
     "output_type": "stream",
     "text": [
      "division between 12.0 and 2.0 --> 6.0\n"
     ]
    },
    {
     "data": {
      "text/plain": [
       "6.0"
      ]
     },
     "execution_count": 32,
     "metadata": {},
     "output_type": "execute_result"
    }
   ],
   "source": [
    "div2()"
   ]
  },
  {
   "cell_type": "code",
   "execution_count": 33,
   "id": "bab37bba",
   "metadata": {},
   "outputs": [
    {
     "name": "stdout",
     "output_type": "stream",
     "text": [
      "strings are not allowed\n",
      "Blank Spaces are not allowed\n",
      "Please enter only numerical data\n"
     ]
    }
   ],
   "source": [
    "# keep numerator blank\n",
    "div2()"
   ]
  },
  {
   "cell_type": "code",
   "execution_count": null,
   "id": "ca027d75",
   "metadata": {},
   "outputs": [
    {
     "name": "stdout",
     "output_type": "stream",
     "text": [
      "strings are not allowed\n",
      "Blank Spaces are not allowed\n",
      "Please enter only numerical data\n"
     ]
    }
   ],
   "source": [
    "# pass string   -->swara\n",
    "div2()"
   ]
  },
  {
   "cell_type": "code",
   "execution_count": null,
   "id": "23749eeb",
   "metadata": {},
   "outputs": [
    {
     "name": "stdout",
     "output_type": "stream",
     "text": [
      "strings are not allowed\n",
      "Blank Spaces are not allowed\n",
      "Please enter only numerical data\n"
     ]
    }
   ],
   "source": [
    "# pass boolean data   --> True\n",
    "div2()"
   ]
  },
  {
   "cell_type": "code",
   "execution_count": 37,
   "id": "3bc2b96a",
   "metadata": {},
   "outputs": [
    {
     "name": "stdout",
     "output_type": "stream",
     "text": [
      "Denominator should not zero\n"
     ]
    }
   ],
   "source": [
    "# keep denominator zero\n",
    "div2()"
   ]
  },
  {
   "cell_type": "code",
   "execution_count": null,
   "id": "d01c6245",
   "metadata": {},
   "outputs": [],
   "source": []
  },
  {
   "cell_type": "markdown",
   "id": "4cc8b325",
   "metadata": {},
   "source": [
    "# raise valueError for valid age\n"
   ]
  },
  {
   "cell_type": "code",
   "execution_count": 42,
   "id": "038b8dd8",
   "metadata": {},
   "outputs": [],
   "source": [
    "age = int(input('enter age here'))"
   ]
  },
  {
   "cell_type": "code",
   "execution_count": 61,
   "id": "6b29a78c",
   "metadata": {},
   "outputs": [],
   "source": [
    "\n",
    "\n",
    "def valid_age():\n",
    "    try:\n",
    "        age =  int(input('please enter valid age'))\n",
    "        if age < 0 or age > 120:\n",
    "            raise ValueError('Valid age between 0 to 120 -->  please enter valid age')\n",
    "        else:\n",
    "            print('Age of user is ' , age)\n",
    "            return age\n",
    "\n",
    "    except Exception as e:\n",
    "        print('Exception occured at' , e)"
   ]
  },
  {
   "cell_type": "code",
   "execution_count": 62,
   "id": "ba0c74f7",
   "metadata": {},
   "outputs": [
    {
     "name": "stdout",
     "output_type": "stream",
     "text": [
      "Age of user is  20\n"
     ]
    },
    {
     "data": {
      "text/plain": [
       "20"
      ]
     },
     "execution_count": 62,
     "metadata": {},
     "output_type": "execute_result"
    }
   ],
   "source": [
    "# pass age  20\n",
    "valid_age()"
   ]
  },
  {
   "cell_type": "code",
   "execution_count": 63,
   "id": "1f6a5ce4",
   "metadata": {},
   "outputs": [
    {
     "name": "stdout",
     "output_type": "stream",
     "text": [
      "Exception occured at Valid age between 0 to 120 -->  please enter valid age\n"
     ]
    }
   ],
   "source": [
    "# pass negative age --> -50\n",
    "valid_age()"
   ]
  },
  {
   "cell_type": "code",
   "execution_count": 65,
   "id": "299d3173",
   "metadata": {},
   "outputs": [
    {
     "name": "stdout",
     "output_type": "stream",
     "text": [
      "Exception occured at invalid literal for int() with base 10: ''\n"
     ]
    }
   ],
   "source": [
    "# keep age blank\n",
    "valid_age()"
   ]
  },
  {
   "cell_type": "code",
   "execution_count": 66,
   "id": "791de93f",
   "metadata": {},
   "outputs": [
    {
     "name": "stdout",
     "output_type": "stream",
     "text": [
      "Exception occured at invalid literal for int() with base 10: 'str'\n"
     ]
    }
   ],
   "source": [
    "# pass string 'str'\n",
    "valid_age()\n"
   ]
  },
  {
   "cell_type": "code",
   "execution_count": 67,
   "id": "a61eb1f0",
   "metadata": {},
   "outputs": [
    {
     "name": "stdout",
     "output_type": "stream",
     "text": [
      "Exception occured at Valid age between 0 to 120 -->  please enter valid age\n"
     ]
    }
   ],
   "source": [
    "# insert age 130 \n",
    "valid_age()"
   ]
  },
  {
   "cell_type": "code",
   "execution_count": 68,
   "id": "8a4b911c",
   "metadata": {},
   "outputs": [
    {
     "name": "stdout",
     "output_type": "stream",
     "text": [
      "Age of user is  0\n"
     ]
    },
    {
     "data": {
      "text/plain": [
       "0"
      ]
     },
     "execution_count": 68,
     "metadata": {},
     "output_type": "execute_result"
    }
   ],
   "source": [
    "# insert age 0\n",
    "valid_age()"
   ]
  },
  {
   "cell_type": "code",
   "execution_count": 100,
   "id": "fde4267b",
   "metadata": {},
   "outputs": [],
   "source": [
    "import numpy "
   ]
  },
  {
   "cell_type": "code",
   "execution_count": 107,
   "id": "97f868e3",
   "metadata": {},
   "outputs": [],
   "source": [
    "# create function to find square of number\n",
    "def square():\n",
    "    try :\n",
    "        num  = float(input())\n",
    "        square  =  numpy.square(num)\n",
    "        return square\n",
    "\n",
    "    except Exception as e :\n",
    "        print('Please Enter numeric data'  , e)\n",
    "\n"
   ]
  },
  {
   "cell_type": "code",
   "execution_count": 105,
   "id": "a3cd2e7a",
   "metadata": {},
   "outputs": [
    {
     "data": {
      "text/plain": [
       "np.float64(144.0)"
      ]
     },
     "execution_count": 105,
     "metadata": {},
     "output_type": "execute_result"
    }
   ],
   "source": [
    "# pass 12\n",
    "square()"
   ]
  },
  {
   "cell_type": "code",
   "execution_count": 108,
   "id": "d8ebee3c",
   "metadata": {},
   "outputs": [
    {
     "name": "stdout",
     "output_type": "stream",
     "text": [
      "Please Enter numeric data could not convert string to float: ''\n"
     ]
    }
   ],
   "source": [
    "# pass blank space\n",
    "square()"
   ]
  },
  {
   "cell_type": "markdown",
   "id": "2be10c4f",
   "metadata": {},
   "source": [
    "### try  :  condition which we are trying\n",
    "### except  :  when try is wrong\n",
    "### else: when try is satisfied  \n",
    "### finally always excutes"
   ]
  },
  {
   "cell_type": "code",
   "execution_count": null,
   "id": "a1b2d704",
   "metadata": {},
   "outputs": [],
   "source": []
  },
  {
   "cell_type": "code",
   "execution_count": 110,
   "id": "8ca7cf02",
   "metadata": {},
   "outputs": [],
   "source": [
    "# create function to find square of number\n",
    "def square():\n",
    "    try :\n",
    "        num  = float(input())\n",
    "        square  =  numpy.square(num)\n",
    "        \n",
    "\n",
    "    except Exception as e :\n",
    "        print('Please Enter numeric data'  , e)\n",
    "\n",
    "    else:\n",
    "        print('Square of number is ' , square)\n",
    "        return square\n",
    "\n",
    "    finally:\n",
    "        print('I will always excutes')"
   ]
  },
  {
   "cell_type": "code",
   "execution_count": 112,
   "id": "f8347762",
   "metadata": {},
   "outputs": [
    {
     "name": "stdout",
     "output_type": "stream",
     "text": [
      "Square of number is  9.0\n",
      "I will always excutes\n"
     ]
    },
    {
     "data": {
      "text/plain": [
       "np.float64(9.0)"
      ]
     },
     "execution_count": 112,
     "metadata": {},
     "output_type": "execute_result"
    }
   ],
   "source": [
    "square()"
   ]
  },
  {
   "cell_type": "code",
   "execution_count": 113,
   "id": "5959a8c6",
   "metadata": {},
   "outputs": [
    {
     "name": "stdout",
     "output_type": "stream",
     "text": [
      "Please Enter numeric data could not convert string to float: ''\n",
      "I will always excutes\n"
     ]
    }
   ],
   "source": [
    "square()"
   ]
  },
  {
   "cell_type": "code",
   "execution_count": null,
   "id": "e3ab7b46",
   "metadata": {},
   "outputs": [],
   "source": []
  }
 ],
 "metadata": {
  "kernelspec": {
   "display_name": "venv",
   "language": "python",
   "name": "python3"
  },
  "language_info": {
   "codemirror_mode": {
    "name": "ipython",
    "version": 3
   },
   "file_extension": ".py",
   "mimetype": "text/x-python",
   "name": "python",
   "nbconvert_exporter": "python",
   "pygments_lexer": "ipython3",
   "version": "3.13.5"
  }
 },
 "nbformat": 4,
 "nbformat_minor": 5
}
