{
 "cells": [
  {
   "cell_type": "markdown",
   "id": "5ceb4125",
   "metadata": {},
   "source": [
    "### keyword - variable length argument -->**kwargs"
   ]
  },
  {
   "cell_type": "code",
   "execution_count": null,
   "id": "15fe59f4",
   "metadata": {},
   "outputs": [],
   "source": [
    "def info1(**kwargs):\n",
    "    print(kwargs)\n",
    "    print(type(kwargs))"
   ]
  },
  {
   "cell_type": "code",
   "execution_count": null,
   "id": "19365d06",
   "metadata": {},
   "outputs": [
    {
     "name": "stdout",
     "output_type": "stream",
     "text": [
      "{'name': 'Prajkta', 'age': 26, 'Education': 'Masters'}\n",
      "<class 'dict'>\n"
     ]
    }
   ],
   "source": [
    "info1(name  = 'Prajkta' ,  age  =  26   , Education = 'Masters') "
   ]
  },
  {
   "cell_type": "code",
   "execution_count": 3,
   "id": "d2935a86",
   "metadata": {},
   "outputs": [],
   "source": [
    "# key : values\n",
    "def info2(**kwargs):\n",
    "    for key , value in kwargs.items():\n",
    "        print(f\"{key} : {value}\")"
   ]
  },
  {
   "cell_type": "code",
   "execution_count": 4,
   "id": "9baebb5e",
   "metadata": {},
   "outputs": [
    {
     "name": "stdout",
     "output_type": "stream",
     "text": [
      "empid : 123\n",
      "emp_name : santosh\n",
      "age : 26\n",
      "email : example@gmail.com\n"
     ]
    }
   ],
   "source": [
    "info2(empid  =  123 ,  emp_name  = 'santosh' , age  =  26 , email  = 'example@gmail.com')"
   ]
  },
  {
   "cell_type": "code",
   "execution_count": 5,
   "id": "50ff60e6",
   "metadata": {},
   "outputs": [
    {
     "name": "stdout",
     "output_type": "stream",
     "text": [
      "empid : 234\n",
      "emp_name : marshal\n"
     ]
    }
   ],
   "source": [
    "info2(empid  =  234  , emp_name = 'marshal')"
   ]
  },
  {
   "cell_type": "code",
   "execution_count": 6,
   "id": "bbf454bb",
   "metadata": {},
   "outputs": [],
   "source": [
    "course  = {'courseid' : 123  ,  'course name' : 'DA' , 'institute' : 'ETLHIVE'}"
   ]
  },
  {
   "cell_type": "code",
   "execution_count": 8,
   "id": "6b422ab2",
   "metadata": {},
   "outputs": [
    {
     "ename": "TypeError",
     "evalue": "info2() takes 0 positional arguments but 1 was given",
     "output_type": "error",
     "traceback": [
      "\u001b[31m---------------------------------------------------------------------------\u001b[39m",
      "\u001b[31mTypeError\u001b[39m                                 Traceback (most recent call last)",
      "\u001b[36mCell\u001b[39m\u001b[36m \u001b[39m\u001b[32mIn[8]\u001b[39m\u001b[32m, line 1\u001b[39m\n\u001b[32m----> \u001b[39m\u001b[32m1\u001b[39m \u001b[43minfo2\u001b[49m\u001b[43m(\u001b[49m\u001b[43mcourse\u001b[49m\u001b[43m)\u001b[49m\n",
      "\u001b[31mTypeError\u001b[39m: info2() takes 0 positional arguments but 1 was given"
     ]
    }
   ],
   "source": [
    "info2(course)"
   ]
  },
  {
   "cell_type": "markdown",
   "id": "6b1ce20e",
   "metadata": {},
   "source": [
    "### Dictionary unpacking"
   ]
  },
  {
   "cell_type": "code",
   "execution_count": 7,
   "id": "79a7735e",
   "metadata": {},
   "outputs": [
    {
     "name": "stdout",
     "output_type": "stream",
     "text": [
      "courseid : 123\n",
      "course name : DA\n",
      "institute : ETLHIVE\n"
     ]
    }
   ],
   "source": [
    "info2(**course)"
   ]
  },
  {
   "cell_type": "markdown",
   "id": "bb4ed09b",
   "metadata": {},
   "source": [
    "# create function two double money"
   ]
  },
  {
   "cell_type": "code",
   "execution_count": 23,
   "id": "eface98d",
   "metadata": {},
   "outputs": [],
   "source": [
    "money1  =   {'500' : 5  , '10' : 10  ,  '5' : 10 ,  '1':7 , '2': 10}"
   ]
  },
  {
   "cell_type": "code",
   "execution_count": 24,
   "id": "9fe14dcb",
   "metadata": {},
   "outputs": [],
   "source": [
    "# double number of notes \n",
    "def money(**kwargs):\n",
    "    output  = {}\n",
    "    for money  , notes in kwargs.items():\n",
    "        output[money] = notes*2\n",
    "    return  output\n"
   ]
  },
  {
   "cell_type": "code",
   "execution_count": 25,
   "id": "54e3efda",
   "metadata": {},
   "outputs": [
    {
     "data": {
      "text/plain": [
       "{'500': 10, '10': 20, '5': 20, '1': 14, '2': 20}"
      ]
     },
     "execution_count": 25,
     "metadata": {},
     "output_type": "execute_result"
    }
   ],
   "source": [
    "money(**money1)"
   ]
  },
  {
   "cell_type": "code",
   "execution_count": 22,
   "id": "a05070ea",
   "metadata": {},
   "outputs": [
    {
     "data": {
      "text/plain": [
       "{12: 2, 3: 3, 4: 5}"
      ]
     },
     "execution_count": 22,
     "metadata": {},
     "output_type": "execute_result"
    }
   ],
   "source": [
    "{12:2, 3:3,4:5}"
   ]
  },
  {
   "cell_type": "markdown",
   "id": "ef76cbd4",
   "metadata": {},
   "source": [
    "## Create function for fill the form "
   ]
  },
  {
   "cell_type": "code",
   "execution_count": null,
   "id": "12427c91",
   "metadata": {},
   "outputs": [],
   "source": [
    "# name ,  age, gender , email \n",
    "def info()\n"
   ]
  },
  {
   "cell_type": "code",
   "execution_count": 4,
   "id": "201bc63f",
   "metadata": {},
   "outputs": [],
   "source": [
    "def fill_form(**kwargs):\n",
    "    user = {'Name' : None,\n",
    "    'Age'  : None  ,\n",
    "    'Gender' : None ,\n",
    "    'email'  : None}\n",
    "    user.update(kwargs)\n",
    "    return user"
   ]
  },
  {
   "cell_type": "code",
   "execution_count": null,
   "id": "b8675e46",
   "metadata": {},
   "outputs": [],
   "source": []
  },
  {
   "cell_type": "code",
   "execution_count": 5,
   "id": "6346bc96",
   "metadata": {},
   "outputs": [
    {
     "data": {
      "text/plain": [
       "{'Name': 'Prajkta', 'Age': 26, 'Gender': 'Female', 'email': None}"
      ]
     },
     "execution_count": 5,
     "metadata": {},
     "output_type": "execute_result"
    }
   ],
   "source": [
    "fill_form(Name = 'Prajkta' ,  Age  =  26  , Gender =  \"Female\")"
   ]
  },
  {
   "cell_type": "code",
   "execution_count": 10,
   "id": "d5ec9685",
   "metadata": {},
   "outputs": [
    {
     "data": {
      "text/plain": [
       "{'Name': None,\n",
       " 'Age': 26,\n",
       " 'Gender': 'Female',\n",
       " 'email': None,\n",
       " 'name': 'Prajkta',\n",
       " 'education': 'Masters'}"
      ]
     },
     "execution_count": 10,
     "metadata": {},
     "output_type": "execute_result"
    }
   ],
   "source": [
    "fill_form(name = 'Prajkta' ,  Age  =  26  , Gender =  \"Female\",  education  = 'Masters')"
   ]
  },
  {
   "cell_type": "code",
   "execution_count": 31,
   "id": "37e8eb43",
   "metadata": {},
   "outputs": [
    {
     "data": {
      "text/plain": [
       "{'name': '', 'age': 24, 'gender': 'Male', 'email': 'mohit@example.com'}"
      ]
     },
     "execution_count": 31,
     "metadata": {},
     "output_type": "execute_result"
    }
   ],
   "source": [
    "fill_form( Name  =  \"Mohit\", adress = 'Pune' ,age=24, gender=\"Male\", email=\"mohit@example.com\")"
   ]
  },
  {
   "cell_type": "code",
   "execution_count": null,
   "id": "ce2b0844",
   "metadata": {},
   "outputs": [],
   "source": []
  },
  {
   "cell_type": "code",
   "execution_count": null,
   "id": "b56eb12c",
   "metadata": {},
   "outputs": [],
   "source": []
  },
  {
   "cell_type": "markdown",
   "id": "43ba5533",
   "metadata": {},
   "source": [
    "# Method 2"
   ]
  },
  {
   "cell_type": "code",
   "execution_count": 7,
   "id": "c4dc079c",
   "metadata": {},
   "outputs": [],
   "source": [
    "def fill_form2(**kwargs):\n",
    "    name = input('Enter the name :')\n",
    "    age = int(input('Enter the age : '))\n",
    "    gender = input('Enter the gender : ')\n",
    "    email = input('Enter the email : ')\n",
    "    print('Name : ', name)\n",
    "    print('Age : ', age)\n",
    "    print('Gender : ',gender)\n",
    "    print('Email : ', email)\n",
    "    "
   ]
  },
  {
   "cell_type": "code",
   "execution_count": 29,
   "id": "2232b036",
   "metadata": {},
   "outputs": [
    {
     "ename": "ValueError",
     "evalue": "invalid literal for int() with base 10: ''",
     "output_type": "error",
     "traceback": [
      "\u001b[31m---------------------------------------------------------------------------\u001b[39m",
      "\u001b[31mValueError\u001b[39m                                Traceback (most recent call last)",
      "\u001b[36mCell\u001b[39m\u001b[36m \u001b[39m\u001b[32mIn[29]\u001b[39m\u001b[32m, line 2\u001b[39m\n\u001b[32m      1\u001b[39m \u001b[38;5;66;03m# age can not keep empty\u001b[39;00m\n\u001b[32m----> \u001b[39m\u001b[32m2\u001b[39m \u001b[43mfill_form2\u001b[49m\u001b[43m(\u001b[49m\u001b[43m)\u001b[49m\n",
      "\u001b[36mCell\u001b[39m\u001b[36m \u001b[39m\u001b[32mIn[7]\u001b[39m\u001b[32m, line 3\u001b[39m, in \u001b[36mfill_form2\u001b[39m\u001b[34m(**kwargs)\u001b[39m\n\u001b[32m      1\u001b[39m \u001b[38;5;28;01mdef\u001b[39;00m\u001b[38;5;250m \u001b[39m\u001b[34mfill_form2\u001b[39m(**kwargs):\n\u001b[32m      2\u001b[39m     name = \u001b[38;5;28minput\u001b[39m(\u001b[33m'\u001b[39m\u001b[33mEnter the name :\u001b[39m\u001b[33m'\u001b[39m)\n\u001b[32m----> \u001b[39m\u001b[32m3\u001b[39m     age = \u001b[38;5;28;43mint\u001b[39;49m\u001b[43m(\u001b[49m\u001b[38;5;28;43minput\u001b[39;49m\u001b[43m(\u001b[49m\u001b[33;43m'\u001b[39;49m\u001b[33;43mEnter the age : \u001b[39;49m\u001b[33;43m'\u001b[39;49m\u001b[43m)\u001b[49m\u001b[43m)\u001b[49m\n\u001b[32m      4\u001b[39m     gender = \u001b[38;5;28minput\u001b[39m(\u001b[33m'\u001b[39m\u001b[33mEnter the gender : \u001b[39m\u001b[33m'\u001b[39m)\n\u001b[32m      5\u001b[39m     email = \u001b[38;5;28minput\u001b[39m(\u001b[33m'\u001b[39m\u001b[33mEnter the email : \u001b[39m\u001b[33m'\u001b[39m)\n",
      "\u001b[31mValueError\u001b[39m: invalid literal for int() with base 10: ''"
     ]
    }
   ],
   "source": [
    "# age can not keep empty\n",
    "fill_form2()"
   ]
  },
  {
   "cell_type": "markdown",
   "id": "c5e24b1a",
   "metadata": {},
   "source": [
    "# method 3"
   ]
  },
  {
   "cell_type": "code",
   "execution_count": 1,
   "id": "704d42d1",
   "metadata": {},
   "outputs": [],
   "source": [
    "def fill_form(**kwargs):\n",
    "    form_data = {\n",
    "        \"name\": kwargs.get(\"name\", \"\"),\n",
    "        \"age\": kwargs.get(\"age\", \"\"),\n",
    "        \"gender\": kwargs.get(\"gender\", \"\"),\n",
    "        \"email\": kwargs.get(\"email\", \"\")\n",
    "    }\n",
    "    return form_data\n",
    "user = fill_form(name=\"Mohit\", age=24, gender=\"Male\", email=\"mohit@example.com\")"
   ]
  },
  {
   "cell_type": "markdown",
   "id": "8c07a60f",
   "metadata": {},
   "source": [
    "# final function\n",
    " We can set any default value -- in place of None"
   ]
  },
  {
   "cell_type": "code",
   "execution_count": null,
   "id": "78c8ab11",
   "metadata": {},
   "outputs": [],
   "source": [
    "# final Function\n",
    "def form_fill_f(**kwargs):\n",
    "    user = {'Name'.lower() : None,\n",
    "    'Age'.lower()  : None  ,\n",
    "    'Gender'.lower() : None ,\n",
    "    'email'.lower()  : None}\n",
    "    for key , value in  kwargs.items():\n",
    "        if key.lower() in user :\n",
    "            user[key.lower()] = value\n",
    "    return  user"
   ]
  },
  {
   "cell_type": "code",
   "execution_count": 28,
   "id": "2ec196d4",
   "metadata": {},
   "outputs": [
    {
     "data": {
      "text/plain": [
       "{'name': 'Mohit', 'age': 24, 'gender': 'Male', 'email': 'mohit@example.com'}"
      ]
     },
     "execution_count": 28,
     "metadata": {},
     "output_type": "execute_result"
    }
   ],
   "source": [
    "form_fill_f(NaMe=\"Mohit\", age=24, gender=\"Male\", email=\"mohit@example.com\",  education  = 'masters')"
   ]
  },
  {
   "cell_type": "code",
   "execution_count": 30,
   "id": "fd9cb2e0",
   "metadata": {},
   "outputs": [
    {
     "data": {
      "text/plain": [
       "{'name': 'Swara', 'age': None, 'gender': None, 'email': None}"
      ]
     },
     "execution_count": 30,
     "metadata": {},
     "output_type": "execute_result"
    }
   ],
   "source": [
    "form_fill_f(name  = 'Swara')"
   ]
  },
  {
   "cell_type": "markdown",
   "id": "e2e4f74b",
   "metadata": {},
   "source": [
    "# Create bill for Hotel"
   ]
  },
  {
   "cell_type": "code",
   "execution_count": 37,
   "id": "0b51b151",
   "metadata": {},
   "outputs": [],
   "source": [
    "menu  =  {\"Pizza\" :  250  , \"Sandwich\":  100  , \"Samosa\" : 20 }"
   ]
  },
  {
   "cell_type": "code",
   "execution_count": 38,
   "id": "a2795128",
   "metadata": {},
   "outputs": [
    {
     "data": {
      "text/plain": [
       "250"
      ]
     },
     "execution_count": 38,
     "metadata": {},
     "output_type": "execute_result"
    }
   ],
   "source": [
    "menu['Pizza']"
   ]
  },
  {
   "cell_type": "code",
   "execution_count": 39,
   "id": "7b34388f",
   "metadata": {},
   "outputs": [
    {
     "ename": "KeyError",
     "evalue": "'Burgur'",
     "output_type": "error",
     "traceback": [
      "\u001b[31m---------------------------------------------------------------------------\u001b[39m",
      "\u001b[31mKeyError\u001b[39m                                  Traceback (most recent call last)",
      "\u001b[36mCell\u001b[39m\u001b[36m \u001b[39m\u001b[32mIn[39]\u001b[39m\u001b[32m, line 1\u001b[39m\n\u001b[32m----> \u001b[39m\u001b[32m1\u001b[39m \u001b[43mmenu\u001b[49m\u001b[43m[\u001b[49m\u001b[33;43m'\u001b[39;49m\u001b[33;43mBurgur\u001b[39;49m\u001b[33;43m'\u001b[39;49m\u001b[43m]\u001b[49m\n",
      "\u001b[31mKeyError\u001b[39m: 'Burgur'"
     ]
    }
   ],
   "source": [
    "menu['Burgur']"
   ]
  },
  {
   "cell_type": "code",
   "execution_count": 40,
   "id": "0d508fcf",
   "metadata": {},
   "outputs": [
    {
     "data": {
      "text/plain": [
       "250"
      ]
     },
     "execution_count": 40,
     "metadata": {},
     "output_type": "execute_result"
    }
   ],
   "source": [
    "menu.get('Pizza')"
   ]
  },
  {
   "cell_type": "code",
   "execution_count": 42,
   "id": "88b13034",
   "metadata": {},
   "outputs": [],
   "source": [
    "a  = menu.get('Burgur')"
   ]
  },
  {
   "cell_type": "code",
   "execution_count": 43,
   "id": "905c3807",
   "metadata": {},
   "outputs": [
    {
     "name": "stdout",
     "output_type": "stream",
     "text": [
      "None\n"
     ]
    }
   ],
   "source": [
    "print(a)"
   ]
  },
  {
   "cell_type": "code",
   "execution_count": null,
   "id": "ce236c21",
   "metadata": {},
   "outputs": [],
   "source": [
    "def  Hotel_bill(**kwargs):\n",
    "    total_bill = 0 \n",
    "    for food , quantity in kwargs.items():\n",
    "        if menu.get(food) is not None:\n",
    "            sub_total  =  menu.get(food)*quantity\n",
    "            print(f\"total bill for  {food} -->{sub_total}\")\n",
    "\n",
    "            total_bill = total_bill+ sub_total\n",
    "    return f\"Total Bill --> {total_bill}\""
   ]
  },
  {
   "cell_type": "code",
   "execution_count": 45,
   "id": "3f794f57",
   "metadata": {},
   "outputs": [
    {
     "name": "stdout",
     "output_type": "stream",
     "text": [
      "total bill for  Pizza -->500\n"
     ]
    },
    {
     "data": {
      "text/plain": [
       "'Total Bill --> 500'"
      ]
     },
     "execution_count": 45,
     "metadata": {},
     "output_type": "execute_result"
    }
   ],
   "source": [
    "Hotel_bill(Pizza  =  2)"
   ]
  },
  {
   "cell_type": "code",
   "execution_count": 46,
   "id": "068428bd",
   "metadata": {},
   "outputs": [
    {
     "name": "stdout",
     "output_type": "stream",
     "text": [
      "total bill for  Pizza -->500\n",
      "total bill for  Sandwich -->300\n"
     ]
    },
    {
     "data": {
      "text/plain": [
       "'Total Bill --> 800'"
      ]
     },
     "execution_count": 46,
     "metadata": {},
     "output_type": "execute_result"
    }
   ],
   "source": [
    "Hotel_bill(Pizza  =  2 ,  Kachori   =  4 ,  Sandwich  =  3)"
   ]
  },
  {
   "cell_type": "code",
   "execution_count": 47,
   "id": "61f09f84",
   "metadata": {},
   "outputs": [
    {
     "name": "stdout",
     "output_type": "stream",
     "text": [
      "total bill for  Sandwich -->300\n"
     ]
    },
    {
     "data": {
      "text/plain": [
       "'Total Bill --> 300'"
      ]
     },
     "execution_count": 47,
     "metadata": {},
     "output_type": "execute_result"
    }
   ],
   "source": [
    "Hotel_bill(pizza  =  2 ,  Kachori   =  4 ,  Sandwich  =  3)"
   ]
  },
  {
   "cell_type": "markdown",
   "id": "78eb27b5",
   "metadata": {},
   "source": [
    "# for food make it case insensitive"
   ]
  },
  {
   "cell_type": "code",
   "execution_count": 48,
   "id": "c628f22d",
   "metadata": {},
   "outputs": [
    {
     "data": {
      "text/plain": [
       "{'Pizza': 250, 'Sandwich': 100, 'Samosa': 20}"
      ]
     },
     "execution_count": 48,
     "metadata": {},
     "output_type": "execute_result"
    }
   ],
   "source": [
    "menu"
   ]
  },
  {
   "cell_type": "code",
   "execution_count": 49,
   "id": "50752270",
   "metadata": {},
   "outputs": [],
   "source": [
    "def  Hotel_bill(**kwargs):\n",
    "    total_bill = 0 \n",
    "    for food , quantity in kwargs.items():\n",
    "        if menu.get(food.capitalize()) is not None:\n",
    "            sub_total  =  menu.get(food.capitalize())*quantity\n",
    "            print(f\"total bill for  {food} -->{sub_total}\")\n",
    "\n",
    "            total_bill = total_bill+ sub_total\n",
    "    return f\"Total Bill --> {total_bill}\""
   ]
  },
  {
   "cell_type": "code",
   "execution_count": 50,
   "id": "ba2719a1",
   "metadata": {},
   "outputs": [
    {
     "name": "stdout",
     "output_type": "stream",
     "text": [
      "total bill for  pizza -->500\n",
      "total bill for  Sandwich -->300\n"
     ]
    },
    {
     "data": {
      "text/plain": [
       "'Total Bill --> 800'"
      ]
     },
     "execution_count": 50,
     "metadata": {},
     "output_type": "execute_result"
    }
   ],
   "source": [
    "Hotel_bill(pizza  =  2 ,  Kachori   =  4 ,  Sandwich  =  3)"
   ]
  },
  {
   "cell_type": "code",
   "execution_count": 51,
   "id": "66b3f3a4",
   "metadata": {},
   "outputs": [
    {
     "name": "stdout",
     "output_type": "stream",
     "text": [
      "total bill for  PIZZA -->750\n",
      "total bill for  SAMOSA -->60\n",
      "total bill for  SANDWICH -->300\n"
     ]
    },
    {
     "data": {
      "text/plain": [
       "'Total Bill --> 1110'"
      ]
     },
     "execution_count": 51,
     "metadata": {},
     "output_type": "execute_result"
    }
   ],
   "source": [
    "# change case of sandwith and pizza\n",
    "Hotel_bill(PIZZA =  3  , BURGUR  =  1 , SAMOSA  = 3  , SANDWICH  = 3)"
   ]
  },
  {
   "cell_type": "code",
   "execution_count": null,
   "id": "0735d83a",
   "metadata": {},
   "outputs": [],
   "source": []
  }
 ],
 "metadata": {
  "kernelspec": {
   "display_name": "venv",
   "language": "python",
   "name": "python3"
  },
  "language_info": {
   "codemirror_mode": {
    "name": "ipython",
    "version": 3
   },
   "file_extension": ".py",
   "mimetype": "text/x-python",
   "name": "python",
   "nbconvert_exporter": "python",
   "pygments_lexer": "ipython3",
   "version": "3.13.5"
  }
 },
 "nbformat": 4,
 "nbformat_minor": 5
}
