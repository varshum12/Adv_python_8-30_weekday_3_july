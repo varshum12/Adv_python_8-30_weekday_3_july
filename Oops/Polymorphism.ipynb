{
 "cells": [
  {
   "cell_type": "markdown",
   "id": "f4fe2f5e",
   "metadata": {},
   "source": [
    "# Polymorphism in operators"
   ]
  },
  {
   "cell_type": "code",
   "execution_count": 1,
   "id": "fda78b5c",
   "metadata": {},
   "outputs": [
    {
     "data": {
      "text/plain": [
       "46"
      ]
     },
     "execution_count": 1,
     "metadata": {},
     "output_type": "execute_result"
    }
   ],
   "source": [
    "#  +\n",
    "12 +34"
   ]
  },
  {
   "cell_type": "code",
   "execution_count": 1,
   "id": "56300a62",
   "metadata": {},
   "outputs": [
    {
     "data": {
      "text/plain": [
       "'Prancipalcomponent Analysis'"
      ]
     },
     "execution_count": 1,
     "metadata": {},
     "output_type": "execute_result"
    }
   ],
   "source": [
    "s1  =  \"Prancipal\"\n",
    "s2  =  \"component Analysis\"\n",
    "s1 +s2"
   ]
  },
  {
   "cell_type": "code",
   "execution_count": 2,
   "id": "bc0e9d04",
   "metadata": {},
   "outputs": [
    {
     "data": {
      "text/plain": [
       "[12, 4, 5, 'ML', 'DL', 23]"
      ]
     },
     "execution_count": 2,
     "metadata": {},
     "output_type": "execute_result"
    }
   ],
   "source": [
    "l1  = [12,4,5]\n",
    "l2  = ['ML' , \"DL\" , 23]\n",
    "l1+l2"
   ]
  },
  {
   "cell_type": "code",
   "execution_count": 3,
   "id": "40b984de",
   "metadata": {},
   "outputs": [
    {
     "data": {
      "text/plain": [
       "(12, 4, 5, 'ML', 'DL', 23)"
      ]
     },
     "execution_count": 3,
     "metadata": {},
     "output_type": "execute_result"
    }
   ],
   "source": [
    "l1  = (12,4,5)\n",
    "l2  = ('ML' , \"DL\" , 23)\n",
    "l1+l2"
   ]
  },
  {
   "cell_type": "markdown",
   "id": "fcd0d2e7",
   "metadata": {},
   "source": [
    "# Polymorphism in function \n",
    "-  len"
   ]
  },
  {
   "cell_type": "code",
   "execution_count": null,
   "id": "bfc8f574",
   "metadata": {},
   "outputs": [
    {
     "data": {
      "text/plain": [
       "11"
      ]
     },
     "execution_count": 4,
     "metadata": {},
     "output_type": "execute_result"
    }
   ],
   "source": [
    "len('Time Series')  # strring"
   ]
  },
  {
   "cell_type": "code",
   "execution_count": null,
   "id": "38ef1ec6",
   "metadata": {},
   "outputs": [
    {
     "data": {
      "text/plain": [
       "4"
      ]
     },
     "execution_count": 5,
     "metadata": {},
     "output_type": "execute_result"
    }
   ],
   "source": [
    "len([12,34,56, \"Sunita\"])   # list"
   ]
  },
  {
   "cell_type": "code",
   "execution_count": 6,
   "id": "270feb7e",
   "metadata": {},
   "outputs": [
    {
     "data": {
      "text/plain": [
       "4"
      ]
     },
     "execution_count": 6,
     "metadata": {},
     "output_type": "execute_result"
    }
   ],
   "source": [
    "len((12,34,56, \"Sunita\"))   # tuple"
   ]
  },
  {
   "cell_type": "code",
   "execution_count": 7,
   "id": "b6e1a1e1",
   "metadata": {},
   "outputs": [
    {
     "data": {
      "text/plain": [
       "4"
      ]
     },
     "execution_count": 7,
     "metadata": {},
     "output_type": "execute_result"
    }
   ],
   "source": [
    "len({12,34,56, \"Sunita\"})   # set"
   ]
  },
  {
   "cell_type": "code",
   "execution_count": 8,
   "id": "12055896",
   "metadata": {},
   "outputs": [],
   "source": [
    "# series\n",
    "import pandas as pd"
   ]
  },
  {
   "cell_type": "code",
   "execution_count": 9,
   "id": "5c7973bd",
   "metadata": {},
   "outputs": [],
   "source": [
    "dic1  =  {\"name\" : \"jay\" ,  \"email\"  : \"jay.example@gmail.com\" , \"Edu\" : \"M tech\"}"
   ]
  },
  {
   "cell_type": "code",
   "execution_count": 10,
   "id": "4f4440f2",
   "metadata": {},
   "outputs": [],
   "source": [
    "s  =  pd.Series(dic1)"
   ]
  },
  {
   "cell_type": "code",
   "execution_count": null,
   "id": "060978b0",
   "metadata": {},
   "outputs": [],
   "source": []
  },
  {
   "cell_type": "code",
   "execution_count": 11,
   "id": "bef18463",
   "metadata": {},
   "outputs": [
    {
     "data": {
      "text/plain": [
       "name                       jay\n",
       "email    jay.example@gmail.com\n",
       "Edu                     M tech\n",
       "dtype: object"
      ]
     },
     "execution_count": 11,
     "metadata": {},
     "output_type": "execute_result"
    }
   ],
   "source": [
    "s"
   ]
  },
  {
   "cell_type": "code",
   "execution_count": 12,
   "id": "fdc66811",
   "metadata": {},
   "outputs": [
    {
     "data": {
      "text/plain": [
       "3"
      ]
     },
     "execution_count": 12,
     "metadata": {},
     "output_type": "execute_result"
    }
   ],
   "source": [
    "len(s)"
   ]
  },
  {
   "cell_type": "code",
   "execution_count": 14,
   "id": "85249676",
   "metadata": {},
   "outputs": [],
   "source": [
    "# dataframe\n",
    "dic1  =  {\"name\" : [\"jay\" ,   'neeta'] , \"email\"  : [\"jay.exmple@gmail.com\" ,  \"neeta@gmgmail.com\"] , \"Edu\" : [\"M tech\", \"Btech\"]}"
   ]
  },
  {
   "cell_type": "code",
   "execution_count": 15,
   "id": "613a3450",
   "metadata": {},
   "outputs": [
    {
     "data": {
      "text/plain": [
       "{'name': ['jay', 'neeta'],\n",
       " 'email': ['jay.exmple@gmail.com', 'neeta@gmgmail.com'],\n",
       " 'Edu': ['M tech', 'Btech']}"
      ]
     },
     "execution_count": 15,
     "metadata": {},
     "output_type": "execute_result"
    }
   ],
   "source": [
    "dic1"
   ]
  },
  {
   "cell_type": "code",
   "execution_count": 16,
   "id": "6728c123",
   "metadata": {},
   "outputs": [],
   "source": [
    "df  =  pd.DataFrame(dic1)"
   ]
  },
  {
   "cell_type": "code",
   "execution_count": 17,
   "id": "845496db",
   "metadata": {},
   "outputs": [
    {
     "data": {
      "text/html": [
       "<div>\n",
       "<style scoped>\n",
       "    .dataframe tbody tr th:only-of-type {\n",
       "        vertical-align: middle;\n",
       "    }\n",
       "\n",
       "    .dataframe tbody tr th {\n",
       "        vertical-align: top;\n",
       "    }\n",
       "\n",
       "    .dataframe thead th {\n",
       "        text-align: right;\n",
       "    }\n",
       "</style>\n",
       "<table border=\"1\" class=\"dataframe\">\n",
       "  <thead>\n",
       "    <tr style=\"text-align: right;\">\n",
       "      <th></th>\n",
       "      <th>name</th>\n",
       "      <th>email</th>\n",
       "      <th>Edu</th>\n",
       "    </tr>\n",
       "  </thead>\n",
       "  <tbody>\n",
       "    <tr>\n",
       "      <th>0</th>\n",
       "      <td>jay</td>\n",
       "      <td>jay.exmple@gmail.com</td>\n",
       "      <td>M tech</td>\n",
       "    </tr>\n",
       "    <tr>\n",
       "      <th>1</th>\n",
       "      <td>neeta</td>\n",
       "      <td>neeta@gmgmail.com</td>\n",
       "      <td>Btech</td>\n",
       "    </tr>\n",
       "  </tbody>\n",
       "</table>\n",
       "</div>"
      ],
      "text/plain": [
       "    name                 email     Edu\n",
       "0    jay  jay.exmple@gmail.com  M tech\n",
       "1  neeta     neeta@gmgmail.com   Btech"
      ]
     },
     "execution_count": 17,
     "metadata": {},
     "output_type": "execute_result"
    }
   ],
   "source": [
    "df"
   ]
  },
  {
   "cell_type": "code",
   "execution_count": 18,
   "id": "6c99f4e3",
   "metadata": {},
   "outputs": [
    {
     "data": {
      "text/plain": [
       "pandas.core.frame.DataFrame"
      ]
     },
     "execution_count": 18,
     "metadata": {},
     "output_type": "execute_result"
    }
   ],
   "source": [
    "type(df)"
   ]
  },
  {
   "cell_type": "code",
   "execution_count": 19,
   "id": "42eec15a",
   "metadata": {},
   "outputs": [
    {
     "data": {
      "text/plain": [
       "2"
      ]
     },
     "execution_count": 19,
     "metadata": {},
     "output_type": "execute_result"
    }
   ],
   "source": [
    "len(df)"
   ]
  },
  {
   "cell_type": "code",
   "execution_count": 20,
   "id": "20a593c8",
   "metadata": {},
   "outputs": [
    {
     "data": {
      "text/plain": [
       "3"
      ]
     },
     "execution_count": 20,
     "metadata": {},
     "output_type": "execute_result"
    }
   ],
   "source": [
    "len(dic1)"
   ]
  },
  {
   "cell_type": "code",
   "execution_count": null,
   "id": "5bdc7d97",
   "metadata": {},
   "outputs": [],
   "source": [
    "# classs  for India , France  ,  USA\n"
   ]
  },
  {
   "cell_type": "code",
   "execution_count": 12,
   "id": "de96f117",
   "metadata": {},
   "outputs": [],
   "source": [
    "class  India:\n",
    "    def Capital(self):\n",
    "        return \"Capital of India is Delhi\"\n",
    "\n",
    "    def Language(self):\n",
    "        return \"National Language of india  is Hindi\"\n",
    "    \n",
    "# create class France\n",
    "\n",
    "\n",
    "class France:\n",
    "    def Capital(self):\n",
    "        return  \"Capital of France is Paris\"\n",
    "\n",
    "    # def language method\n",
    "\n",
    "    def Language(self):\n",
    "        return 'National Language of france is French'\n",
    "\n",
    "\n",
    "class USA :\n",
    "    def Capital(self):\n",
    "        return  \"Capital of USA is Washington D.C\"\n",
    "\n",
    "    def Language(self):\n",
    "        return  \"National language of USA is English\""
   ]
  },
  {
   "cell_type": "code",
   "execution_count": 13,
   "id": "172be162",
   "metadata": {},
   "outputs": [],
   "source": [
    "I1  =  India()"
   ]
  },
  {
   "cell_type": "code",
   "execution_count": 14,
   "id": "5447aebc",
   "metadata": {},
   "outputs": [
    {
     "data": {
      "text/plain": [
       "'Capital of India is Delhi'"
      ]
     },
     "execution_count": 14,
     "metadata": {},
     "output_type": "execute_result"
    }
   ],
   "source": [
    "I1.Capital()"
   ]
  },
  {
   "cell_type": "code",
   "execution_count": 15,
   "id": "a79257eb",
   "metadata": {},
   "outputs": [
    {
     "data": {
      "text/plain": [
       "'National Language of india  is Hindi'"
      ]
     },
     "execution_count": 15,
     "metadata": {},
     "output_type": "execute_result"
    }
   ],
   "source": [
    "I1.Language()"
   ]
  },
  {
   "cell_type": "code",
   "execution_count": 16,
   "id": "be396c9d",
   "metadata": {},
   "outputs": [],
   "source": [
    "# France\n",
    "F1  =  France()"
   ]
  },
  {
   "cell_type": "code",
   "execution_count": 17,
   "id": "d1e95a21",
   "metadata": {},
   "outputs": [
    {
     "data": {
      "text/plain": [
       "'Capital of France is Paris'"
      ]
     },
     "execution_count": 17,
     "metadata": {},
     "output_type": "execute_result"
    }
   ],
   "source": [
    "F1.Capital()"
   ]
  },
  {
   "cell_type": "code",
   "execution_count": 18,
   "id": "a4fc7b31",
   "metadata": {},
   "outputs": [
    {
     "data": {
      "text/plain": [
       "'National Language of france is French'"
      ]
     },
     "execution_count": 18,
     "metadata": {},
     "output_type": "execute_result"
    }
   ],
   "source": [
    "F1.Language()"
   ]
  },
  {
   "cell_type": "code",
   "execution_count": 19,
   "id": "3d01a4bb",
   "metadata": {},
   "outputs": [],
   "source": [
    "U1   =  USA()"
   ]
  },
  {
   "cell_type": "code",
   "execution_count": 20,
   "id": "add3ee2f",
   "metadata": {},
   "outputs": [
    {
     "data": {
      "text/plain": [
       "'Capital of USA is Washington D.C'"
      ]
     },
     "execution_count": 20,
     "metadata": {},
     "output_type": "execute_result"
    }
   ],
   "source": [
    "U1.Capital()"
   ]
  },
  {
   "cell_type": "code",
   "execution_count": 21,
   "id": "ee1d3bef",
   "metadata": {},
   "outputs": [
    {
     "data": {
      "text/plain": [
       "'National language of USA is English'"
      ]
     },
     "execution_count": 21,
     "metadata": {},
     "output_type": "execute_result"
    }
   ],
   "source": [
    "U1.Language()"
   ]
  },
  {
   "cell_type": "code",
   "execution_count": 22,
   "id": "ca94946f",
   "metadata": {},
   "outputs": [
    {
     "name": "stdout",
     "output_type": "stream",
     "text": [
      "Capital of India is Delhi\n",
      "National Language of india  is Hindi\n",
      "\n",
      "--------------------------------------\n",
      "\n",
      "Capital of France is Paris\n",
      "National Language of france is French\n",
      "\n",
      "--------------------------------------\n",
      "\n",
      "Capital of USA is Washington D.C\n",
      "National language of USA is English\n",
      "\n",
      "--------------------------------------\n",
      "\n"
     ]
    }
   ],
   "source": [
    "for i in [I1 ,  F1 ,  U1]:\n",
    "    print(i.Capital())\n",
    "    print(i.Language())\n",
    "    print()\n",
    "    print('--------------------------------------')\n",
    "    print()"
   ]
  },
  {
   "cell_type": "code",
   "execution_count": null,
   "id": "f1cefd66",
   "metadata": {},
   "outputs": [],
   "source": [
    "# Create class for Circle  & Rectangle to find  area and permeter  ."
   ]
  },
  {
   "cell_type": "code",
   "execution_count": null,
   "id": "7d5b03f6",
   "metadata": {},
   "outputs": [],
   "source": []
  }
 ],
 "metadata": {
  "kernelspec": {
   "display_name": "venv",
   "language": "python",
   "name": "python3"
  },
  "language_info": {
   "codemirror_mode": {
    "name": "ipython",
    "version": 3
   },
   "file_extension": ".py",
   "mimetype": "text/x-python",
   "name": "python",
   "nbconvert_exporter": "python",
   "pygments_lexer": "ipython3",
   "version": "3.13.5"
  }
 },
 "nbformat": 4,
 "nbformat_minor": 5
}
