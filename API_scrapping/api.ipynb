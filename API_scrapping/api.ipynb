{
 "cells": [
  {
   "cell_type": "code",
   "execution_count": 5,
   "id": "edcb69f3",
   "metadata": {},
   "outputs": [
    {
     "name": "stdout",
     "output_type": "stream",
     "text": [
      "Requirement already satisfied: python-dotenv in d:\\adv_python_3_july_weekday_830\\repository\\venv\\lib\\site-packages (1.1.1)\n",
      "Note: you may need to restart the kernel to use updated packages.\n"
     ]
    }
   ],
   "source": [
    "%pip install python-dotenv"
   ]
  },
  {
   "cell_type": "code",
   "execution_count": 2,
   "id": "82101499",
   "metadata": {},
   "outputs": [
    {
     "name": "stdout",
     "output_type": "stream",
     "text": [
      "Requirement already satisfied: plotly in d:\\adv_python_3_july_weekday_830\\repository\\venv\\lib\\site-packages (6.2.0)\n",
      "Requirement already satisfied: narwhals>=1.15.1 in d:\\adv_python_3_july_weekday_830\\repository\\venv\\lib\\site-packages (from plotly) (1.45.0)\n",
      "Requirement already satisfied: packaging in d:\\adv_python_3_july_weekday_830\\repository\\venv\\lib\\site-packages (from plotly) (25.0)\n",
      "Note: you may need to restart the kernel to use updated packages.\n"
     ]
    }
   ],
   "source": [
    "%pip install plotly"
   ]
  },
  {
   "cell_type": "code",
   "execution_count": 7,
   "id": "6268287d",
   "metadata": {},
   "outputs": [
    {
     "data": {
      "text/plain": [
       "True"
      ]
     },
     "execution_count": 7,
     "metadata": {},
     "output_type": "execute_result"
    }
   ],
   "source": [
    "import requests\n",
    "from dotenv import load_dotenv\n",
    "load_dotenv()"
   ]
  },
  {
   "cell_type": "code",
   "execution_count": 8,
   "id": "dc41cc49",
   "metadata": {},
   "outputs": [],
   "source": [
    "import os \n",
    "api_key  =  os.getenv(\"API_KEY\")\n"
   ]
  },
  {
   "cell_type": "code",
   "execution_count": 9,
   "id": "cc780618",
   "metadata": {},
   "outputs": [
    {
     "data": {
      "text/plain": [
       "{'bestMatches': [{'1. symbol': 'GODREJCP.BSE',\n",
       "   '2. name': 'GODREJ CONSUMER PRODUCTS LTD.',\n",
       "   '3. type': 'Equity',\n",
       "   '4. region': 'India/Bombay',\n",
       "   '5. marketOpen': '09:15',\n",
       "   '6. marketClose': '15:30',\n",
       "   '7. timezone': 'UTC+5.5',\n",
       "   '8. currency': 'INR',\n",
       "   '9. matchScore': '0.7059'},\n",
       "  {'1. symbol': 'GODREJIND.BSE',\n",
       "   '2. name': 'GODREJ INDUSTRIES LTD.',\n",
       "   '3. type': 'Equity',\n",
       "   '4. region': 'India/Bombay',\n",
       "   '5. marketOpen': '09:15',\n",
       "   '6. marketClose': '15:30',\n",
       "   '7. timezone': 'UTC+5.5',\n",
       "   '8. currency': 'INR',\n",
       "   '9. matchScore': '0.6667'},\n",
       "  {'1. symbol': 'GODREJAGRO.BSE',\n",
       "   '2. name': 'Godrej Agrovet Ltd',\n",
       "   '3. type': 'Equity',\n",
       "   '4. region': 'India/Bombay',\n",
       "   '5. marketOpen': '09:15',\n",
       "   '6. marketClose': '15:30',\n",
       "   '7. timezone': 'UTC+5.5',\n",
       "   '8. currency': 'INR',\n",
       "   '9. matchScore': '0.6316'},\n",
       "  {'1. symbol': 'GODREJPROP.BSE',\n",
       "   '2. name': 'Godrej Properties Ltd',\n",
       "   '3. type': 'Equity',\n",
       "   '4. region': 'India/Bombay',\n",
       "   '5. marketOpen': '09:15',\n",
       "   '6. marketClose': '15:30',\n",
       "   '7. timezone': 'UTC+5.5',\n",
       "   '8. currency': 'INR',\n",
       "   '9. matchScore': '0.6316'},\n",
       "  {'1. symbol': '540743.BSE',\n",
       "   '2. name': 'Godrej Agrovet Limited',\n",
       "   '3. type': 'Equity',\n",
       "   '4. region': 'India/Bombay',\n",
       "   '5. marketOpen': '09:15',\n",
       "   '6. marketClose': '15:30',\n",
       "   '7. timezone': 'UTC+5.5',\n",
       "   '8. currency': 'INR',\n",
       "   '9. matchScore': '0.4286'},\n",
       "  {'1. symbol': '532424.BSE',\n",
       "   '2. name': 'Godrej Consumer Products Limited',\n",
       "   '3. type': 'Equity',\n",
       "   '4. region': 'India/Bombay',\n",
       "   '5. marketOpen': '09:15',\n",
       "   '6. marketClose': '15:30',\n",
       "   '7. timezone': 'UTC+5.5',\n",
       "   '8. currency': 'INR',\n",
       "   '9. matchScore': '0.3158'}]}"
      ]
     },
     "execution_count": 9,
     "metadata": {},
     "output_type": "execute_result"
    }
   ],
   "source": [
    "import requests\n",
    "\n",
    "url = \"https://alpha-vantage.p.rapidapi.com/query\"\n",
    "\n",
    "querystring = {\"datatype\":\"json\",\"keywords\":\"godrej\",\"function\":\"SYMBOL_SEARCH\"}\n",
    "\n",
    "headers = {\n",
    "\t\"x-rapidapi-key\": api_key,\n",
    "\t\"x-rapidapi-host\": \"alpha-vantage.p.rapidapi.com\"\n",
    "}\n",
    "\n",
    "response = requests.get(url, headers=headers, params=querystring)\n",
    "\n",
    "data  = (response.json())\n",
    "data"
   ]
  },
  {
   "cell_type": "code",
   "execution_count": 10,
   "id": "ff006afb",
   "metadata": {},
   "outputs": [
    {
     "data": {
      "text/plain": [
       "dict_keys(['bestMatches'])"
      ]
     },
     "execution_count": 10,
     "metadata": {},
     "output_type": "execute_result"
    }
   ],
   "source": [
    "data.keys()"
   ]
  },
  {
   "cell_type": "code",
   "execution_count": 11,
   "id": "554ba3dc",
   "metadata": {},
   "outputs": [
    {
     "name": "stdout",
     "output_type": "stream",
     "text": [
      "[{'1. symbol': 'GODREJCP.BSE', '2. name': 'GODREJ CONSUMER PRODUCTS LTD.', '3. type': 'Equity', '4. region': 'India/Bombay', '5. marketOpen': '09:15', '6. marketClose': '15:30', '7. timezone': 'UTC+5.5', '8. currency': 'INR', '9. matchScore': '0.7059'}, {'1. symbol': 'GODREJIND.BSE', '2. name': 'GODREJ INDUSTRIES LTD.', '3. type': 'Equity', '4. region': 'India/Bombay', '5. marketOpen': '09:15', '6. marketClose': '15:30', '7. timezone': 'UTC+5.5', '8. currency': 'INR', '9. matchScore': '0.6667'}, {'1. symbol': 'GODREJAGRO.BSE', '2. name': 'Godrej Agrovet Ltd', '3. type': 'Equity', '4. region': 'India/Bombay', '5. marketOpen': '09:15', '6. marketClose': '15:30', '7. timezone': 'UTC+5.5', '8. currency': 'INR', '9. matchScore': '0.6316'}, {'1. symbol': 'GODREJPROP.BSE', '2. name': 'Godrej Properties Ltd', '3. type': 'Equity', '4. region': 'India/Bombay', '5. marketOpen': '09:15', '6. marketClose': '15:30', '7. timezone': 'UTC+5.5', '8. currency': 'INR', '9. matchScore': '0.6316'}, {'1. symbol': '540743.BSE', '2. name': 'Godrej Agrovet Limited', '3. type': 'Equity', '4. region': 'India/Bombay', '5. marketOpen': '09:15', '6. marketClose': '15:30', '7. timezone': 'UTC+5.5', '8. currency': 'INR', '9. matchScore': '0.4286'}, {'1. symbol': '532424.BSE', '2. name': 'Godrej Consumer Products Limited', '3. type': 'Equity', '4. region': 'India/Bombay', '5. marketOpen': '09:15', '6. marketClose': '15:30', '7. timezone': 'UTC+5.5', '8. currency': 'INR', '9. matchScore': '0.3158'}]\n",
      "<class 'list'>\n"
     ]
    }
   ],
   "source": [
    "print(data['bestMatches'])\n",
    "print(type(data['bestMatches']))"
   ]
  },
  {
   "cell_type": "code",
   "execution_count": 12,
   "id": "e9cd4226",
   "metadata": {},
   "outputs": [
    {
     "name": "stdout",
     "output_type": "stream",
     "text": [
      "{'1. symbol': 'GODREJCP.BSE', '2. name': 'GODREJ CONSUMER PRODUCTS LTD.', '3. type': 'Equity', '4. region': 'India/Bombay', '5. marketOpen': '09:15', '6. marketClose': '15:30', '7. timezone': 'UTC+5.5', '8. currency': 'INR', '9. matchScore': '0.7059'}\n",
      "{'1. symbol': 'GODREJIND.BSE', '2. name': 'GODREJ INDUSTRIES LTD.', '3. type': 'Equity', '4. region': 'India/Bombay', '5. marketOpen': '09:15', '6. marketClose': '15:30', '7. timezone': 'UTC+5.5', '8. currency': 'INR', '9. matchScore': '0.6667'}\n",
      "{'1. symbol': 'GODREJAGRO.BSE', '2. name': 'Godrej Agrovet Ltd', '3. type': 'Equity', '4. region': 'India/Bombay', '5. marketOpen': '09:15', '6. marketClose': '15:30', '7. timezone': 'UTC+5.5', '8. currency': 'INR', '9. matchScore': '0.6316'}\n",
      "{'1. symbol': 'GODREJPROP.BSE', '2. name': 'Godrej Properties Ltd', '3. type': 'Equity', '4. region': 'India/Bombay', '5. marketOpen': '09:15', '6. marketClose': '15:30', '7. timezone': 'UTC+5.5', '8. currency': 'INR', '9. matchScore': '0.6316'}\n",
      "{'1. symbol': '540743.BSE', '2. name': 'Godrej Agrovet Limited', '3. type': 'Equity', '4. region': 'India/Bombay', '5. marketOpen': '09:15', '6. marketClose': '15:30', '7. timezone': 'UTC+5.5', '8. currency': 'INR', '9. matchScore': '0.4286'}\n",
      "{'1. symbol': '532424.BSE', '2. name': 'Godrej Consumer Products Limited', '3. type': 'Equity', '4. region': 'India/Bombay', '5. marketOpen': '09:15', '6. marketClose': '15:30', '7. timezone': 'UTC+5.5', '8. currency': 'INR', '9. matchScore': '0.3158'}\n"
     ]
    }
   ],
   "source": [
    "for i in data['bestMatches']:\n",
    "    print(i)"
   ]
  },
  {
   "cell_type": "code",
   "execution_count": 13,
   "id": "d9dd6cf3",
   "metadata": {},
   "outputs": [
    {
     "data": {
      "text/plain": [
       "{'GODREJCP.BSE': ['GODREJ CONSUMER PRODUCTS LTD.', 'India/Bombay', 'INR'],\n",
       " 'GODREJIND.BSE': ['GODREJ INDUSTRIES LTD.', 'India/Bombay', 'INR'],\n",
       " 'GODREJAGRO.BSE': ['Godrej Agrovet Ltd', 'India/Bombay', 'INR'],\n",
       " 'GODREJPROP.BSE': ['Godrej Properties Ltd', 'India/Bombay', 'INR'],\n",
       " '540743.BSE': ['Godrej Agrovet Limited', 'India/Bombay', 'INR'],\n",
       " '532424.BSE': ['Godrej Consumer Products Limited', 'India/Bombay', 'INR']}"
      ]
     },
     "execution_count": 13,
     "metadata": {},
     "output_type": "execute_result"
    }
   ],
   "source": [
    "dict1  =  {}\n",
    "for i  in  data['bestMatches']:\n",
    "    symbols  =  i['1. symbol']\n",
    "    dict1[symbols] = [i['2. name'] ,  i['4. region'] , i['8. currency']]\n",
    "dict1  \n"
   ]
  },
  {
   "cell_type": "code",
   "execution_count": 14,
   "id": "425482ce",
   "metadata": {},
   "outputs": [],
   "source": [
    "# fetch data\n",
    "import requests\n",
    "\n",
    "url = \"https://alpha-vantage.p.rapidapi.com/query\"\n",
    "\n",
    "querystring = {\"function\":\"TIME_SERIES_DAILY\",\"symbol\":'GODREJIND.BSE',\"outputsize\":\"compact\",\"datatype\":\"json\"}\n",
    "\n",
    "headers = {\n",
    "\t\"x-rapidapi-key\": api_key,\n",
    "\t\"x-rapidapi-host\": \"alpha-vantage.p.rapidapi.com\"\n",
    "}\n",
    "\n",
    "response = requests.get(url, headers=headers, params=querystring)\n",
    "\n",
    "data1  =  response.json()"
   ]
  },
  {
   "cell_type": "code",
   "execution_count": 15,
   "id": "c44a7eab",
   "metadata": {},
   "outputs": [
    {
     "data": {
      "text/plain": [
       "{'Meta Data': {'1. Information': 'Daily Prices (open, high, low, close) and Volumes',\n",
       "  '2. Symbol': 'GODREJIND.BSE',\n",
       "  '3. Last Refreshed': '2025-07-18',\n",
       "  '4. Output Size': 'Compact',\n",
       "  '5. Time Zone': 'US/Eastern'},\n",
       " 'Time Series (Daily)': {'2025-07-18': {'1. open': '1143.0000',\n",
       "   '2. high': '1158.0000',\n",
       "   '3. low': '1130.6500',\n",
       "   '4. close': '1155.1000',\n",
       "   '5. volume': '2729'},\n",
       "  '2025-07-17': {'1. open': '1136.0500',\n",
       "   '2. high': '1160.1500',\n",
       "   '3. low': '1132.0000',\n",
       "   '4. close': '1146.3000',\n",
       "   '5. volume': '16426'},\n",
       "  '2025-07-16': {'1. open': '1125.0000',\n",
       "   '2. high': '1183.0000',\n",
       "   '3. low': '1125.0000',\n",
       "   '4. close': '1146.0500',\n",
       "   '5. volume': '58976'},\n",
       "  '2025-07-15': {'1. open': '1090.1500',\n",
       "   '2. high': '1125.5500',\n",
       "   '3. low': '1090.1500',\n",
       "   '4. close': '1121.8500',\n",
       "   '5. volume': '9773'},\n",
       "  '2025-07-14': {'1. open': '1098.5000',\n",
       "   '2. high': '1110.0000',\n",
       "   '3. low': '1082.9500',\n",
       "   '4. close': '1096.8500',\n",
       "   '5. volume': '8098'},\n",
       "  '2025-07-11': {'1. open': '1130.0500',\n",
       "   '2. high': '1130.2000',\n",
       "   '3. low': '1091.5000',\n",
       "   '4. close': '1098.3000',\n",
       "   '5. volume': '10543'},\n",
       "  '2025-07-10': {'1. open': '1150.0000',\n",
       "   '2. high': '1150.0500',\n",
       "   '3. low': '1130.0000',\n",
       "   '4. close': '1134.3500',\n",
       "   '5. volume': '5134'},\n",
       "  '2025-07-09': {'1. open': '1155.0000',\n",
       "   '2. high': '1168.2500',\n",
       "   '3. low': '1144.0000',\n",
       "   '4. close': '1146.4000',\n",
       "   '5. volume': '8208'},\n",
       "  '2025-07-08': {'1. open': '1174.9500',\n",
       "   '2. high': '1174.9500',\n",
       "   '3. low': '1148.6000',\n",
       "   '4. close': '1153.5000',\n",
       "   '5. volume': '3470'},\n",
       "  '2025-07-07': {'1. open': '1160.0000',\n",
       "   '2. high': '1175.4000',\n",
       "   '3. low': '1145.9500',\n",
       "   '4. close': '1165.5000',\n",
       "   '5. volume': '12506'},\n",
       "  '2025-07-04': {'1. open': '1165.2000',\n",
       "   '2. high': '1234.0500',\n",
       "   '3. low': '1151.6500',\n",
       "   '4. close': '1167.2000',\n",
       "   '5. volume': '54982'},\n",
       "  '2025-07-03': {'1. open': '1152.3500',\n",
       "   '2. high': '1163.9500',\n",
       "   '3. low': '1125.0000',\n",
       "   '4. close': '1159.1500',\n",
       "   '5. volume': '12688'},\n",
       "  '2025-07-02': {'1. open': '1200.0000',\n",
       "   '2. high': '1217.1000',\n",
       "   '3. low': '1148.2000',\n",
       "   '4. close': '1157.1000',\n",
       "   '5. volume': '27686'},\n",
       "  '2025-07-01': {'1. open': '1254.9500',\n",
       "   '2. high': '1257.9000',\n",
       "   '3. low': '1201.2500',\n",
       "   '4. close': '1207.6500',\n",
       "   '5. volume': '10385'},\n",
       "  '2025-06-30': {'1. open': '1249.6500',\n",
       "   '2. high': '1273.2500',\n",
       "   '3. low': '1238.9500',\n",
       "   '4. close': '1247.2000',\n",
       "   '5. volume': '6189'},\n",
       "  '2025-06-27': {'1. open': '1244.9500',\n",
       "   '2. high': '1257.8500',\n",
       "   '3. low': '1241.0000',\n",
       "   '4. close': '1248.4000',\n",
       "   '5. volume': '6093'},\n",
       "  '2025-06-26': {'1. open': '1264.9500',\n",
       "   '2. high': '1264.9500',\n",
       "   '3. low': '1238.8000',\n",
       "   '4. close': '1248.2500',\n",
       "   '5. volume': '4377'},\n",
       "  '2025-06-25': {'1. open': '1258.7500',\n",
       "   '2. high': '1267.9000',\n",
       "   '3. low': '1234.4500',\n",
       "   '4. close': '1248.3000',\n",
       "   '5. volume': '5716'},\n",
       "  '2025-06-24': {'1. open': '1292.0000',\n",
       "   '2. high': '1298.0000',\n",
       "   '3. low': '1245.4000',\n",
       "   '4. close': '1253.3000',\n",
       "   '5. volume': '16207'},\n",
       "  '2025-06-23': {'1. open': '1315.7000',\n",
       "   '2. high': '1358.1500',\n",
       "   '3. low': '1277.0000',\n",
       "   '4. close': '1282.6000',\n",
       "   '5. volume': '13318'},\n",
       "  '2025-06-20': {'1. open': '1335.0000',\n",
       "   '2. high': '1378.2000',\n",
       "   '3. low': '1324.2500',\n",
       "   '4. close': '1348.4500',\n",
       "   '5. volume': '14195'},\n",
       "  '2025-06-19': {'1. open': '1348.2000',\n",
       "   '2. high': '1380.0000',\n",
       "   '3. low': '1320.0000',\n",
       "   '4. close': '1338.5500',\n",
       "   '5. volume': '16042'},\n",
       "  '2025-06-18': {'1. open': '1313.9000',\n",
       "   '2. high': '1365.0000',\n",
       "   '3. low': '1304.3500',\n",
       "   '4. close': '1347.0000',\n",
       "   '5. volume': '18864'},\n",
       "  '2025-06-17': {'1. open': '1297.8000',\n",
       "   '2. high': '1335.7000',\n",
       "   '3. low': '1292.0000',\n",
       "   '4. close': '1319.1500',\n",
       "   '5. volume': '12936'},\n",
       "  '2025-06-16': {'1. open': '1270.1500',\n",
       "   '2. high': '1310.9500',\n",
       "   '3. low': '1242.8500',\n",
       "   '4. close': '1303.0500',\n",
       "   '5. volume': '9918'},\n",
       "  '2025-06-13': {'1. open': '1243.0500',\n",
       "   '2. high': '1285.4500',\n",
       "   '3. low': '1243.0500',\n",
       "   '4. close': '1279.1000',\n",
       "   '5. volume': '7270'},\n",
       "  '2025-06-12': {'1. open': '1281.3000',\n",
       "   '2. high': '1300.4500',\n",
       "   '3. low': '1277.0000',\n",
       "   '4. close': '1293.4000',\n",
       "   '5. volume': '11063'},\n",
       "  '2025-06-11': {'1. open': '1321.6000',\n",
       "   '2. high': '1322.5500',\n",
       "   '3. low': '1275.8500',\n",
       "   '4. close': '1281.3000',\n",
       "   '5. volume': '4842'},\n",
       "  '2025-06-10': {'1. open': '1336.3000',\n",
       "   '2. high': '1357.3000',\n",
       "   '3. low': '1312.9000',\n",
       "   '4. close': '1321.6000',\n",
       "   '5. volume': '4852'},\n",
       "  '2025-06-09': {'1. open': '1342.0500',\n",
       "   '2. high': '1386.0000',\n",
       "   '3. low': '1327.8000',\n",
       "   '4. close': '1356.2000',\n",
       "   '5. volume': '28080'},\n",
       "  '2025-06-06': {'1. open': '1200.6500',\n",
       "   '2. high': '1391.5000',\n",
       "   '3. low': '1192.5000',\n",
       "   '4. close': '1359.0000',\n",
       "   '5. volume': '177059'},\n",
       "  '2025-06-05': {'1. open': '1187.1000',\n",
       "   '2. high': '1200.0000',\n",
       "   '3. low': '1182.5000',\n",
       "   '4. close': '1186.3000',\n",
       "   '5. volume': '3881'},\n",
       "  '2025-06-04': {'1. open': '1175.0500',\n",
       "   '2. high': '1197.5000',\n",
       "   '3. low': '1175.0500',\n",
       "   '4. close': '1189.3000',\n",
       "   '5. volume': '1496'},\n",
       "  '2025-06-03': {'1. open': '1206.8500',\n",
       "   '2. high': '1218.0000',\n",
       "   '3. low': '1182.5000',\n",
       "   '4. close': '1190.3000',\n",
       "   '5. volume': '15530'},\n",
       "  '2025-06-02': {'1. open': '1161.2000',\n",
       "   '2. high': '1205.0000',\n",
       "   '3. low': '1161.2000',\n",
       "   '4. close': '1199.5500',\n",
       "   '5. volume': '5641'},\n",
       "  '2025-05-30': {'1. open': '1205.9500',\n",
       "   '2. high': '1205.9500',\n",
       "   '3. low': '1156.4500',\n",
       "   '4. close': '1185.4000',\n",
       "   '5. volume': '16902'},\n",
       "  '2025-05-29': {'1. open': '1173.0000',\n",
       "   '2. high': '1212.2500',\n",
       "   '3. low': '1173.0000',\n",
       "   '4. close': '1180.8500',\n",
       "   '5. volume': '38873'},\n",
       "  '2025-05-28': {'1. open': '1151.9000',\n",
       "   '2. high': '1182.0000',\n",
       "   '3. low': '1151.9000',\n",
       "   '4. close': '1178.1000',\n",
       "   '5. volume': '3154'},\n",
       "  '2025-05-27': {'1. open': '1175.3000',\n",
       "   '2. high': '1179.7500',\n",
       "   '3. low': '1160.7000',\n",
       "   '4. close': '1176.2000',\n",
       "   '5. volume': '1813'},\n",
       "  '2025-05-26': {'1. open': '1160.7500',\n",
       "   '2. high': '1178.3000',\n",
       "   '3. low': '1157.1500',\n",
       "   '4. close': '1165.9000',\n",
       "   '5. volume': '7797'},\n",
       "  '2025-05-23': {'1. open': '1183.8500',\n",
       "   '2. high': '1190.0000',\n",
       "   '3. low': '1165.0000',\n",
       "   '4. close': '1169.1500',\n",
       "   '5. volume': '8391'},\n",
       "  '2025-05-22': {'1. open': '1145.7000',\n",
       "   '2. high': '1180.0000',\n",
       "   '3. low': '1145.7000',\n",
       "   '4. close': '1167.3000',\n",
       "   '5. volume': '11483'},\n",
       "  '2025-05-21': {'1. open': '1169.9500',\n",
       "   '2. high': '1185.7000',\n",
       "   '3. low': '1150.1000',\n",
       "   '4. close': '1160.6000',\n",
       "   '5. volume': '14337'},\n",
       "  '2025-05-20': {'1. open': '1149.0000',\n",
       "   '2. high': '1160.0000',\n",
       "   '3. low': '1134.6000',\n",
       "   '4. close': '1157.4000',\n",
       "   '5. volume': '7138'},\n",
       "  '2025-05-19': {'1. open': '1131.0500',\n",
       "   '2. high': '1162.0000',\n",
       "   '3. low': '1125.0000',\n",
       "   '4. close': '1154.8000',\n",
       "   '5. volume': '6809'},\n",
       "  '2025-05-16': {'1. open': '1164.7500',\n",
       "   '2. high': '1164.7500',\n",
       "   '3. low': '1127.3500',\n",
       "   '4. close': '1142.7500',\n",
       "   '5. volume': '24447'},\n",
       "  '2025-05-15': {'1. open': '1169.6000',\n",
       "   '2. high': '1169.6000',\n",
       "   '3. low': '1121.5500',\n",
       "   '4. close': '1125.0000',\n",
       "   '5. volume': '6790'},\n",
       "  '2025-05-14': {'1. open': '1117.0500',\n",
       "   '2. high': '1180.4500',\n",
       "   '3. low': '1117.0500',\n",
       "   '4. close': '1169.5500',\n",
       "   '5. volume': '3634'},\n",
       "  '2025-05-13': {'1. open': '1125.0500',\n",
       "   '2. high': '1145.0000',\n",
       "   '3. low': '1112.1500',\n",
       "   '4. close': '1141.6000',\n",
       "   '5. volume': '3028'},\n",
       "  '2025-05-12': {'1. open': '1085.0500',\n",
       "   '2. high': '1130.0000',\n",
       "   '3. low': '1085.0500',\n",
       "   '4. close': '1122.5000',\n",
       "   '5. volume': '6258'},\n",
       "  '2025-05-09': {'1. open': '1065.7000',\n",
       "   '2. high': '1107.9500',\n",
       "   '3. low': '1065.7000',\n",
       "   '4. close': '1081.8000',\n",
       "   '5. volume': '4794'},\n",
       "  '2025-05-08': {'1. open': '1134.8500',\n",
       "   '2. high': '1134.8500',\n",
       "   '3. low': '1104.1000',\n",
       "   '4. close': '1110.3000',\n",
       "   '5. volume': '3099'},\n",
       "  '2025-05-07': {'1. open': '1129.9500',\n",
       "   '2. high': '1130.4500',\n",
       "   '3. low': '1084.6500',\n",
       "   '4. close': '1124.4000',\n",
       "   '5. volume': '5061'},\n",
       "  '2025-05-06': {'1. open': '1071.8500',\n",
       "   '2. high': '1115.0000',\n",
       "   '3. low': '1071.8500',\n",
       "   '4. close': '1111.9500',\n",
       "   '5. volume': '3787'},\n",
       "  '2025-05-05': {'1. open': '1067.8000',\n",
       "   '2. high': '1095.2000',\n",
       "   '3. low': '1049.9000',\n",
       "   '4. close': '1087.2000',\n",
       "   '5. volume': '10322'},\n",
       "  '2025-05-02': {'1. open': '1062.2500',\n",
       "   '2. high': '1087.1500',\n",
       "   '3. low': '1057.0500',\n",
       "   '4. close': '1067.8000',\n",
       "   '5. volume': '2191'},\n",
       "  '2025-04-30': {'1. open': '1086.6500',\n",
       "   '2. high': '1104.7500',\n",
       "   '3. low': '1074.8000',\n",
       "   '4. close': '1082.7500',\n",
       "   '5. volume': '3100'},\n",
       "  '2025-04-29': {'1. open': '1125.6500',\n",
       "   '2. high': '1140.1500',\n",
       "   '3. low': '1096.5500',\n",
       "   '4. close': '1102.5000',\n",
       "   '5. volume': '3757'},\n",
       "  '2025-04-28': {'1. open': '1106.3000',\n",
       "   '2. high': '1130.9000',\n",
       "   '3. low': '1094.0500',\n",
       "   '4. close': '1127.6000',\n",
       "   '5. volume': '2813'},\n",
       "  '2025-04-25': {'1. open': '1148.6500',\n",
       "   '2. high': '1148.6500',\n",
       "   '3. low': '1087.1500',\n",
       "   '4. close': '1098.8000',\n",
       "   '5. volume': '4319'},\n",
       "  '2025-04-24': {'1. open': '1168.5000',\n",
       "   '2. high': '1177.4500',\n",
       "   '3. low': '1130.0000',\n",
       "   '4. close': '1138.4500',\n",
       "   '5. volume': '5414'},\n",
       "  '2025-04-23': {'1. open': '1176.3500',\n",
       "   '2. high': '1180.8500',\n",
       "   '3. low': '1151.0500',\n",
       "   '4. close': '1166.1000',\n",
       "   '5. volume': '5459'},\n",
       "  '2025-04-22': {'1. open': '1144.9500',\n",
       "   '2. high': '1189.9000',\n",
       "   '3. low': '1122.6500',\n",
       "   '4. close': '1168.2500',\n",
       "   '5. volume': '13674'},\n",
       "  '2025-04-21': {'1. open': '1129.7000',\n",
       "   '2. high': '1138.8500',\n",
       "   '3. low': '1125.0000',\n",
       "   '4. close': '1131.3000',\n",
       "   '5. volume': '2043'},\n",
       "  '2025-04-17': {'1. open': '1158.7500',\n",
       "   '2. high': '1158.7500',\n",
       "   '3. low': '1112.1000',\n",
       "   '4. close': '1128.9500',\n",
       "   '5. volume': '3797'},\n",
       "  '2025-04-16': {'1. open': '1145.0000',\n",
       "   '2. high': '1150.6500',\n",
       "   '3. low': '1119.1000',\n",
       "   '4. close': '1133.8500',\n",
       "   '5. volume': '3717'},\n",
       "  '2025-04-15': {'1. open': '1154.9500',\n",
       "   '2. high': '1169.7500',\n",
       "   '3. low': '1128.0000',\n",
       "   '4. close': '1135.4000',\n",
       "   '5. volume': '4523'},\n",
       "  '2025-04-11': {'1. open': '1130.6000',\n",
       "   '2. high': '1148.4000',\n",
       "   '3. low': '1100.0000',\n",
       "   '4. close': '1135.8000',\n",
       "   '5. volume': '9055'},\n",
       "  '2025-04-09': {'1. open': '1070.1500',\n",
       "   '2. high': '1120.0000',\n",
       "   '3. low': '1070.1500',\n",
       "   '4. close': '1109.9000',\n",
       "   '5. volume': '8057'},\n",
       "  '2025-04-08': {'1. open': '1060.2000',\n",
       "   '2. high': '1096.9500',\n",
       "   '3. low': '1051.0000',\n",
       "   '4. close': '1087.8000',\n",
       "   '5. volume': '3636'},\n",
       "  '2025-04-07': {'1. open': '978.0000',\n",
       "   '2. high': '1072.0000',\n",
       "   '3. low': '978.0000',\n",
       "   '4. close': '1042.9500',\n",
       "   '5. volume': '9841'},\n",
       "  '2025-04-04': {'1. open': '1123.8500',\n",
       "   '2. high': '1123.8500',\n",
       "   '3. low': '1067.0000',\n",
       "   '4. close': '1086.6500',\n",
       "   '5. volume': '10526'},\n",
       "  '2025-04-03': {'1. open': '1120.0500',\n",
       "   '2. high': '1132.8000',\n",
       "   '3. low': '1100.5500',\n",
       "   '4. close': '1107.6500',\n",
       "   '5. volume': '4997'},\n",
       "  '2025-04-02': {'1. open': '1080.0500',\n",
       "   '2. high': '1165.4500',\n",
       "   '3. low': '1080.0500',\n",
       "   '4. close': '1141.6500',\n",
       "   '5. volume': '77909'},\n",
       "  '2025-04-01': {'1. open': '1125.0000',\n",
       "   '2. high': '1125.0000',\n",
       "   '3. low': '1069.1000',\n",
       "   '4. close': '1091.4000',\n",
       "   '5. volume': '9224'},\n",
       "  '2025-03-28': {'1. open': '1174.3000',\n",
       "   '2. high': '1174.7500',\n",
       "   '3. low': '1129.8500',\n",
       "   '4. close': '1134.2500',\n",
       "   '5. volume': '7204'},\n",
       "  '2025-03-27': {'1. open': '1146.0500',\n",
       "   '2. high': '1170.7000',\n",
       "   '3. low': '1141.4500',\n",
       "   '4. close': '1161.0500',\n",
       "   '5. volume': '5550'},\n",
       "  '2025-03-26': {'1. open': '1183.1000',\n",
       "   '2. high': '1198.9000',\n",
       "   '3. low': '1137.1500',\n",
       "   '4. close': '1145.2500',\n",
       "   '5. volume': '132355'},\n",
       "  '2025-03-25': {'1. open': '1221.0500',\n",
       "   '2. high': '1248.1000',\n",
       "   '3. low': '1168.4500',\n",
       "   '4. close': '1181.2500',\n",
       "   '5. volume': '9907'},\n",
       "  '2025-03-24': {'1. open': '1183.1500',\n",
       "   '2. high': '1264.9500',\n",
       "   '3. low': '1183.1500',\n",
       "   '4. close': '1236.4000',\n",
       "   '5. volume': '11997'},\n",
       "  '2025-03-21': {'1. open': '1194.0000',\n",
       "   '2. high': '1224.9500',\n",
       "   '3. low': '1187.9000',\n",
       "   '4. close': '1208.5500',\n",
       "   '5. volume': '11660'},\n",
       "  '2025-03-20': {'1. open': '1180.0000',\n",
       "   '2. high': '1219.0000',\n",
       "   '3. low': '1158.8000',\n",
       "   '4. close': '1192.4500',\n",
       "   '5. volume': '12973'},\n",
       "  '2025-03-19': {'1. open': '1146.9000',\n",
       "   '2. high': '1180.7000',\n",
       "   '3. low': '1124.2500',\n",
       "   '4. close': '1167.5000',\n",
       "   '5. volume': '4462'},\n",
       "  '2025-03-18': {'1. open': '1122.4500',\n",
       "   '2. high': '1158.6500',\n",
       "   '3. low': '1122.4500',\n",
       "   '4. close': '1130.9500',\n",
       "   '5. volume': '4694'},\n",
       "  '2025-03-17': {'1. open': '1149.5000',\n",
       "   '2. high': '1174.6000',\n",
       "   '3. low': '1115.2500',\n",
       "   '4. close': '1134.3000',\n",
       "   '5. volume': '18002'},\n",
       "  '2025-03-13': {'1. open': '1121.0000',\n",
       "   '2. high': '1150.0500',\n",
       "   '3. low': '1103.5500',\n",
       "   '4. close': '1149.5000',\n",
       "   '5. volume': '839646'},\n",
       "  '2025-03-12': {'1. open': '1127.3500',\n",
       "   '2. high': '1152.3500',\n",
       "   '3. low': '1108.2500',\n",
       "   '4. close': '1128.4500',\n",
       "   '5. volume': '1715555'},\n",
       "  '2025-03-11': {'1. open': '1120.0500',\n",
       "   '2. high': '1161.6500',\n",
       "   '3. low': '1090.5000',\n",
       "   '4. close': '1121.7500',\n",
       "   '5. volume': '136813'},\n",
       "  '2025-03-10': {'1. open': '1050.1000',\n",
       "   '2. high': '1174.3500',\n",
       "   '3. low': '1050.1000',\n",
       "   '4. close': '1152.9000',\n",
       "   '5. volume': '34686'},\n",
       "  '2025-03-07': {'1. open': '1099.4000',\n",
       "   '2. high': '1128.0000',\n",
       "   '3. low': '1098.0000',\n",
       "   '4. close': '1114.3000',\n",
       "   '5. volume': '7593'},\n",
       "  '2025-03-06': {'1. open': '1109.0500',\n",
       "   '2. high': '1115.0000',\n",
       "   '3. low': '1098.0000',\n",
       "   '4. close': '1099.2500',\n",
       "   '5. volume': '4347'},\n",
       "  '2025-03-05': {'1. open': '1055.6500',\n",
       "   '2. high': '1116.0000',\n",
       "   '3. low': '1038.1000',\n",
       "   '4. close': '1109.0500',\n",
       "   '5. volume': '7019'},\n",
       "  '2025-03-04': {'1. open': '1090.0000',\n",
       "   '2. high': '1108.4000',\n",
       "   '3. low': '1085.0000',\n",
       "   '4. close': '1100.4500',\n",
       "   '5. volume': '4958'},\n",
       "  '2025-03-03': {'1. open': '1098.0000',\n",
       "   '2. high': '1115.6500',\n",
       "   '3. low': '1090.0000',\n",
       "   '4. close': '1104.2500',\n",
       "   '5. volume': '11559'},\n",
       "  '2025-02-28': {'1. open': '1079.0500',\n",
       "   '2. high': '1113.3000',\n",
       "   '3. low': '1059.3500',\n",
       "   '4. close': '1096.7500',\n",
       "   '5. volume': '23646'},\n",
       "  '2025-02-27': {'1. open': '1100.1500',\n",
       "   '2. high': '1115.2000',\n",
       "   '3. low': '1089.0000',\n",
       "   '4. close': '1101.0500',\n",
       "   '5. volume': '18249'},\n",
       "  '2025-02-25': {'1. open': '1099.9500',\n",
       "   '2. high': '1125.0000',\n",
       "   '3. low': '1085.9500',\n",
       "   '4. close': '1111.6000',\n",
       "   '5. volume': '39484'},\n",
       "  '2025-02-24': {'1. open': '1104.7000',\n",
       "   '2. high': '1130.2500',\n",
       "   '3. low': '1074.5000',\n",
       "   '4. close': '1102.9500',\n",
       "   '5. volume': '83164'},\n",
       "  '2025-02-21': {'1. open': '981.9500',\n",
       "   '2. high': '1193.0500',\n",
       "   '3. low': '978.1500',\n",
       "   '4. close': '1133.4000',\n",
       "   '5. volume': '467860'},\n",
       "  '2025-02-20': {'1. open': '864.9500',\n",
       "   '2. high': '1031.7500',\n",
       "   '3. low': '859.6000',\n",
       "   '4. close': '1001.5000',\n",
       "   '5. volume': '141330'}}}"
      ]
     },
     "execution_count": 15,
     "metadata": {},
     "output_type": "execute_result"
    }
   ],
   "source": [
    "data1"
   ]
  },
  {
   "cell_type": "code",
   "execution_count": 16,
   "id": "09e8ef10",
   "metadata": {},
   "outputs": [
    {
     "data": {
      "text/plain": [
       "dict"
      ]
     },
     "execution_count": 16,
     "metadata": {},
     "output_type": "execute_result"
    }
   ],
   "source": [
    "type(data1)"
   ]
  },
  {
   "cell_type": "code",
   "execution_count": 17,
   "id": "7c46acfc",
   "metadata": {},
   "outputs": [
    {
     "data": {
      "text/plain": [
       "dict_keys(['Meta Data', 'Time Series (Daily)'])"
      ]
     },
     "execution_count": 17,
     "metadata": {},
     "output_type": "execute_result"
    }
   ],
   "source": [
    "data1.keys()"
   ]
  },
  {
   "cell_type": "code",
   "execution_count": 18,
   "id": "5cbb21e1",
   "metadata": {},
   "outputs": [
    {
     "data": {
      "text/plain": [
       "{'2025-07-18': {'1. open': '1143.0000',\n",
       "  '2. high': '1158.0000',\n",
       "  '3. low': '1130.6500',\n",
       "  '4. close': '1155.1000',\n",
       "  '5. volume': '2729'},\n",
       " '2025-07-17': {'1. open': '1136.0500',\n",
       "  '2. high': '1160.1500',\n",
       "  '3. low': '1132.0000',\n",
       "  '4. close': '1146.3000',\n",
       "  '5. volume': '16426'},\n",
       " '2025-07-16': {'1. open': '1125.0000',\n",
       "  '2. high': '1183.0000',\n",
       "  '3. low': '1125.0000',\n",
       "  '4. close': '1146.0500',\n",
       "  '5. volume': '58976'},\n",
       " '2025-07-15': {'1. open': '1090.1500',\n",
       "  '2. high': '1125.5500',\n",
       "  '3. low': '1090.1500',\n",
       "  '4. close': '1121.8500',\n",
       "  '5. volume': '9773'},\n",
       " '2025-07-14': {'1. open': '1098.5000',\n",
       "  '2. high': '1110.0000',\n",
       "  '3. low': '1082.9500',\n",
       "  '4. close': '1096.8500',\n",
       "  '5. volume': '8098'},\n",
       " '2025-07-11': {'1. open': '1130.0500',\n",
       "  '2. high': '1130.2000',\n",
       "  '3. low': '1091.5000',\n",
       "  '4. close': '1098.3000',\n",
       "  '5. volume': '10543'},\n",
       " '2025-07-10': {'1. open': '1150.0000',\n",
       "  '2. high': '1150.0500',\n",
       "  '3. low': '1130.0000',\n",
       "  '4. close': '1134.3500',\n",
       "  '5. volume': '5134'},\n",
       " '2025-07-09': {'1. open': '1155.0000',\n",
       "  '2. high': '1168.2500',\n",
       "  '3. low': '1144.0000',\n",
       "  '4. close': '1146.4000',\n",
       "  '5. volume': '8208'},\n",
       " '2025-07-08': {'1. open': '1174.9500',\n",
       "  '2. high': '1174.9500',\n",
       "  '3. low': '1148.6000',\n",
       "  '4. close': '1153.5000',\n",
       "  '5. volume': '3470'},\n",
       " '2025-07-07': {'1. open': '1160.0000',\n",
       "  '2. high': '1175.4000',\n",
       "  '3. low': '1145.9500',\n",
       "  '4. close': '1165.5000',\n",
       "  '5. volume': '12506'},\n",
       " '2025-07-04': {'1. open': '1165.2000',\n",
       "  '2. high': '1234.0500',\n",
       "  '3. low': '1151.6500',\n",
       "  '4. close': '1167.2000',\n",
       "  '5. volume': '54982'},\n",
       " '2025-07-03': {'1. open': '1152.3500',\n",
       "  '2. high': '1163.9500',\n",
       "  '3. low': '1125.0000',\n",
       "  '4. close': '1159.1500',\n",
       "  '5. volume': '12688'},\n",
       " '2025-07-02': {'1. open': '1200.0000',\n",
       "  '2. high': '1217.1000',\n",
       "  '3. low': '1148.2000',\n",
       "  '4. close': '1157.1000',\n",
       "  '5. volume': '27686'},\n",
       " '2025-07-01': {'1. open': '1254.9500',\n",
       "  '2. high': '1257.9000',\n",
       "  '3. low': '1201.2500',\n",
       "  '4. close': '1207.6500',\n",
       "  '5. volume': '10385'},\n",
       " '2025-06-30': {'1. open': '1249.6500',\n",
       "  '2. high': '1273.2500',\n",
       "  '3. low': '1238.9500',\n",
       "  '4. close': '1247.2000',\n",
       "  '5. volume': '6189'},\n",
       " '2025-06-27': {'1. open': '1244.9500',\n",
       "  '2. high': '1257.8500',\n",
       "  '3. low': '1241.0000',\n",
       "  '4. close': '1248.4000',\n",
       "  '5. volume': '6093'},\n",
       " '2025-06-26': {'1. open': '1264.9500',\n",
       "  '2. high': '1264.9500',\n",
       "  '3. low': '1238.8000',\n",
       "  '4. close': '1248.2500',\n",
       "  '5. volume': '4377'},\n",
       " '2025-06-25': {'1. open': '1258.7500',\n",
       "  '2. high': '1267.9000',\n",
       "  '3. low': '1234.4500',\n",
       "  '4. close': '1248.3000',\n",
       "  '5. volume': '5716'},\n",
       " '2025-06-24': {'1. open': '1292.0000',\n",
       "  '2. high': '1298.0000',\n",
       "  '3. low': '1245.4000',\n",
       "  '4. close': '1253.3000',\n",
       "  '5. volume': '16207'},\n",
       " '2025-06-23': {'1. open': '1315.7000',\n",
       "  '2. high': '1358.1500',\n",
       "  '3. low': '1277.0000',\n",
       "  '4. close': '1282.6000',\n",
       "  '5. volume': '13318'},\n",
       " '2025-06-20': {'1. open': '1335.0000',\n",
       "  '2. high': '1378.2000',\n",
       "  '3. low': '1324.2500',\n",
       "  '4. close': '1348.4500',\n",
       "  '5. volume': '14195'},\n",
       " '2025-06-19': {'1. open': '1348.2000',\n",
       "  '2. high': '1380.0000',\n",
       "  '3. low': '1320.0000',\n",
       "  '4. close': '1338.5500',\n",
       "  '5. volume': '16042'},\n",
       " '2025-06-18': {'1. open': '1313.9000',\n",
       "  '2. high': '1365.0000',\n",
       "  '3. low': '1304.3500',\n",
       "  '4. close': '1347.0000',\n",
       "  '5. volume': '18864'},\n",
       " '2025-06-17': {'1. open': '1297.8000',\n",
       "  '2. high': '1335.7000',\n",
       "  '3. low': '1292.0000',\n",
       "  '4. close': '1319.1500',\n",
       "  '5. volume': '12936'},\n",
       " '2025-06-16': {'1. open': '1270.1500',\n",
       "  '2. high': '1310.9500',\n",
       "  '3. low': '1242.8500',\n",
       "  '4. close': '1303.0500',\n",
       "  '5. volume': '9918'},\n",
       " '2025-06-13': {'1. open': '1243.0500',\n",
       "  '2. high': '1285.4500',\n",
       "  '3. low': '1243.0500',\n",
       "  '4. close': '1279.1000',\n",
       "  '5. volume': '7270'},\n",
       " '2025-06-12': {'1. open': '1281.3000',\n",
       "  '2. high': '1300.4500',\n",
       "  '3. low': '1277.0000',\n",
       "  '4. close': '1293.4000',\n",
       "  '5. volume': '11063'},\n",
       " '2025-06-11': {'1. open': '1321.6000',\n",
       "  '2. high': '1322.5500',\n",
       "  '3. low': '1275.8500',\n",
       "  '4. close': '1281.3000',\n",
       "  '5. volume': '4842'},\n",
       " '2025-06-10': {'1. open': '1336.3000',\n",
       "  '2. high': '1357.3000',\n",
       "  '3. low': '1312.9000',\n",
       "  '4. close': '1321.6000',\n",
       "  '5. volume': '4852'},\n",
       " '2025-06-09': {'1. open': '1342.0500',\n",
       "  '2. high': '1386.0000',\n",
       "  '3. low': '1327.8000',\n",
       "  '4. close': '1356.2000',\n",
       "  '5. volume': '28080'},\n",
       " '2025-06-06': {'1. open': '1200.6500',\n",
       "  '2. high': '1391.5000',\n",
       "  '3. low': '1192.5000',\n",
       "  '4. close': '1359.0000',\n",
       "  '5. volume': '177059'},\n",
       " '2025-06-05': {'1. open': '1187.1000',\n",
       "  '2. high': '1200.0000',\n",
       "  '3. low': '1182.5000',\n",
       "  '4. close': '1186.3000',\n",
       "  '5. volume': '3881'},\n",
       " '2025-06-04': {'1. open': '1175.0500',\n",
       "  '2. high': '1197.5000',\n",
       "  '3. low': '1175.0500',\n",
       "  '4. close': '1189.3000',\n",
       "  '5. volume': '1496'},\n",
       " '2025-06-03': {'1. open': '1206.8500',\n",
       "  '2. high': '1218.0000',\n",
       "  '3. low': '1182.5000',\n",
       "  '4. close': '1190.3000',\n",
       "  '5. volume': '15530'},\n",
       " '2025-06-02': {'1. open': '1161.2000',\n",
       "  '2. high': '1205.0000',\n",
       "  '3. low': '1161.2000',\n",
       "  '4. close': '1199.5500',\n",
       "  '5. volume': '5641'},\n",
       " '2025-05-30': {'1. open': '1205.9500',\n",
       "  '2. high': '1205.9500',\n",
       "  '3. low': '1156.4500',\n",
       "  '4. close': '1185.4000',\n",
       "  '5. volume': '16902'},\n",
       " '2025-05-29': {'1. open': '1173.0000',\n",
       "  '2. high': '1212.2500',\n",
       "  '3. low': '1173.0000',\n",
       "  '4. close': '1180.8500',\n",
       "  '5. volume': '38873'},\n",
       " '2025-05-28': {'1. open': '1151.9000',\n",
       "  '2. high': '1182.0000',\n",
       "  '3. low': '1151.9000',\n",
       "  '4. close': '1178.1000',\n",
       "  '5. volume': '3154'},\n",
       " '2025-05-27': {'1. open': '1175.3000',\n",
       "  '2. high': '1179.7500',\n",
       "  '3. low': '1160.7000',\n",
       "  '4. close': '1176.2000',\n",
       "  '5. volume': '1813'},\n",
       " '2025-05-26': {'1. open': '1160.7500',\n",
       "  '2. high': '1178.3000',\n",
       "  '3. low': '1157.1500',\n",
       "  '4. close': '1165.9000',\n",
       "  '5. volume': '7797'},\n",
       " '2025-05-23': {'1. open': '1183.8500',\n",
       "  '2. high': '1190.0000',\n",
       "  '3. low': '1165.0000',\n",
       "  '4. close': '1169.1500',\n",
       "  '5. volume': '8391'},\n",
       " '2025-05-22': {'1. open': '1145.7000',\n",
       "  '2. high': '1180.0000',\n",
       "  '3. low': '1145.7000',\n",
       "  '4. close': '1167.3000',\n",
       "  '5. volume': '11483'},\n",
       " '2025-05-21': {'1. open': '1169.9500',\n",
       "  '2. high': '1185.7000',\n",
       "  '3. low': '1150.1000',\n",
       "  '4. close': '1160.6000',\n",
       "  '5. volume': '14337'},\n",
       " '2025-05-20': {'1. open': '1149.0000',\n",
       "  '2. high': '1160.0000',\n",
       "  '3. low': '1134.6000',\n",
       "  '4. close': '1157.4000',\n",
       "  '5. volume': '7138'},\n",
       " '2025-05-19': {'1. open': '1131.0500',\n",
       "  '2. high': '1162.0000',\n",
       "  '3. low': '1125.0000',\n",
       "  '4. close': '1154.8000',\n",
       "  '5. volume': '6809'},\n",
       " '2025-05-16': {'1. open': '1164.7500',\n",
       "  '2. high': '1164.7500',\n",
       "  '3. low': '1127.3500',\n",
       "  '4. close': '1142.7500',\n",
       "  '5. volume': '24447'},\n",
       " '2025-05-15': {'1. open': '1169.6000',\n",
       "  '2. high': '1169.6000',\n",
       "  '3. low': '1121.5500',\n",
       "  '4. close': '1125.0000',\n",
       "  '5. volume': '6790'},\n",
       " '2025-05-14': {'1. open': '1117.0500',\n",
       "  '2. high': '1180.4500',\n",
       "  '3. low': '1117.0500',\n",
       "  '4. close': '1169.5500',\n",
       "  '5. volume': '3634'},\n",
       " '2025-05-13': {'1. open': '1125.0500',\n",
       "  '2. high': '1145.0000',\n",
       "  '3. low': '1112.1500',\n",
       "  '4. close': '1141.6000',\n",
       "  '5. volume': '3028'},\n",
       " '2025-05-12': {'1. open': '1085.0500',\n",
       "  '2. high': '1130.0000',\n",
       "  '3. low': '1085.0500',\n",
       "  '4. close': '1122.5000',\n",
       "  '5. volume': '6258'},\n",
       " '2025-05-09': {'1. open': '1065.7000',\n",
       "  '2. high': '1107.9500',\n",
       "  '3. low': '1065.7000',\n",
       "  '4. close': '1081.8000',\n",
       "  '5. volume': '4794'},\n",
       " '2025-05-08': {'1. open': '1134.8500',\n",
       "  '2. high': '1134.8500',\n",
       "  '3. low': '1104.1000',\n",
       "  '4. close': '1110.3000',\n",
       "  '5. volume': '3099'},\n",
       " '2025-05-07': {'1. open': '1129.9500',\n",
       "  '2. high': '1130.4500',\n",
       "  '3. low': '1084.6500',\n",
       "  '4. close': '1124.4000',\n",
       "  '5. volume': '5061'},\n",
       " '2025-05-06': {'1. open': '1071.8500',\n",
       "  '2. high': '1115.0000',\n",
       "  '3. low': '1071.8500',\n",
       "  '4. close': '1111.9500',\n",
       "  '5. volume': '3787'},\n",
       " '2025-05-05': {'1. open': '1067.8000',\n",
       "  '2. high': '1095.2000',\n",
       "  '3. low': '1049.9000',\n",
       "  '4. close': '1087.2000',\n",
       "  '5. volume': '10322'},\n",
       " '2025-05-02': {'1. open': '1062.2500',\n",
       "  '2. high': '1087.1500',\n",
       "  '3. low': '1057.0500',\n",
       "  '4. close': '1067.8000',\n",
       "  '5. volume': '2191'},\n",
       " '2025-04-30': {'1. open': '1086.6500',\n",
       "  '2. high': '1104.7500',\n",
       "  '3. low': '1074.8000',\n",
       "  '4. close': '1082.7500',\n",
       "  '5. volume': '3100'},\n",
       " '2025-04-29': {'1. open': '1125.6500',\n",
       "  '2. high': '1140.1500',\n",
       "  '3. low': '1096.5500',\n",
       "  '4. close': '1102.5000',\n",
       "  '5. volume': '3757'},\n",
       " '2025-04-28': {'1. open': '1106.3000',\n",
       "  '2. high': '1130.9000',\n",
       "  '3. low': '1094.0500',\n",
       "  '4. close': '1127.6000',\n",
       "  '5. volume': '2813'},\n",
       " '2025-04-25': {'1. open': '1148.6500',\n",
       "  '2. high': '1148.6500',\n",
       "  '3. low': '1087.1500',\n",
       "  '4. close': '1098.8000',\n",
       "  '5. volume': '4319'},\n",
       " '2025-04-24': {'1. open': '1168.5000',\n",
       "  '2. high': '1177.4500',\n",
       "  '3. low': '1130.0000',\n",
       "  '4. close': '1138.4500',\n",
       "  '5. volume': '5414'},\n",
       " '2025-04-23': {'1. open': '1176.3500',\n",
       "  '2. high': '1180.8500',\n",
       "  '3. low': '1151.0500',\n",
       "  '4. close': '1166.1000',\n",
       "  '5. volume': '5459'},\n",
       " '2025-04-22': {'1. open': '1144.9500',\n",
       "  '2. high': '1189.9000',\n",
       "  '3. low': '1122.6500',\n",
       "  '4. close': '1168.2500',\n",
       "  '5. volume': '13674'},\n",
       " '2025-04-21': {'1. open': '1129.7000',\n",
       "  '2. high': '1138.8500',\n",
       "  '3. low': '1125.0000',\n",
       "  '4. close': '1131.3000',\n",
       "  '5. volume': '2043'},\n",
       " '2025-04-17': {'1. open': '1158.7500',\n",
       "  '2. high': '1158.7500',\n",
       "  '3. low': '1112.1000',\n",
       "  '4. close': '1128.9500',\n",
       "  '5. volume': '3797'},\n",
       " '2025-04-16': {'1. open': '1145.0000',\n",
       "  '2. high': '1150.6500',\n",
       "  '3. low': '1119.1000',\n",
       "  '4. close': '1133.8500',\n",
       "  '5. volume': '3717'},\n",
       " '2025-04-15': {'1. open': '1154.9500',\n",
       "  '2. high': '1169.7500',\n",
       "  '3. low': '1128.0000',\n",
       "  '4. close': '1135.4000',\n",
       "  '5. volume': '4523'},\n",
       " '2025-04-11': {'1. open': '1130.6000',\n",
       "  '2. high': '1148.4000',\n",
       "  '3. low': '1100.0000',\n",
       "  '4. close': '1135.8000',\n",
       "  '5. volume': '9055'},\n",
       " '2025-04-09': {'1. open': '1070.1500',\n",
       "  '2. high': '1120.0000',\n",
       "  '3. low': '1070.1500',\n",
       "  '4. close': '1109.9000',\n",
       "  '5. volume': '8057'},\n",
       " '2025-04-08': {'1. open': '1060.2000',\n",
       "  '2. high': '1096.9500',\n",
       "  '3. low': '1051.0000',\n",
       "  '4. close': '1087.8000',\n",
       "  '5. volume': '3636'},\n",
       " '2025-04-07': {'1. open': '978.0000',\n",
       "  '2. high': '1072.0000',\n",
       "  '3. low': '978.0000',\n",
       "  '4. close': '1042.9500',\n",
       "  '5. volume': '9841'},\n",
       " '2025-04-04': {'1. open': '1123.8500',\n",
       "  '2. high': '1123.8500',\n",
       "  '3. low': '1067.0000',\n",
       "  '4. close': '1086.6500',\n",
       "  '5. volume': '10526'},\n",
       " '2025-04-03': {'1. open': '1120.0500',\n",
       "  '2. high': '1132.8000',\n",
       "  '3. low': '1100.5500',\n",
       "  '4. close': '1107.6500',\n",
       "  '5. volume': '4997'},\n",
       " '2025-04-02': {'1. open': '1080.0500',\n",
       "  '2. high': '1165.4500',\n",
       "  '3. low': '1080.0500',\n",
       "  '4. close': '1141.6500',\n",
       "  '5. volume': '77909'},\n",
       " '2025-04-01': {'1. open': '1125.0000',\n",
       "  '2. high': '1125.0000',\n",
       "  '3. low': '1069.1000',\n",
       "  '4. close': '1091.4000',\n",
       "  '5. volume': '9224'},\n",
       " '2025-03-28': {'1. open': '1174.3000',\n",
       "  '2. high': '1174.7500',\n",
       "  '3. low': '1129.8500',\n",
       "  '4. close': '1134.2500',\n",
       "  '5. volume': '7204'},\n",
       " '2025-03-27': {'1. open': '1146.0500',\n",
       "  '2. high': '1170.7000',\n",
       "  '3. low': '1141.4500',\n",
       "  '4. close': '1161.0500',\n",
       "  '5. volume': '5550'},\n",
       " '2025-03-26': {'1. open': '1183.1000',\n",
       "  '2. high': '1198.9000',\n",
       "  '3. low': '1137.1500',\n",
       "  '4. close': '1145.2500',\n",
       "  '5. volume': '132355'},\n",
       " '2025-03-25': {'1. open': '1221.0500',\n",
       "  '2. high': '1248.1000',\n",
       "  '3. low': '1168.4500',\n",
       "  '4. close': '1181.2500',\n",
       "  '5. volume': '9907'},\n",
       " '2025-03-24': {'1. open': '1183.1500',\n",
       "  '2. high': '1264.9500',\n",
       "  '3. low': '1183.1500',\n",
       "  '4. close': '1236.4000',\n",
       "  '5. volume': '11997'},\n",
       " '2025-03-21': {'1. open': '1194.0000',\n",
       "  '2. high': '1224.9500',\n",
       "  '3. low': '1187.9000',\n",
       "  '4. close': '1208.5500',\n",
       "  '5. volume': '11660'},\n",
       " '2025-03-20': {'1. open': '1180.0000',\n",
       "  '2. high': '1219.0000',\n",
       "  '3. low': '1158.8000',\n",
       "  '4. close': '1192.4500',\n",
       "  '5. volume': '12973'},\n",
       " '2025-03-19': {'1. open': '1146.9000',\n",
       "  '2. high': '1180.7000',\n",
       "  '3. low': '1124.2500',\n",
       "  '4. close': '1167.5000',\n",
       "  '5. volume': '4462'},\n",
       " '2025-03-18': {'1. open': '1122.4500',\n",
       "  '2. high': '1158.6500',\n",
       "  '3. low': '1122.4500',\n",
       "  '4. close': '1130.9500',\n",
       "  '5. volume': '4694'},\n",
       " '2025-03-17': {'1. open': '1149.5000',\n",
       "  '2. high': '1174.6000',\n",
       "  '3. low': '1115.2500',\n",
       "  '4. close': '1134.3000',\n",
       "  '5. volume': '18002'},\n",
       " '2025-03-13': {'1. open': '1121.0000',\n",
       "  '2. high': '1150.0500',\n",
       "  '3. low': '1103.5500',\n",
       "  '4. close': '1149.5000',\n",
       "  '5. volume': '839646'},\n",
       " '2025-03-12': {'1. open': '1127.3500',\n",
       "  '2. high': '1152.3500',\n",
       "  '3. low': '1108.2500',\n",
       "  '4. close': '1128.4500',\n",
       "  '5. volume': '1715555'},\n",
       " '2025-03-11': {'1. open': '1120.0500',\n",
       "  '2. high': '1161.6500',\n",
       "  '3. low': '1090.5000',\n",
       "  '4. close': '1121.7500',\n",
       "  '5. volume': '136813'},\n",
       " '2025-03-10': {'1. open': '1050.1000',\n",
       "  '2. high': '1174.3500',\n",
       "  '3. low': '1050.1000',\n",
       "  '4. close': '1152.9000',\n",
       "  '5. volume': '34686'},\n",
       " '2025-03-07': {'1. open': '1099.4000',\n",
       "  '2. high': '1128.0000',\n",
       "  '3. low': '1098.0000',\n",
       "  '4. close': '1114.3000',\n",
       "  '5. volume': '7593'},\n",
       " '2025-03-06': {'1. open': '1109.0500',\n",
       "  '2. high': '1115.0000',\n",
       "  '3. low': '1098.0000',\n",
       "  '4. close': '1099.2500',\n",
       "  '5. volume': '4347'},\n",
       " '2025-03-05': {'1. open': '1055.6500',\n",
       "  '2. high': '1116.0000',\n",
       "  '3. low': '1038.1000',\n",
       "  '4. close': '1109.0500',\n",
       "  '5. volume': '7019'},\n",
       " '2025-03-04': {'1. open': '1090.0000',\n",
       "  '2. high': '1108.4000',\n",
       "  '3. low': '1085.0000',\n",
       "  '4. close': '1100.4500',\n",
       "  '5. volume': '4958'},\n",
       " '2025-03-03': {'1. open': '1098.0000',\n",
       "  '2. high': '1115.6500',\n",
       "  '3. low': '1090.0000',\n",
       "  '4. close': '1104.2500',\n",
       "  '5. volume': '11559'},\n",
       " '2025-02-28': {'1. open': '1079.0500',\n",
       "  '2. high': '1113.3000',\n",
       "  '3. low': '1059.3500',\n",
       "  '4. close': '1096.7500',\n",
       "  '5. volume': '23646'},\n",
       " '2025-02-27': {'1. open': '1100.1500',\n",
       "  '2. high': '1115.2000',\n",
       "  '3. low': '1089.0000',\n",
       "  '4. close': '1101.0500',\n",
       "  '5. volume': '18249'},\n",
       " '2025-02-25': {'1. open': '1099.9500',\n",
       "  '2. high': '1125.0000',\n",
       "  '3. low': '1085.9500',\n",
       "  '4. close': '1111.6000',\n",
       "  '5. volume': '39484'},\n",
       " '2025-02-24': {'1. open': '1104.7000',\n",
       "  '2. high': '1130.2500',\n",
       "  '3. low': '1074.5000',\n",
       "  '4. close': '1102.9500',\n",
       "  '5. volume': '83164'},\n",
       " '2025-02-21': {'1. open': '981.9500',\n",
       "  '2. high': '1193.0500',\n",
       "  '3. low': '978.1500',\n",
       "  '4. close': '1133.4000',\n",
       "  '5. volume': '467860'},\n",
       " '2025-02-20': {'1. open': '864.9500',\n",
       "  '2. high': '1031.7500',\n",
       "  '3. low': '859.6000',\n",
       "  '4. close': '1001.5000',\n",
       "  '5. volume': '141330'}}"
      ]
     },
     "execution_count": 18,
     "metadata": {},
     "output_type": "execute_result"
    }
   ],
   "source": [
    "data1['Time Series (Daily)']"
   ]
  },
  {
   "cell_type": "code",
   "execution_count": 19,
   "id": "2c771faf",
   "metadata": {},
   "outputs": [
    {
     "name": "stdout",
     "output_type": "stream",
     "text": [
      "Requirement already satisfied: lxml in d:\\adv_python_3_july_weekday_830\\repository\\venv\\lib\\site-packages (6.0.0)\n",
      "Note: you may need to restart the kernel to use updated packages.\n"
     ]
    }
   ],
   "source": [
    "%pip install lxml"
   ]
  },
  {
   "cell_type": "code",
   "execution_count": 20,
   "id": "bdaa807f",
   "metadata": {},
   "outputs": [],
   "source": [
    "import pandas as pd"
   ]
  },
  {
   "cell_type": "code",
   "execution_count": 21,
   "id": "29c9973d",
   "metadata": {},
   "outputs": [],
   "source": [
    "df  =   pd.DataFrame(data1['Time Series (Daily)']).T"
   ]
  },
  {
   "cell_type": "code",
   "execution_count": 22,
   "id": "e2994799",
   "metadata": {},
   "outputs": [
    {
     "data": {
      "text/html": [
       "<div>\n",
       "<style scoped>\n",
       "    .dataframe tbody tr th:only-of-type {\n",
       "        vertical-align: middle;\n",
       "    }\n",
       "\n",
       "    .dataframe tbody tr th {\n",
       "        vertical-align: top;\n",
       "    }\n",
       "\n",
       "    .dataframe thead th {\n",
       "        text-align: right;\n",
       "    }\n",
       "</style>\n",
       "<table border=\"1\" class=\"dataframe\">\n",
       "  <thead>\n",
       "    <tr style=\"text-align: right;\">\n",
       "      <th></th>\n",
       "      <th>1. open</th>\n",
       "      <th>2. high</th>\n",
       "      <th>3. low</th>\n",
       "      <th>4. close</th>\n",
       "      <th>5. volume</th>\n",
       "    </tr>\n",
       "  </thead>\n",
       "  <tbody>\n",
       "    <tr>\n",
       "      <th>2025-07-18</th>\n",
       "      <td>1143.0000</td>\n",
       "      <td>1158.0000</td>\n",
       "      <td>1130.6500</td>\n",
       "      <td>1155.1000</td>\n",
       "      <td>2729</td>\n",
       "    </tr>\n",
       "    <tr>\n",
       "      <th>2025-07-17</th>\n",
       "      <td>1136.0500</td>\n",
       "      <td>1160.1500</td>\n",
       "      <td>1132.0000</td>\n",
       "      <td>1146.3000</td>\n",
       "      <td>16426</td>\n",
       "    </tr>\n",
       "    <tr>\n",
       "      <th>2025-07-16</th>\n",
       "      <td>1125.0000</td>\n",
       "      <td>1183.0000</td>\n",
       "      <td>1125.0000</td>\n",
       "      <td>1146.0500</td>\n",
       "      <td>58976</td>\n",
       "    </tr>\n",
       "    <tr>\n",
       "      <th>2025-07-15</th>\n",
       "      <td>1090.1500</td>\n",
       "      <td>1125.5500</td>\n",
       "      <td>1090.1500</td>\n",
       "      <td>1121.8500</td>\n",
       "      <td>9773</td>\n",
       "    </tr>\n",
       "    <tr>\n",
       "      <th>2025-07-14</th>\n",
       "      <td>1098.5000</td>\n",
       "      <td>1110.0000</td>\n",
       "      <td>1082.9500</td>\n",
       "      <td>1096.8500</td>\n",
       "      <td>8098</td>\n",
       "    </tr>\n",
       "    <tr>\n",
       "      <th>...</th>\n",
       "      <td>...</td>\n",
       "      <td>...</td>\n",
       "      <td>...</td>\n",
       "      <td>...</td>\n",
       "      <td>...</td>\n",
       "    </tr>\n",
       "    <tr>\n",
       "      <th>2025-02-27</th>\n",
       "      <td>1100.1500</td>\n",
       "      <td>1115.2000</td>\n",
       "      <td>1089.0000</td>\n",
       "      <td>1101.0500</td>\n",
       "      <td>18249</td>\n",
       "    </tr>\n",
       "    <tr>\n",
       "      <th>2025-02-25</th>\n",
       "      <td>1099.9500</td>\n",
       "      <td>1125.0000</td>\n",
       "      <td>1085.9500</td>\n",
       "      <td>1111.6000</td>\n",
       "      <td>39484</td>\n",
       "    </tr>\n",
       "    <tr>\n",
       "      <th>2025-02-24</th>\n",
       "      <td>1104.7000</td>\n",
       "      <td>1130.2500</td>\n",
       "      <td>1074.5000</td>\n",
       "      <td>1102.9500</td>\n",
       "      <td>83164</td>\n",
       "    </tr>\n",
       "    <tr>\n",
       "      <th>2025-02-21</th>\n",
       "      <td>981.9500</td>\n",
       "      <td>1193.0500</td>\n",
       "      <td>978.1500</td>\n",
       "      <td>1133.4000</td>\n",
       "      <td>467860</td>\n",
       "    </tr>\n",
       "    <tr>\n",
       "      <th>2025-02-20</th>\n",
       "      <td>864.9500</td>\n",
       "      <td>1031.7500</td>\n",
       "      <td>859.6000</td>\n",
       "      <td>1001.5000</td>\n",
       "      <td>141330</td>\n",
       "    </tr>\n",
       "  </tbody>\n",
       "</table>\n",
       "<p>100 rows × 5 columns</p>\n",
       "</div>"
      ],
      "text/plain": [
       "              1. open    2. high     3. low   4. close 5. volume\n",
       "2025-07-18  1143.0000  1158.0000  1130.6500  1155.1000      2729\n",
       "2025-07-17  1136.0500  1160.1500  1132.0000  1146.3000     16426\n",
       "2025-07-16  1125.0000  1183.0000  1125.0000  1146.0500     58976\n",
       "2025-07-15  1090.1500  1125.5500  1090.1500  1121.8500      9773\n",
       "2025-07-14  1098.5000  1110.0000  1082.9500  1096.8500      8098\n",
       "...               ...        ...        ...        ...       ...\n",
       "2025-02-27  1100.1500  1115.2000  1089.0000  1101.0500     18249\n",
       "2025-02-25  1099.9500  1125.0000  1085.9500  1111.6000     39484\n",
       "2025-02-24  1104.7000  1130.2500  1074.5000  1102.9500     83164\n",
       "2025-02-21   981.9500  1193.0500   978.1500  1133.4000    467860\n",
       "2025-02-20   864.9500  1031.7500   859.6000  1001.5000    141330\n",
       "\n",
       "[100 rows x 5 columns]"
      ]
     },
     "execution_count": 22,
     "metadata": {},
     "output_type": "execute_result"
    }
   ],
   "source": [
    "df"
   ]
  },
  {
   "cell_type": "code",
   "execution_count": 23,
   "id": "4cc95978",
   "metadata": {},
   "outputs": [
    {
     "data": {
      "text/plain": [
       "1. open      object\n",
       "2. high      object\n",
       "3. low       object\n",
       "4. close     object\n",
       "5. volume    object\n",
       "dtype: object"
      ]
     },
     "execution_count": 23,
     "metadata": {},
     "output_type": "execute_result"
    }
   ],
   "source": [
    "# type of data\n",
    "df .dtypes"
   ]
  },
  {
   "cell_type": "code",
   "execution_count": 24,
   "id": "f07a0b9a",
   "metadata": {},
   "outputs": [],
   "source": [
    "# convert in numbers\n",
    "df  =  df.astype(\"float\")"
   ]
  },
  {
   "cell_type": "code",
   "execution_count": 25,
   "id": "e3d1afe9",
   "metadata": {},
   "outputs": [
    {
     "data": {
      "text/plain": [
       "1. open      float64\n",
       "2. high      float64\n",
       "3. low       float64\n",
       "4. close     float64\n",
       "5. volume    float64\n",
       "dtype: object"
      ]
     },
     "execution_count": 25,
     "metadata": {},
     "output_type": "execute_result"
    }
   ],
   "source": [
    "df .dtypes\n"
   ]
  },
  {
   "cell_type": "code",
   "execution_count": 26,
   "id": "9785f89b",
   "metadata": {},
   "outputs": [
    {
     "data": {
      "text/plain": [
       "Index(['2025-07-18', '2025-07-17', '2025-07-16', '2025-07-15', '2025-07-14',\n",
       "       '2025-07-11', '2025-07-10', '2025-07-09', '2025-07-08', '2025-07-07',\n",
       "       '2025-07-04', '2025-07-03', '2025-07-02', '2025-07-01', '2025-06-30',\n",
       "       '2025-06-27', '2025-06-26', '2025-06-25', '2025-06-24', '2025-06-23',\n",
       "       '2025-06-20', '2025-06-19', '2025-06-18', '2025-06-17', '2025-06-16',\n",
       "       '2025-06-13', '2025-06-12', '2025-06-11', '2025-06-10', '2025-06-09',\n",
       "       '2025-06-06', '2025-06-05', '2025-06-04', '2025-06-03', '2025-06-02',\n",
       "       '2025-05-30', '2025-05-29', '2025-05-28', '2025-05-27', '2025-05-26',\n",
       "       '2025-05-23', '2025-05-22', '2025-05-21', '2025-05-20', '2025-05-19',\n",
       "       '2025-05-16', '2025-05-15', '2025-05-14', '2025-05-13', '2025-05-12',\n",
       "       '2025-05-09', '2025-05-08', '2025-05-07', '2025-05-06', '2025-05-05',\n",
       "       '2025-05-02', '2025-04-30', '2025-04-29', '2025-04-28', '2025-04-25',\n",
       "       '2025-04-24', '2025-04-23', '2025-04-22', '2025-04-21', '2025-04-17',\n",
       "       '2025-04-16', '2025-04-15', '2025-04-11', '2025-04-09', '2025-04-08',\n",
       "       '2025-04-07', '2025-04-04', '2025-04-03', '2025-04-02', '2025-04-01',\n",
       "       '2025-03-28', '2025-03-27', '2025-03-26', '2025-03-25', '2025-03-24',\n",
       "       '2025-03-21', '2025-03-20', '2025-03-19', '2025-03-18', '2025-03-17',\n",
       "       '2025-03-13', '2025-03-12', '2025-03-11', '2025-03-10', '2025-03-07',\n",
       "       '2025-03-06', '2025-03-05', '2025-03-04', '2025-03-03', '2025-02-28',\n",
       "       '2025-02-27', '2025-02-25', '2025-02-24', '2025-02-21', '2025-02-20'],\n",
       "      dtype='object')"
      ]
     },
     "execution_count": 26,
     "metadata": {},
     "output_type": "execute_result"
    }
   ],
   "source": [
    "df.index"
   ]
  },
  {
   "cell_type": "code",
   "execution_count": 27,
   "id": "6f71799f",
   "metadata": {},
   "outputs": [],
   "source": [
    "df.index  =  pd.to_datetime(df.index)"
   ]
  },
  {
   "cell_type": "code",
   "execution_count": 28,
   "id": "81f0a9c1",
   "metadata": {},
   "outputs": [
    {
     "data": {
      "text/plain": [
       "DatetimeIndex(['2025-07-18', '2025-07-17', '2025-07-16', '2025-07-15',\n",
       "               '2025-07-14', '2025-07-11', '2025-07-10', '2025-07-09',\n",
       "               '2025-07-08', '2025-07-07', '2025-07-04', '2025-07-03',\n",
       "               '2025-07-02', '2025-07-01', '2025-06-30', '2025-06-27',\n",
       "               '2025-06-26', '2025-06-25', '2025-06-24', '2025-06-23',\n",
       "               '2025-06-20', '2025-06-19', '2025-06-18', '2025-06-17',\n",
       "               '2025-06-16', '2025-06-13', '2025-06-12', '2025-06-11',\n",
       "               '2025-06-10', '2025-06-09', '2025-06-06', '2025-06-05',\n",
       "               '2025-06-04', '2025-06-03', '2025-06-02', '2025-05-30',\n",
       "               '2025-05-29', '2025-05-28', '2025-05-27', '2025-05-26',\n",
       "               '2025-05-23', '2025-05-22', '2025-05-21', '2025-05-20',\n",
       "               '2025-05-19', '2025-05-16', '2025-05-15', '2025-05-14',\n",
       "               '2025-05-13', '2025-05-12', '2025-05-09', '2025-05-08',\n",
       "               '2025-05-07', '2025-05-06', '2025-05-05', '2025-05-02',\n",
       "               '2025-04-30', '2025-04-29', '2025-04-28', '2025-04-25',\n",
       "               '2025-04-24', '2025-04-23', '2025-04-22', '2025-04-21',\n",
       "               '2025-04-17', '2025-04-16', '2025-04-15', '2025-04-11',\n",
       "               '2025-04-09', '2025-04-08', '2025-04-07', '2025-04-04',\n",
       "               '2025-04-03', '2025-04-02', '2025-04-01', '2025-03-28',\n",
       "               '2025-03-27', '2025-03-26', '2025-03-25', '2025-03-24',\n",
       "               '2025-03-21', '2025-03-20', '2025-03-19', '2025-03-18',\n",
       "               '2025-03-17', '2025-03-13', '2025-03-12', '2025-03-11',\n",
       "               '2025-03-10', '2025-03-07', '2025-03-06', '2025-03-05',\n",
       "               '2025-03-04', '2025-03-03', '2025-02-28', '2025-02-27',\n",
       "               '2025-02-25', '2025-02-24', '2025-02-21', '2025-02-20'],\n",
       "              dtype='datetime64[ns]', freq=None)"
      ]
     },
     "execution_count": 28,
     "metadata": {},
     "output_type": "execute_result"
    }
   ],
   "source": [
    "df.index"
   ]
  },
  {
   "cell_type": "code",
   "execution_count": 29,
   "id": "8511c3b7",
   "metadata": {},
   "outputs": [],
   "source": [
    "df.index.name   = \"Date\""
   ]
  },
  {
   "cell_type": "code",
   "execution_count": 30,
   "id": "0fbde86a",
   "metadata": {},
   "outputs": [
    {
     "data": {
      "text/html": [
       "<div>\n",
       "<style scoped>\n",
       "    .dataframe tbody tr th:only-of-type {\n",
       "        vertical-align: middle;\n",
       "    }\n",
       "\n",
       "    .dataframe tbody tr th {\n",
       "        vertical-align: top;\n",
       "    }\n",
       "\n",
       "    .dataframe thead th {\n",
       "        text-align: right;\n",
       "    }\n",
       "</style>\n",
       "<table border=\"1\" class=\"dataframe\">\n",
       "  <thead>\n",
       "    <tr style=\"text-align: right;\">\n",
       "      <th></th>\n",
       "      <th>1. open</th>\n",
       "      <th>2. high</th>\n",
       "      <th>3. low</th>\n",
       "      <th>4. close</th>\n",
       "      <th>5. volume</th>\n",
       "    </tr>\n",
       "    <tr>\n",
       "      <th>Date</th>\n",
       "      <th></th>\n",
       "      <th></th>\n",
       "      <th></th>\n",
       "      <th></th>\n",
       "      <th></th>\n",
       "    </tr>\n",
       "  </thead>\n",
       "  <tbody>\n",
       "    <tr>\n",
       "      <th>2025-07-18</th>\n",
       "      <td>1143.00</td>\n",
       "      <td>1158.00</td>\n",
       "      <td>1130.65</td>\n",
       "      <td>1155.10</td>\n",
       "      <td>2729.0</td>\n",
       "    </tr>\n",
       "    <tr>\n",
       "      <th>2025-07-17</th>\n",
       "      <td>1136.05</td>\n",
       "      <td>1160.15</td>\n",
       "      <td>1132.00</td>\n",
       "      <td>1146.30</td>\n",
       "      <td>16426.0</td>\n",
       "    </tr>\n",
       "    <tr>\n",
       "      <th>2025-07-16</th>\n",
       "      <td>1125.00</td>\n",
       "      <td>1183.00</td>\n",
       "      <td>1125.00</td>\n",
       "      <td>1146.05</td>\n",
       "      <td>58976.0</td>\n",
       "    </tr>\n",
       "    <tr>\n",
       "      <th>2025-07-15</th>\n",
       "      <td>1090.15</td>\n",
       "      <td>1125.55</td>\n",
       "      <td>1090.15</td>\n",
       "      <td>1121.85</td>\n",
       "      <td>9773.0</td>\n",
       "    </tr>\n",
       "    <tr>\n",
       "      <th>2025-07-14</th>\n",
       "      <td>1098.50</td>\n",
       "      <td>1110.00</td>\n",
       "      <td>1082.95</td>\n",
       "      <td>1096.85</td>\n",
       "      <td>8098.0</td>\n",
       "    </tr>\n",
       "  </tbody>\n",
       "</table>\n",
       "</div>"
      ],
      "text/plain": [
       "            1. open  2. high   3. low  4. close  5. volume\n",
       "Date                                                      \n",
       "2025-07-18  1143.00  1158.00  1130.65   1155.10     2729.0\n",
       "2025-07-17  1136.05  1160.15  1132.00   1146.30    16426.0\n",
       "2025-07-16  1125.00  1183.00  1125.00   1146.05    58976.0\n",
       "2025-07-15  1090.15  1125.55  1090.15   1121.85     9773.0\n",
       "2025-07-14  1098.50  1110.00  1082.95   1096.85     8098.0"
      ]
     },
     "execution_count": 30,
     "metadata": {},
     "output_type": "execute_result"
    }
   ],
   "source": [
    "df.head()"
   ]
  },
  {
   "attachments": {
    "image.png": {
     "image/png": "[encoded data removed]"
    }
   },
   "cell_type": "markdown",
   "id": "1980ee55",
   "metadata": {},
   "source": [
    "![image.png](attachment:image.png)"
   ]
  },
  {
   "cell_type": "code",
   "execution_count": 31,
   "id": "412573bb",
   "metadata": {},
   "outputs": [],
   "source": [
    "import plotly.graph_objects  as go"
   ]
  },
  {
   "cell_type": "code",
   "execution_count": 32,
   "id": "89ffeb62",
   "metadata": {},
   "outputs": [
    {
     "data": {
      "text/plain": [
       "Index(['1. open', '2. high', '3. low', '4. close', '5. volume'], dtype='object')"
      ]
     },
     "execution_count": 32,
     "metadata": {},
     "output_type": "execute_result"
    }
   ],
   "source": [
    "df.columns"
   ]
  },
  {
   "cell_type": "code",
   "execution_count": 46,
   "id": "b688fbb7",
   "metadata": {},
   "outputs": [
    {
     "data": {
      "application/vnd.plotly.v1+json": {
       "config": {
        "plotlyServerURL": "https://plot.ly"
       },
       "data": [
        {
         "close": {
          "bdata": "ZmZmZmYMkkAzMzMzM+mRQDMzMzMz6JFAZmZmZmaHkUBmZmZmZiORQDMzMzMzKZFAZmZmZma5kUCamZmZmemRQAAAAAAABpJAAAAAAAA2kkDNzMzMzDySQJqZmZmZHJJAZmZmZmYUkkCamZmZmd6SQM3MzMzMfJNAmpmZmZmBk0AAAAAAAIGTQDMzMzMzgZNAMzMzMzOVk0BmZmZmZgqUQM3MzMzMEZVAMzMzMzPqlEAAAAAAAAyVQJqZmZmZnJRAMzMzMzNclEBmZmZmZvyTQJqZmZmZNZRAMzMzMzMFlEBmZmZmZqaUQM3MzMzMMJVAAAAAAAA8lUAzMzMzM4mSQDMzMzMzlZJAMzMzMzOZkkAzMzMzM76SQJqZmZmZhZJAZmZmZmZzkkBmZmZmZmiSQM3MzMzMYJJAmpmZmZk3kkCamZmZmUSSQDMzMzMzPZJAZmZmZmYikkCamZmZmRWSQDMzMzMzC5JAAAAAAADbkUAAAAAAAJSRQDMzMzMzRpJAZmZmZmbWkUAAAAAAAIqRQDMzMzMz55BAMzMzMzNZkUCamZmZmZGRQM3MzMzMX5FAzczMzMz8kEAzMzMzM6+QQAAAAAAA65BAAAAAAAA6kUBmZmZmZp6RQDMzMzMzK5FAzczMzMzJkUBmZmZmZjiSQAAAAAAAQZJAMzMzMzOtkUDNzMzMzKORQGZmZmZmt5FAmpmZmZm9kUAzMzMzM7+RQJqZmZmZV5FAMzMzMzP/kEDNzMzMzEuQQJqZmZmZ+pBAmpmZmZlOkUCamZmZmdaRQJqZmZmZDZFAAAAAAAC5kUAzMzMzMySSQAAAAAAA5ZFAAAAAAAB1kkCamZmZmVGTQDMzMzMz4pJAzczMzMyhkkAAAAAAAD6SQM3MzMzMq5FAMzMzMzO5kUAAAAAAAPaRQM3MzMzMoZFAAAAAAACHkUCamZmZmQOSQDMzMzMzaZFAAAAAAAAtkUAzMzMzM1SRQM3MzMzMMZFAAAAAAABBkUAAAAAAACORQDMzMzMzNJFAZmZmZmZekUDNzMzMzDuRQJqZmZmZtZFAAAAAAABMj0A=",
          "dtype": "f8"
         },
         "high": {
          "bdata": "AAAAAAAYkkCamZmZmSCSQAAAAAAAfJJAMzMzMzOWkUAAAAAAAFiRQM3MzMzMqJFAMzMzMzP4kUAAAAAAAEGSQM3MzMzMW5JAmpmZmZldkkAzMzMzM0iTQM3MzMzML5JAZmZmZmYEk0CamZmZmaeTQAAAAAAA5ZNAZmZmZmank0DNzMzMzMOTQJqZmZmZz5NAAAAAAABIlECamZmZmTiVQM3MzMzMiJVAAAAAAACQlUAAAAAAAFSVQM3MzMzM3pRAzczMzMx7lEDNzMzMzBWUQM3MzMzMUZRAMzMzMzOqlEAzMzMzMzWVQAAAAAAAqJVAAAAAAAC+lUAAAAAAAMCSQAAAAAAAtpJAAAAAAAAIk0AAAAAAANSSQM3MzMzM15JAAAAAAADxkkAAAAAAAHiSQAAAAAAAb5JAMzMzMzNpkkAAAAAAAJiSQAAAAAAAcJJAzczMzMyGkkAAAAAAACCSQAAAAAAAKJJAAAAAAAAzkkBmZmZmZkaSQM3MzMzMcZJAAAAAAADkkUAAAAAAAKiRQM3MzMzMT5FAZmZmZma7kUDNzMzMzKmRQAAAAAAAbJFAzczMzMwckUCamZmZmfyQQAAAAAAAQ5FAmpmZmZnQkUCamZmZmauRQJqZmZmZ8pFAzczMzMxlkkBmZmZmZnOSQJqZmZmZl5JAZmZmZmbLkUAAAAAAABuSQJqZmZmZ+pFAAAAAAABHkkCamZmZmfGRQAAAAAAAgJFAzczMzMwjkUAAAAAAAMCQQGZmZmZmj5FAMzMzMzOzkUDNzMzMzDWSQAAAAAAAlJFAAAAAAABbkkDNzMzMzEqSQJqZmZmZu5JAZmZmZmaAk0DNzMzMzMOTQM3MzMzMI5NAAAAAAAAMk0DNzMzMzHKSQJqZmZmZGpJAZmZmZmZakkAzMzMzM/iRQGZmZmZmAZJAmpmZmZkmkkBmZmZmZlmSQAAAAAAAoJFAAAAAAABskUAAAAAAAHCRQJqZmZmZUZFAmpmZmZlukUAzMzMzM2WRQM3MzMzMbJFAAAAAAACUkUAAAAAAAKmRQDMzMzMzpJJAAAAAAAAfkEA=",
          "dtype": "f8"
         },
         "low": {
          "bdata": "mpmZmZmqkUAAAAAAALCRQAAAAAAAlJFAmpmZmZkIkUDNzMzMzOuQQAAAAAAADpFAAAAAAACokUAAAAAAAOCRQGZmZmZm8pFAzczMzMznkUCamZmZmf6RQAAAAAAAlJFAzczMzMzwkUAAAAAAAMWSQM3MzMzMW5NAAAAAAABkk0AzMzMzM1uTQM3MzMzMSZNAmpmZmZl1k0AAAAAAAPSTQAAAAAAAsZRAAAAAAACglEBmZmZmZmGUQAAAAAAAMJRAZmZmZmZrk0AzMzMzM2yTQAAAAAAA9JNAZmZmZmbvk0CamZmZmYOUQDMzMzMzv5RAAAAAAACikkAAAAAAAHqSQDMzMzMzXJJAAAAAAAB6kkDNzMzMzCSSQM3MzMzMEZJAAAAAAABUkkCamZmZmf+RQM3MzMzMIpJAmpmZmZkUkkAAAAAAADSSQM3MzMzM5pFAZmZmZmb4kUBmZmZmZrqRQAAAAAAAlJFAZmZmZmadkUAzMzMzM4aRQDMzMzMzdJFAmpmZmZlgkUAzMzMzM/SQQM3MzMzMppBAZmZmZmZAkUCamZmZmfKQQGZmZmZmv5BAmpmZmZlnkEAzMzMzM4SQQDMzMzMzy5BAMzMzMzMikUAzMzMzMxiRQJqZmZmZ/JBAAAAAAACokUAzMzMzM/yRQJqZmZmZipFAAAAAAACUkUBmZmZmZmCRQGZmZmZmfJFAAAAAAACgkUAAAAAAADCRQJqZmZmZuJBAAAAAAABskEAAAAAAAJCOQAAAAAAArJBAMzMzMzMykUAzMzMzM+CQQGZmZmZmtJBAZmZmZmankUDNzMzMzNWRQJqZmZmZxJFAzczMzMxBkkCamZmZmXySQJqZmZmZj5JAMzMzMzMbkkAAAAAAAJGRQM3MzMzMiZFAAAAAAABtkUAzMzMzMz6RQAAAAAAAUZFAAAAAAAAKkUBmZmZmZmiQQAAAAAAAKJFAAAAAAAAokUBmZmZmZjiQQAAAAAAA9JBAAAAAAAAIkUBmZmZmZo2QQAAAAAAABJFAzczMzMz3kEAAAAAAAMqQQDMzMzMzkY5AzczMzMzcikA=",
          "dtype": "f8"
         },
         "open": {
          "bdata": "AAAAAADckUAzMzMzM8CRQAAAAAAAlJFAmpmZmZkIkUAAAAAAACqRQDMzMzMzqJFAAAAAAAD4kUAAAAAAAAySQM3MzMzMW5JAAAAAAAAgkkDNzMzMzDSSQGZmZmZmAZJAAAAAAADAkkDNzMzMzJuTQJqZmZmZhpNAzczMzMxzk0DNzMzMzMOTQAAAAAAAq5NAAAAAAAAwlEDNzMzMzI6UQAAAAAAA3JRAzczMzMwQlUCamZmZmYeUQDMzMzMzR5RAmpmZmZnYk0AzMzMzM2yTQDMzMzMzBZRAZmZmZmamlEAzMzMzM+GUQDMzMzMz+JRAmpmZmZnCkkBmZmZmZoySQDMzMzMzXJJAZmZmZmbbkkDNzMzMzCSSQM3MzMzM15JAAAAAAABUkkCamZmZmf+RQDMzMzMzXZJAAAAAAAAjkkBmZmZmZn+SQM3MzMzM5pFAzczMzMxHkkAAAAAAAPSRQDMzMzMzrJFAAAAAAAAzkkBmZmZmZkaSQDMzMzMzdJFAMzMzMzOUkUAzMzMzM/SQQM3MzMzMppBAZmZmZma7kUDNzMzMzKeRQGZmZmZmv5BAMzMzMzOvkEAAAAAAAJmQQJqZmZmZ+pBAmpmZmZmWkUAzMzMzM0mRQJqZmZmZ8pFAAAAAAABCkkBmZmZmZmGSQM3MzMzM45FAzczMzMymkUAAAAAAABuSQAAAAAAA5JFAzczMzMwLkkBmZmZmZqqRQJqZmZmZuJBAzczMzMyQkEAAAAAAAJCOQGZmZmZmj5FAMzMzMzOAkUAzMzMzM+CQQAAAAAAAlJFAMzMzMzNZkkAzMzMzM+iRQGZmZmZmfJJAMzMzMzMUk0CamZmZmXySQAAAAAAAqJJAAAAAAABwkkCamZmZmeuRQM3MzMzMiZFAAAAAAAD2kUAAAAAAAISRQGZmZmZmnZFAMzMzMzOAkUBmZmZmZmiQQJqZmZmZLZFAMzMzMzNUkUCamZmZmX6QQAAAAAAACJFAAAAAAAAokUAzMzMzM9yQQJqZmZmZMJFAzczMzMwvkUDNzMzMzEKRQJqZmZmZr45AmpmZmZkHi0A=",
          "dtype": "f8"
         },
         "type": "candlestick",
         "x": [
          "2025-07-18T00:00:00.000000000",
          "2025-07-17T00:00:00.000000000",
          "2025-07-16T00:00:00.000000000",
          "2025-07-15T00:00:00.000000000",
          "2025-07-14T00:00:00.000000000",
          "2025-07-11T00:00:00.000000000",
          "2025-07-10T00:00:00.000000000",
          "2025-07-09T00:00:00.000000000",
          "2025-07-08T00:00:00.000000000",
          "2025-07-07T00:00:00.000000000",
          "2025-07-04T00:00:00.000000000",
          "2025-07-03T00:00:00.000000000",
          "2025-07-02T00:00:00.000000000",
          "2025-07-01T00:00:00.000000000",
          "2025-06-30T00:00:00.000000000",
          "2025-06-27T00:00:00.000000000",
          "2025-06-26T00:00:00.000000000",
          "2025-06-25T00:00:00.000000000",
          "2025-06-24T00:00:00.000000000",
          "2025-06-23T00:00:00.000000000",
          "2025-06-20T00:00:00.000000000",
          "2025-06-19T00:00:00.000000000",
          "2025-06-18T00:00:00.000000000",
          "2025-06-17T00:00:00.000000000",
          "2025-06-16T00:00:00.000000000",
          "2025-06-13T00:00:00.000000000",
          "2025-06-12T00:00:00.000000000",
          "2025-06-11T00:00:00.000000000",
          "2025-06-10T00:00:00.000000000",
          "2025-06-09T00:00:00.000000000",
          "2025-06-06T00:00:00.000000000",
          "2025-06-05T00:00:00.000000000",
          "2025-06-04T00:00:00.000000000",
          "2025-06-03T00:00:00.000000000",
          "2025-06-02T00:00:00.000000000",
          "2025-05-30T00:00:00.000000000",
          "2025-05-29T00:00:00.000000000",
          "2025-05-28T00:00:00.000000000",
          "2025-05-27T00:00:00.000000000",
          "2025-05-26T00:00:00.000000000",
          "2025-05-23T00:00:00.000000000",
          "2025-05-22T00:00:00.000000000",
          "2025-05-21T00:00:00.000000000",
          "2025-05-20T00:00:00.000000000",
          "2025-05-19T00:00:00.000000000",
          "2025-05-16T00:00:00.000000000",
          "2025-05-15T00:00:00.000000000",
          "2025-05-14T00:00:00.000000000",
          "2025-05-13T00:00:00.000000000",
          "2025-05-12T00:00:00.000000000",
          "2025-05-09T00:00:00.000000000",
          "2025-05-08T00:00:00.000000000",
          "2025-05-07T00:00:00.000000000",
          "2025-05-06T00:00:00.000000000",
          "2025-05-05T00:00:00.000000000",
          "2025-05-02T00:00:00.000000000",
          "2025-04-30T00:00:00.000000000",
          "2025-04-29T00:00:00.000000000",
          "2025-04-28T00:00:00.000000000",
          "2025-04-25T00:00:00.000000000",
          "2025-04-24T00:00:00.000000000",
          "2025-04-23T00:00:00.000000000",
          "2025-04-22T00:00:00.000000000",
          "2025-04-21T00:00:00.000000000",
          "2025-04-17T00:00:00.000000000",
          "2025-04-16T00:00:00.000000000",
          "2025-04-15T00:00:00.000000000",
          "2025-04-11T00:00:00.000000000",
          "2025-04-09T00:00:00.000000000",
          "2025-04-08T00:00:00.000000000",
          "2025-04-07T00:00:00.000000000",
          "2025-04-04T00:00:00.000000000",
          "2025-04-03T00:00:00.000000000",
          "2025-04-02T00:00:00.000000000",
          "2025-04-01T00:00:00.000000000",
          "2025-03-28T00:00:00.000000000",
          "2025-03-27T00:00:00.000000000",
          "2025-03-26T00:00:00.000000000",
          "2025-03-25T00:00:00.000000000",
          "2025-03-24T00:00:00.000000000",
          "2025-03-21T00:00:00.000000000",
          "2025-03-20T00:00:00.000000000",
          "2025-03-19T00:00:00.000000000",
          "2025-03-18T00:00:00.000000000",
          "2025-03-17T00:00:00.000000000",
          "2025-03-13T00:00:00.000000000",
          "2025-03-12T00:00:00.000000000",
          "2025-03-11T00:00:00.000000000",
          "2025-03-10T00:00:00.000000000",
          "2025-03-07T00:00:00.000000000",
          "2025-03-06T00:00:00.000000000",
          "2025-03-05T00:00:00.000000000",
          "2025-03-04T00:00:00.000000000",
          "2025-03-03T00:00:00.000000000",
          "2025-02-28T00:00:00.000000000",
          "2025-02-27T00:00:00.000000000",
          "2025-02-25T00:00:00.000000000",
          "2025-02-24T00:00:00.000000000",
          "2025-02-21T00:00:00.000000000",
          "2025-02-20T00:00:00.000000000"
         ]
        }
       ],
       "layout": {
        "template": {
         "data": {
          "bar": [
           {
            "error_x": {
             "color": "#2a3f5f"
            },
            "error_y": {
             "color": "#2a3f5f"
            },
            "marker": {
             "line": {
              "color": "#E5ECF6",
              "width": 0.5
             },
             "pattern": {
              "fillmode": "overlay",
              "size": 10,
              "solidity": 0.2
             }
            },
            "type": "bar"
           }
          ],
          "barpolar": [
           {
            "marker": {
             "line": {
              "color": "#E5ECF6",
              "width": 0.5
             },
             "pattern": {
              "fillmode": "overlay",
              "size": 10,
              "solidity": 0.2
             }
            },
            "type": "barpolar"
           }
          ],
          "carpet": [
           {
            "aaxis": {
             "endlinecolor": "#2a3f5f",
             "gridcolor": "white",
             "linecolor": "white",
             "minorgridcolor": "white",
             "startlinecolor": "#2a3f5f"
            },
            "baxis": {
             "endlinecolor": "#2a3f5f",
             "gridcolor": "white",
             "linecolor": "white",
             "minorgridcolor": "white",
             "startlinecolor": "#2a3f5f"
            },
            "type": "carpet"
           }
          ],
          "choropleth": [
           {
            "colorbar": {
             "outlinewidth": 0,
             "ticks": ""
            },
            "type": "choropleth"
           }
          ],
          "contour": [
           {
            "colorbar": {
             "outlinewidth": 0,
             "ticks": ""
            },
            "colorscale": [
             [
              0,
              "#0d0887"
             ],
             [
              0.1111111111111111,
              "#46039f"
             ],
             [
              0.2222222222222222,
              "#7201a8"
             ],
             [
              0.3333333333333333,
              "#9c179e"
             ],
             [
              0.4444444444444444,
              "#bd3786"
             ],
             [
              0.5555555555555556,
              "#d8576b"
             ],
             [
              0.6666666666666666,
              "#ed7953"
             ],
             [
              0.7777777777777778,
              "#fb9f3a"
             ],
             [
              0.8888888888888888,
              "#fdca26"
             ],
             [
              1,
              "#f0f921"
             ]
            ],
            "type": "contour"
           }
          ],
          "contourcarpet": [
           {
            "colorbar": {
             "outlinewidth": 0,
             "ticks": ""
            },
            "type": "contourcarpet"
           }
          ],
          "heatmap": [
           {
            "colorbar": {
             "outlinewidth": 0,
             "ticks": ""
            },
            "colorscale": [
             [
              0,
              "#0d0887"
             ],
             [
              0.1111111111111111,
              "#46039f"
             ],
             [
              0.2222222222222222,
              "#7201a8"
             ],
             [
              0.3333333333333333,
              "#9c179e"
             ],
             [
              0.4444444444444444,
              "#bd3786"
             ],
             [
              0.5555555555555556,
              "#d8576b"
             ],
             [
              0.6666666666666666,
              "#ed7953"
             ],
             [
              0.7777777777777778,
              "#fb9f3a"
             ],
             [
              0.8888888888888888,
              "#fdca26"
             ],
             [
              1,
              "#f0f921"
             ]
            ],
            "type": "heatmap"
           }
          ],
          "histogram": [
           {
            "marker": {
             "pattern": {
              "fillmode": "overlay",
              "size": 10,
              "solidity": 0.2
             }
            },
            "type": "histogram"
           }
          ],
          "histogram2d": [
           {
            "colorbar": {
             "outlinewidth": 0,
             "ticks": ""
            },
            "colorscale": [
             [
              0,
              "#0d0887"
             ],
             [
              0.1111111111111111,
              "#46039f"
             ],
             [
              0.2222222222222222,
              "#7201a8"
             ],
             [
              0.3333333333333333,
              "#9c179e"
             ],
             [
              0.4444444444444444,
              "#bd3786"
             ],
             [
              0.5555555555555556,
              "#d8576b"
             ],
             [
              0.6666666666666666,
              "#ed7953"
             ],
             [
              0.7777777777777778,
              "#fb9f3a"
             ],
             [
              0.8888888888888888,
              "#fdca26"
             ],
             [
              1,
              "#f0f921"
             ]
            ],
            "type": "histogram2d"
           }
          ],
          "histogram2dcontour": [
           {
            "colorbar": {
             "outlinewidth": 0,
             "ticks": ""
            },
            "colorscale": [
             [
              0,
              "#0d0887"
             ],
             [
              0.1111111111111111,
              "#46039f"
             ],
             [
              0.2222222222222222,
              "#7201a8"
             ],
             [
              0.3333333333333333,
              "#9c179e"
             ],
             [
              0.4444444444444444,
              "#bd3786"
             ],
             [
              0.5555555555555556,
              "#d8576b"
             ],
             [
              0.6666666666666666,
              "#ed7953"
             ],
             [
              0.7777777777777778,
              "#fb9f3a"
             ],
             [
              0.8888888888888888,
              "#fdca26"
             ],
             [
              1,
              "#f0f921"
             ]
            ],
            "type": "histogram2dcontour"
           }
          ],
          "mesh3d": [
           {
            "colorbar": {
             "outlinewidth": 0,
             "ticks": ""
            },
            "type": "mesh3d"
           }
          ],
          "parcoords": [
           {
            "line": {
             "colorbar": {
              "outlinewidth": 0,
              "ticks": ""
             }
            },
            "type": "parcoords"
           }
          ],
          "pie": [
           {
            "automargin": true,
            "type": "pie"
           }
          ],
          "scatter": [
           {
            "fillpattern": {
             "fillmode": "overlay",
             "size": 10,
             "solidity": 0.2
            },
            "type": "scatter"
           }
          ],
          "scatter3d": [
           {
            "line": {
             "colorbar": {
              "outlinewidth": 0,
              "ticks": ""
             }
            },
            "marker": {
             "colorbar": {
              "outlinewidth": 0,
              "ticks": ""
             }
            },
            "type": "scatter3d"
           }
          ],
          "scattercarpet": [
           {
            "marker": {
             "colorbar": {
              "outlinewidth": 0,
              "ticks": ""
             }
            },
            "type": "scattercarpet"
           }
          ],
          "scattergeo": [
           {
            "marker": {
             "colorbar": {
              "outlinewidth": 0,
              "ticks": ""
             }
            },
            "type": "scattergeo"
           }
          ],
          "scattergl": [
           {
            "marker": {
             "colorbar": {
              "outlinewidth": 0,
              "ticks": ""
             }
            },
            "type": "scattergl"
           }
          ],
          "scattermap": [
           {
            "marker": {
             "colorbar": {
              "outlinewidth": 0,
              "ticks": ""
             }
            },
            "type": "scattermap"
           }
          ],
          "scattermapbox": [
           {
            "marker": {
             "colorbar": {
              "outlinewidth": 0,
              "ticks": ""
             }
            },
            "type": "scattermapbox"
           }
          ],
          "scatterpolar": [
           {
            "marker": {
             "colorbar": {
              "outlinewidth": 0,
              "ticks": ""
             }
            },
            "type": "scatterpolar"
           }
          ],
          "scatterpolargl": [
           {
            "marker": {
             "colorbar": {
              "outlinewidth": 0,
              "ticks": ""
             }
            },
            "type": "scatterpolargl"
           }
          ],
          "scatterternary": [
           {
            "marker": {
             "colorbar": {
              "outlinewidth": 0,
              "ticks": ""
             }
            },
            "type": "scatterternary"
           }
          ],
          "surface": [
           {
            "colorbar": {
             "outlinewidth": 0,
             "ticks": ""
            },
            "colorscale": [
             [
              0,
              "#0d0887"
             ],
             [
              0.1111111111111111,
              "#46039f"
             ],
             [
              0.2222222222222222,
              "#7201a8"
             ],
             [
              0.3333333333333333,
              "#9c179e"
             ],
             [
              0.4444444444444444,
              "#bd3786"
             ],
             [
              0.5555555555555556,
              "#d8576b"
             ],
             [
              0.6666666666666666,
              "#ed7953"
             ],
             [
              0.7777777777777778,
              "#fb9f3a"
             ],
             [
              0.8888888888888888,
              "#fdca26"
             ],
             [
              1,
              "#f0f921"
             ]
            ],
            "type": "surface"
           }
          ],
          "table": [
           {
            "cells": {
             "fill": {
              "color": "#EBF0F8"
             },
             "line": {
              "color": "white"
             }
            },
            "header": {
             "fill": {
              "color": "#C8D4E3"
             },
             "line": {
              "color": "white"
             }
            },
            "type": "table"
           }
          ]
         },
         "layout": {
          "annotationdefaults": {
           "arrowcolor": "#2a3f5f",
           "arrowhead": 0,
           "arrowwidth": 1
          },
          "autotypenumbers": "strict",
          "coloraxis": {
           "colorbar": {
            "outlinewidth": 0,
            "ticks": ""
           }
          },
          "colorscale": {
           "diverging": [
            [
             0,
             "#8e0152"
            ],
            [
             0.1,
             "#c51b7d"
            ],
            [
             0.2,
             "#de77ae"
            ],
            [
             0.3,
             "#f1b6da"
            ],
            [
             0.4,
             "#fde0ef"
            ],
            [
             0.5,
             "#f7f7f7"
            ],
            [
             0.6,
             "#e6f5d0"
            ],
            [
             0.7,
             "#b8e186"
            ],
            [
             0.8,
             "#7fbc41"
            ],
            [
             0.9,
             "#4d9221"
            ],
            [
             1,
             "#276419"
            ]
           ],
           "sequential": [
            [
             0,
             "#0d0887"
            ],
            [
             0.1111111111111111,
             "#46039f"
            ],
            [
             0.2222222222222222,
             "#7201a8"
            ],
            [
             0.3333333333333333,
             "#9c179e"
            ],
            [
             0.4444444444444444,
             "#bd3786"
            ],
            [
             0.5555555555555556,
             "#d8576b"
            ],
            [
             0.6666666666666666,
             "#ed7953"
            ],
            [
             0.7777777777777778,
             "#fb9f3a"
            ],
            [
             0.8888888888888888,
             "#fdca26"
            ],
            [
             1,
             "#f0f921"
            ]
           ],
           "sequentialminus": [
            [
             0,
             "#0d0887"
            ],
            [
             0.1111111111111111,
             "#46039f"
            ],
            [
             0.2222222222222222,
             "#7201a8"
            ],
            [
             0.3333333333333333,
             "#9c179e"
            ],
            [
             0.4444444444444444,
             "#bd3786"
            ],
            [
             0.5555555555555556,
             "#d8576b"
            ],
            [
             0.6666666666666666,
             "#ed7953"
            ],
            [
             0.7777777777777778,
             "#fb9f3a"
            ],
            [
             0.8888888888888888,
             "#fdca26"
            ],
            [
             1,
             "#f0f921"
            ]
           ]
          },
          "colorway": [
           "#636efa",
           "#EF553B",
           "#00cc96",
           "#ab63fa",
           "#FFA15A",
           "#19d3f3",
           "#FF6692",
           "#B6E880",
           "#FF97FF",
           "#FECB52"
          ],
          "font": {
           "color": "#2a3f5f"
          },
          "geo": {
           "bgcolor": "white",
           "lakecolor": "white",
           "landcolor": "#E5ECF6",
           "showlakes": true,
           "showland": true,
           "subunitcolor": "white"
          },
          "hoverlabel": {
           "align": "left"
          },
          "hovermode": "closest",
          "mapbox": {
           "style": "light"
          },
          "paper_bgcolor": "white",
          "plot_bgcolor": "#E5ECF6",
          "polar": {
           "angularaxis": {
            "gridcolor": "white",
            "linecolor": "white",
            "ticks": ""
           },
           "bgcolor": "#E5ECF6",
           "radialaxis": {
            "gridcolor": "white",
            "linecolor": "white",
            "ticks": ""
           }
          },
          "scene": {
           "xaxis": {
            "backgroundcolor": "#E5ECF6",
            "gridcolor": "white",
            "gridwidth": 2,
            "linecolor": "white",
            "showbackground": true,
            "ticks": "",
            "zerolinecolor": "white"
           },
           "yaxis": {
            "backgroundcolor": "#E5ECF6",
            "gridcolor": "white",
            "gridwidth": 2,
            "linecolor": "white",
            "showbackground": true,
            "ticks": "",
            "zerolinecolor": "white"
           },
           "zaxis": {
            "backgroundcolor": "#E5ECF6",
            "gridcolor": "white",
            "gridwidth": 2,
            "linecolor": "white",
            "showbackground": true,
            "ticks": "",
            "zerolinecolor": "white"
           }
          },
          "shapedefaults": {
           "line": {
            "color": "#2a3f5f"
           }
          },
          "ternary": {
           "aaxis": {
            "gridcolor": "white",
            "linecolor": "white",
            "ticks": ""
           },
           "baxis": {
            "gridcolor": "white",
            "linecolor": "white",
            "ticks": ""
           },
           "bgcolor": "#E5ECF6",
           "caxis": {
            "gridcolor": "white",
            "linecolor": "white",
            "ticks": ""
           }
          },
          "title": {
           "x": 0.05
          },
          "xaxis": {
           "automargin": true,
           "gridcolor": "white",
           "linecolor": "white",
           "ticks": "",
           "title": {
            "standoff": 15
           },
           "zerolinecolor": "white",
           "zerolinewidth": 2
          },
          "yaxis": {
           "automargin": true,
           "gridcolor": "white",
           "linecolor": "white",
           "ticks": "",
           "title": {
            "standoff": 15
           },
           "zerolinecolor": "white",
           "zerolinewidth": 2
          }
         }
        }
       }
      }
     },
     "metadata": {},
     "output_type": "display_data"
    },
    {
     "data": {
      "application/vnd.plotly.v1+json": {
       "config": {
        "plotlyServerURL": "https://plot.ly"
       },
       "data": [
        {
         "close": {
          "bdata": "ZmZmZmYMkkAzMzMzM+mRQDMzMzMz6JFAZmZmZmaHkUBmZmZmZiORQDMzMzMzKZFAZmZmZma5kUCamZmZmemRQAAAAAAABpJAAAAAAAA2kkDNzMzMzDySQJqZmZmZHJJAZmZmZmYUkkCamZmZmd6SQM3MzMzMfJNAmpmZmZmBk0AAAAAAAIGTQDMzMzMzgZNAMzMzMzOVk0BmZmZmZgqUQM3MzMzMEZVAMzMzMzPqlEAAAAAAAAyVQJqZmZmZnJRAMzMzMzNclEBmZmZmZvyTQJqZmZmZNZRAMzMzMzMFlEBmZmZmZqaUQM3MzMzMMJVAAAAAAAA8lUAzMzMzM4mSQDMzMzMzlZJAMzMzMzOZkkAzMzMzM76SQJqZmZmZhZJAZmZmZmZzkkBmZmZmZmiSQM3MzMzMYJJAmpmZmZk3kkCamZmZmUSSQDMzMzMzPZJAZmZmZmYikkCamZmZmRWSQDMzMzMzC5JAAAAAAADbkUAAAAAAAJSRQDMzMzMzRpJAZmZmZmbWkUAAAAAAAIqRQDMzMzMz55BAMzMzMzNZkUCamZmZmZGRQM3MzMzMX5FAzczMzMz8kEAzMzMzM6+QQAAAAAAA65BAAAAAAAA6kUBmZmZmZp6RQDMzMzMzK5FAzczMzMzJkUBmZmZmZjiSQAAAAAAAQZJAMzMzMzOtkUDNzMzMzKORQGZmZmZmt5FAmpmZmZm9kUAzMzMzM7+RQJqZmZmZV5FAMzMzMzP/kEDNzMzMzEuQQJqZmZmZ+pBAmpmZmZlOkUCamZmZmdaRQJqZmZmZDZFAAAAAAAC5kUAzMzMzMySSQAAAAAAA5ZFAAAAAAAB1kkCamZmZmVGTQDMzMzMz4pJAzczMzMyhkkAAAAAAAD6SQM3MzMzMq5FAMzMzMzO5kUAAAAAAAPaRQM3MzMzMoZFAAAAAAACHkUCamZmZmQOSQDMzMzMzaZFAAAAAAAAtkUAzMzMzM1SRQM3MzMzMMZFAAAAAAABBkUAAAAAAACORQDMzMzMzNJFAZmZmZmZekUDNzMzMzDuRQJqZmZmZtZFAAAAAAABMj0A=",
          "dtype": "f8"
         },
         "high": {
          "bdata": "AAAAAAAYkkCamZmZmSCSQAAAAAAAfJJAMzMzMzOWkUAAAAAAAFiRQM3MzMzMqJFAMzMzMzP4kUAAAAAAAEGSQM3MzMzMW5JAmpmZmZldkkAzMzMzM0iTQM3MzMzML5JAZmZmZmYEk0CamZmZmaeTQAAAAAAA5ZNAZmZmZmank0DNzMzMzMOTQJqZmZmZz5NAAAAAAABIlECamZmZmTiVQM3MzMzMiJVAAAAAAACQlUAAAAAAAFSVQM3MzMzM3pRAzczMzMx7lEDNzMzMzBWUQM3MzMzMUZRAMzMzMzOqlEAzMzMzMzWVQAAAAAAAqJVAAAAAAAC+lUAAAAAAAMCSQAAAAAAAtpJAAAAAAAAIk0AAAAAAANSSQM3MzMzM15JAAAAAAADxkkAAAAAAAHiSQAAAAAAAb5JAMzMzMzNpkkAAAAAAAJiSQAAAAAAAcJJAzczMzMyGkkAAAAAAACCSQAAAAAAAKJJAAAAAAAAzkkBmZmZmZkaSQM3MzMzMcZJAAAAAAADkkUAAAAAAAKiRQM3MzMzMT5FAZmZmZma7kUDNzMzMzKmRQAAAAAAAbJFAzczMzMwckUCamZmZmfyQQAAAAAAAQ5FAmpmZmZnQkUCamZmZmauRQJqZmZmZ8pFAzczMzMxlkkBmZmZmZnOSQJqZmZmZl5JAZmZmZmbLkUAAAAAAABuSQJqZmZmZ+pFAAAAAAABHkkCamZmZmfGRQAAAAAAAgJFAzczMzMwjkUAAAAAAAMCQQGZmZmZmj5FAMzMzMzOzkUDNzMzMzDWSQAAAAAAAlJFAAAAAAABbkkDNzMzMzEqSQJqZmZmZu5JAZmZmZmaAk0DNzMzMzMOTQM3MzMzMI5NAAAAAAAAMk0DNzMzMzHKSQJqZmZmZGpJAZmZmZmZakkAzMzMzM/iRQGZmZmZmAZJAmpmZmZkmkkBmZmZmZlmSQAAAAAAAoJFAAAAAAABskUAAAAAAAHCRQJqZmZmZUZFAmpmZmZlukUAzMzMzM2WRQM3MzMzMbJFAAAAAAACUkUAAAAAAAKmRQDMzMzMzpJJAAAAAAAAfkEA=",
          "dtype": "f8"
         },
         "low": {
          "bdata": "mpmZmZmqkUAAAAAAALCRQAAAAAAAlJFAmpmZmZkIkUDNzMzMzOuQQAAAAAAADpFAAAAAAACokUAAAAAAAOCRQGZmZmZm8pFAzczMzMznkUCamZmZmf6RQAAAAAAAlJFAzczMzMzwkUAAAAAAAMWSQM3MzMzMW5NAAAAAAABkk0AzMzMzM1uTQM3MzMzMSZNAmpmZmZl1k0AAAAAAAPSTQAAAAAAAsZRAAAAAAACglEBmZmZmZmGUQAAAAAAAMJRAZmZmZmZrk0AzMzMzM2yTQAAAAAAA9JNAZmZmZmbvk0CamZmZmYOUQDMzMzMzv5RAAAAAAACikkAAAAAAAHqSQDMzMzMzXJJAAAAAAAB6kkDNzMzMzCSSQM3MzMzMEZJAAAAAAABUkkCamZmZmf+RQM3MzMzMIpJAmpmZmZkUkkAAAAAAADSSQM3MzMzM5pFAZmZmZmb4kUBmZmZmZrqRQAAAAAAAlJFAZmZmZmadkUAzMzMzM4aRQDMzMzMzdJFAmpmZmZlgkUAzMzMzM/SQQM3MzMzMppBAZmZmZmZAkUCamZmZmfKQQGZmZmZmv5BAmpmZmZlnkEAzMzMzM4SQQDMzMzMzy5BAMzMzMzMikUAzMzMzMxiRQJqZmZmZ/JBAAAAAAACokUAzMzMzM/yRQJqZmZmZipFAAAAAAACUkUBmZmZmZmCRQGZmZmZmfJFAAAAAAACgkUAAAAAAADCRQJqZmZmZuJBAAAAAAABskEAAAAAAAJCOQAAAAAAArJBAMzMzMzMykUAzMzMzM+CQQGZmZmZmtJBAZmZmZmankUDNzMzMzNWRQJqZmZmZxJFAzczMzMxBkkCamZmZmXySQJqZmZmZj5JAMzMzMzMbkkAAAAAAAJGRQM3MzMzMiZFAAAAAAABtkUAzMzMzMz6RQAAAAAAAUZFAAAAAAAAKkUBmZmZmZmiQQAAAAAAAKJFAAAAAAAAokUBmZmZmZjiQQAAAAAAA9JBAAAAAAAAIkUBmZmZmZo2QQAAAAAAABJFAzczMzMz3kEAAAAAAAMqQQDMzMzMzkY5AzczMzMzcikA=",
          "dtype": "f8"
         },
         "open": {
          "bdata": "AAAAAADckUAzMzMzM8CRQAAAAAAAlJFAmpmZmZkIkUAAAAAAACqRQDMzMzMzqJFAAAAAAAD4kUAAAAAAAAySQM3MzMzMW5JAAAAAAAAgkkDNzMzMzDSSQGZmZmZmAZJAAAAAAADAkkDNzMzMzJuTQJqZmZmZhpNAzczMzMxzk0DNzMzMzMOTQAAAAAAAq5NAAAAAAAAwlEDNzMzMzI6UQAAAAAAA3JRAzczMzMwQlUCamZmZmYeUQDMzMzMzR5RAmpmZmZnYk0AzMzMzM2yTQDMzMzMzBZRAZmZmZmamlEAzMzMzM+GUQDMzMzMz+JRAmpmZmZnCkkBmZmZmZoySQDMzMzMzXJJAZmZmZmbbkkDNzMzMzCSSQM3MzMzM15JAAAAAAABUkkCamZmZmf+RQDMzMzMzXZJAAAAAAAAjkkBmZmZmZn+SQM3MzMzM5pFAzczMzMxHkkAAAAAAAPSRQDMzMzMzrJFAAAAAAAAzkkBmZmZmZkaSQDMzMzMzdJFAMzMzMzOUkUAzMzMzM/SQQM3MzMzMppBAZmZmZma7kUDNzMzMzKeRQGZmZmZmv5BAMzMzMzOvkEAAAAAAAJmQQJqZmZmZ+pBAmpmZmZmWkUAzMzMzM0mRQJqZmZmZ8pFAAAAAAABCkkBmZmZmZmGSQM3MzMzM45FAzczMzMymkUAAAAAAABuSQAAAAAAA5JFAzczMzMwLkkBmZmZmZqqRQJqZmZmZuJBAzczMzMyQkEAAAAAAAJCOQGZmZmZmj5FAMzMzMzOAkUAzMzMzM+CQQAAAAAAAlJFAMzMzMzNZkkAzMzMzM+iRQGZmZmZmfJJAMzMzMzMUk0CamZmZmXySQAAAAAAAqJJAAAAAAABwkkCamZmZmeuRQM3MzMzMiZFAAAAAAAD2kUAAAAAAAISRQGZmZmZmnZFAMzMzMzOAkUBmZmZmZmiQQJqZmZmZLZFAMzMzMzNUkUCamZmZmX6QQAAAAAAACJFAAAAAAAAokUAzMzMzM9yQQJqZmZmZMJFAzczMzMwvkUDNzMzMzEKRQJqZmZmZr45AmpmZmZkHi0A=",
          "dtype": "f8"
         },
         "type": "candlestick",
         "x": [
          "2025-07-18T00:00:00.000000000",
          "2025-07-17T00:00:00.000000000",
          "2025-07-16T00:00:00.000000000",
          "2025-07-15T00:00:00.000000000",
          "2025-07-14T00:00:00.000000000",
          "2025-07-11T00:00:00.000000000",
          "2025-07-10T00:00:00.000000000",
          "2025-07-09T00:00:00.000000000",
          "2025-07-08T00:00:00.000000000",
          "2025-07-07T00:00:00.000000000",
          "2025-07-04T00:00:00.000000000",
          "2025-07-03T00:00:00.000000000",
          "2025-07-02T00:00:00.000000000",
          "2025-07-01T00:00:00.000000000",
          "2025-06-30T00:00:00.000000000",
          "2025-06-27T00:00:00.000000000",
          "2025-06-26T00:00:00.000000000",
          "2025-06-25T00:00:00.000000000",
          "2025-06-24T00:00:00.000000000",
          "2025-06-23T00:00:00.000000000",
          "2025-06-20T00:00:00.000000000",
          "2025-06-19T00:00:00.000000000",
          "2025-06-18T00:00:00.000000000",
          "2025-06-17T00:00:00.000000000",
          "2025-06-16T00:00:00.000000000",
          "2025-06-13T00:00:00.000000000",
          "2025-06-12T00:00:00.000000000",
          "2025-06-11T00:00:00.000000000",
          "2025-06-10T00:00:00.000000000",
          "2025-06-09T00:00:00.000000000",
          "2025-06-06T00:00:00.000000000",
          "2025-06-05T00:00:00.000000000",
          "2025-06-04T00:00:00.000000000",
          "2025-06-03T00:00:00.000000000",
          "2025-06-02T00:00:00.000000000",
          "2025-05-30T00:00:00.000000000",
          "2025-05-29T00:00:00.000000000",
          "2025-05-28T00:00:00.000000000",
          "2025-05-27T00:00:00.000000000",
          "2025-05-26T00:00:00.000000000",
          "2025-05-23T00:00:00.000000000",
          "2025-05-22T00:00:00.000000000",
          "2025-05-21T00:00:00.000000000",
          "2025-05-20T00:00:00.000000000",
          "2025-05-19T00:00:00.000000000",
          "2025-05-16T00:00:00.000000000",
          "2025-05-15T00:00:00.000000000",
          "2025-05-14T00:00:00.000000000",
          "2025-05-13T00:00:00.000000000",
          "2025-05-12T00:00:00.000000000",
          "2025-05-09T00:00:00.000000000",
          "2025-05-08T00:00:00.000000000",
          "2025-05-07T00:00:00.000000000",
          "2025-05-06T00:00:00.000000000",
          "2025-05-05T00:00:00.000000000",
          "2025-05-02T00:00:00.000000000",
          "2025-04-30T00:00:00.000000000",
          "2025-04-29T00:00:00.000000000",
          "2025-04-28T00:00:00.000000000",
          "2025-04-25T00:00:00.000000000",
          "2025-04-24T00:00:00.000000000",
          "2025-04-23T00:00:00.000000000",
          "2025-04-22T00:00:00.000000000",
          "2025-04-21T00:00:00.000000000",
          "2025-04-17T00:00:00.000000000",
          "2025-04-16T00:00:00.000000000",
          "2025-04-15T00:00:00.000000000",
          "2025-04-11T00:00:00.000000000",
          "2025-04-09T00:00:00.000000000",
          "2025-04-08T00:00:00.000000000",
          "2025-04-07T00:00:00.000000000",
          "2025-04-04T00:00:00.000000000",
          "2025-04-03T00:00:00.000000000",
          "2025-04-02T00:00:00.000000000",
          "2025-04-01T00:00:00.000000000",
          "2025-03-28T00:00:00.000000000",
          "2025-03-27T00:00:00.000000000",
          "2025-03-26T00:00:00.000000000",
          "2025-03-25T00:00:00.000000000",
          "2025-03-24T00:00:00.000000000",
          "2025-03-21T00:00:00.000000000",
          "2025-03-20T00:00:00.000000000",
          "2025-03-19T00:00:00.000000000",
          "2025-03-18T00:00:00.000000000",
          "2025-03-17T00:00:00.000000000",
          "2025-03-13T00:00:00.000000000",
          "2025-03-12T00:00:00.000000000",
          "2025-03-11T00:00:00.000000000",
          "2025-03-10T00:00:00.000000000",
          "2025-03-07T00:00:00.000000000",
          "2025-03-06T00:00:00.000000000",
          "2025-03-05T00:00:00.000000000",
          "2025-03-04T00:00:00.000000000",
          "2025-03-03T00:00:00.000000000",
          "2025-02-28T00:00:00.000000000",
          "2025-02-27T00:00:00.000000000",
          "2025-02-25T00:00:00.000000000",
          "2025-02-24T00:00:00.000000000",
          "2025-02-21T00:00:00.000000000",
          "2025-02-20T00:00:00.000000000"
         ]
        }
       ],
       "layout": {
        "template": {
         "data": {
          "bar": [
           {
            "error_x": {
             "color": "#2a3f5f"
            },
            "error_y": {
             "color": "#2a3f5f"
            },
            "marker": {
             "line": {
              "color": "#E5ECF6",
              "width": 0.5
             },
             "pattern": {
              "fillmode": "overlay",
              "size": 10,
              "solidity": 0.2
             }
            },
            "type": "bar"
           }
          ],
          "barpolar": [
           {
            "marker": {
             "line": {
              "color": "#E5ECF6",
              "width": 0.5
             },
             "pattern": {
              "fillmode": "overlay",
              "size": 10,
              "solidity": 0.2
             }
            },
            "type": "barpolar"
           }
          ],
          "carpet": [
           {
            "aaxis": {
             "endlinecolor": "#2a3f5f",
             "gridcolor": "white",
             "linecolor": "white",
             "minorgridcolor": "white",
             "startlinecolor": "#2a3f5f"
            },
            "baxis": {
             "endlinecolor": "#2a3f5f",
             "gridcolor": "white",
             "linecolor": "white",
             "minorgridcolor": "white",
             "startlinecolor": "#2a3f5f"
            },
            "type": "carpet"
           }
          ],
          "choropleth": [
           {
            "colorbar": {
             "outlinewidth": 0,
             "ticks": ""
            },
            "type": "choropleth"
           }
          ],
          "contour": [
           {
            "colorbar": {
             "outlinewidth": 0,
             "ticks": ""
            },
            "colorscale": [
             [
              0,
              "#0d0887"
             ],
             [
              0.1111111111111111,
              "#46039f"
             ],
             [
              0.2222222222222222,
              "#7201a8"
             ],
             [
              0.3333333333333333,
              "#9c179e"
             ],
             [
              0.4444444444444444,
              "#bd3786"
             ],
             [
              0.5555555555555556,
              "#d8576b"
             ],
             [
              0.6666666666666666,
              "#ed7953"
             ],
             [
              0.7777777777777778,
              "#fb9f3a"
             ],
             [
              0.8888888888888888,
              "#fdca26"
             ],
             [
              1,
              "#f0f921"
             ]
            ],
            "type": "contour"
           }
          ],
          "contourcarpet": [
           {
            "colorbar": {
             "outlinewidth": 0,
             "ticks": ""
            },
            "type": "contourcarpet"
           }
          ],
          "heatmap": [
           {
            "colorbar": {
             "outlinewidth": 0,
             "ticks": ""
            },
            "colorscale": [
             [
              0,
              "#0d0887"
             ],
             [
              0.1111111111111111,
              "#46039f"
             ],
             [
              0.2222222222222222,
              "#7201a8"
             ],
             [
              0.3333333333333333,
              "#9c179e"
             ],
             [
              0.4444444444444444,
              "#bd3786"
             ],
             [
              0.5555555555555556,
              "#d8576b"
             ],
             [
              0.6666666666666666,
              "#ed7953"
             ],
             [
              0.7777777777777778,
              "#fb9f3a"
             ],
             [
              0.8888888888888888,
              "#fdca26"
             ],
             [
              1,
              "#f0f921"
             ]
            ],
            "type": "heatmap"
           }
          ],
          "histogram": [
           {
            "marker": {
             "pattern": {
              "fillmode": "overlay",
              "size": 10,
              "solidity": 0.2
             }
            },
            "type": "histogram"
           }
          ],
          "histogram2d": [
           {
            "colorbar": {
             "outlinewidth": 0,
             "ticks": ""
            },
            "colorscale": [
             [
              0,
              "#0d0887"
             ],
             [
              0.1111111111111111,
              "#46039f"
             ],
             [
              0.2222222222222222,
              "#7201a8"
             ],
             [
              0.3333333333333333,
              "#9c179e"
             ],
             [
              0.4444444444444444,
              "#bd3786"
             ],
             [
              0.5555555555555556,
              "#d8576b"
             ],
             [
              0.6666666666666666,
              "#ed7953"
             ],
             [
              0.7777777777777778,
              "#fb9f3a"
             ],
             [
              0.8888888888888888,
              "#fdca26"
             ],
             [
              1,
              "#f0f921"
             ]
            ],
            "type": "histogram2d"
           }
          ],
          "histogram2dcontour": [
           {
            "colorbar": {
             "outlinewidth": 0,
             "ticks": ""
            },
            "colorscale": [
             [
              0,
              "#0d0887"
             ],
             [
              0.1111111111111111,
              "#46039f"
             ],
             [
              0.2222222222222222,
              "#7201a8"
             ],
             [
              0.3333333333333333,
              "#9c179e"
             ],
             [
              0.4444444444444444,
              "#bd3786"
             ],
             [
              0.5555555555555556,
              "#d8576b"
             ],
             [
              0.6666666666666666,
              "#ed7953"
             ],
             [
              0.7777777777777778,
              "#fb9f3a"
             ],
             [
              0.8888888888888888,
              "#fdca26"
             ],
             [
              1,
              "#f0f921"
             ]
            ],
            "type": "histogram2dcontour"
           }
          ],
          "mesh3d": [
           {
            "colorbar": {
             "outlinewidth": 0,
             "ticks": ""
            },
            "type": "mesh3d"
           }
          ],
          "parcoords": [
           {
            "line": {
             "colorbar": {
              "outlinewidth": 0,
              "ticks": ""
             }
            },
            "type": "parcoords"
           }
          ],
          "pie": [
           {
            "automargin": true,
            "type": "pie"
           }
          ],
          "scatter": [
           {
            "fillpattern": {
             "fillmode": "overlay",
             "size": 10,
             "solidity": 0.2
            },
            "type": "scatter"
           }
          ],
          "scatter3d": [
           {
            "line": {
             "colorbar": {
              "outlinewidth": 0,
              "ticks": ""
             }
            },
            "marker": {
             "colorbar": {
              "outlinewidth": 0,
              "ticks": ""
             }
            },
            "type": "scatter3d"
           }
          ],
          "scattercarpet": [
           {
            "marker": {
             "colorbar": {
              "outlinewidth": 0,
              "ticks": ""
             }
            },
            "type": "scattercarpet"
           }
          ],
          "scattergeo": [
           {
            "marker": {
             "colorbar": {
              "outlinewidth": 0,
              "ticks": ""
             }
            },
            "type": "scattergeo"
           }
          ],
          "scattergl": [
           {
            "marker": {
             "colorbar": {
              "outlinewidth": 0,
              "ticks": ""
             }
            },
            "type": "scattergl"
           }
          ],
          "scattermap": [
           {
            "marker": {
             "colorbar": {
              "outlinewidth": 0,
              "ticks": ""
             }
            },
            "type": "scattermap"
           }
          ],
          "scattermapbox": [
           {
            "marker": {
             "colorbar": {
              "outlinewidth": 0,
              "ticks": ""
             }
            },
            "type": "scattermapbox"
           }
          ],
          "scatterpolar": [
           {
            "marker": {
             "colorbar": {
              "outlinewidth": 0,
              "ticks": ""
             }
            },
            "type": "scatterpolar"
           }
          ],
          "scatterpolargl": [
           {
            "marker": {
             "colorbar": {
              "outlinewidth": 0,
              "ticks": ""
             }
            },
            "type": "scatterpolargl"
           }
          ],
          "scatterternary": [
           {
            "marker": {
             "colorbar": {
              "outlinewidth": 0,
              "ticks": ""
             }
            },
            "type": "scatterternary"
           }
          ],
          "surface": [
           {
            "colorbar": {
             "outlinewidth": 0,
             "ticks": ""
            },
            "colorscale": [
             [
              0,
              "#0d0887"
             ],
             [
              0.1111111111111111,
              "#46039f"
             ],
             [
              0.2222222222222222,
              "#7201a8"
             ],
             [
              0.3333333333333333,
              "#9c179e"
             ],
             [
              0.4444444444444444,
              "#bd3786"
             ],
             [
              0.5555555555555556,
              "#d8576b"
             ],
             [
              0.6666666666666666,
              "#ed7953"
             ],
             [
              0.7777777777777778,
              "#fb9f3a"
             ],
             [
              0.8888888888888888,
              "#fdca26"
             ],
             [
              1,
              "#f0f921"
             ]
            ],
            "type": "surface"
           }
          ],
          "table": [
           {
            "cells": {
             "fill": {
              "color": "#EBF0F8"
             },
             "line": {
              "color": "white"
             }
            },
            "header": {
             "fill": {
              "color": "#C8D4E3"
             },
             "line": {
              "color": "white"
             }
            },
            "type": "table"
           }
          ]
         },
         "layout": {
          "annotationdefaults": {
           "arrowcolor": "#2a3f5f",
           "arrowhead": 0,
           "arrowwidth": 1
          },
          "autotypenumbers": "strict",
          "coloraxis": {
           "colorbar": {
            "outlinewidth": 0,
            "ticks": ""
           }
          },
          "colorscale": {
           "diverging": [
            [
             0,
             "#8e0152"
            ],
            [
             0.1,
             "#c51b7d"
            ],
            [
             0.2,
             "#de77ae"
            ],
            [
             0.3,
             "#f1b6da"
            ],
            [
             0.4,
             "#fde0ef"
            ],
            [
             0.5,
             "#f7f7f7"
            ],
            [
             0.6,
             "#e6f5d0"
            ],
            [
             0.7,
             "#b8e186"
            ],
            [
             0.8,
             "#7fbc41"
            ],
            [
             0.9,
             "#4d9221"
            ],
            [
             1,
             "#276419"
            ]
           ],
           "sequential": [
            [
             0,
             "#0d0887"
            ],
            [
             0.1111111111111111,
             "#46039f"
            ],
            [
             0.2222222222222222,
             "#7201a8"
            ],
            [
             0.3333333333333333,
             "#9c179e"
            ],
            [
             0.4444444444444444,
             "#bd3786"
            ],
            [
             0.5555555555555556,
             "#d8576b"
            ],
            [
             0.6666666666666666,
             "#ed7953"
            ],
            [
             0.7777777777777778,
             "#fb9f3a"
            ],
            [
             0.8888888888888888,
             "#fdca26"
            ],
            [
             1,
             "#f0f921"
            ]
           ],
           "sequentialminus": [
            [
             0,
             "#0d0887"
            ],
            [
             0.1111111111111111,
             "#46039f"
            ],
            [
             0.2222222222222222,
             "#7201a8"
            ],
            [
             0.3333333333333333,
             "#9c179e"
            ],
            [
             0.4444444444444444,
             "#bd3786"
            ],
            [
             0.5555555555555556,
             "#d8576b"
            ],
            [
             0.6666666666666666,
             "#ed7953"
            ],
            [
             0.7777777777777778,
             "#fb9f3a"
            ],
            [
             0.8888888888888888,
             "#fdca26"
            ],
            [
             1,
             "#f0f921"
            ]
           ]
          },
          "colorway": [
           "#636efa",
           "#EF553B",
           "#00cc96",
           "#ab63fa",
           "#FFA15A",
           "#19d3f3",
           "#FF6692",
           "#B6E880",
           "#FF97FF",
           "#FECB52"
          ],
          "font": {
           "color": "#2a3f5f"
          },
          "geo": {
           "bgcolor": "white",
           "lakecolor": "white",
           "landcolor": "#E5ECF6",
           "showlakes": true,
           "showland": true,
           "subunitcolor": "white"
          },
          "hoverlabel": {
           "align": "left"
          },
          "hovermode": "closest",
          "mapbox": {
           "style": "light"
          },
          "paper_bgcolor": "white",
          "plot_bgcolor": "#E5ECF6",
          "polar": {
           "angularaxis": {
            "gridcolor": "white",
            "linecolor": "white",
            "ticks": ""
           },
           "bgcolor": "#E5ECF6",
           "radialaxis": {
            "gridcolor": "white",
            "linecolor": "white",
            "ticks": ""
           }
          },
          "scene": {
           "xaxis": {
            "backgroundcolor": "#E5ECF6",
            "gridcolor": "white",
            "gridwidth": 2,
            "linecolor": "white",
            "showbackground": true,
            "ticks": "",
            "zerolinecolor": "white"
           },
           "yaxis": {
            "backgroundcolor": "#E5ECF6",
            "gridcolor": "white",
            "gridwidth": 2,
            "linecolor": "white",
            "showbackground": true,
            "ticks": "",
            "zerolinecolor": "white"
           },
           "zaxis": {
            "backgroundcolor": "#E5ECF6",
            "gridcolor": "white",
            "gridwidth": 2,
            "linecolor": "white",
            "showbackground": true,
            "ticks": "",
            "zerolinecolor": "white"
           }
          },
          "shapedefaults": {
           "line": {
            "color": "#2a3f5f"
           }
          },
          "ternary": {
           "aaxis": {
            "gridcolor": "white",
            "linecolor": "white",
            "ticks": ""
           },
           "baxis": {
            "gridcolor": "white",
            "linecolor": "white",
            "ticks": ""
           },
           "bgcolor": "#E5ECF6",
           "caxis": {
            "gridcolor": "white",
            "linecolor": "white",
            "ticks": ""
           }
          },
          "title": {
           "x": 0.05
          },
          "xaxis": {
           "automargin": true,
           "gridcolor": "white",
           "linecolor": "white",
           "ticks": "",
           "title": {
            "standoff": 15
           },
           "zerolinecolor": "white",
           "zerolinewidth": 2
          },
          "yaxis": {
           "automargin": true,
           "gridcolor": "white",
           "linecolor": "white",
           "ticks": "",
           "title": {
            "standoff": 15
           },
           "zerolinecolor": "white",
           "zerolinewidth": 2
          }
         }
        },
        "title": {
         "text": "Chandelstick chart"
        },
        "xaxis": {
         "title": {
          "text": "Date"
         }
        }
       }
      }
     },
     "metadata": {},
     "output_type": "display_data"
    }
   ],
   "source": [
    "fig = go.Figure(data=[go.Candlestick(x=df.index,\n",
    "                open=df['1. open'],\n",
    "                high=df['2. high'],\n",
    "                low=df['3. low'],\n",
    "                close=df['4. close'])])\n",
    "\n",
    "fig.show()\n",
    "fig.update_layout(title  = \"Chandelstick chart\",  xaxis_title  = \"Date\" )"
   ]
  },
  {
   "cell_type": "markdown",
   "id": "b63ebe4a",
   "metadata": {},
   "source": [
    "# create class "
   ]
  },
  {
   "cell_type": "code",
   "execution_count": null,
   "id": "7dc07a70",
   "metadata": {},
   "outputs": [],
   "source": [
    "from dataclasses import dataclass\n",
    "import requests\n"
   ]
  },
  {
   "cell_type": "code",
   "execution_count": null,
   "id": "995fce7e",
   "metadata": {},
   "outputs": [],
   "source": [
    "#"
   ]
  },
  {
   "cell_type": "markdown",
   "id": "4e3c0f47",
   "metadata": {},
   "source": [
    "# CLASS"
   ]
  },
  {
   "cell_type": "code",
   "execution_count": 52,
   "id": "bee9b66e",
   "metadata": {},
   "outputs": [],
   "source": [
    "import requests\n",
    "import os\n",
    "import pandas as pd\n",
    "import plotly.graph_objects as go\n",
    "class STOCK_API:\n",
    "    def __init__(self , api_key):\n",
    "        self.api_key  = api_key\n",
    "        self.url  =  \"https://alpha-vantage.p.rapidapi.com/query\"\n",
    "        self.headers = {\"x-rapidapi-key\": api_key,\n",
    "                        \"x-rapidapi-host\": \"alpha-vantage.p.rapidapi.com\"}\n",
    "    \n",
    "\n",
    "    # create method  =\n",
    "    def symbol_search(self,  keyword) : \n",
    "        querystring = {\"datatype\":\"json\",\n",
    "                       \"keywords\":keyword,\n",
    "                       \"function\":\"SYMBOL_SEARCH\"}\n",
    "        response = requests.get(url, headers=headers, params=querystring)\n",
    "        data  = (response.json())\n",
    "        dict1  =  {}\n",
    "        for i  in  data['bestMatches']:\n",
    "            symbols  =  i['1. symbol']\n",
    "            dict1[symbols] = [i['2. name'] ,  i['4. region'] , i['8. currency']]\n",
    "        return dict1  \n",
    "    \n",
    "\n",
    "    # craete method for daily time series data\n",
    "\n",
    "    def  Time_series_daily(self ,  symbol):\n",
    "        querystring = {\"function\":\"TIME_SERIES_DAILY\",\n",
    "                       \"symbol\":symbol,\n",
    "                       \"outputsize\":\"compact\",\"datatype\":\"json\"}\n",
    "        response = requests.get(url, headers=headers, params=querystring)\n",
    "        data1  =  response.json()\n",
    "        df  =  pd.DataFrame(data1['Time Series (Daily)']).T\n",
    "    # change data type\n",
    "        df  =  df.astype(\"float\")\n",
    "\n",
    "        # change index data type\n",
    "        df.index  =  pd.to_datetime(df.index)\n",
    "\n",
    "        # add name to index\n",
    "\n",
    "        df.index.name  =  \"Date\"\n",
    "        return df\n",
    "\n",
    "\n",
    "# create function for plot\n",
    "    def Chart(self  , df):\n",
    "        fig = go.Figure(data=[go.Candlestick(x=df.index,\n",
    "                open=df['1. open'],\n",
    "                high=df['2. high'],\n",
    "                low=df['3. low'],\n",
    "                close=df['4. close'])])\n",
    "     \n",
    "        fig.update_layout(title  = \"Chandelstick chart\",  xaxis_title  = \"Date\" )\n",
    "        return  fig\n",
    "\n",
    "        \n",
    "        \n",
    "      \n",
    "  \n",
    "\n",
    "        \n",
    "        \n",
    "\n",
    "    "
   ]
  },
  {
   "cell_type": "code",
   "execution_count": 53,
   "id": "73b0d851",
   "metadata": {},
   "outputs": [],
   "source": [
    "a  =  STOCK_API(\"API_KEY\")"
   ]
  },
  {
   "cell_type": "code",
   "execution_count": 54,
   "id": "24ee7387",
   "metadata": {},
   "outputs": [
    {
     "data": {
      "text/plain": [
       "{'HDFCAMC.BSE': ['HDFC Asset Management Company Ltd', 'India/Bombay', 'INR'],\n",
       " 'HDFCBANK.BSE': ['HDFC Bank Limited', 'India/Bombay', 'INR'],\n",
       " 'HDFCLIFE.BSE': ['HDFC Life Insurance Company Ltd', 'India/Bombay', 'INR'],\n",
       " 'HDFCBSE500.BSE': ['HDFC S&P BSE 500 ETF', 'India/Bombay', 'INR'],\n",
       " 'HDFCGROWTH.BSE': ['HDFC NIFTY Growth Sectors 15 ETF', 'India/Bombay', 'INR'],\n",
       " 'HDFCLOWVOL.BSE': ['HDFC NIFTY100 Low Volatility 30 ETF',\n",
       "  'India/Bombay',\n",
       "  'INR'],\n",
       " 'HDFCMID150.BSE': ['HDFC NIFTY Midcap 150 ETF', 'India/Bombay', 'INR'],\n",
       " 'HDFCMOMENT.BSE': ['HDFC NIFTY200 Momentum 30 ETF', 'India/Bombay', 'INR'],\n",
       " 'HDFCNEXT50.BSE': ['HDFC Mutual Fund', 'India/Bombay', 'INR'],\n",
       " 'HDFCNIF100.BSE': ['HDFC NIFTY 100 ETF', 'India/Bombay', 'INR']}"
      ]
     },
     "execution_count": 54,
     "metadata": {},
     "output_type": "execute_result"
    }
   ],
   "source": [
    "a.symbol_search('hdfc')"
   ]
  },
  {
   "cell_type": "code",
   "execution_count": 55,
   "id": "388d97db",
   "metadata": {},
   "outputs": [
    {
     "data": {
      "text/html": [
       "<div>\n",
       "<style scoped>\n",
       "    .dataframe tbody tr th:only-of-type {\n",
       "        vertical-align: middle;\n",
       "    }\n",
       "\n",
       "    .dataframe tbody tr th {\n",
       "        vertical-align: top;\n",
       "    }\n",
       "\n",
       "    .dataframe thead th {\n",
       "        text-align: right;\n",
       "    }\n",
       "</style>\n",
       "<table border=\"1\" class=\"dataframe\">\n",
       "  <thead>\n",
       "    <tr style=\"text-align: right;\">\n",
       "      <th></th>\n",
       "      <th>1. open</th>\n",
       "      <th>2. high</th>\n",
       "      <th>3. low</th>\n",
       "      <th>4. close</th>\n",
       "      <th>5. volume</th>\n",
       "    </tr>\n",
       "    <tr>\n",
       "      <th>Date</th>\n",
       "      <th></th>\n",
       "      <th></th>\n",
       "      <th></th>\n",
       "      <th></th>\n",
       "      <th></th>\n",
       "    </tr>\n",
       "  </thead>\n",
       "  <tbody>\n",
       "    <tr>\n",
       "      <th>2025-07-18</th>\n",
       "      <td>22.42</td>\n",
       "      <td>22.49</td>\n",
       "      <td>21.98</td>\n",
       "      <td>22.03</td>\n",
       "      <td>11160.0</td>\n",
       "    </tr>\n",
       "    <tr>\n",
       "      <th>2025-07-17</th>\n",
       "      <td>22.23</td>\n",
       "      <td>22.43</td>\n",
       "      <td>22.12</td>\n",
       "      <td>22.20</td>\n",
       "      <td>16748.0</td>\n",
       "    </tr>\n",
       "    <tr>\n",
       "      <th>2025-07-16</th>\n",
       "      <td>22.28</td>\n",
       "      <td>22.33</td>\n",
       "      <td>22.09</td>\n",
       "      <td>22.20</td>\n",
       "      <td>33273.0</td>\n",
       "    </tr>\n",
       "    <tr>\n",
       "      <th>2025-07-15</th>\n",
       "      <td>22.19</td>\n",
       "      <td>22.20</td>\n",
       "      <td>21.79</td>\n",
       "      <td>22.14</td>\n",
       "      <td>88438.0</td>\n",
       "    </tr>\n",
       "    <tr>\n",
       "      <th>2025-07-14</th>\n",
       "      <td>22.08</td>\n",
       "      <td>22.11</td>\n",
       "      <td>21.65</td>\n",
       "      <td>21.94</td>\n",
       "      <td>80325.0</td>\n",
       "    </tr>\n",
       "    <tr>\n",
       "      <th>...</th>\n",
       "      <td>...</td>\n",
       "      <td>...</td>\n",
       "      <td>...</td>\n",
       "      <td>...</td>\n",
       "      <td>...</td>\n",
       "    </tr>\n",
       "    <tr>\n",
       "      <th>2025-02-25</th>\n",
       "      <td>18.99</td>\n",
       "      <td>18.99</td>\n",
       "      <td>18.35</td>\n",
       "      <td>18.58</td>\n",
       "      <td>41093.0</td>\n",
       "    </tr>\n",
       "    <tr>\n",
       "      <th>2025-02-24</th>\n",
       "      <td>19.10</td>\n",
       "      <td>19.20</td>\n",
       "      <td>18.50</td>\n",
       "      <td>18.70</td>\n",
       "      <td>25352.0</td>\n",
       "    </tr>\n",
       "    <tr>\n",
       "      <th>2025-02-21</th>\n",
       "      <td>18.97</td>\n",
       "      <td>19.24</td>\n",
       "      <td>18.79</td>\n",
       "      <td>19.06</td>\n",
       "      <td>21209.0</td>\n",
       "    </tr>\n",
       "    <tr>\n",
       "      <th>2025-02-20</th>\n",
       "      <td>18.90</td>\n",
       "      <td>19.11</td>\n",
       "      <td>18.43</td>\n",
       "      <td>19.05</td>\n",
       "      <td>43901.0</td>\n",
       "    </tr>\n",
       "    <tr>\n",
       "      <th>2025-02-19</th>\n",
       "      <td>18.85</td>\n",
       "      <td>18.98</td>\n",
       "      <td>18.25</td>\n",
       "      <td>18.83</td>\n",
       "      <td>46422.0</td>\n",
       "    </tr>\n",
       "  </tbody>\n",
       "</table>\n",
       "<p>100 rows × 5 columns</p>\n",
       "</div>"
      ],
      "text/plain": [
       "            1. open  2. high  3. low  4. close  5. volume\n",
       "Date                                                     \n",
       "2025-07-18    22.42    22.49   21.98     22.03    11160.0\n",
       "2025-07-17    22.23    22.43   22.12     22.20    16748.0\n",
       "2025-07-16    22.28    22.33   22.09     22.20    33273.0\n",
       "2025-07-15    22.19    22.20   21.79     22.14    88438.0\n",
       "2025-07-14    22.08    22.11   21.65     21.94    80325.0\n",
       "...             ...      ...     ...       ...        ...\n",
       "2025-02-25    18.99    18.99   18.35     18.58    41093.0\n",
       "2025-02-24    19.10    19.20   18.50     18.70    25352.0\n",
       "2025-02-21    18.97    19.24   18.79     19.06    21209.0\n",
       "2025-02-20    18.90    19.11   18.43     19.05    43901.0\n",
       "2025-02-19    18.85    18.98   18.25     18.83    46422.0\n",
       "\n",
       "[100 rows x 5 columns]"
      ]
     },
     "execution_count": 55,
     "metadata": {},
     "output_type": "execute_result"
    }
   ],
   "source": [
    "a.Time_series_daily('HDFCMID150.BSE')"
   ]
  },
  {
   "cell_type": "code",
   "execution_count": 56,
   "id": "52735e03",
   "metadata": {},
   "outputs": [
    {
     "data": {
      "application/vnd.plotly.v1+json": {
       "config": {
        "plotlyServerURL": "https://plot.ly"
       },
       "data": [
        {
         "close": {
          "bdata": "ZmZmZmYMkkAzMzMzM+mRQDMzMzMz6JFAZmZmZmaHkUBmZmZmZiORQDMzMzMzKZFAZmZmZma5kUCamZmZmemRQAAAAAAABpJAAAAAAAA2kkDNzMzMzDySQJqZmZmZHJJAZmZmZmYUkkCamZmZmd6SQM3MzMzMfJNAmpmZmZmBk0AAAAAAAIGTQDMzMzMzgZNAMzMzMzOVk0BmZmZmZgqUQM3MzMzMEZVAMzMzMzPqlEAAAAAAAAyVQJqZmZmZnJRAMzMzMzNclEBmZmZmZvyTQJqZmZmZNZRAMzMzMzMFlEBmZmZmZqaUQM3MzMzMMJVAAAAAAAA8lUAzMzMzM4mSQDMzMzMzlZJAMzMzMzOZkkAzMzMzM76SQJqZmZmZhZJAZmZmZmZzkkBmZmZmZmiSQM3MzMzMYJJAmpmZmZk3kkCamZmZmUSSQDMzMzMzPZJAZmZmZmYikkCamZmZmRWSQDMzMzMzC5JAAAAAAADbkUAAAAAAAJSRQDMzMzMzRpJAZmZmZmbWkUAAAAAAAIqRQDMzMzMz55BAMzMzMzNZkUCamZmZmZGRQM3MzMzMX5FAzczMzMz8kEAzMzMzM6+QQAAAAAAA65BAAAAAAAA6kUBmZmZmZp6RQDMzMzMzK5FAzczMzMzJkUBmZmZmZjiSQAAAAAAAQZJAMzMzMzOtkUDNzMzMzKORQGZmZmZmt5FAmpmZmZm9kUAzMzMzM7+RQJqZmZmZV5FAMzMzMzP/kEDNzMzMzEuQQJqZmZmZ+pBAmpmZmZlOkUCamZmZmdaRQJqZmZmZDZFAAAAAAAC5kUAzMzMzMySSQAAAAAAA5ZFAAAAAAAB1kkCamZmZmVGTQDMzMzMz4pJAzczMzMyhkkAAAAAAAD6SQM3MzMzMq5FAMzMzMzO5kUAAAAAAAPaRQM3MzMzMoZFAAAAAAACHkUCamZmZmQOSQDMzMzMzaZFAAAAAAAAtkUAzMzMzM1SRQM3MzMzMMZFAAAAAAABBkUAAAAAAACORQDMzMzMzNJFAZmZmZmZekUDNzMzMzDuRQJqZmZmZtZFAAAAAAABMj0A=",
          "dtype": "f8"
         },
         "high": {
          "bdata": "AAAAAAAYkkCamZmZmSCSQAAAAAAAfJJAMzMzMzOWkUAAAAAAAFiRQM3MzMzMqJFAMzMzMzP4kUAAAAAAAEGSQM3MzMzMW5JAmpmZmZldkkAzMzMzM0iTQM3MzMzML5JAZmZmZmYEk0CamZmZmaeTQAAAAAAA5ZNAZmZmZmank0DNzMzMzMOTQJqZmZmZz5NAAAAAAABIlECamZmZmTiVQM3MzMzMiJVAAAAAAACQlUAAAAAAAFSVQM3MzMzM3pRAzczMzMx7lEDNzMzMzBWUQM3MzMzMUZRAMzMzMzOqlEAzMzMzMzWVQAAAAAAAqJVAAAAAAAC+lUAAAAAAAMCSQAAAAAAAtpJAAAAAAAAIk0AAAAAAANSSQM3MzMzM15JAAAAAAADxkkAAAAAAAHiSQAAAAAAAb5JAMzMzMzNpkkAAAAAAAJiSQAAAAAAAcJJAzczMzMyGkkAAAAAAACCSQAAAAAAAKJJAAAAAAAAzkkBmZmZmZkaSQM3MzMzMcZJAAAAAAADkkUAAAAAAAKiRQM3MzMzMT5FAZmZmZma7kUDNzMzMzKmRQAAAAAAAbJFAzczMzMwckUCamZmZmfyQQAAAAAAAQ5FAmpmZmZnQkUCamZmZmauRQJqZmZmZ8pFAzczMzMxlkkBmZmZmZnOSQJqZmZmZl5JAZmZmZmbLkUAAAAAAABuSQJqZmZmZ+pFAAAAAAABHkkCamZmZmfGRQAAAAAAAgJFAzczMzMwjkUAAAAAAAMCQQGZmZmZmj5FAMzMzMzOzkUDNzMzMzDWSQAAAAAAAlJFAAAAAAABbkkDNzMzMzEqSQJqZmZmZu5JAZmZmZmaAk0DNzMzMzMOTQM3MzMzMI5NAAAAAAAAMk0DNzMzMzHKSQJqZmZmZGpJAZmZmZmZakkAzMzMzM/iRQGZmZmZmAZJAmpmZmZkmkkBmZmZmZlmSQAAAAAAAoJFAAAAAAABskUAAAAAAAHCRQJqZmZmZUZFAmpmZmZlukUAzMzMzM2WRQM3MzMzMbJFAAAAAAACUkUAAAAAAAKmRQDMzMzMzpJJAAAAAAAAfkEA=",
          "dtype": "f8"
         },
         "low": {
          "bdata": "mpmZmZmqkUAAAAAAALCRQAAAAAAAlJFAmpmZmZkIkUDNzMzMzOuQQAAAAAAADpFAAAAAAACokUAAAAAAAOCRQGZmZmZm8pFAzczMzMznkUCamZmZmf6RQAAAAAAAlJFAzczMzMzwkUAAAAAAAMWSQM3MzMzMW5NAAAAAAABkk0AzMzMzM1uTQM3MzMzMSZNAmpmZmZl1k0AAAAAAAPSTQAAAAAAAsZRAAAAAAACglEBmZmZmZmGUQAAAAAAAMJRAZmZmZmZrk0AzMzMzM2yTQAAAAAAA9JNAZmZmZmbvk0CamZmZmYOUQDMzMzMzv5RAAAAAAACikkAAAAAAAHqSQDMzMzMzXJJAAAAAAAB6kkDNzMzMzCSSQM3MzMzMEZJAAAAAAABUkkCamZmZmf+RQM3MzMzMIpJAmpmZmZkUkkAAAAAAADSSQM3MzMzM5pFAZmZmZmb4kUBmZmZmZrqRQAAAAAAAlJFAZmZmZmadkUAzMzMzM4aRQDMzMzMzdJFAmpmZmZlgkUAzMzMzM/SQQM3MzMzMppBAZmZmZmZAkUCamZmZmfKQQGZmZmZmv5BAmpmZmZlnkEAzMzMzM4SQQDMzMzMzy5BAMzMzMzMikUAzMzMzMxiRQJqZmZmZ/JBAAAAAAACokUAzMzMzM/yRQJqZmZmZipFAAAAAAACUkUBmZmZmZmCRQGZmZmZmfJFAAAAAAACgkUAAAAAAADCRQJqZmZmZuJBAAAAAAABskEAAAAAAAJCOQAAAAAAArJBAMzMzMzMykUAzMzMzM+CQQGZmZmZmtJBAZmZmZmankUDNzMzMzNWRQJqZmZmZxJFAzczMzMxBkkCamZmZmXySQJqZmZmZj5JAMzMzMzMbkkAAAAAAAJGRQM3MzMzMiZFAAAAAAABtkUAzMzMzMz6RQAAAAAAAUZFAAAAAAAAKkUBmZmZmZmiQQAAAAAAAKJFAAAAAAAAokUBmZmZmZjiQQAAAAAAA9JBAAAAAAAAIkUBmZmZmZo2QQAAAAAAABJFAzczMzMz3kEAAAAAAAMqQQDMzMzMzkY5AzczMzMzcikA=",
          "dtype": "f8"
         },
         "open": {
          "bdata": "AAAAAADckUAzMzMzM8CRQAAAAAAAlJFAmpmZmZkIkUAAAAAAACqRQDMzMzMzqJFAAAAAAAD4kUAAAAAAAAySQM3MzMzMW5JAAAAAAAAgkkDNzMzMzDSSQGZmZmZmAZJAAAAAAADAkkDNzMzMzJuTQJqZmZmZhpNAzczMzMxzk0DNzMzMzMOTQAAAAAAAq5NAAAAAAAAwlEDNzMzMzI6UQAAAAAAA3JRAzczMzMwQlUCamZmZmYeUQDMzMzMzR5RAmpmZmZnYk0AzMzMzM2yTQDMzMzMzBZRAZmZmZmamlEAzMzMzM+GUQDMzMzMz+JRAmpmZmZnCkkBmZmZmZoySQDMzMzMzXJJAZmZmZmbbkkDNzMzMzCSSQM3MzMzM15JAAAAAAABUkkCamZmZmf+RQDMzMzMzXZJAAAAAAAAjkkBmZmZmZn+SQM3MzMzM5pFAzczMzMxHkkAAAAAAAPSRQDMzMzMzrJFAAAAAAAAzkkBmZmZmZkaSQDMzMzMzdJFAMzMzMzOUkUAzMzMzM/SQQM3MzMzMppBAZmZmZma7kUDNzMzMzKeRQGZmZmZmv5BAMzMzMzOvkEAAAAAAAJmQQJqZmZmZ+pBAmpmZmZmWkUAzMzMzM0mRQJqZmZmZ8pFAAAAAAABCkkBmZmZmZmGSQM3MzMzM45FAzczMzMymkUAAAAAAABuSQAAAAAAA5JFAzczMzMwLkkBmZmZmZqqRQJqZmZmZuJBAzczMzMyQkEAAAAAAAJCOQGZmZmZmj5FAMzMzMzOAkUAzMzMzM+CQQAAAAAAAlJFAMzMzMzNZkkAzMzMzM+iRQGZmZmZmfJJAMzMzMzMUk0CamZmZmXySQAAAAAAAqJJAAAAAAABwkkCamZmZmeuRQM3MzMzMiZFAAAAAAAD2kUAAAAAAAISRQGZmZmZmnZFAMzMzMzOAkUBmZmZmZmiQQJqZmZmZLZFAMzMzMzNUkUCamZmZmX6QQAAAAAAACJFAAAAAAAAokUAzMzMzM9yQQJqZmZmZMJFAzczMzMwvkUDNzMzMzEKRQJqZmZmZr45AmpmZmZkHi0A=",
          "dtype": "f8"
         },
         "type": "candlestick",
         "x": [
          "2025-07-18T00:00:00.000000000",
          "2025-07-17T00:00:00.000000000",
          "2025-07-16T00:00:00.000000000",
          "2025-07-15T00:00:00.000000000",
          "2025-07-14T00:00:00.000000000",
          "2025-07-11T00:00:00.000000000",
          "2025-07-10T00:00:00.000000000",
          "2025-07-09T00:00:00.000000000",
          "2025-07-08T00:00:00.000000000",
          "2025-07-07T00:00:00.000000000",
          "2025-07-04T00:00:00.000000000",
          "2025-07-03T00:00:00.000000000",
          "2025-07-02T00:00:00.000000000",
          "2025-07-01T00:00:00.000000000",
          "2025-06-30T00:00:00.000000000",
          "2025-06-27T00:00:00.000000000",
          "2025-06-26T00:00:00.000000000",
          "2025-06-25T00:00:00.000000000",
          "2025-06-24T00:00:00.000000000",
          "2025-06-23T00:00:00.000000000",
          "2025-06-20T00:00:00.000000000",
          "2025-06-19T00:00:00.000000000",
          "2025-06-18T00:00:00.000000000",
          "2025-06-17T00:00:00.000000000",
          "2025-06-16T00:00:00.000000000",
          "2025-06-13T00:00:00.000000000",
          "2025-06-12T00:00:00.000000000",
          "2025-06-11T00:00:00.000000000",
          "2025-06-10T00:00:00.000000000",
          "2025-06-09T00:00:00.000000000",
          "2025-06-06T00:00:00.000000000",
          "2025-06-05T00:00:00.000000000",
          "2025-06-04T00:00:00.000000000",
          "2025-06-03T00:00:00.000000000",
          "2025-06-02T00:00:00.000000000",
          "2025-05-30T00:00:00.000000000",
          "2025-05-29T00:00:00.000000000",
          "2025-05-28T00:00:00.000000000",
          "2025-05-27T00:00:00.000000000",
          "2025-05-26T00:00:00.000000000",
          "2025-05-23T00:00:00.000000000",
          "2025-05-22T00:00:00.000000000",
          "2025-05-21T00:00:00.000000000",
          "2025-05-20T00:00:00.000000000",
          "2025-05-19T00:00:00.000000000",
          "2025-05-16T00:00:00.000000000",
          "2025-05-15T00:00:00.000000000",
          "2025-05-14T00:00:00.000000000",
          "2025-05-13T00:00:00.000000000",
          "2025-05-12T00:00:00.000000000",
          "2025-05-09T00:00:00.000000000",
          "2025-05-08T00:00:00.000000000",
          "2025-05-07T00:00:00.000000000",
          "2025-05-06T00:00:00.000000000",
          "2025-05-05T00:00:00.000000000",
          "2025-05-02T00:00:00.000000000",
          "2025-04-30T00:00:00.000000000",
          "2025-04-29T00:00:00.000000000",
          "2025-04-28T00:00:00.000000000",
          "2025-04-25T00:00:00.000000000",
          "2025-04-24T00:00:00.000000000",
          "2025-04-23T00:00:00.000000000",
          "2025-04-22T00:00:00.000000000",
          "2025-04-21T00:00:00.000000000",
          "2025-04-17T00:00:00.000000000",
          "2025-04-16T00:00:00.000000000",
          "2025-04-15T00:00:00.000000000",
          "2025-04-11T00:00:00.000000000",
          "2025-04-09T00:00:00.000000000",
          "2025-04-08T00:00:00.000000000",
          "2025-04-07T00:00:00.000000000",
          "2025-04-04T00:00:00.000000000",
          "2025-04-03T00:00:00.000000000",
          "2025-04-02T00:00:00.000000000",
          "2025-04-01T00:00:00.000000000",
          "2025-03-28T00:00:00.000000000",
          "2025-03-27T00:00:00.000000000",
          "2025-03-26T00:00:00.000000000",
          "2025-03-25T00:00:00.000000000",
          "2025-03-24T00:00:00.000000000",
          "2025-03-21T00:00:00.000000000",
          "2025-03-20T00:00:00.000000000",
          "2025-03-19T00:00:00.000000000",
          "2025-03-18T00:00:00.000000000",
          "2025-03-17T00:00:00.000000000",
          "2025-03-13T00:00:00.000000000",
          "2025-03-12T00:00:00.000000000",
          "2025-03-11T00:00:00.000000000",
          "2025-03-10T00:00:00.000000000",
          "2025-03-07T00:00:00.000000000",
          "2025-03-06T00:00:00.000000000",
          "2025-03-05T00:00:00.000000000",
          "2025-03-04T00:00:00.000000000",
          "2025-03-03T00:00:00.000000000",
          "2025-02-28T00:00:00.000000000",
          "2025-02-27T00:00:00.000000000",
          "2025-02-25T00:00:00.000000000",
          "2025-02-24T00:00:00.000000000",
          "2025-02-21T00:00:00.000000000",
          "2025-02-20T00:00:00.000000000"
         ]
        }
       ],
       "layout": {
        "template": {
         "data": {
          "bar": [
           {
            "error_x": {
             "color": "#2a3f5f"
            },
            "error_y": {
             "color": "#2a3f5f"
            },
            "marker": {
             "line": {
              "color": "#E5ECF6",
              "width": 0.5
             },
             "pattern": {
              "fillmode": "overlay",
              "size": 10,
              "solidity": 0.2
             }
            },
            "type": "bar"
           }
          ],
          "barpolar": [
           {
            "marker": {
             "line": {
              "color": "#E5ECF6",
              "width": 0.5
             },
             "pattern": {
              "fillmode": "overlay",
              "size": 10,
              "solidity": 0.2
             }
            },
            "type": "barpolar"
           }
          ],
          "carpet": [
           {
            "aaxis": {
             "endlinecolor": "#2a3f5f",
             "gridcolor": "white",
             "linecolor": "white",
             "minorgridcolor": "white",
             "startlinecolor": "#2a3f5f"
            },
            "baxis": {
             "endlinecolor": "#2a3f5f",
             "gridcolor": "white",
             "linecolor": "white",
             "minorgridcolor": "white",
             "startlinecolor": "#2a3f5f"
            },
            "type": "carpet"
           }
          ],
          "choropleth": [
           {
            "colorbar": {
             "outlinewidth": 0,
             "ticks": ""
            },
            "type": "choropleth"
           }
          ],
          "contour": [
           {
            "colorbar": {
             "outlinewidth": 0,
             "ticks": ""
            },
            "colorscale": [
             [
              0,
              "#0d0887"
             ],
             [
              0.1111111111111111,
              "#46039f"
             ],
             [
              0.2222222222222222,
              "#7201a8"
             ],
             [
              0.3333333333333333,
              "#9c179e"
             ],
             [
              0.4444444444444444,
              "#bd3786"
             ],
             [
              0.5555555555555556,
              "#d8576b"
             ],
             [
              0.6666666666666666,
              "#ed7953"
             ],
             [
              0.7777777777777778,
              "#fb9f3a"
             ],
             [
              0.8888888888888888,
              "#fdca26"
             ],
             [
              1,
              "#f0f921"
             ]
            ],
            "type": "contour"
           }
          ],
          "contourcarpet": [
           {
            "colorbar": {
             "outlinewidth": 0,
             "ticks": ""
            },
            "type": "contourcarpet"
           }
          ],
          "heatmap": [
           {
            "colorbar": {
             "outlinewidth": 0,
             "ticks": ""
            },
            "colorscale": [
             [
              0,
              "#0d0887"
             ],
             [
              0.1111111111111111,
              "#46039f"
             ],
             [
              0.2222222222222222,
              "#7201a8"
             ],
             [
              0.3333333333333333,
              "#9c179e"
             ],
             [
              0.4444444444444444,
              "#bd3786"
             ],
             [
              0.5555555555555556,
              "#d8576b"
             ],
             [
              0.6666666666666666,
              "#ed7953"
             ],
             [
              0.7777777777777778,
              "#fb9f3a"
             ],
             [
              0.8888888888888888,
              "#fdca26"
             ],
             [
              1,
              "#f0f921"
             ]
            ],
            "type": "heatmap"
           }
          ],
          "histogram": [
           {
            "marker": {
             "pattern": {
              "fillmode": "overlay",
              "size": 10,
              "solidity": 0.2
             }
            },
            "type": "histogram"
           }
          ],
          "histogram2d": [
           {
            "colorbar": {
             "outlinewidth": 0,
             "ticks": ""
            },
            "colorscale": [
             [
              0,
              "#0d0887"
             ],
             [
              0.1111111111111111,
              "#46039f"
             ],
             [
              0.2222222222222222,
              "#7201a8"
             ],
             [
              0.3333333333333333,
              "#9c179e"
             ],
             [
              0.4444444444444444,
              "#bd3786"
             ],
             [
              0.5555555555555556,
              "#d8576b"
             ],
             [
              0.6666666666666666,
              "#ed7953"
             ],
             [
              0.7777777777777778,
              "#fb9f3a"
             ],
             [
              0.8888888888888888,
              "#fdca26"
             ],
             [
              1,
              "#f0f921"
             ]
            ],
            "type": "histogram2d"
           }
          ],
          "histogram2dcontour": [
           {
            "colorbar": {
             "outlinewidth": 0,
             "ticks": ""
            },
            "colorscale": [
             [
              0,
              "#0d0887"
             ],
             [
              0.1111111111111111,
              "#46039f"
             ],
             [
              0.2222222222222222,
              "#7201a8"
             ],
             [
              0.3333333333333333,
              "#9c179e"
             ],
             [
              0.4444444444444444,
              "#bd3786"
             ],
             [
              0.5555555555555556,
              "#d8576b"
             ],
             [
              0.6666666666666666,
              "#ed7953"
             ],
             [
              0.7777777777777778,
              "#fb9f3a"
             ],
             [
              0.8888888888888888,
              "#fdca26"
             ],
             [
              1,
              "#f0f921"
             ]
            ],
            "type": "histogram2dcontour"
           }
          ],
          "mesh3d": [
           {
            "colorbar": {
             "outlinewidth": 0,
             "ticks": ""
            },
            "type": "mesh3d"
           }
          ],
          "parcoords": [
           {
            "line": {
             "colorbar": {
              "outlinewidth": 0,
              "ticks": ""
             }
            },
            "type": "parcoords"
           }
          ],
          "pie": [
           {
            "automargin": true,
            "type": "pie"
           }
          ],
          "scatter": [
           {
            "fillpattern": {
             "fillmode": "overlay",
             "size": 10,
             "solidity": 0.2
            },
            "type": "scatter"
           }
          ],
          "scatter3d": [
           {
            "line": {
             "colorbar": {
              "outlinewidth": 0,
              "ticks": ""
             }
            },
            "marker": {
             "colorbar": {
              "outlinewidth": 0,
              "ticks": ""
             }
            },
            "type": "scatter3d"
           }
          ],
          "scattercarpet": [
           {
            "marker": {
             "colorbar": {
              "outlinewidth": 0,
              "ticks": ""
             }
            },
            "type": "scattercarpet"
           }
          ],
          "scattergeo": [
           {
            "marker": {
             "colorbar": {
              "outlinewidth": 0,
              "ticks": ""
             }
            },
            "type": "scattergeo"
           }
          ],
          "scattergl": [
           {
            "marker": {
             "colorbar": {
              "outlinewidth": 0,
              "ticks": ""
             }
            },
            "type": "scattergl"
           }
          ],
          "scattermap": [
           {
            "marker": {
             "colorbar": {
              "outlinewidth": 0,
              "ticks": ""
             }
            },
            "type": "scattermap"
           }
          ],
          "scattermapbox": [
           {
            "marker": {
             "colorbar": {
              "outlinewidth": 0,
              "ticks": ""
             }
            },
            "type": "scattermapbox"
           }
          ],
          "scatterpolar": [
           {
            "marker": {
             "colorbar": {
              "outlinewidth": 0,
              "ticks": ""
             }
            },
            "type": "scatterpolar"
           }
          ],
          "scatterpolargl": [
           {
            "marker": {
             "colorbar": {
              "outlinewidth": 0,
              "ticks": ""
             }
            },
            "type": "scatterpolargl"
           }
          ],
          "scatterternary": [
           {
            "marker": {
             "colorbar": {
              "outlinewidth": 0,
              "ticks": ""
             }
            },
            "type": "scatterternary"
           }
          ],
          "surface": [
           {
            "colorbar": {
             "outlinewidth": 0,
             "ticks": ""
            },
            "colorscale": [
             [
              0,
              "#0d0887"
             ],
             [
              0.1111111111111111,
              "#46039f"
             ],
             [
              0.2222222222222222,
              "#7201a8"
             ],
             [
              0.3333333333333333,
              "#9c179e"
             ],
             [
              0.4444444444444444,
              "#bd3786"
             ],
             [
              0.5555555555555556,
              "#d8576b"
             ],
             [
              0.6666666666666666,
              "#ed7953"
             ],
             [
              0.7777777777777778,
              "#fb9f3a"
             ],
             [
              0.8888888888888888,
              "#fdca26"
             ],
             [
              1,
              "#f0f921"
             ]
            ],
            "type": "surface"
           }
          ],
          "table": [
           {
            "cells": {
             "fill": {
              "color": "#EBF0F8"
             },
             "line": {
              "color": "white"
             }
            },
            "header": {
             "fill": {
              "color": "#C8D4E3"
             },
             "line": {
              "color": "white"
             }
            },
            "type": "table"
           }
          ]
         },
         "layout": {
          "annotationdefaults": {
           "arrowcolor": "#2a3f5f",
           "arrowhead": 0,
           "arrowwidth": 1
          },
          "autotypenumbers": "strict",
          "coloraxis": {
           "colorbar": {
            "outlinewidth": 0,
            "ticks": ""
           }
          },
          "colorscale": {
           "diverging": [
            [
             0,
             "#8e0152"
            ],
            [
             0.1,
             "#c51b7d"
            ],
            [
             0.2,
             "#de77ae"
            ],
            [
             0.3,
             "#f1b6da"
            ],
            [
             0.4,
             "#fde0ef"
            ],
            [
             0.5,
             "#f7f7f7"
            ],
            [
             0.6,
             "#e6f5d0"
            ],
            [
             0.7,
             "#b8e186"
            ],
            [
             0.8,
             "#7fbc41"
            ],
            [
             0.9,
             "#4d9221"
            ],
            [
             1,
             "#276419"
            ]
           ],
           "sequential": [
            [
             0,
             "#0d0887"
            ],
            [
             0.1111111111111111,
             "#46039f"
            ],
            [
             0.2222222222222222,
             "#7201a8"
            ],
            [
             0.3333333333333333,
             "#9c179e"
            ],
            [
             0.4444444444444444,
             "#bd3786"
            ],
            [
             0.5555555555555556,
             "#d8576b"
            ],
            [
             0.6666666666666666,
             "#ed7953"
            ],
            [
             0.7777777777777778,
             "#fb9f3a"
            ],
            [
             0.8888888888888888,
             "#fdca26"
            ],
            [
             1,
             "#f0f921"
            ]
           ],
           "sequentialminus": [
            [
             0,
             "#0d0887"
            ],
            [
             0.1111111111111111,
             "#46039f"
            ],
            [
             0.2222222222222222,
             "#7201a8"
            ],
            [
             0.3333333333333333,
             "#9c179e"
            ],
            [
             0.4444444444444444,
             "#bd3786"
            ],
            [
             0.5555555555555556,
             "#d8576b"
            ],
            [
             0.6666666666666666,
             "#ed7953"
            ],
            [
             0.7777777777777778,
             "#fb9f3a"
            ],
            [
             0.8888888888888888,
             "#fdca26"
            ],
            [
             1,
             "#f0f921"
            ]
           ]
          },
          "colorway": [
           "#636efa",
           "#EF553B",
           "#00cc96",
           "#ab63fa",
           "#FFA15A",
           "#19d3f3",
           "#FF6692",
           "#B6E880",
           "#FF97FF",
           "#FECB52"
          ],
          "font": {
           "color": "#2a3f5f"
          },
          "geo": {
           "bgcolor": "white",
           "lakecolor": "white",
           "landcolor": "#E5ECF6",
           "showlakes": true,
           "showland": true,
           "subunitcolor": "white"
          },
          "hoverlabel": {
           "align": "left"
          },
          "hovermode": "closest",
          "mapbox": {
           "style": "light"
          },
          "paper_bgcolor": "white",
          "plot_bgcolor": "#E5ECF6",
          "polar": {
           "angularaxis": {
            "gridcolor": "white",
            "linecolor": "white",
            "ticks": ""
           },
           "bgcolor": "#E5ECF6",
           "radialaxis": {
            "gridcolor": "white",
            "linecolor": "white",
            "ticks": ""
           }
          },
          "scene": {
           "xaxis": {
            "backgroundcolor": "#E5ECF6",
            "gridcolor": "white",
            "gridwidth": 2,
            "linecolor": "white",
            "showbackground": true,
            "ticks": "",
            "zerolinecolor": "white"
           },
           "yaxis": {
            "backgroundcolor": "#E5ECF6",
            "gridcolor": "white",
            "gridwidth": 2,
            "linecolor": "white",
            "showbackground": true,
            "ticks": "",
            "zerolinecolor": "white"
           },
           "zaxis": {
            "backgroundcolor": "#E5ECF6",
            "gridcolor": "white",
            "gridwidth": 2,
            "linecolor": "white",
            "showbackground": true,
            "ticks": "",
            "zerolinecolor": "white"
           }
          },
          "shapedefaults": {
           "line": {
            "color": "#2a3f5f"
           }
          },
          "ternary": {
           "aaxis": {
            "gridcolor": "white",
            "linecolor": "white",
            "ticks": ""
           },
           "baxis": {
            "gridcolor": "white",
            "linecolor": "white",
            "ticks": ""
           },
           "bgcolor": "#E5ECF6",
           "caxis": {
            "gridcolor": "white",
            "linecolor": "white",
            "ticks": ""
           }
          },
          "title": {
           "x": 0.05
          },
          "xaxis": {
           "automargin": true,
           "gridcolor": "white",
           "linecolor": "white",
           "ticks": "",
           "title": {
            "standoff": 15
           },
           "zerolinecolor": "white",
           "zerolinewidth": 2
          },
          "yaxis": {
           "automargin": true,
           "gridcolor": "white",
           "linecolor": "white",
           "ticks": "",
           "title": {
            "standoff": 15
           },
           "zerolinecolor": "white",
           "zerolinewidth": 2
          }
         }
        },
        "title": {
         "text": "Chandelstick chart"
        },
        "xaxis": {
         "title": {
          "text": "Date"
         }
        }
       }
      }
     },
     "metadata": {},
     "output_type": "display_data"
    }
   ],
   "source": [
    "a.Chart(df)"
   ]
  },
  {
   "cell_type": "code",
   "execution_count": null,
   "id": "c39b171d",
   "metadata": {},
   "outputs": [],
   "source": []
  },
  {
   "cell_type": "code",
   "execution_count": null,
   "metadata": {},
   "outputs": [],
   "source": []
  },
  {
   "cell_type": "code",
   "execution_count": null,
   "metadata": {},
   "outputs": [],
   "source": []
  },
  {
   "cell_type": "code",
   "execution_count": 36,
   "id": "acc70359",
   "metadata": {},
   "outputs": [],
   "source": [
    "a  = STOCK_API(\"7dd9fac50dmshac6c38af66d8473p18f43ajsnd7d57333f652\")"
   ]
  },
  {
   "cell_type": "code",
   "execution_count": 37,
   "id": "093e8750",
   "metadata": {},
   "outputs": [
    {
     "data": {
      "text/plain": [
       "{'GODREJCP.BSE': ['GODREJ CONSUMER PRODUCTS LTD.', 'India/Bombay', 'INR'],\n",
       " 'GODREJIND.BSE': ['GODREJ INDUSTRIES LTD.', 'India/Bombay', 'INR'],\n",
       " 'GODREJAGRO.BSE': ['Godrej Agrovet Ltd', 'India/Bombay', 'INR'],\n",
       " 'GODREJPROP.BSE': ['Godrej Properties Ltd', 'India/Bombay', 'INR'],\n",
       " '540743.BSE': ['Godrej Agrovet Limited', 'India/Bombay', 'INR'],\n",
       " '532424.BSE': ['Godrej Consumer Products Limited', 'India/Bombay', 'INR']}"
      ]
     },
     "execution_count": 37,
     "metadata": {},
     "output_type": "execute_result"
    }
   ],
   "source": [
    "a.symbol_search('godrej')"
   ]
  },
  {
   "cell_type": "code",
   "execution_count": null,
   "id": "c142abc7",
   "metadata": {},
   "outputs": [],
   "source": []
  },
  {
   "cell_type": "code",
   "execution_count": null,
   "id": "c77fc430",
   "metadata": {},
   "outputs": [],
   "source": []
  },
  {
   "cell_type": "code",
   "execution_count": null,
   "id": "26170878",
   "metadata": {},
   "outputs": [],
   "source": []
  },
  {
   "cell_type": "code",
   "execution_count": null,
   "id": "c1b9132b",
   "metadata": {},
   "outputs": [],
   "source": []
  },
  {
   "cell_type": "code",
   "execution_count": null,
   "id": "4939eaa0",
   "metadata": {},
   "outputs": [],
   "source": []
  },
  {
   "cell_type": "code",
   "execution_count": null,
   "id": "11232763",
   "metadata": {},
   "outputs": [],
   "source": [
    "import streamlit as st\n",
    "from client import STOCK_API\n",
    "import plotly.graph_objects as go\n",
    " \n",
    "st.set_page_config(page_title=\"STOCK MARKET APP\", layout='wide')\n",
    " \n",
    "st.title(\"Stock Market App\")\n",
    "st.subheader(\"by Varsha Mhetre\")\n",
    " \n",
    "company = st.text_input(\"Enter Company Name\")\n",
    " \n",
    "@st.cache_resource(ttl=3600)\n",
    "def fetch_data():\n",
    "    return STOCK_API(api_key=st.secrets[\"API_KEY\"])\n",
    " \n",
    "stock_api = fetch_data()\n",
    " \n",
    "@st.cache_data(ttl=3600)\n",
    "def get_symbol(company_name):\n",
    "    return stock_api.symbol_search(company_name)\n",
    " \n",
    "@st.cache_data(ttl=3600)\n",
    "def plot_graph(symbol):\n",
    "    df = stock_api.daily_data(symbol)\n",
    "    fig = stock_api.plot_chart(df)\n",
    "    return fig\n",
    " \n",
    "if company:\n",
    "    company_data = get_symbol(company)\n",
    " \n",
    "    if company_data:\n",
    "        symbol_list = list(company_data.keys())\n",
    "        option = st.selectbox(\"Select Stock Symbol\", symbol_list)\n",
    " \n",
    "        selected_info = company_data[option]\n",
    " \n",
    "        st.success(f\"**Company Name:** {selected_info[0]}\")\n",
    "        st.success(f\"**Region:** {selected_info[1]}\")\n",
    "        st.success(f\"**Currency:** {selected_info[2]}\")\n",
    "\n",
    "        submit = st.button(\"plot\" , type  = \"primary\")\n",
    "\n",
    "\n",
    " \n",
    "        # Show chart immediately\n",
    "        if submit:\n",
    "            fig = plot_graph(option)\n",
    "            st.plotly_chart(fig, use_container_width=True)\n",
    "    else:\n",
    "        st.warning(\"No matching company found.\")"
   ]
  },
  {
   "cell_type": "code",
   "execution_count": null,
   "id": "a22fe1fa",
   "metadata": {},
   "outputs": [],
   "source": []
  },
  {
   "cell_type": "code",
   "execution_count": null,
   "id": "40bf48b0",
   "metadata": {},
   "outputs": [],
   "source": [
    "import streamlit as st\n",
    "from client import STOCK_API\n",
    "import plotly.graph_objects as go\n",
    "\n",
    "st.set_page_config(page_title  = 'stock_marketapp' ,  layout = 'wide')\n",
    "st.subheader(\"By varsha Mhetre\")\n",
    "st.title(\"Stock mArket Data\")\n",
    "company  =  st.text_input(\"enter compnay name\")\n",
    "\n",
    "\n",
    "\n",
    "st.cache_rescourse(ttl  = 3600)\n",
    "def fetch_data():\n",
    "    return STOCK_API(api_key  = st.secrets['API_KEY'])\n",
    "\n",
    "stock_api  =  fetch_data()\n",
    "\n",
    "\n",
    "# get symbol\n",
    "\n",
    "\n",
    "@st.cache_data(ttl  =  3600)\n",
    "def  get_symbol(company_name):\n",
    "    return  stock_api.symbol_search(company_name)\n",
    "\n",
    "\n",
    "\n",
    "@st.cache_data(ttl=3600)\n",
    "def plot_graph(symbol):\n",
    "    df = stock_api.daily_data(symbol)\n",
    "    fig = stock_api.plot_chart(df)\n",
    "    return fig\n",
    "\n",
    "\n",
    "\n"
   ]
  }
 ],
 "metadata": {
  "kernelspec": {
   "display_name": "venv",
   "language": "python",
   "name": "python3"
  },
  "language_info": {
   "codemirror_mode": {
    "name": "ipython",
    "version": 3
   },
   "file_extension": ".py",
   "mimetype": "text/x-python",
   "name": "python",
   "nbconvert_exporter": "python",
   "pygments_lexer": "ipython3",
   "version": "3.13.5"
  }
 },
 "nbformat": 4,
 "nbformat_minor": 5
}
