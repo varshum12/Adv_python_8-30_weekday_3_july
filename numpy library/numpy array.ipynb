{
 "cells": [
  {
   "attachments": {
    "image.png": {
     "image/png": "[encoded data removed]"
    }
   },
   "cell_type": "markdown",
   "id": "28c8dc20",
   "metadata": {},
   "source": [
    "![image.png](attachment:image.png)"
   ]
  },
  {
   "cell_type": "code",
   "execution_count": 1,
   "id": "09cc18bc",
   "metadata": {},
   "outputs": [
    {
     "data": {
      "text/plain": [
       "[12, 35, 67, 7]"
      ]
     },
     "execution_count": 1,
     "metadata": {},
     "output_type": "execute_result"
    }
   ],
   "source": [
    "l  = [12,35,67,7]\n",
    "l"
   ]
  },
  {
   "cell_type": "code",
   "execution_count": 2,
   "id": "d3096685",
   "metadata": {},
   "outputs": [],
   "source": [
    "import numpy as np"
   ]
  },
  {
   "cell_type": "code",
   "execution_count": 3,
   "id": "2233063e",
   "metadata": {},
   "outputs": [],
   "source": [
    "ar1  =  np.array(l)"
   ]
  },
  {
   "cell_type": "code",
   "execution_count": 4,
   "id": "90e7910f",
   "metadata": {},
   "outputs": [
    {
     "data": {
      "text/plain": [
       "array([12, 35, 67,  7])"
      ]
     },
     "execution_count": 4,
     "metadata": {},
     "output_type": "execute_result"
    }
   ],
   "source": [
    "ar1"
   ]
  },
  {
   "cell_type": "code",
   "execution_count": null,
   "id": "8f48b6a3",
   "metadata": {},
   "outputs": [],
   "source": [
    "# attributes used\n",
    "- ndim\n",
    "- size\n",
    "- shape"
   ]
  },
  {
   "cell_type": "code",
   "execution_count": 5,
   "metadata": {},
   "outputs": [
    {
     "data": {
      "text/plain": [
       "1"
      ]
     },
     "execution_count": 5,
     "metadata": {},
     "output_type": "execute_result"
    }
   ],
   "source": [
    "ar1.ndim"
   ]
  },
  {
   "cell_type": "code",
   "execution_count": 6,
   "id": "d12ab70d",
   "metadata": {},
   "outputs": [
    {
     "data": {
      "text/plain": [
       "(4,)"
      ]
     },
     "execution_count": 6,
     "metadata": {},
     "output_type": "execute_result"
    }
   ],
   "source": [
    "ar1.shape"
   ]
  },
  {
   "cell_type": "code",
   "execution_count": 7,
   "metadata": {},
   "outputs": [
    {
     "data": {
      "text/plain": [
       "4"
      ]
     },
     "execution_count": 7,
     "metadata": {},
     "output_type": "execute_result"
    }
   ],
   "source": [
    "ar1.size"
   ]
  },
  {
   "cell_type": "code",
   "execution_count": 8,
   "metadata": {},
   "outputs": [
    {
     "data": {
      "text/plain": [
       "numpy.ndarray"
      ]
     },
     "execution_count": 8,
     "metadata": {},
     "output_type": "execute_result"
    }
   ],
   "source": [
    "type(ar1)"
   ]
  },
  {
   "cell_type": "code",
   "execution_count": 9,
   "id": "d82f93ab",
   "metadata": {},
   "outputs": [
    {
     "data": {
      "text/plain": [
       "dtype('int64')"
      ]
     },
     "execution_count": 9,
     "metadata": {},
     "output_type": "execute_result"
    }
   ],
   "source": [
    "ar1.dtype"
   ]
  },
  {
   "cell_type": "code",
   "execution_count": 10,
   "metadata": {},
   "outputs": [],
   "source": [
    "ar2  =  np.array(['s' , \"v\" , 23,56])"
   ]
  },
  {
   "cell_type": "code",
   "execution_count": 11,
   "id": "ed886d40",
   "metadata": {},
   "outputs": [
    {
     "data": {
      "text/plain": [
       "dtype('<U21')"
      ]
     },
     "execution_count": 11,
     "metadata": {},
     "output_type": "execute_result"
    }
   ],
   "source": [
    "ar2.dtype"
   ]
  },
  {
   "cell_type": "code",
   "execution_count": 12,
   "id": "e90639cb",
   "metadata": {},
   "outputs": [],
   "source": [
    "ar3  =  np.array([12 ,34 ,45.45 , 56.76])"
   ]
  },
  {
   "cell_type": "code",
   "execution_count": 13,
   "id": "685e693d",
   "metadata": {},
   "outputs": [
    {
     "data": {
      "text/plain": [
       "dtype('float64')"
      ]
     },
     "execution_count": 13,
     "metadata": {},
     "output_type": "execute_result"
    }
   ],
   "source": [
    "ar3.dtype"
   ]
  },
  {
   "cell_type": "code",
   "execution_count": null,
   "id": "5838ae27",
   "metadata": {},
   "outputs": [],
   "source": [
    "# array contains only homogenous data types"
   ]
  },
  {
   "cell_type": "code",
   "execution_count": 14,
   "id": "31e087ce",
   "metadata": {},
   "outputs": [],
   "source": [
    "l1  =  [[12 ,23 ,34,45] , [56,67,78,89]]\n"
   ]
  },
  {
   "cell_type": "code",
   "execution_count": 15,
   "id": "9e92f1d8",
   "metadata": {},
   "outputs": [],
   "source": [
    "ar4  =  np.array(l1)"
   ]
  },
  {
   "cell_type": "code",
   "execution_count": 18,
   "id": "3387ff4b",
   "metadata": {},
   "outputs": [
    {
     "data": {
      "text/plain": [
       "2"
      ]
     },
     "execution_count": 18,
     "metadata": {},
     "output_type": "execute_result"
    }
   ],
   "source": [
    "ar4.ndim"
   ]
  },
  {
   "cell_type": "code",
   "execution_count": 19,
   "id": "1d8d7c7f",
   "metadata": {},
   "outputs": [
    {
     "data": {
      "text/plain": [
       "array([[12, 23, 34, 45],\n",
       "       [56, 67, 78, 89]])"
      ]
     },
     "execution_count": 19,
     "metadata": {},
     "output_type": "execute_result"
    }
   ],
   "source": [
    "ar4"
   ]
  },
  {
   "cell_type": "code",
   "execution_count": 20,
   "id": "46b133f3",
   "metadata": {},
   "outputs": [
    {
     "data": {
      "text/plain": [
       "(2, 4)"
      ]
     },
     "execution_count": 20,
     "metadata": {},
     "output_type": "execute_result"
    }
   ],
   "source": [
    "ar4.shape"
   ]
  },
  {
   "cell_type": "code",
   "execution_count": 21,
   "id": "5d8c0e62",
   "metadata": {},
   "outputs": [
    {
     "data": {
      "text/plain": [
       "8"
      ]
     },
     "execution_count": 21,
     "metadata": {},
     "output_type": "execute_result"
    }
   ],
   "source": [
    "ar4.size"
   ]
  },
  {
   "cell_type": "code",
   "execution_count": 22,
   "id": "e774eb5f",
   "metadata": {},
   "outputs": [],
   "source": [
    "# create 3 d array\n",
    "l3 =  [[[1,2,3], [4,5,6] , [7,8,9]]]"
   ]
  },
  {
   "cell_type": "code",
   "execution_count": 23,
   "id": "bb61d3ce",
   "metadata": {},
   "outputs": [],
   "source": [
    "ar5  =  np.array(l3)"
   ]
  },
  {
   "cell_type": "code",
   "execution_count": 24,
   "id": "23e323d6",
   "metadata": {},
   "outputs": [
    {
     "data": {
      "text/plain": [
       "(1, 3, 3)"
      ]
     },
     "execution_count": 24,
     "metadata": {},
     "output_type": "execute_result"
    }
   ],
   "source": [
    "ar5.shape"
   ]
  },
  {
   "cell_type": "code",
   "execution_count": 25,
   "id": "cfc7812d",
   "metadata": {},
   "outputs": [
    {
     "data": {
      "text/plain": [
       "3"
      ]
     },
     "execution_count": 25,
     "metadata": {},
     "output_type": "execute_result"
    }
   ],
   "source": [
    "ar5.ndim"
   ]
  },
  {
   "cell_type": "code",
   "execution_count": 37,
   "id": "47c3609c",
   "metadata": {},
   "outputs": [],
   "source": [
    "l4=  [[[1,2,3], [4,5,6]] ,[ [7,8,9], [10 ,11,12]]]"
   ]
  },
  {
   "cell_type": "code",
   "execution_count": 39,
   "id": "e68afefd",
   "metadata": {},
   "outputs": [],
   "source": [
    "ar6 = np.array(l4)"
   ]
  },
  {
   "cell_type": "code",
   "execution_count": 41,
   "id": "875b53b9",
   "metadata": {},
   "outputs": [
    {
     "data": {
      "text/plain": [
       "3"
      ]
     },
     "execution_count": 41,
     "metadata": {},
     "output_type": "execute_result"
    }
   ],
   "source": [
    "ar6.ndim"
   ]
  },
  {
   "cell_type": "code",
   "execution_count": 42,
   "id": "6371ce23",
   "metadata": {},
   "outputs": [
    {
     "data": {
      "text/plain": [
       "(2, 2, 3)"
      ]
     },
     "execution_count": 42,
     "metadata": {},
     "output_type": "execute_result"
    }
   ],
   "source": [
    "ar6.shape"
   ]
  },
  {
   "cell_type": "code",
   "execution_count": 43,
   "id": "9df871a0",
   "metadata": {},
   "outputs": [
    {
     "data": {
      "text/plain": [
       "array([[[ 1,  2,  3],\n",
       "        [ 4,  5,  6]],\n",
       "\n",
       "       [[ 7,  8,  9],\n",
       "        [10, 11, 12]]])"
      ]
     },
     "execution_count": 43,
     "metadata": {},
     "output_type": "execute_result"
    }
   ],
   "source": [
    "ar6"
   ]
  },
  {
   "cell_type": "code",
   "execution_count": 46,
   "id": "6b83a3c1",
   "metadata": {},
   "outputs": [],
   "source": [
    "# create 2 d array\n",
    "ar_2d  =  np.array([[1,2,3] , [5,6,7]])"
   ]
  },
  {
   "cell_type": "code",
   "execution_count": 47,
   "id": "d7f54011",
   "metadata": {},
   "outputs": [
    {
     "data": {
      "text/plain": [
       "array([[1, 2, 3],\n",
       "       [5, 6, 7]])"
      ]
     },
     "execution_count": 47,
     "metadata": {},
     "output_type": "execute_result"
    }
   ],
   "source": [
    "ar_2d"
   ]
  },
  {
   "cell_type": "markdown",
   "id": "6ecc372a",
   "metadata": {},
   "source": [
    "# functions used on array\n",
    "- sum \n",
    "- max\n",
    "- min\n",
    "- mean \n",
    "- prod\n",
    "- argmax\n",
    "- argmin\n",
    "- sqaure \n",
    "- sqrt \n"
   ]
  },
  {
   "cell_type": "code",
   "execution_count": 48,
   "id": "aeb2d2e6",
   "metadata": {},
   "outputs": [
    {
     "data": {
      "text/plain": [
       "array([12, 35, 67,  7])"
      ]
     },
     "execution_count": 48,
     "metadata": {},
     "output_type": "execute_result"
    }
   ],
   "source": [
    "ar1"
   ]
  },
  {
   "cell_type": "code",
   "execution_count": 49,
   "id": "a43278f6",
   "metadata": {},
   "outputs": [
    {
     "data": {
      "text/plain": [
       "np.int64(121)"
      ]
     },
     "execution_count": 49,
     "metadata": {},
     "output_type": "execute_result"
    }
   ],
   "source": [
    "np.sum(ar1)"
   ]
  },
  {
   "cell_type": "code",
   "execution_count": 51,
   "id": "23f2f86b",
   "metadata": {},
   "outputs": [
    {
     "data": {
      "text/plain": [
       "array([[1, 2, 3],\n",
       "       [5, 6, 7]])"
      ]
     },
     "execution_count": 51,
     "metadata": {},
     "output_type": "execute_result"
    }
   ],
   "source": [
    "ar_2d"
   ]
  },
  {
   "cell_type": "code",
   "execution_count": 52,
   "id": "141c15b6",
   "metadata": {},
   "outputs": [
    {
     "data": {
      "text/plain": [
       "np.int64(24)"
      ]
     },
     "execution_count": 52,
     "metadata": {},
     "output_type": "execute_result"
    }
   ],
   "source": [
    "np.sum(ar_2d)"
   ]
  },
  {
   "cell_type": "code",
   "execution_count": 53,
   "id": "f584f623",
   "metadata": {},
   "outputs": [
    {
     "data": {
      "text/plain": [
       "array([ 6,  8, 10])"
      ]
     },
     "execution_count": 53,
     "metadata": {},
     "output_type": "execute_result"
    }
   ],
   "source": [
    "# take summation of axis 0\n",
    "np.sum(ar_2d , axis  = 0)"
   ]
  },
  {
   "cell_type": "code",
   "execution_count": 54,
   "id": "42a50e51",
   "metadata": {},
   "outputs": [
    {
     "data": {
      "text/plain": [
       "array([ 6, 18])"
      ]
     },
     "execution_count": 54,
     "metadata": {},
     "output_type": "execute_result"
    }
   ],
   "source": [
    "np.sum(ar_2d , axis =  1)"
   ]
  },
  {
   "cell_type": "code",
   "execution_count": 55,
   "id": "958de398",
   "metadata": {},
   "outputs": [
    {
     "data": {
      "text/plain": [
       "np.float64(30.25)"
      ]
     },
     "execution_count": 55,
     "metadata": {},
     "output_type": "execute_result"
    }
   ],
   "source": [
    "np.mean(ar1)"
   ]
  },
  {
   "cell_type": "code",
   "execution_count": 56,
   "id": "a9156674",
   "metadata": {},
   "outputs": [
    {
     "data": {
      "text/plain": [
       "np.int64(196980)"
      ]
     },
     "execution_count": 56,
     "metadata": {},
     "output_type": "execute_result"
    }
   ],
   "source": [
    "np.prod(ar1)"
   ]
  },
  {
   "cell_type": "code",
   "execution_count": 57,
   "id": "4535da74",
   "metadata": {},
   "outputs": [
    {
     "data": {
      "text/plain": [
       "np.int64(1260)"
      ]
     },
     "execution_count": 57,
     "metadata": {},
     "output_type": "execute_result"
    }
   ],
   "source": [
    "np.prod(ar_2d)"
   ]
  },
  {
   "cell_type": "code",
   "execution_count": 58,
   "id": "ba3bc203",
   "metadata": {},
   "outputs": [
    {
     "data": {
      "text/plain": [
       "array([  6, 210])"
      ]
     },
     "execution_count": 58,
     "metadata": {},
     "output_type": "execute_result"
    }
   ],
   "source": [
    "np.prod(ar_2d ,axis =  1)"
   ]
  },
  {
   "cell_type": "code",
   "execution_count": 59,
   "id": "5c134159",
   "metadata": {},
   "outputs": [
    {
     "data": {
      "text/plain": [
       "array([12, 35, 67,  7])"
      ]
     },
     "execution_count": 59,
     "metadata": {},
     "output_type": "execute_result"
    }
   ],
   "source": [
    "ar1"
   ]
  },
  {
   "cell_type": "code",
   "execution_count": 60,
   "id": "80af0c5b",
   "metadata": {},
   "outputs": [
    {
     "data": {
      "text/plain": [
       "np.int64(2)"
      ]
     },
     "execution_count": 60,
     "metadata": {},
     "output_type": "execute_result"
    }
   ],
   "source": [
    "# argmax , argmin\n",
    "np.argmax(ar1)"
   ]
  },
  {
   "cell_type": "code",
   "execution_count": 61,
   "id": "4608be60",
   "metadata": {},
   "outputs": [
    {
     "data": {
      "text/plain": [
       "np.int64(3)"
      ]
     },
     "execution_count": 61,
     "metadata": {},
     "output_type": "execute_result"
    }
   ],
   "source": [
    "np.argmin(ar1)"
   ]
  },
  {
   "cell_type": "code",
   "execution_count": 62,
   "id": "eeb9597b",
   "metadata": {},
   "outputs": [
    {
     "data": {
      "text/plain": [
       "array([[1, 2, 3],\n",
       "       [5, 6, 7]])"
      ]
     },
     "execution_count": 62,
     "metadata": {},
     "output_type": "execute_result"
    }
   ],
   "source": [
    "ar_2d"
   ]
  },
  {
   "cell_type": "code",
   "execution_count": 63,
   "id": "7811e303",
   "metadata": {},
   "outputs": [
    {
     "data": {
      "text/plain": [
       "np.int64(5)"
      ]
     },
     "execution_count": 63,
     "metadata": {},
     "output_type": "execute_result"
    }
   ],
   "source": [
    "np.argmax(ar_2d)"
   ]
  },
  {
   "cell_type": "code",
   "execution_count": 64,
   "id": "f33c827a",
   "metadata": {},
   "outputs": [
    {
     "data": {
      "text/plain": [
       "np.int64(0)"
      ]
     },
     "execution_count": 64,
     "metadata": {},
     "output_type": "execute_result"
    }
   ],
   "source": [
    "np.argmin(ar_2d)"
   ]
  },
  {
   "cell_type": "code",
   "execution_count": 65,
   "id": "40dc4f6d",
   "metadata": {},
   "outputs": [
    {
     "data": {
      "text/plain": [
       "array([1, 1, 1])"
      ]
     },
     "execution_count": 65,
     "metadata": {},
     "output_type": "execute_result"
    }
   ],
   "source": [
    "np.argmax(ar_2d , axis  =  0)"
   ]
  },
  {
   "cell_type": "code",
   "execution_count": 66,
   "id": "cd846335",
   "metadata": {},
   "outputs": [
    {
     "data": {
      "text/plain": [
       "array([0, 0])"
      ]
     },
     "execution_count": 66,
     "metadata": {},
     "output_type": "execute_result"
    }
   ],
   "source": [
    "np.argmin(ar_2d , axis  =  1)"
   ]
  },
  {
   "cell_type": "code",
   "execution_count": 69,
   "id": "ea2abb54",
   "metadata": {},
   "outputs": [
    {
     "name": "stdout",
     "output_type": "stream",
     "text": [
      "[12 35 67  7]\n"
     ]
    },
    {
     "data": {
      "text/plain": [
       "array([ 144, 1225, 4489,   49])"
      ]
     },
     "execution_count": 69,
     "metadata": {},
     "output_type": "execute_result"
    }
   ],
   "source": [
    "# square , sqrtar1\n",
    "print(ar1)\n",
    "\n",
    "np.square(ar1)"
   ]
  },
  {
   "cell_type": "code",
   "execution_count": 70,
   "id": "319a3c0e",
   "metadata": {},
   "outputs": [
    {
     "data": {
      "text/plain": [
       "array([3.46410162, 5.91607978, 8.18535277, 2.64575131])"
      ]
     },
     "execution_count": 70,
     "metadata": {},
     "output_type": "execute_result"
    }
   ],
   "source": [
    "np.sqrt(ar1)"
   ]
  },
  {
   "cell_type": "code",
   "execution_count": 73,
   "id": "0f1bd758",
   "metadata": {},
   "outputs": [
    {
     "data": {
      "text/plain": [
       "array([2.28942849, 3.27106631, 4.0615481 , 1.91293118])"
      ]
     },
     "execution_count": 73,
     "metadata": {},
     "output_type": "execute_result"
    }
   ],
   "source": [
    "np.cbrt(ar1)"
   ]
  },
  {
   "cell_type": "code",
   "execution_count": 74,
   "id": "f93629a2",
   "metadata": {},
   "outputs": [
    {
     "name": "stdout",
     "output_type": "stream",
     "text": [
      "26.5\n",
      "4\n",
      "56\n",
      "106\n",
      "91392\n"
     ]
    }
   ],
   "source": [
    "l  =  [12,34,56,4]\n",
    "print(np.mean(l))\n",
    "print(np.min(l))\n",
    "print(np.max(l))\n",
    "print(np.sum(l))\n",
    "print(np.prod(l))"
   ]
  },
  {
   "cell_type": "code",
   "execution_count": 77,
   "id": "c8e9d894",
   "metadata": {},
   "outputs": [
    {
     "data": {
      "text/plain": [
       "[1, 3, 6, 7, 8, 5, 6, 8, 9, 10]"
      ]
     },
     "execution_count": 77,
     "metadata": {},
     "output_type": "execute_result"
    }
   ],
   "source": [
    "l =  [1,3,6,7,8]\n",
    "n  =  [5,6,8,9, 10]\n",
    "l  +  n"
   ]
  },
  {
   "cell_type": "code",
   "execution_count": 78,
   "id": "613a0491",
   "metadata": {},
   "outputs": [],
   "source": [
    "ar  =  np.array(l)"
   ]
  },
  {
   "cell_type": "code",
   "execution_count": 80,
   "id": "ea24242b",
   "metadata": {},
   "outputs": [],
   "source": [
    "\n",
    "n_ar  =  np.array(n)"
   ]
  },
  {
   "cell_type": "code",
   "execution_count": 88,
   "id": "a2dc6ed7",
   "metadata": {},
   "outputs": [
    {
     "name": "stdout",
     "output_type": "stream",
     "text": [
      "[1 3 6 7 8]\n",
      "[ 5  6  8  9 10]\n",
      "[ 6  9 14 16 18]\n",
      "[-4 -3 -2 -2 -2]\n"
     ]
    }
   ],
   "source": [
    "print(ar)\n",
    "print(n_ar)\n",
    "print(ar+n_ar)\n",
    "print(ar - n_ar)"
   ]
  },
  {
   "cell_type": "code",
   "execution_count": 82,
   "id": "fddbc501",
   "metadata": {},
   "outputs": [
    {
     "data": {
      "text/plain": [
       "array([ 5, 18, 48, 63, 80])"
      ]
     },
     "execution_count": 82,
     "metadata": {},
     "output_type": "execute_result"
    }
   ],
   "source": [
    "ar*n_ar"
   ]
  },
  {
   "cell_type": "code",
   "execution_count": 83,
   "id": "4b0a5af7",
   "metadata": {},
   "outputs": [
    {
     "data": {
      "text/plain": [
       "array([0.2       , 0.5       , 0.75      , 0.77777778, 0.8       ])"
      ]
     },
     "execution_count": 83,
     "metadata": {},
     "output_type": "execute_result"
    }
   ],
   "source": [
    "ar/n_ar"
   ]
  },
  {
   "cell_type": "code",
   "execution_count": 84,
   "id": "56b440e8",
   "metadata": {},
   "outputs": [
    {
     "data": {
      "text/plain": [
       "array([0, 0, 0, 0, 0])"
      ]
     },
     "execution_count": 84,
     "metadata": {},
     "output_type": "execute_result"
    }
   ],
   "source": [
    "ar//n_ar"
   ]
  },
  {
   "cell_type": "code",
   "execution_count": 85,
   "id": "c368567d",
   "metadata": {},
   "outputs": [
    {
     "data": {
      "text/plain": [
       "array([1, 3, 6, 7, 8])"
      ]
     },
     "execution_count": 85,
     "metadata": {},
     "output_type": "execute_result"
    }
   ],
   "source": [
    "ar%n_ar"
   ]
  },
  {
   "cell_type": "code",
   "execution_count": 87,
   "id": "213198fb",
   "metadata": {},
   "outputs": [
    {
     "data": {
      "text/plain": [
       "array([         1,        729,    1679616,   40353607, 1073741824])"
      ]
     },
     "execution_count": 87,
     "metadata": {},
     "output_type": "execute_result"
    }
   ],
   "source": [
    "ar**n_ar"
   ]
  },
  {
   "cell_type": "code",
   "execution_count": 89,
   "id": "8140a0b6",
   "metadata": {},
   "outputs": [
    {
     "data": {
      "text/plain": [
       "[1, 3, 6, 7, 8]"
      ]
     },
     "execution_count": 89,
     "metadata": {},
     "output_type": "execute_result"
    }
   ],
   "source": [
    "l"
   ]
  },
  {
   "cell_type": "code",
   "execution_count": 91,
   "id": "6ee3cd8d",
   "metadata": {},
   "outputs": [
    {
     "ename": "TypeError",
     "evalue": "can only concatenate list (not \"int\") to list",
     "output_type": "error",
     "traceback": [
      "\u001b[31m---------------------------------------------------------------------------\u001b[39m",
      "\u001b[31mTypeError\u001b[39m                                 Traceback (most recent call last)",
      "\u001b[36mCell\u001b[39m\u001b[36m \u001b[39m\u001b[32mIn[91]\u001b[39m\u001b[32m, line 1\u001b[39m\n\u001b[32m----> \u001b[39m\u001b[32m1\u001b[39m \u001b[43ml\u001b[49m\u001b[43m+\u001b[49m\u001b[32;43m12\u001b[39;49m\n\u001b[32m      2\u001b[39m l/\u001b[32m12\u001b[39m\n",
      "\u001b[31mTypeError\u001b[39m: can only concatenate list (not \"int\") to list"
     ]
    }
   ],
   "source": [
    "l+12\n",
    "l/12"
   ]
  },
  {
   "cell_type": "code",
   "execution_count": 99,
   "id": "ad4dc380",
   "metadata": {},
   "outputs": [
    {
     "name": "stdout",
     "output_type": "stream",
     "text": [
      "[1 3 6 7 8]\n",
      "*2 [ 2  6 12 14 16]\n",
      "/2 [0.5 1.5 3.  3.5 4. ]\n",
      "//2 [0 1 3 3 4]\n",
      "**2 [ 1  9 36 49 64]\n",
      "-2 [-1  1  4  5  6]\n",
      "+2 [ 3  5  8  9 10]\n",
      "%2 [1 1 0 1 0]\n"
     ]
    }
   ],
   "source": [
    "print(ar)\n",
    "print('*2' ,ar*2)\n",
    "print('/2' ,     ar/2)\n",
    "print('//2' ,    ar//2)\n",
    "print('**2',   ar**2)\n",
    "print('-2' ,   ar-2)\n",
    "print('+2',   ar+2)\n",
    "print('%2',   ar%2)"
   ]
  },
  {
   "cell_type": "markdown",
   "id": "8ecbedaf",
   "metadata": {},
   "source": [
    "# indexing "
   ]
  },
  {
   "cell_type": "code",
   "execution_count": 100,
   "id": "d65699e3",
   "metadata": {},
   "outputs": [
    {
     "data": {
      "text/plain": [
       "array([1, 3, 6, 7, 8])"
      ]
     },
     "execution_count": 100,
     "metadata": {},
     "output_type": "execute_result"
    }
   ],
   "source": [
    "ar"
   ]
  },
  {
   "cell_type": "code",
   "execution_count": 105,
   "id": "3a2675db",
   "metadata": {},
   "outputs": [
    {
     "name": "stdout",
     "output_type": "stream",
     "text": [
      "7\n",
      "3\n"
     ]
    }
   ],
   "source": [
    "ar[0]\n",
    "print(ar[3])\n",
    "print(ar[-4])"
   ]
  },
  {
   "cell_type": "code",
   "execution_count": 110,
   "id": "0aa7f72b",
   "metadata": {},
   "outputs": [
    {
     "data": {
      "text/plain": [
       "array([[1, 2, 3],\n",
       "       [5, 6, 7]])"
      ]
     },
     "execution_count": 110,
     "metadata": {},
     "output_type": "execute_result"
    }
   ],
   "source": [
    "ar_2d"
   ]
  },
  {
   "cell_type": "code",
   "execution_count": 115,
   "id": "df1ab863",
   "metadata": {},
   "outputs": [
    {
     "name": "stdout",
     "output_type": "stream",
     "text": [
      "[1 2 3]\n",
      "[5 6 7]\n",
      "6\n",
      "3\n",
      "1\n"
     ]
    }
   ],
   "source": [
    "print(ar_2d[0])\n",
    "print(ar_2d[1])\n",
    "print(ar_2d[1 ,1])\n",
    "print(ar_2d[0 ,2 ])\n",
    "print(ar_2d[0,0])"
   ]
  },
  {
   "cell_type": "code",
   "execution_count": 116,
   "id": "59ed658f",
   "metadata": {},
   "outputs": [
    {
     "data": {
      "text/plain": [
       "array([[[ 1,  2,  3],\n",
       "        [ 4,  5,  6]],\n",
       "\n",
       "       [[ 7,  8,  9],\n",
       "        [10, 11, 12]]])"
      ]
     },
     "execution_count": 116,
     "metadata": {},
     "output_type": "execute_result"
    }
   ],
   "source": [
    "ar6"
   ]
  },
  {
   "cell_type": "code",
   "execution_count": 122,
   "id": "bf5ab38c",
   "metadata": {},
   "outputs": [
    {
     "name": "stdout",
     "output_type": "stream",
     "text": [
      "(2, 2, 3)\n",
      "[[1 2 3]\n",
      " [4 5 6]]\n",
      "[[ 7  8  9]\n",
      " [10 11 12]]\n",
      "[1 2 3]\n",
      "12\n",
      "6\n"
     ]
    }
   ],
   "source": [
    "print(ar6.shape)\n",
    "print(ar6[0])\n",
    "print(ar6[1])\n",
    "print(ar6[0 ,  0]  )\n",
    "print(ar6[1, 1,2])\n",
    "print(ar6[0 ,  1, 2])"
   ]
  },
  {
   "cell_type": "code",
   "execution_count": 118,
   "id": "82dfbc4a",
   "metadata": {},
   "outputs": [
    {
     "data": {
      "text/plain": [
       "array([[1, 2, 3],\n",
       "       [4, 5, 6]])"
      ]
     },
     "execution_count": 118,
     "metadata": {},
     "output_type": "execute_result"
    }
   ],
   "source": [
    "ar6[0]"
   ]
  },
  {
   "cell_type": "markdown",
   "id": "7d62415c",
   "metadata": {},
   "source": [
    "# Generate obsns"
   ]
  },
  {
   "cell_type": "code",
   "execution_count": 125,
   "id": "4be4bb63",
   "metadata": {},
   "outputs": [
    {
     "data": {
      "text/plain": [
       "[1, 2, 3, 4, 5, 6, 7, 8, 9, 10]"
      ]
     },
     "execution_count": 125,
     "metadata": {},
     "output_type": "execute_result"
    }
   ],
   "source": [
    "list(range(1 ,11))   # range is used to genertae integers"
   ]
  },
  {
   "cell_type": "code",
   "execution_count": 126,
   "id": "eddc1127",
   "metadata": {},
   "outputs": [
    {
     "ename": "TypeError",
     "evalue": "range() takes no keyword arguments",
     "output_type": "error",
     "traceback": [
      "\u001b[31m---------------------------------------------------------------------------\u001b[39m",
      "\u001b[31mTypeError\u001b[39m                                 Traceback (most recent call last)",
      "\u001b[36mCell\u001b[39m\u001b[36m \u001b[39m\u001b[32mIn[126]\u001b[39m\u001b[32m, line 1\u001b[39m\n\u001b[32m----> \u001b[39m\u001b[32m1\u001b[39m \u001b[38;5;28mlist\u001b[39m(\u001b[38;5;28;43mrange\u001b[39;49m\u001b[43m(\u001b[49m\u001b[32;43m1\u001b[39;49m\u001b[43m \u001b[49m\u001b[43m,\u001b[49m\u001b[32;43m11\u001b[39;49m\u001b[43m \u001b[49m\u001b[43m,\u001b[49m\u001b[43m \u001b[49m\u001b[43mstep\u001b[49m\u001b[43m \u001b[49m\u001b[43m=\u001b[49m\u001b[43m \u001b[49m\u001b[32;43m0.4\u001b[39;49m\u001b[43m)\u001b[49m) \n",
      "\u001b[31mTypeError\u001b[39m: range() takes no keyword arguments"
     ]
    }
   ],
   "source": [
    "list(range(1 ,11 , step = 0.4)) "
   ]
  },
  {
   "cell_type": "markdown",
   "id": "645819c5",
   "metadata": {},
   "source": [
    "# arange\n",
    "- To generate floats/ int we can use arange  , linspace"
   ]
  },
  {
   "cell_type": "code",
   "execution_count": 129,
   "id": "5db36e05",
   "metadata": {},
   "outputs": [
    {
     "data": {
      "text/plain": [
       "array([2, 5, 8])"
      ]
     },
     "execution_count": 129,
     "metadata": {},
     "output_type": "execute_result"
    }
   ],
   "source": [
    "np.arange(start  = 2 , stop  = 10 , step  =  3)"
   ]
  },
  {
   "cell_type": "code",
   "execution_count": 130,
   "id": "3c350028",
   "metadata": {},
   "outputs": [
    {
     "data": {
      "text/plain": [
       "array([10. , 15.5, 21. , 26.5, 32. , 37.5, 43. , 48.5, 54. , 59.5, 65. ,\n",
       "       70.5, 76. , 81.5, 87. , 92.5, 98. ])"
      ]
     },
     "execution_count": 130,
     "metadata": {},
     "output_type": "execute_result"
    }
   ],
   "source": [
    "np.arange(start  =  10  , stop =  100 , step =  5.5)"
   ]
  },
  {
   "cell_type": "code",
   "execution_count": 142,
   "id": "a9041b65",
   "metadata": {},
   "outputs": [
    {
     "data": {
      "text/plain": [
       "(array([200.        , 200.1001001 , 200.2002002 , 200.3003003 ,\n",
       "        200.4004004 , 200.5005005 , 200.6006006 , 200.7007007 ,\n",
       "        200.8008008 , 200.9009009 , 201.001001  , 201.1011011 ,\n",
       "        201.2012012 , 201.3013013 , 201.4014014 , 201.5015015 ,\n",
       "        201.6016016 , 201.7017017 , 201.8018018 , 201.9019019 ,\n",
       "        202.002002  , 202.1021021 , 202.2022022 , 202.3023023 ,\n",
       "        202.4024024 , 202.5025025 , 202.6026026 , 202.7027027 ,\n",
       "        202.8028028 , 202.9029029 , 203.003003  , 203.1031031 ,\n",
       "        203.2032032 , 203.3033033 , 203.4034034 , 203.5035035 ,\n",
       "        203.6036036 , 203.7037037 , 203.8038038 , 203.9039039 ,\n",
       "        204.004004  , 204.1041041 , 204.2042042 , 204.3043043 ,\n",
       "        204.4044044 , 204.5045045 , 204.6046046 , 204.7047047 ,\n",
       "        204.8048048 , 204.9049049 , 205.00500501, 205.10510511,\n",
       "        205.20520521, 205.30530531, 205.40540541, 205.50550551,\n",
       "        205.60560561, 205.70570571, 205.80580581, 205.90590591,\n",
       "        206.00600601, 206.10610611, 206.20620621, 206.30630631,\n",
       "        206.40640641, 206.50650651, 206.60660661, 206.70670671,\n",
       "        206.80680681, 206.90690691, 207.00700701, 207.10710711,\n",
       "        207.20720721, 207.30730731, 207.40740741, 207.50750751,\n",
       "        207.60760761, 207.70770771, 207.80780781, 207.90790791,\n",
       "        208.00800801, 208.10810811, 208.20820821, 208.30830831,\n",
       "        208.40840841, 208.50850851, 208.60860861, 208.70870871,\n",
       "        208.80880881, 208.90890891, 209.00900901, 209.10910911,\n",
       "        209.20920921, 209.30930931, 209.40940941, 209.50950951,\n",
       "        209.60960961, 209.70970971, 209.80980981, 209.90990991,\n",
       "        210.01001001, 210.11011011, 210.21021021, 210.31031031,\n",
       "        210.41041041, 210.51051051, 210.61061061, 210.71071071,\n",
       "        210.81081081, 210.91091091, 211.01101101, 211.11111111,\n",
       "        211.21121121, 211.31131131, 211.41141141, 211.51151151,\n",
       "        211.61161161, 211.71171171, 211.81181181, 211.91191191,\n",
       "        212.01201201, 212.11211211, 212.21221221, 212.31231231,\n",
       "        212.41241241, 212.51251251, 212.61261261, 212.71271271,\n",
       "        212.81281281, 212.91291291, 213.01301301, 213.11311311,\n",
       "        213.21321321, 213.31331331, 213.41341341, 213.51351351,\n",
       "        213.61361361, 213.71371371, 213.81381381, 213.91391391,\n",
       "        214.01401401, 214.11411411, 214.21421421, 214.31431431,\n",
       "        214.41441441, 214.51451451, 214.61461461, 214.71471471,\n",
       "        214.81481481, 214.91491491, 215.01501502, 215.11511512,\n",
       "        215.21521522, 215.31531532, 215.41541542, 215.51551552,\n",
       "        215.61561562, 215.71571572, 215.81581582, 215.91591592,\n",
       "        216.01601602, 216.11611612, 216.21621622, 216.31631632,\n",
       "        216.41641642, 216.51651652, 216.61661662, 216.71671672,\n",
       "        216.81681682, 216.91691692, 217.01701702, 217.11711712,\n",
       "        217.21721722, 217.31731732, 217.41741742, 217.51751752,\n",
       "        217.61761762, 217.71771772, 217.81781782, 217.91791792,\n",
       "        218.01801802, 218.11811812, 218.21821822, 218.31831832,\n",
       "        218.41841842, 218.51851852, 218.61861862, 218.71871872,\n",
       "        218.81881882, 218.91891892, 219.01901902, 219.11911912,\n",
       "        219.21921922, 219.31931932, 219.41941942, 219.51951952,\n",
       "        219.61961962, 219.71971972, 219.81981982, 219.91991992,\n",
       "        220.02002002, 220.12012012, 220.22022022, 220.32032032,\n",
       "        220.42042042, 220.52052052, 220.62062062, 220.72072072,\n",
       "        220.82082082, 220.92092092, 221.02102102, 221.12112112,\n",
       "        221.22122122, 221.32132132, 221.42142142, 221.52152152,\n",
       "        221.62162162, 221.72172172, 221.82182182, 221.92192192,\n",
       "        222.02202202, 222.12212212, 222.22222222, 222.32232232,\n",
       "        222.42242242, 222.52252252, 222.62262262, 222.72272272,\n",
       "        222.82282282, 222.92292292, 223.02302302, 223.12312312,\n",
       "        223.22322322, 223.32332332, 223.42342342, 223.52352352,\n",
       "        223.62362362, 223.72372372, 223.82382382, 223.92392392,\n",
       "        224.02402402, 224.12412412, 224.22422422, 224.32432432,\n",
       "        224.42442442, 224.52452452, 224.62462462, 224.72472472,\n",
       "        224.82482482, 224.92492492, 225.02502503, 225.12512513,\n",
       "        225.22522523, 225.32532533, 225.42542543, 225.52552553,\n",
       "        225.62562563, 225.72572573, 225.82582583, 225.92592593,\n",
       "        226.02602603, 226.12612613, 226.22622623, 226.32632633,\n",
       "        226.42642643, 226.52652653, 226.62662663, 226.72672673,\n",
       "        226.82682683, 226.92692693, 227.02702703, 227.12712713,\n",
       "        227.22722723, 227.32732733, 227.42742743, 227.52752753,\n",
       "        227.62762763, 227.72772773, 227.82782783, 227.92792793,\n",
       "        228.02802803, 228.12812813, 228.22822823, 228.32832833,\n",
       "        228.42842843, 228.52852853, 228.62862863, 228.72872873,\n",
       "        228.82882883, 228.92892893, 229.02902903, 229.12912913,\n",
       "        229.22922923, 229.32932933, 229.42942943, 229.52952953,\n",
       "        229.62962963, 229.72972973, 229.82982983, 229.92992993,\n",
       "        230.03003003, 230.13013013, 230.23023023, 230.33033033,\n",
       "        230.43043043, 230.53053053, 230.63063063, 230.73073073,\n",
       "        230.83083083, 230.93093093, 231.03103103, 231.13113113,\n",
       "        231.23123123, 231.33133133, 231.43143143, 231.53153153,\n",
       "        231.63163163, 231.73173173, 231.83183183, 231.93193193,\n",
       "        232.03203203, 232.13213213, 232.23223223, 232.33233233,\n",
       "        232.43243243, 232.53253253, 232.63263263, 232.73273273,\n",
       "        232.83283283, 232.93293293, 233.03303303, 233.13313313,\n",
       "        233.23323323, 233.33333333, 233.43343343, 233.53353353,\n",
       "        233.63363363, 233.73373373, 233.83383383, 233.93393393,\n",
       "        234.03403403, 234.13413413, 234.23423423, 234.33433433,\n",
       "        234.43443443, 234.53453453, 234.63463463, 234.73473473,\n",
       "        234.83483483, 234.93493493, 235.03503504, 235.13513514,\n",
       "        235.23523524, 235.33533534, 235.43543544, 235.53553554,\n",
       "        235.63563564, 235.73573574, 235.83583584, 235.93593594,\n",
       "        236.03603604, 236.13613614, 236.23623624, 236.33633634,\n",
       "        236.43643644, 236.53653654, 236.63663664, 236.73673674,\n",
       "        236.83683684, 236.93693694, 237.03703704, 237.13713714,\n",
       "        237.23723724, 237.33733734, 237.43743744, 237.53753754,\n",
       "        237.63763764, 237.73773774, 237.83783784, 237.93793794,\n",
       "        238.03803804, 238.13813814, 238.23823824, 238.33833834,\n",
       "        238.43843844, 238.53853854, 238.63863864, 238.73873874,\n",
       "        238.83883884, 238.93893894, 239.03903904, 239.13913914,\n",
       "        239.23923924, 239.33933934, 239.43943944, 239.53953954,\n",
       "        239.63963964, 239.73973974, 239.83983984, 239.93993994,\n",
       "        240.04004004, 240.14014014, 240.24024024, 240.34034034,\n",
       "        240.44044044, 240.54054054, 240.64064064, 240.74074074,\n",
       "        240.84084084, 240.94094094, 241.04104104, 241.14114114,\n",
       "        241.24124124, 241.34134134, 241.44144144, 241.54154154,\n",
       "        241.64164164, 241.74174174, 241.84184184, 241.94194194,\n",
       "        242.04204204, 242.14214214, 242.24224224, 242.34234234,\n",
       "        242.44244244, 242.54254254, 242.64264264, 242.74274274,\n",
       "        242.84284284, 242.94294294, 243.04304304, 243.14314314,\n",
       "        243.24324324, 243.34334334, 243.44344344, 243.54354354,\n",
       "        243.64364364, 243.74374374, 243.84384384, 243.94394394,\n",
       "        244.04404404, 244.14414414, 244.24424424, 244.34434434,\n",
       "        244.44444444, 244.54454454, 244.64464464, 244.74474474,\n",
       "        244.84484484, 244.94494494, 245.04504505, 245.14514515,\n",
       "        245.24524525, 245.34534535, 245.44544545, 245.54554555,\n",
       "        245.64564565, 245.74574575, 245.84584585, 245.94594595,\n",
       "        246.04604605, 246.14614615, 246.24624625, 246.34634635,\n",
       "        246.44644645, 246.54654655, 246.64664665, 246.74674675,\n",
       "        246.84684685, 246.94694695, 247.04704705, 247.14714715,\n",
       "        247.24724725, 247.34734735, 247.44744745, 247.54754755,\n",
       "        247.64764765, 247.74774775, 247.84784785, 247.94794795,\n",
       "        248.04804805, 248.14814815, 248.24824825, 248.34834835,\n",
       "        248.44844845, 248.54854855, 248.64864865, 248.74874875,\n",
       "        248.84884885, 248.94894895, 249.04904905, 249.14914915,\n",
       "        249.24924925, 249.34934935, 249.44944945, 249.54954955,\n",
       "        249.64964965, 249.74974975, 249.84984985, 249.94994995,\n",
       "        250.05005005, 250.15015015, 250.25025025, 250.35035035,\n",
       "        250.45045045, 250.55055055, 250.65065065, 250.75075075,\n",
       "        250.85085085, 250.95095095, 251.05105105, 251.15115115,\n",
       "        251.25125125, 251.35135135, 251.45145145, 251.55155155,\n",
       "        251.65165165, 251.75175175, 251.85185185, 251.95195195,\n",
       "        252.05205205, 252.15215215, 252.25225225, 252.35235235,\n",
       "        252.45245245, 252.55255255, 252.65265265, 252.75275275,\n",
       "        252.85285285, 252.95295295, 253.05305305, 253.15315315,\n",
       "        253.25325325, 253.35335335, 253.45345345, 253.55355355,\n",
       "        253.65365365, 253.75375375, 253.85385385, 253.95395395,\n",
       "        254.05405405, 254.15415415, 254.25425425, 254.35435435,\n",
       "        254.45445445, 254.55455455, 254.65465465, 254.75475475,\n",
       "        254.85485485, 254.95495495, 255.05505506, 255.15515516,\n",
       "        255.25525526, 255.35535536, 255.45545546, 255.55555556,\n",
       "        255.65565566, 255.75575576, 255.85585586, 255.95595596,\n",
       "        256.05605606, 256.15615616, 256.25625626, 256.35635636,\n",
       "        256.45645646, 256.55655656, 256.65665666, 256.75675676,\n",
       "        256.85685686, 256.95695696, 257.05705706, 257.15715716,\n",
       "        257.25725726, 257.35735736, 257.45745746, 257.55755756,\n",
       "        257.65765766, 257.75775776, 257.85785786, 257.95795796,\n",
       "        258.05805806, 258.15815816, 258.25825826, 258.35835836,\n",
       "        258.45845846, 258.55855856, 258.65865866, 258.75875876,\n",
       "        258.85885886, 258.95895896, 259.05905906, 259.15915916,\n",
       "        259.25925926, 259.35935936, 259.45945946, 259.55955956,\n",
       "        259.65965966, 259.75975976, 259.85985986, 259.95995996,\n",
       "        260.06006006, 260.16016016, 260.26026026, 260.36036036,\n",
       "        260.46046046, 260.56056056, 260.66066066, 260.76076076,\n",
       "        260.86086086, 260.96096096, 261.06106106, 261.16116116,\n",
       "        261.26126126, 261.36136136, 261.46146146, 261.56156156,\n",
       "        261.66166166, 261.76176176, 261.86186186, 261.96196196,\n",
       "        262.06206206, 262.16216216, 262.26226226, 262.36236236,\n",
       "        262.46246246, 262.56256256, 262.66266266, 262.76276276,\n",
       "        262.86286286, 262.96296296, 263.06306306, 263.16316316,\n",
       "        263.26326326, 263.36336336, 263.46346346, 263.56356356,\n",
       "        263.66366366, 263.76376376, 263.86386386, 263.96396396,\n",
       "        264.06406406, 264.16416416, 264.26426426, 264.36436436,\n",
       "        264.46446446, 264.56456456, 264.66466466, 264.76476476,\n",
       "        264.86486486, 264.96496496, 265.06506507, 265.16516517,\n",
       "        265.26526527, 265.36536537, 265.46546547, 265.56556557,\n",
       "        265.66566567, 265.76576577, 265.86586587, 265.96596597,\n",
       "        266.06606607, 266.16616617, 266.26626627, 266.36636637,\n",
       "        266.46646647, 266.56656657, 266.66666667, 266.76676677,\n",
       "        266.86686687, 266.96696697, 267.06706707, 267.16716717,\n",
       "        267.26726727, 267.36736737, 267.46746747, 267.56756757,\n",
       "        267.66766767, 267.76776777, 267.86786787, 267.96796797,\n",
       "        268.06806807, 268.16816817, 268.26826827, 268.36836837,\n",
       "        268.46846847, 268.56856857, 268.66866867, 268.76876877,\n",
       "        268.86886887, 268.96896897, 269.06906907, 269.16916917,\n",
       "        269.26926927, 269.36936937, 269.46946947, 269.56956957,\n",
       "        269.66966967, 269.76976977, 269.86986987, 269.96996997,\n",
       "        270.07007007, 270.17017017, 270.27027027, 270.37037037,\n",
       "        270.47047047, 270.57057057, 270.67067067, 270.77077077,\n",
       "        270.87087087, 270.97097097, 271.07107107, 271.17117117,\n",
       "        271.27127127, 271.37137137, 271.47147147, 271.57157157,\n",
       "        271.67167167, 271.77177177, 271.87187187, 271.97197197,\n",
       "        272.07207207, 272.17217217, 272.27227227, 272.37237237,\n",
       "        272.47247247, 272.57257257, 272.67267267, 272.77277277,\n",
       "        272.87287287, 272.97297297, 273.07307307, 273.17317317,\n",
       "        273.27327327, 273.37337337, 273.47347347, 273.57357357,\n",
       "        273.67367367, 273.77377377, 273.87387387, 273.97397397,\n",
       "        274.07407407, 274.17417417, 274.27427427, 274.37437437,\n",
       "        274.47447447, 274.57457457, 274.67467467, 274.77477477,\n",
       "        274.87487487, 274.97497497, 275.07507508, 275.17517518,\n",
       "        275.27527528, 275.37537538, 275.47547548, 275.57557558,\n",
       "        275.67567568, 275.77577578, 275.87587588, 275.97597598,\n",
       "        276.07607608, 276.17617618, 276.27627628, 276.37637638,\n",
       "        276.47647648, 276.57657658, 276.67667668, 276.77677678,\n",
       "        276.87687688, 276.97697698, 277.07707708, 277.17717718,\n",
       "        277.27727728, 277.37737738, 277.47747748, 277.57757758,\n",
       "        277.67767768, 277.77777778, 277.87787788, 277.97797798,\n",
       "        278.07807808, 278.17817818, 278.27827828, 278.37837838,\n",
       "        278.47847848, 278.57857858, 278.67867868, 278.77877878,\n",
       "        278.87887888, 278.97897898, 279.07907908, 279.17917918,\n",
       "        279.27927928, 279.37937938, 279.47947948, 279.57957958,\n",
       "        279.67967968, 279.77977978, 279.87987988, 279.97997998,\n",
       "        280.08008008, 280.18018018, 280.28028028, 280.38038038,\n",
       "        280.48048048, 280.58058058, 280.68068068, 280.78078078,\n",
       "        280.88088088, 280.98098098, 281.08108108, 281.18118118,\n",
       "        281.28128128, 281.38138138, 281.48148148, 281.58158158,\n",
       "        281.68168168, 281.78178178, 281.88188188, 281.98198198,\n",
       "        282.08208208, 282.18218218, 282.28228228, 282.38238238,\n",
       "        282.48248248, 282.58258258, 282.68268268, 282.78278278,\n",
       "        282.88288288, 282.98298298, 283.08308308, 283.18318318,\n",
       "        283.28328328, 283.38338338, 283.48348348, 283.58358358,\n",
       "        283.68368368, 283.78378378, 283.88388388, 283.98398398,\n",
       "        284.08408408, 284.18418418, 284.28428428, 284.38438438,\n",
       "        284.48448448, 284.58458458, 284.68468468, 284.78478478,\n",
       "        284.88488488, 284.98498498, 285.08508509, 285.18518519,\n",
       "        285.28528529, 285.38538539, 285.48548549, 285.58558559,\n",
       "        285.68568569, 285.78578579, 285.88588589, 285.98598599,\n",
       "        286.08608609, 286.18618619, 286.28628629, 286.38638639,\n",
       "        286.48648649, 286.58658659, 286.68668669, 286.78678679,\n",
       "        286.88688689, 286.98698699, 287.08708709, 287.18718719,\n",
       "        287.28728729, 287.38738739, 287.48748749, 287.58758759,\n",
       "        287.68768769, 287.78778779, 287.88788789, 287.98798799,\n",
       "        288.08808809, 288.18818819, 288.28828829, 288.38838839,\n",
       "        288.48848849, 288.58858859, 288.68868869, 288.78878879,\n",
       "        288.88888889, 288.98898899, 289.08908909, 289.18918919,\n",
       "        289.28928929, 289.38938939, 289.48948949, 289.58958959,\n",
       "        289.68968969, 289.78978979, 289.88988989, 289.98998999,\n",
       "        290.09009009, 290.19019019, 290.29029029, 290.39039039,\n",
       "        290.49049049, 290.59059059, 290.69069069, 290.79079079,\n",
       "        290.89089089, 290.99099099, 291.09109109, 291.19119119,\n",
       "        291.29129129, 291.39139139, 291.49149149, 291.59159159,\n",
       "        291.69169169, 291.79179179, 291.89189189, 291.99199199,\n",
       "        292.09209209, 292.19219219, 292.29229229, 292.39239239,\n",
       "        292.49249249, 292.59259259, 292.69269269, 292.79279279,\n",
       "        292.89289289, 292.99299299, 293.09309309, 293.19319319,\n",
       "        293.29329329, 293.39339339, 293.49349349, 293.59359359,\n",
       "        293.69369369, 293.79379379, 293.89389389, 293.99399399,\n",
       "        294.09409409, 294.19419419, 294.29429429, 294.39439439,\n",
       "        294.49449449, 294.59459459, 294.69469469, 294.79479479,\n",
       "        294.89489489, 294.99499499, 295.0950951 , 295.1951952 ,\n",
       "        295.2952953 , 295.3953954 , 295.4954955 , 295.5955956 ,\n",
       "        295.6956957 , 295.7957958 , 295.8958959 , 295.995996  ,\n",
       "        296.0960961 , 296.1961962 , 296.2962963 , 296.3963964 ,\n",
       "        296.4964965 , 296.5965966 , 296.6966967 , 296.7967968 ,\n",
       "        296.8968969 , 296.996997  , 297.0970971 , 297.1971972 ,\n",
       "        297.2972973 , 297.3973974 , 297.4974975 , 297.5975976 ,\n",
       "        297.6976977 , 297.7977978 , 297.8978979 , 297.997998  ,\n",
       "        298.0980981 , 298.1981982 , 298.2982983 , 298.3983984 ,\n",
       "        298.4984985 , 298.5985986 , 298.6986987 , 298.7987988 ,\n",
       "        298.8988989 , 298.998999  , 299.0990991 , 299.1991992 ,\n",
       "        299.2992993 , 299.3993994 , 299.4994995 , 299.5995996 ,\n",
       "        299.6996997 , 299.7997998 , 299.8998999 , 300.        ]),\n",
       " np.float64(0.1001001001001001))"
      ]
     },
     "execution_count": 142,
     "metadata": {},
     "output_type": "execute_result"
    }
   ],
   "source": [
    "# linspace\n",
    "num  = np.linspace(start  =  200 , stop  =  300 , num  =  1000  , retstep =  True)\n",
    "num"
   ]
  },
  {
   "cell_type": "code",
   "execution_count": 135,
   "id": "44f81663",
   "metadata": {},
   "outputs": [
    {
     "data": {
      "text/plain": [
       "1000"
      ]
     },
     "execution_count": 135,
     "metadata": {},
     "output_type": "execute_result"
    }
   ],
   "source": [
    "len(num)"
   ]
  },
  {
   "cell_type": "code",
   "execution_count": 137,
   "id": "682bd5aa",
   "metadata": {},
   "outputs": [
    {
     "name": "stdout",
     "output_type": "stream",
     "text": [
      "0.10010010000002012\n",
      "0.10010009999996328\n"
     ]
    }
   ],
   "source": [
    "print(300 -299.8998999 )\n",
    "print(299.8998999-299.7997998)"
   ]
  },
  {
   "cell_type": "markdown",
   "id": "53d2c6b1",
   "metadata": {},
   "source": [
    "# generate random numbers "
   ]
  },
  {
   "cell_type": "code",
   "execution_count": 1,
   "id": "0e2a1dc4",
   "metadata": {},
   "outputs": [
    {
     "data": {
      "text/plain": [
       "0.6910724097775947"
      ]
     },
     "execution_count": 1,
     "metadata": {},
     "output_type": "execute_result"
    }
   ],
   "source": [
    "\n",
    "# generate random numbers between 0 to 1\n",
    "import numpy as np\n",
    "np.random.rand()"
   ]
  },
  {
   "cell_type": "code",
   "execution_count": 2,
   "id": "6e3f6cab",
   "metadata": {},
   "outputs": [
    {
     "data": {
      "text/plain": [
       "array([0.54077792])"
      ]
     },
     "execution_count": 2,
     "metadata": {},
     "output_type": "execute_result"
    }
   ],
   "source": [
    "np.random.rand(1)"
   ]
  },
  {
   "cell_type": "code",
   "execution_count": 3,
   "id": "1dfb6924",
   "metadata": {},
   "outputs": [
    {
     "data": {
      "text/plain": [
       "array([0.33879841, 0.47562231, 0.63353848, 0.56382784, 0.44668123,\n",
       "       0.47404802, 0.68631959, 0.1571432 , 0.30739384, 0.50707246,\n",
       "       0.05450224, 0.34539452, 0.09987286, 0.76473848, 0.0965029 ,\n",
       "       0.09378185, 0.29854228, 0.91822133, 0.91195882, 0.78707014,\n",
       "       0.89927698, 0.78476674, 0.16133469, 0.21511054, 0.69286678,\n",
       "       0.89294032, 0.73919904, 0.3500521 , 0.19322839, 0.91270659,\n",
       "       0.4292111 , 0.99062003, 0.58147383, 0.94879747, 0.66625841,\n",
       "       0.24019922, 0.63163307, 0.2390022 , 0.05005125, 0.50742021,\n",
       "       0.19226284, 0.23623915, 0.46637029, 0.87336545, 0.71214181,\n",
       "       0.96750653, 0.7988563 , 0.98562307, 0.94316138, 0.26720949])"
      ]
     },
     "execution_count": 3,
     "metadata": {},
     "output_type": "execute_result"
    }
   ],
   "source": [
    "# 50 random numbers between 0 to 1\n",
    "np.random.rand(50)"
   ]
  },
  {
   "cell_type": "code",
   "execution_count": 7,
   "id": "d292b44c",
   "metadata": {},
   "outputs": [
    {
     "data": {
      "text/plain": [
       "array([4465,  246, 1737, 1154, 4408, 1748, 4608, 3226, 2506, 1749,  895,\n",
       "        533, 3553, 1754, 4293, 3561, 2557, 4118, 1628, 1093, 4179, 2765,\n",
       "       2882, 3705, 2418, 4562, 1535, 2363, 4363, 4361,  676,  640, 3032,\n",
       "       2656, 1074,  922,  293,  514,  527, 1767, 1103, 3058,  614, 2882,\n",
       "       1901, 3070, 2248, 1390, 1559, 4944, 3860,  181, 1881, 1109, 1615,\n",
       "       3132, 4035, 2474, 2699, 3972, 4818,  855, 1664,  788, 4009, 1354,\n",
       "       2462, 2738,  273, 2354, 1567, 1138,  987, 1374, 4286, 1391, 4396,\n",
       "       4606, 3421, 1133, 4680, 2995, 4836, 4346, 2231, 2523, 3945,  331,\n",
       "       4883, 2298, 1824, 2606, 2309, 3552, 4458, 3034, 1569, 4344, 1461,\n",
       "       3648, 1339, 4180, 1858,  283,  721,  420, 2349, 2381, 4997, 3973,\n",
       "       2064, 3118, 4032, 4130,  225, 4200, 2132, 4088, 4707, 3450, 3706,\n",
       "       4756, 4181, 3665, 2415, 2313,  207,  789, 2748, 4851, 1897,  604,\n",
       "        871, 4734, 3556, 1519, 4705, 3318, 2220,  530, 4278, 4031, 2189,\n",
       "       2326,  108, 2834, 2353,  546, 1751, 3676, 1456, 1104, 1764, 4417,\n",
       "       3320, 1852, 3048, 4300, 1530, 1586, 2668,  372, 4664, 2008,  983,\n",
       "        759,  707, 3491, 2088,  585, 2382, 3385,  206, 4588, 4030, 1291,\n",
       "        153, 3092,  337, 3126, 4481, 4295, 2156, 1358, 2676,  887, 3800,\n",
       "       4022, 3654,  864, 1750, 3339, 2212, 3801, 2269,  915, 4605, 4990,\n",
       "        681, 3294, 3227,  788, 1942, 1976, 2285,  536, 2166, 3114,  346,\n",
       "       2209, 3230, 3514, 2371, 3399, 1488, 2047, 3864, 2588, 3410, 4044,\n",
       "       3803, 4345, 3227, 1453, 1941, 4466, 3784, 1738,  903,  153, 4741,\n",
       "       4480, 3062, 1538, 2309, 2442, 1383, 2375,  699, 2600, 4071, 2948,\n",
       "       3416, 1923, 2281, 4290, 2045, 3178, 1947, 4714, 1625, 1757,  433,\n",
       "        890, 1928, 4737, 2901,  422, 3327, 3418, 1168, 2927, 2087, 4617,\n",
       "       1940, 2802, 4015, 1246, 3053, 3784, 2731, 3081, 3932,  222,  642,\n",
       "       4113, 1783, 3207,  508, 1611, 3223, 1736, 3053, 2318, 2448, 1257,\n",
       "       2623, 4532, 1081, 3069, 1490, 2649, 3374, 3481, 4324, 3841, 1185,\n",
       "       4583,  105, 3925, 2268, 4532, 1428,  590, 2345, 4150,  378, 4625,\n",
       "       2667, 4751, 1964, 3235, 4729, 2852, 1689, 3116, 3623, 1554, 2593,\n",
       "       1668, 2474, 2543, 3950,  208, 4825, 3515, 2808, 2307,  450, 2768,\n",
       "        802, 3604,  942, 2531,  942, 1837, 1409, 2702, 4346, 3519,  104,\n",
       "       4520, 2061, 1245, 4133, 3149,  935, 4265, 3300, 1658, 4614,  867,\n",
       "       1763,  670, 2176, 4165, 3970, 3865, 2238, 1641, 4846, 2394, 4175,\n",
       "       4040, 1744,  773, 1069, 3107, 2278, 3813, 1360, 4211, 2788, 1758,\n",
       "       1217,  235, 4230, 1963, 1082, 2816, 1947, 2187, 3549, 4871, 3928,\n",
       "       1276, 4704, 1625, 1245, 4641, 1318, 1799, 1150, 3673, 3592, 4464,\n",
       "        142, 3953, 3419, 1323, 2547, 1334,  360, 3425,  186, 3990, 1211,\n",
       "       3201, 2658, 3043, 2711, 2172, 3140, 4539, 2967, 2771, 4383, 4024,\n",
       "       3554, 1897,  458, 1933, 1088, 2689,  262, 2114, 1886, 1901,  615,\n",
       "        206,  930,  216,  555,  294, 1482, 3555, 1099, 1160, 3976,  921,\n",
       "       2153, 2685, 4992, 2866, 1611, 4948, 3552, 4449, 3271,  524, 1613,\n",
       "       4071,  621,  310, 1311, 4574, 1605, 4956, 3133, 1230, 1581, 4494,\n",
       "       3523, 3966, 2194, 4310, 3068, 3392, 3426, 4932, 2896,  162,  364,\n",
       "       1201,  429, 1792, 2712, 1458, 4388, 3176, 4931, 4235, 3623, 2679,\n",
       "       3164, 3519, 1834, 4310, 3543, 2391, 3551, 1395, 3081, 1871, 1085,\n",
       "       4154,  733, 2944, 4798,  868, 3938, 3009, 3550,  147, 4995, 2526,\n",
       "       2652, 4029, 4475, 1599, 3869,  805,  948, 4303,  868, 1900, 2902,\n",
       "        870, 3010, 2268,  602,  486,  698,  266, 1721, 4077, 1455, 1448,\n",
       "       2791,  331, 4873, 3692,  986, 1974, 4632, 3720, 3472, 4437, 4580,\n",
       "       2417, 4482,  449, 1795,  988, 2188, 3897,  226, 2222, 1137, 2908,\n",
       "       1744, 1123, 2961, 4618, 3542, 2527, 2094, 2016,  114,  921,  870,\n",
       "       2495, 4449, 2799, 2766, 4818, 3526, 4719,  310,  101, 3956, 2410,\n",
       "       1222, 2705, 3613,  762, 1892, 3969, 4626, 2962, 4946, 4682, 1613,\n",
       "       4563,  151, 3812,  467, 2330, 3304, 4655, 1895, 4885, 1579, 1769,\n",
       "       4750, 2240, 3768, 1566, 4158, 4887, 2265, 3449, 1577, 1066, 2663,\n",
       "        136, 2321, 1169, 2543,  788, 3934, 2015, 2884, 2688, 2091, 3444,\n",
       "       2921, 3566, 3645, 2162, 2590, 1809, 2400, 2506, 2682, 4219,  972,\n",
       "       4463,  810, 3546, 1998, 2045, 3779, 3516, 3548, 1115, 4390,  900,\n",
       "       3926, 1386, 2223, 1626, 3824, 1142, 2002, 4238,  138, 2533, 3086,\n",
       "       4590, 3073, 3240,  367, 3321,  997,  826, 4376, 1316, 2809,  710,\n",
       "        835, 2755, 1987, 3513, 3082, 1868, 3692, 4297, 1422,  911, 1676,\n",
       "       2700, 2122, 4472, 1667,  287, 3621, 1656, 2302, 1099, 4976,  890,\n",
       "       4602, 2849, 1477,  138, 2574,  678, 1638, 2669, 4908, 2746, 3306,\n",
       "       4660, 1997, 4542, 4583, 3534,  201, 3675,  605, 2692, 3977, 2095,\n",
       "       2632, 1847, 4288,  519,  791, 2088, 3679, 1625,  398, 3858, 2814,\n",
       "       4987, 1561, 4203, 4498, 3379,  688, 3930, 3763,  918, 2112, 1512,\n",
       "       2228, 3998, 4168, 1329, 2203, 2364, 1702, 1251, 1189, 1301, 2756,\n",
       "       1283, 4594,  805, 3356, 4316, 1389, 1294, 2711, 1604, 4219, 3356,\n",
       "       1626, 4007, 2363, 3741, 3344, 2764, 1875,  296, 2472, 2032, 1144,\n",
       "       2740,  534,  810, 1204, 1326, 2342, 4837, 1522, 3620,  690,  173,\n",
       "       1970, 4726, 2796, 2470, 2157,  284, 3947,  662,  353, 2143, 2569,\n",
       "       4200,  774, 2379,  980, 3619, 2206,  126, 2573, 1564,  235,  153,\n",
       "       1179, 2724, 3444, 2688, 1781,  741, 4938, 1089, 2095, 3985,  296,\n",
       "        561, 3840, 1897, 3149,  133, 1844, 2767, 3236, 4783, 2084, 2529,\n",
       "       2445, 2243, 2058, 1138, 2024, 4098,  851, 1855, 4915, 2149, 2877,\n",
       "       4536, 4086, 1008, 1247,  416, 2280, 2213, 1174, 2356, 2480, 2901,\n",
       "       3730, 3975, 1948, 1319, 3207, 2967, 4597, 4640, 1954, 4112, 1289,\n",
       "       2175, 3843,  525, 2817, 2423, 3880,  776, 1527, 4861, 1249, 3597,\n",
       "       1729, 2671, 3980,  873, 4448, 3800, 2256, 2964, 2048, 3494, 2890,\n",
       "       3505, 1234, 3380, 4124, 1666, 2720, 3924, 2532, 2824,  298, 2297,\n",
       "       4934, 3577, 4256, 4139, 4404, 1747, 1206, 4401, 4027, 2939, 4156,\n",
       "       4050, 4679, 2893, 4436, 2344,  860, 2798, 1294, 1693, 3171, 1872,\n",
       "       1482, 2218, 3078, 3512, 3278, 2147, 1932,  168,  936, 4335, 1828,\n",
       "       4708, 1888, 3239, 4564, 1979, 3822, 3930,  612, 4963, 2174, 4776,\n",
       "       4305, 3194, 2317, 4207, 2890, 2651, 2272, 1120, 4937, 3163, 2207,\n",
       "       4286, 2348, 1887,  362,  128, 3630, 1456, 1782, 2472,  129, 3150,\n",
       "       3331, 3077, 3804, 1757,  503, 4127, 4030, 4071, 3695, 3102, 2625,\n",
       "       2988, 1682, 2779, 2225, 1507,  815, 2806, 4993, 2484, 1671,  242,\n",
       "       4008, 2060, 2246, 4384, 4870, 2105, 3143, 3411, 4475, 2078, 4706,\n",
       "       4748, 2955,  662, 2394, 2515, 2659,  136, 1253,  477, 4671,  260,\n",
       "       4173, 2531,  887, 3062, 1786, 1954, 2738, 3539,  878, 4085],\n",
       "      dtype=int32)"
      ]
     },
     "execution_count": 7,
     "metadata": {},
     "output_type": "execute_result"
    }
   ],
   "source": [
    "# generate random integers\n",
    "np.random.randint(100 ,  5000  ,  1000)"
   ]
  },
  {
   "cell_type": "code",
   "execution_count": 14,
   "id": "8c5dd30d",
   "metadata": {},
   "outputs": [
    {
     "data": {
      "text/plain": [
       "array([ 2.27860509e+01,  4.29941081e+01,  6.18137169e+00, -6.06886177e+00,\n",
       "        7.94026165e+01,  5.13800305e+01, -2.75461751e+00, -4.15111872e+01,\n",
       "        1.97103612e+01,  5.03944540e+01,  1.60296931e+01,  7.15223931e+01,\n",
       "        2.01545050e+00,  2.42745335e+01,  5.58443114e+01,  3.45387042e+01,\n",
       "        2.25886465e+00, -7.02666667e+01,  2.50138242e+01,  6.86737618e+00,\n",
       "       -6.51327934e+00,  1.89763308e+01, -1.10516880e+01, -4.17503396e+01,\n",
       "        4.58390895e+01, -6.80836415e-01,  3.78012569e+00,  3.29755130e+01,\n",
       "        1.24131104e+01,  5.74496142e+01, -3.62777181e+01,  5.30801543e+01,\n",
       "        1.11026106e+01,  2.58902982e+01,  2.44550462e+01,  4.29972109e+01,\n",
       "       -2.08413164e+01,  2.25351875e+01,  6.07993983e+01,  1.41958169e+01,\n",
       "        6.24567678e+01,  1.32869692e+01,  8.98239756e+01,  9.41149180e+01,\n",
       "        1.76956875e+01,  2.75667629e+01,  3.03051664e+01,  1.57918669e+01,\n",
       "        2.95082179e+01,  5.08975165e+01,  7.00206252e+00,  6.69646962e+01,\n",
       "        3.37886609e+01,  2.99392707e+01,  4.64438603e+01,  2.27349450e+01,\n",
       "        1.81234818e+01,  2.79542306e+01, -1.42504563e+01, -1.23648786e+01,\n",
       "       -1.87880993e+01, -1.84995060e+01, -1.38508118e+01, -3.82345876e+00,\n",
       "        6.95956246e+01,  3.10201112e+01, -1.13434520e+01,  3.20133869e+00,\n",
       "        7.52301391e-01,  4.21702295e+01,  1.59919836e+01,  6.35529182e+01,\n",
       "        6.00906304e-01, -3.46050723e+01,  2.21438650e+01, -3.85558597e+01,\n",
       "       -2.08035538e+01,  1.63500943e+01, -4.58180779e+01,  5.69423048e+01,\n",
       "       -1.49327659e+01,  4.80149451e+01,  9.80506443e+00,  8.18756963e+01,\n",
       "        8.01160885e+00,  5.39986031e+01,  3.78152962e+01,  3.58708998e+01,\n",
       "       -2.66193053e+00,  3.08257472e+01,  2.71122278e+01,  4.13682782e+01,\n",
       "        1.92642408e+01,  8.79026000e+01,  1.32030377e+01, -1.21013881e+01,\n",
       "        1.46596188e+01, -1.52490208e+01,  5.55791680e+00, -1.09520459e+01,\n",
       "        1.28631616e+01,  8.23627794e+00, -2.45642714e+01,  3.16080674e+01,\n",
       "        3.83065977e+01,  6.81072245e+01, -3.67065153e+01, -1.33343005e+01,\n",
       "        1.04180099e+00,  8.80973421e+01, -3.50826675e+01, -1.56417438e-02,\n",
       "        1.90320117e+01,  2.07797179e+00,  7.98622003e+01, -2.24140660e+01,\n",
       "        5.01633466e+01,  3.86635162e+01,  5.14160401e+01,  5.21997633e+01,\n",
       "        6.28062894e+01,  4.28693060e-02,  6.49939120e+01,  3.23550275e+01,\n",
       "        2.77647721e+01,  2.33068053e+00,  5.86689112e+01,  3.75440027e+01,\n",
       "        9.76091506e+01, -2.24934717e+01,  8.17943816e+01,  9.05718547e-01,\n",
       "        2.50420624e+01,  3.19457128e+01,  1.85570666e+01,  3.26563755e+01,\n",
       "        7.13794655e+01, -1.70733232e+01,  5.99542183e+01,  1.52482534e+01,\n",
       "        4.89927577e+01,  3.53223348e+01, -1.16146399e+01,  1.14261092e+01,\n",
       "        3.15799004e+01,  5.49007282e+01,  4.17476528e+01,  5.98687719e+01,\n",
       "        1.08824509e+02,  2.71225377e+00, -1.02464742e+01, -1.88165444e+01,\n",
       "        2.95409227e+01,  2.52082115e+00,  2.95882928e+01,  3.59055775e+01,\n",
       "        2.00476649e+01,  2.64567939e-01,  1.38186402e+01, -9.09347840e+00,\n",
       "       -1.24744169e-01, -5.23962159e+00,  1.60758903e+01,  7.46229353e+00,\n",
       "        7.30021207e+01,  5.74720764e+00,  2.33943610e+00,  3.35257900e+01,\n",
       "        3.75618719e+01,  1.16510275e+00,  3.17116215e+01, -3.87321086e+01,\n",
       "       -1.35456281e+01,  7.56380652e+01, -3.62087269e+01,  4.08907208e+01,\n",
       "        4.06627709e+01, -4.30392662e+01,  4.48727740e+01,  4.65991479e+01,\n",
       "        8.88859272e+00,  7.08494096e+01,  2.27027536e+01,  6.46065342e+01,\n",
       "        6.61496800e+01,  7.39896956e+01,  1.07130691e+01,  2.93321633e+00,\n",
       "        3.99769069e+01, -2.26142436e+01,  6.46354818e+00,  1.93545808e+01,\n",
       "        3.04249342e+00,  3.37604865e+01,  5.70170871e+01,  1.49001290e+01,\n",
       "       -5.30859904e+01,  3.98889245e+01,  6.01308459e+00,  5.79493597e+01,\n",
       "       -1.63833632e+00,  1.42204745e+01,  3.25427522e+01,  2.30339610e+01,\n",
       "        5.80881692e+01,  1.14165304e+01, -3.75953308e+01,  2.99751307e-01,\n",
       "        1.39536685e+01, -2.39531880e+01,  2.70618793e+01,  5.46365269e+01,\n",
       "       -2.03741566e+01,  2.50115669e+01, -3.93956830e+01,  6.26304456e+01,\n",
       "       -1.31195234e+00,  4.26251986e+01,  7.67418080e+01,  1.04181751e+01,\n",
       "        6.10093065e+01,  2.29293714e+01,  9.59667489e+01,  4.33045965e+01,\n",
       "        4.16633526e+00,  1.97251015e+00,  3.06152260e+01,  4.82363296e-01,\n",
       "        1.22514696e+01, -3.92881434e+01,  7.84743852e+01,  3.58262265e+01,\n",
       "       -6.43349106e+00,  3.36700160e+01,  7.57350402e+01,  6.03553308e+00,\n",
       "       -1.06837867e+01, -1.73665171e+01,  2.03888291e+01, -1.01536634e+01,\n",
       "        9.66275999e+01,  5.42368588e+01, -9.76248815e+00,  3.53573602e+01,\n",
       "       -1.58508896e+01,  4.35559741e+01, -2.23710847e+01,  1.37619721e+01,\n",
       "       -1.36842968e+01,  2.41272518e+01,  7.42780912e+01,  4.06158693e+01,\n",
       "        6.79536663e+01,  3.86686173e+01,  2.30499590e+01,  1.07012736e+01,\n",
       "       -3.07925979e+01,  3.63643198e+01,  2.66618457e+00,  2.44010842e+00,\n",
       "        1.29510591e+01, -1.37344600e+01,  7.93405929e+01,  7.41648515e+00,\n",
       "        1.06037989e+01,  3.31620418e+01,  4.02931655e+01,  1.30259556e+01,\n",
       "        3.87083640e+01, -3.01096857e+01, -2.08427299e+01,  3.25761040e+01,\n",
       "        6.88202679e+01,  6.05079088e+01,  6.98698206e+00,  2.94651000e+01,\n",
       "       -5.32764166e+01,  1.84233334e+01,  1.97179995e+01, -1.21841350e+01,\n",
       "        7.46477969e+00,  5.76009100e+01,  1.06339441e+02,  4.69048307e+01,\n",
       "        2.14371052e+01,  2.62791088e+01,  2.28248182e+01,  1.68286859e+01,\n",
       "        1.03119211e+01,  9.36999317e-01,  3.52966957e+01, -5.51168560e+00,\n",
       "        4.58813120e+01,  1.99847202e+01, -7.25969112e+00,  5.58161976e+01,\n",
       "        9.75572499e-01, -1.28559278e+01, -1.65224052e+01,  5.06207510e+01,\n",
       "        4.08748631e+01,  1.93414622e+01,  3.36182186e+01,  1.81392178e+01,\n",
       "        7.57467456e+01,  3.22494762e+01, -2.46660651e+01,  6.42791344e+00,\n",
       "        3.92470826e+00,  4.21020154e+01,  3.61888205e+01, -4.62633085e+00,\n",
       "       -9.00676857e+00, -1.22310322e+01, -1.85345453e+00,  4.10611509e+01,\n",
       "        1.03050470e+00,  6.14508815e+01,  2.67074744e+01,  9.30963038e+01,\n",
       "       -2.36387652e+01, -3.38445006e+01,  5.87243341e+01,  2.94162832e+01,\n",
       "        3.82684457e+01,  7.57536296e+01,  4.46092669e+01,  5.74720849e+00,\n",
       "        4.09050070e+01, -3.53479944e+01, -1.17608153e+01,  1.43925356e+01,\n",
       "        2.41450818e+01,  1.69565576e+01, -2.59028865e+01,  1.23514365e+00,\n",
       "        1.31409646e+01,  2.29669318e+01,  3.45913208e+01,  8.11046070e+01,\n",
       "        6.42579905e+01, -2.59975321e+01,  4.75223771e+01,  6.05546119e+01,\n",
       "       -3.45507912e+01,  1.98602656e+01,  3.71965740e+01,  6.95882751e+01,\n",
       "        1.07195932e+02, -4.29781859e+01,  3.69215973e+01,  6.41527886e+01,\n",
       "       -2.71565865e+01,  4.30620562e+01,  6.95368462e+01, -1.34110468e+01,\n",
       "        1.77942456e+01, -4.39536588e+00,  5.45587919e+01, -1.32600843e-01,\n",
       "        2.83249433e+01,  6.70244772e+01,  3.96502846e+01,  8.87838513e+00,\n",
       "       -3.10287265e+01, -1.28594779e+00,  7.66298684e+01,  3.50606752e+01,\n",
       "        4.21689644e+01,  3.90098424e+01, -1.76413022e+00,  8.92054465e+00,\n",
       "        2.32533133e+00,  1.20235112e+01,  7.55615009e+01, -3.22019174e+01,\n",
       "        1.97615427e+01,  6.72328934e-01,  3.08513599e+01, -7.40204810e+00,\n",
       "        1.35132523e+01,  3.68820114e+00, -3.07737250e+00,  2.74250916e+01,\n",
       "        5.21553464e+01, -2.75026943e+00, -1.81718452e+01, -3.96365776e+01,\n",
       "       -4.53739252e-01,  3.16255437e+01,  4.79216576e+01,  3.55867749e+01,\n",
       "       -1.08836263e+01,  3.35411320e+01, -1.08794573e+01,  4.33455863e+01,\n",
       "        3.63229799e+01,  8.96792811e+01, -3.39823993e+01,  1.05297092e+01,\n",
       "        1.47177536e+01, -2.34837169e+01,  3.31861956e+01,  3.10907582e+00,\n",
       "        4.22449162e+01,  8.67653541e+01,  4.31373844e+01,  2.85775819e+01,\n",
       "        5.00503848e+01,  1.90926655e+01,  1.07004684e+01, -1.86186626e+01,\n",
       "       -1.59071865e+01,  6.06673693e-01,  4.43259624e+00,  7.22868166e+01,\n",
       "        4.16231717e+01, -3.36993429e+00,  8.10252341e+00,  2.47576092e+01,\n",
       "        6.54278029e+01,  3.33545129e+01,  1.60525736e+01,  2.06257751e+01,\n",
       "        2.21441886e+01,  3.61520497e+01,  6.61764789e+00,  2.04488976e+01,\n",
       "        3.00428526e+01, -1.03820328e+01,  3.56500855e+01,  2.77819049e+01,\n",
       "        3.15556850e+01,  1.08339798e+01,  6.83702995e+01,  5.61808213e+01,\n",
       "        1.22862936e+01,  5.73073868e+01, -3.06666927e+00,  8.94117085e+00,\n",
       "       -2.28936050e+01, -4.15913648e+01,  4.24858665e+01,  2.63528489e+01,\n",
       "        1.74392062e+01,  3.44761962e+01,  2.03315454e+01,  1.68085689e+01,\n",
       "        2.95380210e+01,  4.38389876e+01,  5.26576637e+01, -3.00828872e+01,\n",
       "        5.89199290e+00,  1.85817958e+01, -2.61708087e+01,  3.65000275e+01,\n",
       "       -3.97214955e+01, -2.42929814e+00,  9.13389440e+00,  4.51396800e+01,\n",
       "        6.17258849e+01, -8.72501183e+00,  6.10205389e+01,  1.15700987e+01,\n",
       "        2.45301808e+01, -8.12093826e+00,  2.10086524e+01, -5.46586386e+00,\n",
       "       -3.83722192e+01,  4.80001470e+01,  3.71617158e+01,  1.09656754e+01,\n",
       "        1.11724183e+01,  1.45988405e+01, -1.56400620e+01,  8.73564445e+01,\n",
       "        5.60052636e+01,  7.94721791e+01,  6.75627755e+01,  1.82945590e+01,\n",
       "       -1.28031593e+01,  2.52617655e+01, -5.23748449e+00,  9.35974105e+00,\n",
       "        1.07724820e+01,  1.72675250e+01, -1.41125626e+01, -9.38452361e-01,\n",
       "        2.37944825e+00,  2.22986646e+01,  6.73695402e+01, -5.31743916e+00,\n",
       "        4.37009559e+01,  1.45394918e+00,  4.52507230e+01, -2.40679578e+01,\n",
       "       -3.25837462e+01, -1.12480846e+01, -4.14481054e+01,  5.68702801e+01])"
      ]
     },
     "execution_count": 14,
     "metadata": {},
     "output_type": "execute_result"
    }
   ],
   "source": [
    "# generate random numbers from  normal distribution\n",
    "a  = np.random.normal(23, 34.5  , 500)\n",
    "a"
   ]
  },
  {
   "cell_type": "code",
   "execution_count": 13,
   "id": "05ee608b",
   "metadata": {},
   "outputs": [
    {
     "data": {
      "text/plain": [
       "<Axes: ylabel='Frequency'>"
      ]
     },
     "execution_count": 13,
     "metadata": {},
     "output_type": "execute_result"
    },
    {
     "data": {
      "image/png": "[encoded data removed]",
      "text/plain": [
       "<Figure size 640x480 with 1 Axes>"
      ]
     },
     "metadata": {},
     "output_type": "display_data"
    }
   ],
   "source": [
    "import pandas as pd\n",
    "a  =  pd.Series(a)\n",
    "a.plot(kind = 'hist')"
   ]
  },
  {
   "cell_type": "code",
   "execution_count": 15,
   "id": "41126c7d",
   "metadata": {},
   "outputs": [
    {
     "data": {
      "text/plain": [
       "array([ 1.73182215e-01, -1.12080838e+00, -1.04652702e+00,  1.11846949e-01,\n",
       "       -2.17416345e-01,  6.85775804e-01, -6.53196538e-01, -4.62808820e-01,\n",
       "        1.11277431e+00, -4.25854155e-01,  9.21388638e-01, -2.88109645e-01,\n",
       "       -2.09917450e-01,  1.57740268e+00, -1.62197711e-01,  1.35729170e+00,\n",
       "        6.39143131e-01, -1.26435693e+00, -6.54888134e-01, -1.21488533e+00,\n",
       "       -8.92330047e-01,  7.16083205e-01, -8.21884890e-01, -1.43855231e+00,\n",
       "       -5.72965114e-01, -1.25597150e+00,  2.61189769e+00,  2.39997051e-01,\n",
       "        1.25111979e+00,  8.39942767e-01,  1.74949488e-01, -6.41162782e-01,\n",
       "        8.46106116e-01, -4.84033180e-01,  1.13131420e+00,  4.83088321e-01,\n",
       "       -3.50934182e-01,  9.21946548e-01,  1.53019440e+00,  8.25977549e-02,\n",
       "        5.46749288e-01,  1.71243510e-01,  6.30365316e-01, -1.03730813e-01,\n",
       "        1.63309681e+00,  1.03224843e+00, -2.81818519e-01, -2.79260873e-01,\n",
       "        1.00268553e-01,  5.40650682e-01,  6.92770285e-01,  6.72777040e-02,\n",
       "        2.55964772e-01, -5.21220305e-01,  5.50784583e-01,  1.13460157e+00,\n",
       "       -1.46508595e+00, -1.16418808e+00, -7.18815385e-01,  1.96713492e+00,\n",
       "        6.73332849e-02,  1.01979858e+00,  6.93964082e-02,  2.62112737e-01,\n",
       "        7.08028841e-01,  2.48989832e-01, -5.14613407e-01, -1.53689069e-01,\n",
       "       -9.51188857e-01, -1.30565035e+00,  1.03021106e+00, -6.70180437e-01,\n",
       "       -1.30345741e+00,  5.46197734e-01,  5.61987220e-01, -5.49993504e-01,\n",
       "       -1.04790859e+00,  1.66585924e+00, -2.15279693e-01, -1.50302310e+00,\n",
       "       -2.46889782e-01, -6.57249186e-01,  8.26908939e-01, -2.64289423e+00,\n",
       "       -8.07023864e-01,  1.72044931e+00, -1.57117589e-01,  1.41226727e+00,\n",
       "       -8.28686726e-01, -3.42535133e-01, -1.99896303e-01, -1.91141394e+00,\n",
       "        2.95484169e-01, -1.66121249e+00, -8.52618297e-02, -7.11684471e-01,\n",
       "       -4.66777453e-01,  3.21267337e-01,  2.49276588e-01, -7.96812848e-02,\n",
       "       -2.11822282e+00,  8.64058424e-01,  1.06828111e+00,  3.40375254e-01,\n",
       "       -2.07859900e+00,  6.99859163e-02,  2.97374516e-01, -2.08284732e+00,\n",
       "       -2.37233557e+00,  1.75503360e+00, -1.23166140e+00, -5.28272963e-01,\n",
       "        1.67632655e+00, -9.70555698e-01,  8.89502164e-01, -5.95873668e-01,\n",
       "       -1.24934969e+00,  1.78950530e-01,  4.26605802e-01, -5.52339563e-01,\n",
       "       -2.61814928e-01,  9.21837637e-01, -1.71192357e+00,  4.84951665e-01,\n",
       "       -3.03403866e-01,  8.37450524e-01,  2.01375797e+00, -9.62657922e-01,\n",
       "        1.30340928e+00, -2.55877349e+00, -7.40145719e-02, -9.27849283e-01,\n",
       "        1.35258061e+00, -1.78960250e-01, -2.18232793e-01, -2.66751311e+00,\n",
       "       -6.20447726e-01,  4.11164956e-01,  9.17465348e-01,  1.12744160e+00,\n",
       "       -7.05085813e-01,  4.41412765e-01, -3.45427950e-01, -4.33698082e-01,\n",
       "       -9.30708089e-01, -9.82882246e-01,  1.94540140e+00, -4.78555406e-01,\n",
       "       -9.52166951e-01, -6.00014085e-01,  1.64432790e+00,  1.72408311e+00,\n",
       "        1.41145347e+00, -2.00733148e+00,  1.92747096e+00, -9.34383910e-01,\n",
       "        7.05073116e-01,  1.44897779e-01,  2.36692492e-01, -1.02299831e+00,\n",
       "        8.48636822e-01,  1.29810070e-01, -1.34954923e+00,  2.77719751e-01,\n",
       "        8.83922302e-01,  3.26567020e-01, -5.24489433e-01,  1.24224665e+00,\n",
       "       -7.75294523e-02,  8.01606676e-01,  1.44508081e+00, -1.10242332e+00,\n",
       "       -4.07075979e-02,  1.07082762e+00, -2.42618596e+00, -3.79827612e-01,\n",
       "       -1.92499489e-01, -7.09609750e-01,  1.16219697e+00,  1.36033970e+00,\n",
       "       -5.97698862e-01, -5.09114679e-02, -9.28008013e-01, -4.28879991e-01,\n",
       "        2.89458382e-01, -1.53243230e+00,  5.57277555e-01, -1.71418971e+00,\n",
       "       -1.75513004e-02,  1.90523847e+00,  3.25227097e-02,  1.48210553e+00,\n",
       "        3.88385974e-02, -3.05438006e-01, -9.19617542e-01, -1.65649755e-01,\n",
       "       -4.74029974e-01,  8.88820355e-01, -1.43778845e+00, -3.26357271e-01,\n",
       "       -1.95242184e+00, -7.75875255e-02, -1.23602236e+00,  7.50909828e-01,\n",
       "        5.52990109e-02, -6.85843383e-01, -1.42857008e+00, -6.76194984e-01,\n",
       "       -1.43489166e+00, -2.08035917e+00,  5.71426628e-01, -5.92867285e-01,\n",
       "        2.91362430e-01, -9.15308167e-01, -3.75583785e-01, -7.93031481e-01,\n",
       "       -2.67257309e-01,  2.12699550e-01,  9.81539509e-01,  4.74699542e-02,\n",
       "        2.60428033e-01,  2.26515137e+00,  3.91305515e-01,  1.55909233e+00,\n",
       "        8.61177620e-01, -2.22432742e-01, -1.13899125e-01, -2.04706247e+00,\n",
       "       -1.70169266e+00, -4.48113956e-01,  4.76458872e-01, -1.07724766e+00,\n",
       "       -2.81285770e-01, -1.57327666e+00,  1.20699949e+00,  8.99955897e-01,\n",
       "       -7.51612259e-01, -6.90255350e-01,  2.28282408e+00,  3.69265585e-01,\n",
       "       -4.49734429e-01,  8.59063078e-01,  1.71732038e-01,  1.38206540e-02,\n",
       "       -1.20466693e+00, -8.31807639e-01, -1.12732643e+00, -9.16855920e-01,\n",
       "        2.17910481e+00, -1.00757139e-01,  2.86933701e-01,  1.11106238e+00,\n",
       "        2.16390783e+00,  5.06725838e-01,  1.13349214e+00, -3.29686417e-01,\n",
       "       -8.62107401e-01,  8.98467535e-01,  9.33444305e-01, -1.98517813e+00,\n",
       "       -9.01368556e-01, -4.17244766e-01, -7.93660749e-01, -5.43722583e-02,\n",
       "        3.79021934e-01, -6.41354917e-02, -3.65729521e-01,  1.93981990e+00,\n",
       "        1.42372778e+00, -2.40175879e-01,  3.53765964e-01, -6.56738253e-01,\n",
       "       -2.65993510e-01, -2.91716544e-01, -6.71322740e-01,  2.15933188e-01,\n",
       "       -4.12150591e-01,  3.33307355e-01,  1.20807377e+00, -2.03930254e+00,\n",
       "        7.79664674e-01, -8.19801447e-01,  2.42656396e+00, -3.68907791e-01,\n",
       "        3.62060956e-01,  5.09927374e-01, -1.33719330e-01,  1.23714564e+00,\n",
       "       -1.52521055e+00, -9.35997891e-01,  1.97626980e+00, -1.47165373e+00,\n",
       "        4.28634176e-01,  1.89332548e+00,  1.84093024e-01,  5.34059296e-01,\n",
       "       -4.42088469e-01,  1.34287776e-01, -1.61158671e+00,  3.71968337e-02,\n",
       "        3.08237936e-01, -1.55178174e+00,  1.50981415e-01, -2.33970239e-03,\n",
       "       -2.19688574e-01, -1.56892766e+00, -1.44955896e-01, -2.41740172e+00,\n",
       "        1.62934549e+00, -8.25814487e-01,  1.15025986e+00, -3.81721752e-01,\n",
       "       -6.67591415e-01,  1.23780544e-01,  1.40804881e+00, -1.24260872e+00,\n",
       "       -6.62607311e-01, -5.73774135e-01, -5.88148768e-01, -3.27686822e-01,\n",
       "        1.03476712e+00, -1.16793403e+00, -1.69835487e+00, -4.99652176e-01,\n",
       "       -2.28429851e-01, -7.54530181e-01, -4.44971316e-01,  5.73774158e-01,\n",
       "        1.91512357e+00,  1.36746121e-02,  8.64459121e-02, -6.87195693e-01,\n",
       "       -1.45788214e-01,  7.19986859e-01, -2.83664849e-01, -1.22254166e+00,\n",
       "        7.94129143e-02,  5.67082668e-01,  3.74865535e-01, -2.03732907e+00,\n",
       "       -5.78053239e-01,  2.37888437e+00,  1.29487365e+00,  3.85076905e-01,\n",
       "        6.05249443e-01,  1.02727664e-02, -1.38182379e+00,  7.70597690e-01,\n",
       "       -1.18908398e+00, -3.74507558e-01, -1.91763053e+00, -2.76946801e+00,\n",
       "       -3.10622499e-01,  2.17593077e-01, -1.05382077e+00,  1.54158759e+00,\n",
       "        8.65223096e-02, -7.50699345e-01, -8.34820826e-01,  3.52352488e-01,\n",
       "       -1.08450403e+00, -6.48161071e-01, -1.22746690e+00, -7.84596312e-01,\n",
       "        4.80156853e-01,  1.29949880e+00,  1.05595049e+00, -7.27652534e-01,\n",
       "       -1.18702855e+00,  3.24058941e-02, -8.95078971e-01, -8.68374907e-01,\n",
       "       -1.63274269e-01,  1.83450592e+00, -8.14398584e-02, -1.27378191e-01,\n",
       "       -5.31700621e-01, -1.11527986e+00,  9.32908209e-01,  6.86457992e-01,\n",
       "       -1.28705138e+00,  4.96323141e-01, -2.97465115e+00,  9.71440409e-01,\n",
       "        9.50138568e-01,  2.49607638e+00, -3.77942046e-01, -1.34040483e-01,\n",
       "        1.09573102e-01, -8.90435242e-01, -1.25671948e+00, -7.70519390e-01,\n",
       "        1.18965371e+00,  8.66415481e-01, -2.00440917e-01,  1.27967473e-01,\n",
       "       -6.92263914e-01, -7.76408075e-02, -1.15774506e-01, -5.92678068e-01,\n",
       "        2.52405732e+00, -1.77681614e+00, -5.84658637e-01, -1.30185775e+00,\n",
       "        5.93931961e-01,  1.09166553e-02,  7.34046929e-01, -1.55692941e-01,\n",
       "       -2.96322330e-01,  1.20633464e+00, -1.26375243e+00,  1.52600729e+00,\n",
       "       -1.52636762e+00,  1.40426830e+00,  1.28336342e-01,  1.98553711e+00,\n",
       "       -5.98809406e-01, -9.69376240e-01, -2.60722194e-01, -1.20297212e+00,\n",
       "       -1.21697976e+00, -8.01651581e-01, -1.81721252e-01,  3.21157848e-01,\n",
       "       -9.79301622e-01, -1.46785183e+00,  6.72254622e-01, -1.52767033e+00,\n",
       "       -2.92965435e-01, -2.74551809e+00, -3.37897772e-01,  8.06402325e-02,\n",
       "        5.58600553e-01,  1.22327817e+00, -1.39941159e+00, -1.80302231e+00,\n",
       "       -4.78864739e-01,  8.14373249e-01, -5.37715040e-01,  9.26902722e-01,\n",
       "       -1.12913796e+00,  1.44051447e+00, -6.10234741e-02, -6.83695285e-03,\n",
       "       -1.06711553e+00, -2.06258454e+00, -6.81016310e-01, -9.79274029e-01,\n",
       "        2.74339163e-01,  8.39561854e-01, -1.07246761e+00,  3.26844349e-01,\n",
       "       -1.62016157e+00,  9.45501001e-01,  7.02849727e-01, -1.13144048e+00,\n",
       "        1.17130258e-01,  6.47256521e-01, -4.85000087e-01,  7.09975575e-01,\n",
       "       -1.31510630e+00, -4.02011580e+00,  2.47897960e+00,  3.08105027e-01,\n",
       "        2.25986577e+00,  9.94874412e-01,  2.29392562e-01, -6.96104344e-01,\n",
       "        3.29084435e-01, -2.32574838e+00, -1.59286387e-01,  9.03890731e-01,\n",
       "        4.99210305e-02, -1.98095876e+00,  1.71748102e+00, -1.03860838e+00,\n",
       "       -8.66123951e-01, -4.24212155e-03,  1.45706078e-01,  2.31052882e-01,\n",
       "       -6.20925114e-01, -1.32709929e+00, -7.28921198e-02, -3.43131357e-01,\n",
       "        1.12772611e+00,  3.78345483e-01, -4.42602843e-01, -1.60476592e+00,\n",
       "        3.21834961e-01,  8.55396593e-01, -2.48401475e+00,  4.93867843e-01,\n",
       "        9.52444805e-01,  8.25285246e-01, -1.75497672e-01, -1.39922886e+00,\n",
       "       -4.32091837e-01,  1.07519150e+00,  1.02007173e-01, -2.10491110e+00])"
      ]
     },
     "execution_count": 15,
     "metadata": {},
     "output_type": "execute_result"
    }
   ],
   "source": [
    "# generate normal variates from mean  = 0 and  variance  =1\n",
    "np.random.randn(500)"
   ]
  },
  {
   "cell_type": "code",
   "execution_count": 17,
   "id": "7b150fbd",
   "metadata": {},
   "outputs": [
    {
     "data": {
      "text/plain": [
       "54.995254333922176"
      ]
     },
     "execution_count": 17,
     "metadata": {},
     "output_type": "execute_result"
    }
   ],
   "source": [
    "# generate random numbers from uniform \n",
    "np.random.uniform(56)"
   ]
  },
  {
   "cell_type": "code",
   "execution_count": 18,
   "id": "fd1f1eb2",
   "metadata": {},
   "outputs": [
    {
     "data": {
      "text/plain": [
       "array([36.55199216, 24.66035625, 20.87008332, 39.96494011, 28.13874858,\n",
       "       23.33067379, 32.15735236, 37.58680849, 27.01676521, 24.4476255 ,\n",
       "       26.45024655, 38.08258763, 25.10491805, 34.37144666, 27.48760907,\n",
       "       31.45255306, 23.62351033, 25.12810008, 21.4538243 , 33.93770206,\n",
       "       24.71080436, 33.95318656, 31.63705762, 28.19474452, 26.97909602,\n",
       "       36.16401068, 36.44128465, 38.9394535 , 25.92041671, 33.93609129,\n",
       "       36.95199998, 32.25010714, 20.53195147, 23.02854766, 24.9890336 ,\n",
       "       28.52873994, 28.72932604, 21.25692182, 38.85962848, 37.67615891,\n",
       "       35.06127802, 25.93642833, 27.74008289, 37.40342469, 26.53786822,\n",
       "       36.29966539, 38.71218759, 26.48867837, 31.39721757, 25.18693077,\n",
       "       37.12102114, 29.88769032, 30.39864797, 24.31695037, 33.89673103,\n",
       "       23.87061264, 34.94275286, 23.87897707, 23.62446299, 22.22838629,\n",
       "       39.95204615, 25.12243072, 25.18756842, 20.00296046, 30.94888114,\n",
       "       31.16663639, 29.67769923, 20.07461188, 22.69329812, 26.39262605,\n",
       "       36.2203548 , 21.78003396, 36.20409319, 26.36355834, 38.22181304,\n",
       "       22.44474303, 34.15784188, 22.34807348, 26.7067274 , 21.32578184,\n",
       "       25.62098261, 20.47662631, 34.35939513, 21.08046308, 22.78114571,\n",
       "       29.24214323, 38.90498657, 37.88702187, 23.61691958, 32.14552328,\n",
       "       27.61542967, 37.79503656, 37.74692976, 33.12561498, 21.70111609,\n",
       "       20.08866514, 39.33862033, 20.35245316, 38.32834498, 33.55955471,\n",
       "       36.82086499, 26.70407252, 26.91672983, 25.18963357, 36.47961526,\n",
       "       25.72993776, 27.14033283, 20.01065458, 37.91151817, 38.22463139,\n",
       "       38.7349416 , 31.77618242, 37.7392721 , 36.19376008, 23.22854035,\n",
       "       37.96249517, 22.07834756, 31.21297819, 37.37725488, 34.22812962,\n",
       "       25.58688503, 31.30257378, 26.70627524, 28.77268032, 31.28291218,\n",
       "       21.65471331, 31.78432621, 21.16566857, 30.47568049, 23.56894498,\n",
       "       31.96002726, 35.18270045, 37.52218061, 37.26369708, 20.11785933,\n",
       "       30.5478882 , 22.76288702, 25.21754284, 39.55851556, 33.70941263,\n",
       "       23.17262477, 28.11500262, 31.39587916, 21.40353583, 21.40676128,\n",
       "       27.50774991, 21.14792004, 26.98804121, 31.55166425, 30.99846814,\n",
       "       22.49999287, 38.85713356, 31.80404466, 32.21844314, 30.07847887,\n",
       "       28.29326084, 34.63637352, 21.35143622, 27.20210391, 36.92939551,\n",
       "       20.80859121, 21.72291643, 35.53952775, 35.53000287, 26.87971588,\n",
       "       26.86209878, 39.82466995, 24.04032305, 23.2959553 , 20.05248921,\n",
       "       34.74537993, 25.67337918, 37.40364541, 23.3206652 , 22.43267695,\n",
       "       24.45797389, 35.18069846, 21.03712348, 22.2780311 , 38.9968524 ,\n",
       "       30.72545529, 32.5546057 , 20.54236463, 36.5043738 , 27.80174194,\n",
       "       27.36487667, 35.95819546, 23.21178721, 30.38018704, 23.9081404 ,\n",
       "       25.42151262, 20.23935121, 38.89503234, 20.51869204, 38.82383702,\n",
       "       35.91535091, 35.04480767, 27.87994182, 31.46287522, 36.99391301,\n",
       "       21.64923474, 25.44860557, 20.72548237, 31.76683983, 30.81891578,\n",
       "       23.42502506, 37.30029014, 26.04097294, 33.6091452 , 34.94433281,\n",
       "       39.55081645, 34.96117843, 34.59367831, 39.12122149, 33.58297917,\n",
       "       35.21343548, 37.43260281, 27.12677553, 26.803251  , 38.62060804,\n",
       "       32.43007664, 33.49240192, 28.32095085, 36.18212975, 35.23049087,\n",
       "       33.85879534, 20.83157243, 31.96753314, 22.7227515 , 38.75975546,\n",
       "       39.60013998, 27.41106166, 37.89045289, 21.08856851, 23.93471681,\n",
       "       26.08954126, 28.48778743, 27.02790308, 28.00281867, 28.41647877,\n",
       "       38.44811526, 20.07425734, 29.18279067, 37.86052115, 22.53211907,\n",
       "       24.25758887, 33.97705918, 20.06051094, 33.87390481, 29.94046494,\n",
       "       27.98311806, 38.52402745, 38.08400062, 35.20625767, 32.76991225,\n",
       "       27.26104931, 34.4101077 , 32.92712294, 33.57429156, 36.0026806 ,\n",
       "       31.30063704, 25.37432863, 35.37399832, 28.95556921, 21.77639537,\n",
       "       36.36644603, 35.5599171 , 37.08546803, 24.67753387, 31.2762741 ,\n",
       "       23.23982823, 31.18572197, 38.04159969, 20.34030647, 34.69275087,\n",
       "       38.56735883, 25.51312849, 38.14641037, 27.03770798, 35.91307556,\n",
       "       36.09439533, 24.65041735, 27.64857434, 34.17275111, 35.61193495,\n",
       "       23.42580245, 22.36428927, 24.02485004, 26.5344264 , 37.77664379,\n",
       "       32.36521482, 28.38601396, 26.06314431, 27.12005967, 28.62058695,\n",
       "       23.56795477, 21.86852459, 24.45845754, 32.38771222, 24.2025964 ,\n",
       "       25.45631083, 30.22718722, 35.90758465, 38.18470695, 22.4230907 ,\n",
       "       20.12353945, 31.24064072, 23.19214501, 38.94856222, 27.55586098,\n",
       "       29.491876  , 32.29494234, 28.52064782, 27.15015648, 22.37026546,\n",
       "       24.56899123, 32.92469494, 20.59744304, 20.78767475, 25.97437035,\n",
       "       36.87504813, 28.48338511, 26.68035815, 36.13258099, 27.62411107,\n",
       "       30.34112969, 28.62335575, 34.76983931, 26.83480565, 29.88041954,\n",
       "       32.73362189, 24.75860138, 21.55190116, 39.27803921, 35.24759118,\n",
       "       24.68451718, 22.26194444, 21.37007299, 35.65068479, 21.60471906,\n",
       "       32.58408583, 26.19713015, 28.14483533, 20.14490731, 20.95784075,\n",
       "       30.51028971, 23.89238212, 30.18099602, 29.7253168 , 35.98398649,\n",
       "       20.80868109, 37.95076784, 31.20827247, 22.11975522, 22.29464716,\n",
       "       20.17937671, 23.02474893, 39.15967521, 37.04118535, 27.75993922,\n",
       "       28.08863726, 23.56791372, 21.24785344, 24.92174582, 20.07610701,\n",
       "       39.75029846, 30.28118216, 39.55931802, 26.66861572, 33.4038414 ,\n",
       "       25.82136289, 34.84297632, 26.03132295, 28.96966034, 20.35051076,\n",
       "       30.24587194, 36.8134534 , 26.53033384, 37.60690958, 36.2468781 ,\n",
       "       27.4220902 , 21.79558161, 31.78919002, 33.61667499, 35.3468017 ,\n",
       "       36.7301203 , 30.28220108, 24.5530273 , 31.01722639, 25.50575405,\n",
       "       34.2806811 , 24.23762176, 28.09203201, 24.60276419, 21.1216466 ,\n",
       "       23.58973969, 25.27864718, 32.33020779, 20.5864352 , 35.43153904,\n",
       "       21.4767138 , 36.53483609, 32.02419399, 29.27557342, 20.81332776,\n",
       "       38.33017401, 25.40643087, 39.5115432 , 23.00477994, 27.2560403 ,\n",
       "       36.80480785, 39.06038346, 26.36028118, 38.06353928, 26.45302184,\n",
       "       22.05432278, 21.23331401, 32.0112232 , 24.35291649, 27.27305828,\n",
       "       30.21017495, 30.92751778, 20.14198946, 23.01472815, 27.85425555,\n",
       "       24.33840823, 20.55282581, 31.5747344 , 29.34503768, 22.96388221,\n",
       "       39.56222756, 34.33060295, 21.49691162, 25.9939657 , 37.7225587 ,\n",
       "       27.4184069 , 32.50953978, 37.43384459, 30.11082837, 33.61689291,\n",
       "       35.00428609, 31.35803135, 37.65935691, 27.59237443, 37.52312779,\n",
       "       38.41536509, 21.08685767, 27.73159657, 37.31759555, 24.98331845,\n",
       "       24.42516014, 35.12156479, 20.97091168, 27.15923376, 30.57228218,\n",
       "       29.16196564, 22.80977375, 39.01265973, 39.18761039, 24.82887664,\n",
       "       29.11094754, 29.96157102, 34.14127482, 34.9423814 , 36.52503299,\n",
       "       31.85165158, 37.74889227, 39.82848043, 24.47975082, 34.54035203,\n",
       "       22.60280157, 32.24000204, 22.36294742, 21.06325062, 26.53096206,\n",
       "       21.03131138, 36.42808977, 20.72441013, 38.88846427, 21.80434908,\n",
       "       36.58997495, 25.45637849, 21.09471055, 26.56567766, 28.96436814,\n",
       "       29.61036447, 36.50670353, 39.17611488, 31.26837822, 33.238474  ,\n",
       "       26.59619477, 39.00161832, 28.11364873, 33.62517219, 22.81997196,\n",
       "       30.78840862, 21.64856116, 34.01089592, 22.27827699, 38.10551597])"
      ]
     },
     "execution_count": 18,
     "metadata": {},
     "output_type": "execute_result"
    }
   ],
   "source": [
    "np.random.uniform(low =  20  , high  =  40 ,  size  =  500)"
   ]
  },
  {
   "cell_type": "markdown",
   "id": "e375831b",
   "metadata": {},
   "source": [
    "# Trignometric functions by numpy library\n",
    "- sin\n",
    "- cos\n",
    "- tan\n",
    "- radian "
   ]
  },
  {
   "cell_type": "code",
   "execution_count": 19,
   "id": "6c056880",
   "metadata": {},
   "outputs": [
    {
     "data": {
      "text/plain": [
       "array([-0.98803162,  0.85090352, -0.30481062,  0.89399666])"
      ]
     },
     "execution_count": 19,
     "metadata": {},
     "output_type": "execute_result"
    }
   ],
   "source": [
    "l  =  [30 ,  45, 60 , 90]\n",
    "np.sin(l)"
   ]
  },
  {
   "cell_type": "code",
   "execution_count": 20,
   "id": "07bf7e65",
   "metadata": {},
   "outputs": [
    {
     "data": {
      "text/plain": [
       "array([ 0.15425145,  0.52532199, -0.95241298, -0.44807362])"
      ]
     },
     "execution_count": 20,
     "metadata": {},
     "output_type": "execute_result"
    }
   ],
   "source": [
    "np.cos(l)"
   ]
  },
  {
   "cell_type": "code",
   "execution_count": 21,
   "id": "cbceaddb",
   "metadata": {},
   "outputs": [
    {
     "data": {
      "text/plain": [
       "array([-6.4053312 ,  1.61977519,  0.32004039, -1.99520041])"
      ]
     },
     "execution_count": 21,
     "metadata": {},
     "output_type": "execute_result"
    }
   ],
   "source": [
    "np.tan(l)"
   ]
  },
  {
   "cell_type": "code",
   "execution_count": 22,
   "id": "f03f8dcd",
   "metadata": {},
   "outputs": [
    {
     "ename": "AttributeError",
     "evalue": "module 'numpy' has no attribute 'cot'",
     "output_type": "error",
     "traceback": [
      "\u001b[31m---------------------------------------------------------------------------\u001b[39m",
      "\u001b[31mAttributeError\u001b[39m                            Traceback (most recent call last)",
      "\u001b[36mCell\u001b[39m\u001b[36m \u001b[39m\u001b[32mIn[22]\u001b[39m\u001b[32m, line 2\u001b[39m\n\u001b[32m      1\u001b[39m \u001b[38;5;66;03m# cot  \u001b[39;00m\n\u001b[32m----> \u001b[39m\u001b[32m2\u001b[39m \u001b[43mnp\u001b[49m\u001b[43m.\u001b[49m\u001b[43mcot\u001b[49m(l)\n",
      "\u001b[36mFile \u001b[39m\u001b[32md:\\Adv_python_3_july_weekday_830\\repository\\venv\\Lib\\site-packages\\numpy\\__init__.py:808\u001b[39m, in \u001b[36m__getattr__\u001b[39m\u001b[34m(attr)\u001b[39m\n\u001b[32m    805\u001b[39m     \u001b[38;5;28;01mimport\u001b[39;00m\u001b[38;5;250m \u001b[39m\u001b[34;01mnumpy\u001b[39;00m\u001b[34;01m.\u001b[39;00m\u001b[34;01mchar\u001b[39;00m\u001b[38;5;250m \u001b[39m\u001b[38;5;28;01mas\u001b[39;00m\u001b[38;5;250m \u001b[39m\u001b[34;01mchar\u001b[39;00m\n\u001b[32m    806\u001b[39m     \u001b[38;5;28;01mreturn\u001b[39;00m char.chararray\n\u001b[32m--> \u001b[39m\u001b[32m808\u001b[39m \u001b[38;5;28;01mraise\u001b[39;00m \u001b[38;5;167;01mAttributeError\u001b[39;00m(\u001b[33mf\u001b[39m\u001b[33m\"\u001b[39m\u001b[33mmodule \u001b[39m\u001b[38;5;132;01m{\u001b[39;00m\u001b[34m__name__\u001b[39m\u001b[38;5;132;01m!r}\u001b[39;00m\u001b[33m has no attribute \u001b[39m\u001b[38;5;132;01m{\u001b[39;00mattr\u001b[38;5;132;01m!r}\u001b[39;00m\u001b[33m\"\u001b[39m)\n",
      "\u001b[31mAttributeError\u001b[39m: module 'numpy' has no attribute 'cot'"
     ]
    }
   ],
   "source": [
    "# cot  \n",
    "np.cot(l)"
   ]
  },
  {
   "cell_type": "code",
   "execution_count": 23,
   "id": "7f5de142",
   "metadata": {},
   "outputs": [
    {
     "data": {
      "text/plain": [
       "array([0.52359878, 0.78539816, 1.04719755, 1.57079633])"
      ]
     },
     "execution_count": 23,
     "metadata": {},
     "output_type": "execute_result"
    }
   ],
   "source": [
    "# convert above angles  in radian\n",
    "np.radians(l)"
   ]
  },
  {
   "cell_type": "code",
   "execution_count": 24,
   "id": "ae29ab83",
   "metadata": {},
   "outputs": [
    {
     "data": {
      "text/plain": [
       "array([123,  46, 687,  35])"
      ]
     },
     "execution_count": 24,
     "metadata": {},
     "output_type": "execute_result"
    }
   ],
   "source": [
    "l  = [-123 ,-46,687,-35]\n",
    "np.abs(l)"
   ]
  },
  {
   "cell_type": "code",
   "execution_count": 25,
   "id": "2a0fdf2b",
   "metadata": {},
   "outputs": [
    {
     "data": {
      "text/plain": [
       "array([123,  46, 687,  35])"
      ]
     },
     "execution_count": 25,
     "metadata": {},
     "output_type": "execute_result"
    }
   ],
   "source": [
    "np.absolute(l)"
   ]
  },
  {
   "cell_type": "code",
   "execution_count": 26,
   "id": "d21dc99b",
   "metadata": {},
   "outputs": [
    {
     "data": {
      "text/plain": [
       "array([-123,  -46,  687,  -35])"
      ]
     },
     "execution_count": 26,
     "metadata": {},
     "output_type": "execute_result"
    }
   ],
   "source": [
    "np.round(l)"
   ]
  },
  {
   "cell_type": "code",
   "execution_count": 34,
   "id": "1655a3d1",
   "metadata": {},
   "outputs": [
    {
     "data": {
      "text/plain": [
       "2"
      ]
     },
     "execution_count": 34,
     "metadata": {},
     "output_type": "execute_result"
    }
   ],
   "source": [
    "l =  np.array([12,45,67,78,89,45])\n",
    "l1  = l.reshape(2,3)\n",
    "l1.shape\n",
    "l1.ndim"
   ]
  },
  {
   "cell_type": "code",
   "execution_count": 29,
   "id": "bcda68c5",
   "metadata": {},
   "outputs": [
    {
     "data": {
      "text/plain": [
       "(6,)"
      ]
     },
     "execution_count": 29,
     "metadata": {},
     "output_type": "execute_result"
    }
   ],
   "source": [
    "l =  np.array([12,45,67,78,89,45])\n",
    "l.shape"
   ]
  },
  {
   "cell_type": "code",
   "execution_count": null,
   "id": "f51d4218",
   "metadata": {},
   "outputs": [],
   "source": []
  }
 ],
 "metadata": {
  "kernelspec": {
   "display_name": "venv",
   "language": "python",
   "name": "python3"
  },
  "language_info": {
   "codemirror_mode": {
    "name": "ipython",
    "version": 3
   },
   "file_extension": ".py",
   "mimetype": "text/x-python",
   "name": "python",
   "nbconvert_exporter": "python",
   "pygments_lexer": "ipython3",
   "version": "3.13.5"
  }
 },
 "nbformat": 4,
 "nbformat_minor": 5
}
