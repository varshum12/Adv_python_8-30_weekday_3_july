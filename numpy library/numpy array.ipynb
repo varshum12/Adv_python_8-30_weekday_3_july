{
 "cells": [
  {
   "attachments": {
    "image.png": {
     "image/png": "[encoded data removed]"
    }
   },
   "cell_type": "markdown",
   "id": "28c8dc20",
   "metadata": {},
   "source": [
    "![image.png](attachment:image.png)"
   ]
  },
  {
   "cell_type": "code",
   "execution_count": 1,
   "id": "09cc18bc",
   "metadata": {},
   "outputs": [
    {
     "data": {
      "text/plain": [
       "[12, 35, 67, 7]"
      ]
     },
     "execution_count": 1,
     "metadata": {},
     "output_type": "execute_result"
    }
   ],
   "source": [
    "l  = [12,35,67,7]\n",
    "l"
   ]
  },
  {
   "cell_type": "code",
   "execution_count": 2,
   "id": "d3096685",
   "metadata": {},
   "outputs": [],
   "source": [
    "import numpy as np"
   ]
  },
  {
   "cell_type": "code",
   "execution_count": 3,
   "id": "2233063e",
   "metadata": {},
   "outputs": [],
   "source": [
    "ar1  =  np.array(l)"
   ]
  },
  {
   "cell_type": "code",
   "execution_count": 4,
   "id": "90e7910f",
   "metadata": {},
   "outputs": [
    {
     "data": {
      "text/plain": [
       "array([12, 35, 67,  7])"
      ]
     },
     "execution_count": 4,
     "metadata": {},
     "output_type": "execute_result"
    }
   ],
   "source": [
    "ar1"
   ]
  },
  {
   "cell_type": "code",
   "execution_count": null,
   "id": "8f48b6a3",
   "metadata": {},
   "outputs": [],
   "source": [
    "# attributes used\n",
    "- ndim\n",
    "- size\n",
    "- shape"
   ]
  },
  {
   "cell_type": "code",
   "execution_count": 5,
   "metadata": {},
   "outputs": [
    {
     "data": {
      "text/plain": [
       "1"
      ]
     },
     "execution_count": 5,
     "metadata": {},
     "output_type": "execute_result"
    }
   ],
   "source": [
    "ar1.ndim"
   ]
  },
  {
   "cell_type": "code",
   "execution_count": 6,
   "id": "d12ab70d",
   "metadata": {},
   "outputs": [
    {
     "data": {
      "text/plain": [
       "(4,)"
      ]
     },
     "execution_count": 6,
     "metadata": {},
     "output_type": "execute_result"
    }
   ],
   "source": [
    "ar1.shape"
   ]
  },
  {
   "cell_type": "code",
   "execution_count": 7,
   "metadata": {},
   "outputs": [
    {
     "data": {
      "text/plain": [
       "4"
      ]
     },
     "execution_count": 7,
     "metadata": {},
     "output_type": "execute_result"
    }
   ],
   "source": [
    "ar1.size"
   ]
  },
  {
   "cell_type": "code",
   "execution_count": 8,
   "metadata": {},
   "outputs": [
    {
     "data": {
      "text/plain": [
       "numpy.ndarray"
      ]
     },
     "execution_count": 8,
     "metadata": {},
     "output_type": "execute_result"
    }
   ],
   "source": [
    "type(ar1)"
   ]
  },
  {
   "cell_type": "code",
   "execution_count": 9,
   "id": "d82f93ab",
   "metadata": {},
   "outputs": [
    {
     "data": {
      "text/plain": [
       "dtype('int64')"
      ]
     },
     "execution_count": 9,
     "metadata": {},
     "output_type": "execute_result"
    }
   ],
   "source": [
    "ar1.dtype"
   ]
  },
  {
   "cell_type": "code",
   "execution_count": 10,
   "metadata": {},
   "outputs": [],
   "source": [
    "ar2  =  np.array(['s' , \"v\" , 23,56])"
   ]
  },
  {
   "cell_type": "code",
   "execution_count": 11,
   "id": "ed886d40",
   "metadata": {},
   "outputs": [
    {
     "data": {
      "text/plain": [
       "dtype('<U21')"
      ]
     },
     "execution_count": 11,
     "metadata": {},
     "output_type": "execute_result"
    }
   ],
   "source": [
    "ar2.dtype"
   ]
  },
  {
   "cell_type": "code",
   "execution_count": 12,
   "id": "e90639cb",
   "metadata": {},
   "outputs": [],
   "source": [
    "ar3  =  np.array([12 ,34 ,45.45 , 56.76])"
   ]
  },
  {
   "cell_type": "code",
   "execution_count": 13,
   "id": "685e693d",
   "metadata": {},
   "outputs": [
    {
     "data": {
      "text/plain": [
       "dtype('float64')"
      ]
     },
     "execution_count": 13,
     "metadata": {},
     "output_type": "execute_result"
    }
   ],
   "source": [
    "ar3.dtype"
   ]
  },
  {
   "cell_type": "code",
   "execution_count": null,
   "id": "5838ae27",
   "metadata": {},
   "outputs": [],
   "source": [
    "# array contains only homogenous data types"
   ]
  },
  {
   "cell_type": "code",
   "execution_count": 14,
   "id": "31e087ce",
   "metadata": {},
   "outputs": [],
   "source": [
    "l1  =  [[12 ,23 ,34,45] , [56,67,78,89]]\n"
   ]
  },
  {
   "cell_type": "code",
   "execution_count": 15,
   "id": "9e92f1d8",
   "metadata": {},
   "outputs": [],
   "source": [
    "ar4  =  np.array(l1)"
   ]
  },
  {
   "cell_type": "code",
   "execution_count": 18,
   "id": "3387ff4b",
   "metadata": {},
   "outputs": [
    {
     "data": {
      "text/plain": [
       "2"
      ]
     },
     "execution_count": 18,
     "metadata": {},
     "output_type": "execute_result"
    }
   ],
   "source": [
    "ar4.ndim"
   ]
  },
  {
   "cell_type": "code",
   "execution_count": 19,
   "id": "1d8d7c7f",
   "metadata": {},
   "outputs": [
    {
     "data": {
      "text/plain": [
       "array([[12, 23, 34, 45],\n",
       "       [56, 67, 78, 89]])"
      ]
     },
     "execution_count": 19,
     "metadata": {},
     "output_type": "execute_result"
    }
   ],
   "source": [
    "ar4"
   ]
  },
  {
   "cell_type": "code",
   "execution_count": 20,
   "id": "46b133f3",
   "metadata": {},
   "outputs": [
    {
     "data": {
      "text/plain": [
       "(2, 4)"
      ]
     },
     "execution_count": 20,
     "metadata": {},
     "output_type": "execute_result"
    }
   ],
   "source": [
    "ar4.shape"
   ]
  },
  {
   "cell_type": "code",
   "execution_count": 21,
   "id": "5d8c0e62",
   "metadata": {},
   "outputs": [
    {
     "data": {
      "text/plain": [
       "8"
      ]
     },
     "execution_count": 21,
     "metadata": {},
     "output_type": "execute_result"
    }
   ],
   "source": [
    "ar4.size"
   ]
  },
  {
   "cell_type": "code",
   "execution_count": 22,
   "id": "e774eb5f",
   "metadata": {},
   "outputs": [],
   "source": [
    "# create 3 d array\n",
    "l3 =  [[[1,2,3], [4,5,6] , [7,8,9]]]"
   ]
  },
  {
   "cell_type": "code",
   "execution_count": 23,
   "id": "bb61d3ce",
   "metadata": {},
   "outputs": [],
   "source": [
    "ar5  =  np.array(l3)"
   ]
  },
  {
   "cell_type": "code",
   "execution_count": 24,
   "id": "23e323d6",
   "metadata": {},
   "outputs": [
    {
     "data": {
      "text/plain": [
       "(1, 3, 3)"
      ]
     },
     "execution_count": 24,
     "metadata": {},
     "output_type": "execute_result"
    }
   ],
   "source": [
    "ar5.shape"
   ]
  },
  {
   "cell_type": "code",
   "execution_count": 25,
   "id": "cfc7812d",
   "metadata": {},
   "outputs": [
    {
     "data": {
      "text/plain": [
       "3"
      ]
     },
     "execution_count": 25,
     "metadata": {},
     "output_type": "execute_result"
    }
   ],
   "source": [
    "ar5.ndim"
   ]
  },
  {
   "cell_type": "code",
   "execution_count": 37,
   "id": "47c3609c",
   "metadata": {},
   "outputs": [],
   "source": [
    "l4=  [[[1,2,3], [4,5,6]] ,[ [7,8,9], [10 ,11,12]]]"
   ]
  },
  {
   "cell_type": "code",
   "execution_count": 39,
   "id": "e68afefd",
   "metadata": {},
   "outputs": [],
   "source": [
    "ar6 = np.array(l4)"
   ]
  },
  {
   "cell_type": "code",
   "execution_count": 41,
   "id": "875b53b9",
   "metadata": {},
   "outputs": [
    {
     "data": {
      "text/plain": [
       "3"
      ]
     },
     "execution_count": 41,
     "metadata": {},
     "output_type": "execute_result"
    }
   ],
   "source": [
    "ar6.ndim"
   ]
  },
  {
   "cell_type": "code",
   "execution_count": 42,
   "id": "6371ce23",
   "metadata": {},
   "outputs": [
    {
     "data": {
      "text/plain": [
       "(2, 2, 3)"
      ]
     },
     "execution_count": 42,
     "metadata": {},
     "output_type": "execute_result"
    }
   ],
   "source": [
    "ar6.shape"
   ]
  },
  {
   "cell_type": "code",
   "execution_count": 43,
   "id": "9df871a0",
   "metadata": {},
   "outputs": [
    {
     "data": {
      "text/plain": [
       "array([[[ 1,  2,  3],\n",
       "        [ 4,  5,  6]],\n",
       "\n",
       "       [[ 7,  8,  9],\n",
       "        [10, 11, 12]]])"
      ]
     },
     "execution_count": 43,
     "metadata": {},
     "output_type": "execute_result"
    }
   ],
   "source": [
    "ar6"
   ]
  },
  {
   "cell_type": "code",
   "execution_count": 46,
   "id": "6b83a3c1",
   "metadata": {},
   "outputs": [],
   "source": [
    "# create 2 d array\n",
    "ar_2d  =  np.array([[1,2,3] , [5,6,7]])"
   ]
  },
  {
   "cell_type": "code",
   "execution_count": 47,
   "id": "d7f54011",
   "metadata": {},
   "outputs": [
    {
     "data": {
      "text/plain": [
       "array([[1, 2, 3],\n",
       "       [5, 6, 7]])"
      ]
     },
     "execution_count": 47,
     "metadata": {},
     "output_type": "execute_result"
    }
   ],
   "source": [
    "ar_2d"
   ]
  },
  {
   "cell_type": "markdown",
   "id": "6ecc372a",
   "metadata": {},
   "source": [
    "# functions used on array\n",
    "- sum \n",
    "- max\n",
    "- min\n",
    "- mean \n",
    "- prod\n",
    "- argmax\n",
    "- argmin\n",
    "- sqaure \n",
    "- sqrt \n"
   ]
  },
  {
   "cell_type": "code",
   "execution_count": 48,
   "id": "aeb2d2e6",
   "metadata": {},
   "outputs": [
    {
     "data": {
      "text/plain": [
       "array([12, 35, 67,  7])"
      ]
     },
     "execution_count": 48,
     "metadata": {},
     "output_type": "execute_result"
    }
   ],
   "source": [
    "ar1"
   ]
  },
  {
   "cell_type": "code",
   "execution_count": 49,
   "id": "a43278f6",
   "metadata": {},
   "outputs": [
    {
     "data": {
      "text/plain": [
       "np.int64(121)"
      ]
     },
     "execution_count": 49,
     "metadata": {},
     "output_type": "execute_result"
    }
   ],
   "source": [
    "np.sum(ar1)"
   ]
  },
  {
   "cell_type": "code",
   "execution_count": 51,
   "id": "23f2f86b",
   "metadata": {},
   "outputs": [
    {
     "data": {
      "text/plain": [
       "array([[1, 2, 3],\n",
       "       [5, 6, 7]])"
      ]
     },
     "execution_count": 51,
     "metadata": {},
     "output_type": "execute_result"
    }
   ],
   "source": [
    "ar_2d"
   ]
  },
  {
   "cell_type": "code",
   "execution_count": 52,
   "id": "141c15b6",
   "metadata": {},
   "outputs": [
    {
     "data": {
      "text/plain": [
       "np.int64(24)"
      ]
     },
     "execution_count": 52,
     "metadata": {},
     "output_type": "execute_result"
    }
   ],
   "source": [
    "np.sum(ar_2d)"
   ]
  },
  {
   "cell_type": "code",
   "execution_count": 53,
   "id": "f584f623",
   "metadata": {},
   "outputs": [
    {
     "data": {
      "text/plain": [
       "array([ 6,  8, 10])"
      ]
     },
     "execution_count": 53,
     "metadata": {},
     "output_type": "execute_result"
    }
   ],
   "source": [
    "# take summation of axis 0\n",
    "np.sum(ar_2d , axis  = 0)"
   ]
  },
  {
   "cell_type": "code",
   "execution_count": 54,
   "id": "42a50e51",
   "metadata": {},
   "outputs": [
    {
     "data": {
      "text/plain": [
       "array([ 6, 18])"
      ]
     },
     "execution_count": 54,
     "metadata": {},
     "output_type": "execute_result"
    }
   ],
   "source": [
    "np.sum(ar_2d , axis =  1)"
   ]
  },
  {
   "cell_type": "code",
   "execution_count": 55,
   "id": "958de398",
   "metadata": {},
   "outputs": [
    {
     "data": {
      "text/plain": [
       "np.float64(30.25)"
      ]
     },
     "execution_count": 55,
     "metadata": {},
     "output_type": "execute_result"
    }
   ],
   "source": [
    "np.mean(ar1)"
   ]
  },
  {
   "cell_type": "code",
   "execution_count": 56,
   "id": "a9156674",
   "metadata": {},
   "outputs": [
    {
     "data": {
      "text/plain": [
       "np.int64(196980)"
      ]
     },
     "execution_count": 56,
     "metadata": {},
     "output_type": "execute_result"
    }
   ],
   "source": [
    "np.prod(ar1)"
   ]
  },
  {
   "cell_type": "code",
   "execution_count": 57,
   "id": "4535da74",
   "metadata": {},
   "outputs": [
    {
     "data": {
      "text/plain": [
       "np.int64(1260)"
      ]
     },
     "execution_count": 57,
     "metadata": {},
     "output_type": "execute_result"
    }
   ],
   "source": [
    "np.prod(ar_2d)"
   ]
  },
  {
   "cell_type": "code",
   "execution_count": 58,
   "id": "ba3bc203",
   "metadata": {},
   "outputs": [
    {
     "data": {
      "text/plain": [
       "array([  6, 210])"
      ]
     },
     "execution_count": 58,
     "metadata": {},
     "output_type": "execute_result"
    }
   ],
   "source": [
    "np.prod(ar_2d ,axis =  1)"
   ]
  },
  {
   "cell_type": "code",
   "execution_count": 59,
   "id": "5c134159",
   "metadata": {},
   "outputs": [
    {
     "data": {
      "text/plain": [
       "array([12, 35, 67,  7])"
      ]
     },
     "execution_count": 59,
     "metadata": {},
     "output_type": "execute_result"
    }
   ],
   "source": [
    "ar1"
   ]
  },
  {
   "cell_type": "code",
   "execution_count": 60,
   "id": "80af0c5b",
   "metadata": {},
   "outputs": [
    {
     "data": {
      "text/plain": [
       "np.int64(2)"
      ]
     },
     "execution_count": 60,
     "metadata": {},
     "output_type": "execute_result"
    }
   ],
   "source": [
    "# argmax , argmin\n",
    "np.argmax(ar1)"
   ]
  },
  {
   "cell_type": "code",
   "execution_count": 61,
   "id": "4608be60",
   "metadata": {},
   "outputs": [
    {
     "data": {
      "text/plain": [
       "np.int64(3)"
      ]
     },
     "execution_count": 61,
     "metadata": {},
     "output_type": "execute_result"
    }
   ],
   "source": [
    "np.argmin(ar1)"
   ]
  },
  {
   "cell_type": "code",
   "execution_count": 62,
   "id": "eeb9597b",
   "metadata": {},
   "outputs": [
    {
     "data": {
      "text/plain": [
       "array([[1, 2, 3],\n",
       "       [5, 6, 7]])"
      ]
     },
     "execution_count": 62,
     "metadata": {},
     "output_type": "execute_result"
    }
   ],
   "source": [
    "ar_2d"
   ]
  },
  {
   "cell_type": "code",
   "execution_count": 63,
   "id": "7811e303",
   "metadata": {},
   "outputs": [
    {
     "data": {
      "text/plain": [
       "np.int64(5)"
      ]
     },
     "execution_count": 63,
     "metadata": {},
     "output_type": "execute_result"
    }
   ],
   "source": [
    "np.argmax(ar_2d)"
   ]
  },
  {
   "cell_type": "code",
   "execution_count": 64,
   "id": "f33c827a",
   "metadata": {},
   "outputs": [
    {
     "data": {
      "text/plain": [
       "np.int64(0)"
      ]
     },
     "execution_count": 64,
     "metadata": {},
     "output_type": "execute_result"
    }
   ],
   "source": [
    "np.argmin(ar_2d)"
   ]
  },
  {
   "cell_type": "code",
   "execution_count": 65,
   "id": "40dc4f6d",
   "metadata": {},
   "outputs": [
    {
     "data": {
      "text/plain": [
       "array([1, 1, 1])"
      ]
     },
     "execution_count": 65,
     "metadata": {},
     "output_type": "execute_result"
    }
   ],
   "source": [
    "np.argmax(ar_2d , axis  =  0)"
   ]
  },
  {
   "cell_type": "code",
   "execution_count": 66,
   "id": "cd846335",
   "metadata": {},
   "outputs": [
    {
     "data": {
      "text/plain": [
       "array([0, 0])"
      ]
     },
     "execution_count": 66,
     "metadata": {},
     "output_type": "execute_result"
    }
   ],
   "source": [
    "np.argmin(ar_2d , axis  =  1)"
   ]
  },
  {
   "cell_type": "code",
   "execution_count": 69,
   "id": "ea2abb54",
   "metadata": {},
   "outputs": [
    {
     "name": "stdout",
     "output_type": "stream",
     "text": [
      "[12 35 67  7]\n"
     ]
    },
    {
     "data": {
      "text/plain": [
       "array([ 144, 1225, 4489,   49])"
      ]
     },
     "execution_count": 69,
     "metadata": {},
     "output_type": "execute_result"
    }
   ],
   "source": [
    "# square , sqrtar1\n",
    "print(ar1)\n",
    "\n",
    "np.square(ar1)"
   ]
  },
  {
   "cell_type": "code",
   "execution_count": 70,
   "id": "319a3c0e",
   "metadata": {},
   "outputs": [
    {
     "data": {
      "text/plain": [
       "array([3.46410162, 5.91607978, 8.18535277, 2.64575131])"
      ]
     },
     "execution_count": 70,
     "metadata": {},
     "output_type": "execute_result"
    }
   ],
   "source": [
    "np.sqrt(ar1)"
   ]
  },
  {
   "cell_type": "code",
   "execution_count": 73,
   "id": "0f1bd758",
   "metadata": {},
   "outputs": [
    {
     "data": {
      "text/plain": [
       "array([2.28942849, 3.27106631, 4.0615481 , 1.91293118])"
      ]
     },
     "execution_count": 73,
     "metadata": {},
     "output_type": "execute_result"
    }
   ],
   "source": [
    "np.cbrt(ar1)"
   ]
  },
  {
   "cell_type": "code",
   "execution_count": 74,
   "id": "f93629a2",
   "metadata": {},
   "outputs": [
    {
     "name": "stdout",
     "output_type": "stream",
     "text": [
      "26.5\n",
      "4\n",
      "56\n",
      "106\n",
      "91392\n"
     ]
    }
   ],
   "source": [
    "l  =  [12,34,56,4]\n",
    "print(np.mean(l))\n",
    "print(np.min(l))\n",
    "print(np.max(l))\n",
    "print(np.sum(l))\n",
    "print(np.prod(l))"
   ]
  },
  {
   "cell_type": "code",
   "execution_count": 77,
   "id": "c8e9d894",
   "metadata": {},
   "outputs": [
    {
     "data": {
      "text/plain": [
       "[1, 3, 6, 7, 8, 5, 6, 8, 9, 10]"
      ]
     },
     "execution_count": 77,
     "metadata": {},
     "output_type": "execute_result"
    }
   ],
   "source": [
    "l =  [1,3,6,7,8]\n",
    "n  =  [5,6,8,9, 10]\n",
    "l  +  n"
   ]
  },
  {
   "cell_type": "code",
   "execution_count": 78,
   "id": "613a0491",
   "metadata": {},
   "outputs": [],
   "source": [
    "ar  =  np.array(l)"
   ]
  },
  {
   "cell_type": "code",
   "execution_count": 80,
   "id": "ea24242b",
   "metadata": {},
   "outputs": [],
   "source": [
    "\n",
    "n_ar  =  np.array(n)"
   ]
  },
  {
   "cell_type": "code",
   "execution_count": 88,
   "id": "a2dc6ed7",
   "metadata": {},
   "outputs": [
    {
     "name": "stdout",
     "output_type": "stream",
     "text": [
      "[1 3 6 7 8]\n",
      "[ 5  6  8  9 10]\n",
      "[ 6  9 14 16 18]\n",
      "[-4 -3 -2 -2 -2]\n"
     ]
    }
   ],
   "source": [
    "print(ar)\n",
    "print(n_ar)\n",
    "print(ar+n_ar)\n",
    "print(ar - n_ar)"
   ]
  },
  {
   "cell_type": "code",
   "execution_count": 82,
   "id": "fddbc501",
   "metadata": {},
   "outputs": [
    {
     "data": {
      "text/plain": [
       "array([ 5, 18, 48, 63, 80])"
      ]
     },
     "execution_count": 82,
     "metadata": {},
     "output_type": "execute_result"
    }
   ],
   "source": [
    "ar*n_ar"
   ]
  },
  {
   "cell_type": "code",
   "execution_count": 83,
   "id": "4b0a5af7",
   "metadata": {},
   "outputs": [
    {
     "data": {
      "text/plain": [
       "array([0.2       , 0.5       , 0.75      , 0.77777778, 0.8       ])"
      ]
     },
     "execution_count": 83,
     "metadata": {},
     "output_type": "execute_result"
    }
   ],
   "source": [
    "ar/n_ar"
   ]
  },
  {
   "cell_type": "code",
   "execution_count": 84,
   "id": "56b440e8",
   "metadata": {},
   "outputs": [
    {
     "data": {
      "text/plain": [
       "array([0, 0, 0, 0, 0])"
      ]
     },
     "execution_count": 84,
     "metadata": {},
     "output_type": "execute_result"
    }
   ],
   "source": [
    "ar//n_ar"
   ]
  },
  {
   "cell_type": "code",
   "execution_count": 85,
   "id": "c368567d",
   "metadata": {},
   "outputs": [
    {
     "data": {
      "text/plain": [
       "array([1, 3, 6, 7, 8])"
      ]
     },
     "execution_count": 85,
     "metadata": {},
     "output_type": "execute_result"
    }
   ],
   "source": [
    "ar%n_ar"
   ]
  },
  {
   "cell_type": "code",
   "execution_count": 87,
   "id": "213198fb",
   "metadata": {},
   "outputs": [
    {
     "data": {
      "text/plain": [
       "array([         1,        729,    1679616,   40353607, 1073741824])"
      ]
     },
     "execution_count": 87,
     "metadata": {},
     "output_type": "execute_result"
    }
   ],
   "source": [
    "ar**n_ar"
   ]
  },
  {
   "cell_type": "code",
   "execution_count": 89,
   "id": "8140a0b6",
   "metadata": {},
   "outputs": [
    {
     "data": {
      "text/plain": [
       "[1, 3, 6, 7, 8]"
      ]
     },
     "execution_count": 89,
     "metadata": {},
     "output_type": "execute_result"
    }
   ],
   "source": [
    "l"
   ]
  },
  {
   "cell_type": "code",
   "execution_count": 91,
   "id": "6ee3cd8d",
   "metadata": {},
   "outputs": [
    {
     "ename": "TypeError",
     "evalue": "can only concatenate list (not \"int\") to list",
     "output_type": "error",
     "traceback": [
      "\u001b[31m---------------------------------------------------------------------------\u001b[39m",
      "\u001b[31mTypeError\u001b[39m                                 Traceback (most recent call last)",
      "\u001b[36mCell\u001b[39m\u001b[36m \u001b[39m\u001b[32mIn[91]\u001b[39m\u001b[32m, line 1\u001b[39m\n\u001b[32m----> \u001b[39m\u001b[32m1\u001b[39m \u001b[43ml\u001b[49m\u001b[43m+\u001b[49m\u001b[32;43m12\u001b[39;49m\n\u001b[32m      2\u001b[39m l/\u001b[32m12\u001b[39m\n",
      "\u001b[31mTypeError\u001b[39m: can only concatenate list (not \"int\") to list"
     ]
    }
   ],
   "source": [
    "l+12\n",
    "l/12"
   ]
  },
  {
   "cell_type": "code",
   "execution_count": 99,
   "id": "ad4dc380",
   "metadata": {},
   "outputs": [
    {
     "name": "stdout",
     "output_type": "stream",
     "text": [
      "[1 3 6 7 8]\n",
      "*2 [ 2  6 12 14 16]\n",
      "/2 [0.5 1.5 3.  3.5 4. ]\n",
      "//2 [0 1 3 3 4]\n",
      "**2 [ 1  9 36 49 64]\n",
      "-2 [-1  1  4  5  6]\n",
      "+2 [ 3  5  8  9 10]\n",
      "%2 [1 1 0 1 0]\n"
     ]
    }
   ],
   "source": [
    "print(ar)\n",
    "print('*2' ,ar*2)\n",
    "print('/2' ,     ar/2)\n",
    "print('//2' ,    ar//2)\n",
    "print('**2',   ar**2)\n",
    "print('-2' ,   ar-2)\n",
    "print('+2',   ar+2)\n",
    "print('%2',   ar%2)"
   ]
  },
  {
   "cell_type": "markdown",
   "id": "8ecbedaf",
   "metadata": {},
   "source": [
    "# indexing "
   ]
  },
  {
   "cell_type": "code",
   "execution_count": 100,
   "id": "d65699e3",
   "metadata": {},
   "outputs": [
    {
     "data": {
      "text/plain": [
       "array([1, 3, 6, 7, 8])"
      ]
     },
     "execution_count": 100,
     "metadata": {},
     "output_type": "execute_result"
    }
   ],
   "source": [
    "ar"
   ]
  },
  {
   "cell_type": "code",
   "execution_count": 105,
   "id": "3a2675db",
   "metadata": {},
   "outputs": [
    {
     "name": "stdout",
     "output_type": "stream",
     "text": [
      "7\n",
      "3\n"
     ]
    }
   ],
   "source": [
    "ar[0]\n",
    "print(ar[3])\n",
    "print(ar[-4])"
   ]
  },
  {
   "cell_type": "code",
   "execution_count": 110,
   "id": "0aa7f72b",
   "metadata": {},
   "outputs": [
    {
     "data": {
      "text/plain": [
       "array([[1, 2, 3],\n",
       "       [5, 6, 7]])"
      ]
     },
     "execution_count": 110,
     "metadata": {},
     "output_type": "execute_result"
    }
   ],
   "source": [
    "ar_2d"
   ]
  },
  {
   "cell_type": "code",
   "execution_count": 115,
   "id": "df1ab863",
   "metadata": {},
   "outputs": [
    {
     "name": "stdout",
     "output_type": "stream",
     "text": [
      "[1 2 3]\n",
      "[5 6 7]\n",
      "6\n",
      "3\n",
      "1\n"
     ]
    }
   ],
   "source": [
    "print(ar_2d[0])\n",
    "print(ar_2d[1])\n",
    "print(ar_2d[1 ,1])\n",
    "print(ar_2d[0 ,2 ])\n",
    "print(ar_2d[0,0])"
   ]
  },
  {
   "cell_type": "code",
   "execution_count": 116,
   "id": "59ed658f",
   "metadata": {},
   "outputs": [
    {
     "data": {
      "text/plain": [
       "array([[[ 1,  2,  3],\n",
       "        [ 4,  5,  6]],\n",
       "\n",
       "       [[ 7,  8,  9],\n",
       "        [10, 11, 12]]])"
      ]
     },
     "execution_count": 116,
     "metadata": {},
     "output_type": "execute_result"
    }
   ],
   "source": [
    "ar6"
   ]
  },
  {
   "cell_type": "code",
   "execution_count": 122,
   "id": "bf5ab38c",
   "metadata": {},
   "outputs": [
    {
     "name": "stdout",
     "output_type": "stream",
     "text": [
      "(2, 2, 3)\n",
      "[[1 2 3]\n",
      " [4 5 6]]\n",
      "[[ 7  8  9]\n",
      " [10 11 12]]\n",
      "[1 2 3]\n",
      "12\n",
      "6\n"
     ]
    }
   ],
   "source": [
    "print(ar6.shape)\n",
    "print(ar6[0])\n",
    "print(ar6[1])\n",
    "print(ar6[0 ,  0]  )\n",
    "print(ar6[1, 1,2])\n",
    "print(ar6[0 ,  1, 2])"
   ]
  },
  {
   "cell_type": "code",
   "execution_count": 118,
   "id": "82dfbc4a",
   "metadata": {},
   "outputs": [
    {
     "data": {
      "text/plain": [
       "array([[1, 2, 3],\n",
       "       [4, 5, 6]])"
      ]
     },
     "execution_count": 118,
     "metadata": {},
     "output_type": "execute_result"
    }
   ],
   "source": [
    "ar6[0]"
   ]
  },
  {
   "cell_type": "markdown",
   "id": "7d62415c",
   "metadata": {},
   "source": [
    "# Generate obsns"
   ]
  },
  {
   "cell_type": "code",
   "execution_count": 125,
   "id": "4be4bb63",
   "metadata": {},
   "outputs": [
    {
     "data": {
      "text/plain": [
       "[1, 2, 3, 4, 5, 6, 7, 8, 9, 10]"
      ]
     },
     "execution_count": 125,
     "metadata": {},
     "output_type": "execute_result"
    }
   ],
   "source": [
    "list(range(1 ,11))   # range is used to genertae integers"
   ]
  },
  {
   "cell_type": "code",
   "execution_count": 126,
   "id": "eddc1127",
   "metadata": {},
   "outputs": [
    {
     "ename": "TypeError",
     "evalue": "range() takes no keyword arguments",
     "output_type": "error",
     "traceback": [
      "\u001b[31m---------------------------------------------------------------------------\u001b[39m",
      "\u001b[31mTypeError\u001b[39m                                 Traceback (most recent call last)",
      "\u001b[36mCell\u001b[39m\u001b[36m \u001b[39m\u001b[32mIn[126]\u001b[39m\u001b[32m, line 1\u001b[39m\n\u001b[32m----> \u001b[39m\u001b[32m1\u001b[39m \u001b[38;5;28mlist\u001b[39m(\u001b[38;5;28;43mrange\u001b[39;49m\u001b[43m(\u001b[49m\u001b[32;43m1\u001b[39;49m\u001b[43m \u001b[49m\u001b[43m,\u001b[49m\u001b[32;43m11\u001b[39;49m\u001b[43m \u001b[49m\u001b[43m,\u001b[49m\u001b[43m \u001b[49m\u001b[43mstep\u001b[49m\u001b[43m \u001b[49m\u001b[43m=\u001b[49m\u001b[43m \u001b[49m\u001b[32;43m0.4\u001b[39;49m\u001b[43m)\u001b[49m) \n",
      "\u001b[31mTypeError\u001b[39m: range() takes no keyword arguments"
     ]
    }
   ],
   "source": [
    "list(range(1 ,11 , step = 0.4)) "
   ]
  },
  {
   "cell_type": "markdown",
   "id": "645819c5",
   "metadata": {},
   "source": [
    "# arange\n",
    "- To generate floats/ int we can use arange  , linspace"
   ]
  },
  {
   "cell_type": "code",
   "execution_count": 129,
   "id": "5db36e05",
   "metadata": {},
   "outputs": [
    {
     "data": {
      "text/plain": [
       "array([2, 5, 8])"
      ]
     },
     "execution_count": 129,
     "metadata": {},
     "output_type": "execute_result"
    }
   ],
   "source": [
    "np.arange(start  = 2 , stop  = 10 , step  =  3)"
   ]
  },
  {
   "cell_type": "code",
   "execution_count": 130,
   "id": "3c350028",
   "metadata": {},
   "outputs": [
    {
     "data": {
      "text/plain": [
       "array([10. , 15.5, 21. , 26.5, 32. , 37.5, 43. , 48.5, 54. , 59.5, 65. ,\n",
       "       70.5, 76. , 81.5, 87. , 92.5, 98. ])"
      ]
     },
     "execution_count": 130,
     "metadata": {},
     "output_type": "execute_result"
    }
   ],
   "source": [
    "np.arange(start  =  10  , stop =  100 , step =  5.5)"
   ]
  },
  {
   "cell_type": "code",
   "execution_count": 142,
   "id": "a9041b65",
   "metadata": {},
   "outputs": [
    {
     "data": {
      "text/plain": [
       "(array([200.        , 200.1001001 , 200.2002002 , 200.3003003 ,\n",
       "        200.4004004 , 200.5005005 , 200.6006006 , 200.7007007 ,\n",
       "        200.8008008 , 200.9009009 , 201.001001  , 201.1011011 ,\n",
       "        201.2012012 , 201.3013013 , 201.4014014 , 201.5015015 ,\n",
       "        201.6016016 , 201.7017017 , 201.8018018 , 201.9019019 ,\n",
       "        202.002002  , 202.1021021 , 202.2022022 , 202.3023023 ,\n",
       "        202.4024024 , 202.5025025 , 202.6026026 , 202.7027027 ,\n",
       "        202.8028028 , 202.9029029 , 203.003003  , 203.1031031 ,\n",
       "        203.2032032 , 203.3033033 , 203.4034034 , 203.5035035 ,\n",
       "        203.6036036 , 203.7037037 , 203.8038038 , 203.9039039 ,\n",
       "        204.004004  , 204.1041041 , 204.2042042 , 204.3043043 ,\n",
       "        204.4044044 , 204.5045045 , 204.6046046 , 204.7047047 ,\n",
       "        204.8048048 , 204.9049049 , 205.00500501, 205.10510511,\n",
       "        205.20520521, 205.30530531, 205.40540541, 205.50550551,\n",
       "        205.60560561, 205.70570571, 205.80580581, 205.90590591,\n",
       "        206.00600601, 206.10610611, 206.20620621, 206.30630631,\n",
       "        206.40640641, 206.50650651, 206.60660661, 206.70670671,\n",
       "        206.80680681, 206.90690691, 207.00700701, 207.10710711,\n",
       "        207.20720721, 207.30730731, 207.40740741, 207.50750751,\n",
       "        207.60760761, 207.70770771, 207.80780781, 207.90790791,\n",
       "        208.00800801, 208.10810811, 208.20820821, 208.30830831,\n",
       "        208.40840841, 208.50850851, 208.60860861, 208.70870871,\n",
       "        208.80880881, 208.90890891, 209.00900901, 209.10910911,\n",
       "        209.20920921, 209.30930931, 209.40940941, 209.50950951,\n",
       "        209.60960961, 209.70970971, 209.80980981, 209.90990991,\n",
       "        210.01001001, 210.11011011, 210.21021021, 210.31031031,\n",
       "        210.41041041, 210.51051051, 210.61061061, 210.71071071,\n",
       "        210.81081081, 210.91091091, 211.01101101, 211.11111111,\n",
       "        211.21121121, 211.31131131, 211.41141141, 211.51151151,\n",
       "        211.61161161, 211.71171171, 211.81181181, 211.91191191,\n",
       "        212.01201201, 212.11211211, 212.21221221, 212.31231231,\n",
       "        212.41241241, 212.51251251, 212.61261261, 212.71271271,\n",
       "        212.81281281, 212.91291291, 213.01301301, 213.11311311,\n",
       "        213.21321321, 213.31331331, 213.41341341, 213.51351351,\n",
       "        213.61361361, 213.71371371, 213.81381381, 213.91391391,\n",
       "        214.01401401, 214.11411411, 214.21421421, 214.31431431,\n",
       "        214.41441441, 214.51451451, 214.61461461, 214.71471471,\n",
       "        214.81481481, 214.91491491, 215.01501502, 215.11511512,\n",
       "        215.21521522, 215.31531532, 215.41541542, 215.51551552,\n",
       "        215.61561562, 215.71571572, 215.81581582, 215.91591592,\n",
       "        216.01601602, 216.11611612, 216.21621622, 216.31631632,\n",
       "        216.41641642, 216.51651652, 216.61661662, 216.71671672,\n",
       "        216.81681682, 216.91691692, 217.01701702, 217.11711712,\n",
       "        217.21721722, 217.31731732, 217.41741742, 217.51751752,\n",
       "        217.61761762, 217.71771772, 217.81781782, 217.91791792,\n",
       "        218.01801802, 218.11811812, 218.21821822, 218.31831832,\n",
       "        218.41841842, 218.51851852, 218.61861862, 218.71871872,\n",
       "        218.81881882, 218.91891892, 219.01901902, 219.11911912,\n",
       "        219.21921922, 219.31931932, 219.41941942, 219.51951952,\n",
       "        219.61961962, 219.71971972, 219.81981982, 219.91991992,\n",
       "        220.02002002, 220.12012012, 220.22022022, 220.32032032,\n",
       "        220.42042042, 220.52052052, 220.62062062, 220.72072072,\n",
       "        220.82082082, 220.92092092, 221.02102102, 221.12112112,\n",
       "        221.22122122, 221.32132132, 221.42142142, 221.52152152,\n",
       "        221.62162162, 221.72172172, 221.82182182, 221.92192192,\n",
       "        222.02202202, 222.12212212, 222.22222222, 222.32232232,\n",
       "        222.42242242, 222.52252252, 222.62262262, 222.72272272,\n",
       "        222.82282282, 222.92292292, 223.02302302, 223.12312312,\n",
       "        223.22322322, 223.32332332, 223.42342342, 223.52352352,\n",
       "        223.62362362, 223.72372372, 223.82382382, 223.92392392,\n",
       "        224.02402402, 224.12412412, 224.22422422, 224.32432432,\n",
       "        224.42442442, 224.52452452, 224.62462462, 224.72472472,\n",
       "        224.82482482, 224.92492492, 225.02502503, 225.12512513,\n",
       "        225.22522523, 225.32532533, 225.42542543, 225.52552553,\n",
       "        225.62562563, 225.72572573, 225.82582583, 225.92592593,\n",
       "        226.02602603, 226.12612613, 226.22622623, 226.32632633,\n",
       "        226.42642643, 226.52652653, 226.62662663, 226.72672673,\n",
       "        226.82682683, 226.92692693, 227.02702703, 227.12712713,\n",
       "        227.22722723, 227.32732733, 227.42742743, 227.52752753,\n",
       "        227.62762763, 227.72772773, 227.82782783, 227.92792793,\n",
       "        228.02802803, 228.12812813, 228.22822823, 228.32832833,\n",
       "        228.42842843, 228.52852853, 228.62862863, 228.72872873,\n",
       "        228.82882883, 228.92892893, 229.02902903, 229.12912913,\n",
       "        229.22922923, 229.32932933, 229.42942943, 229.52952953,\n",
       "        229.62962963, 229.72972973, 229.82982983, 229.92992993,\n",
       "        230.03003003, 230.13013013, 230.23023023, 230.33033033,\n",
       "        230.43043043, 230.53053053, 230.63063063, 230.73073073,\n",
       "        230.83083083, 230.93093093, 231.03103103, 231.13113113,\n",
       "        231.23123123, 231.33133133, 231.43143143, 231.53153153,\n",
       "        231.63163163, 231.73173173, 231.83183183, 231.93193193,\n",
       "        232.03203203, 232.13213213, 232.23223223, 232.33233233,\n",
       "        232.43243243, 232.53253253, 232.63263263, 232.73273273,\n",
       "        232.83283283, 232.93293293, 233.03303303, 233.13313313,\n",
       "        233.23323323, 233.33333333, 233.43343343, 233.53353353,\n",
       "        233.63363363, 233.73373373, 233.83383383, 233.93393393,\n",
       "        234.03403403, 234.13413413, 234.23423423, 234.33433433,\n",
       "        234.43443443, 234.53453453, 234.63463463, 234.73473473,\n",
       "        234.83483483, 234.93493493, 235.03503504, 235.13513514,\n",
       "        235.23523524, 235.33533534, 235.43543544, 235.53553554,\n",
       "        235.63563564, 235.73573574, 235.83583584, 235.93593594,\n",
       "        236.03603604, 236.13613614, 236.23623624, 236.33633634,\n",
       "        236.43643644, 236.53653654, 236.63663664, 236.73673674,\n",
       "        236.83683684, 236.93693694, 237.03703704, 237.13713714,\n",
       "        237.23723724, 237.33733734, 237.43743744, 237.53753754,\n",
       "        237.63763764, 237.73773774, 237.83783784, 237.93793794,\n",
       "        238.03803804, 238.13813814, 238.23823824, 238.33833834,\n",
       "        238.43843844, 238.53853854, 238.63863864, 238.73873874,\n",
       "        238.83883884, 238.93893894, 239.03903904, 239.13913914,\n",
       "        239.23923924, 239.33933934, 239.43943944, 239.53953954,\n",
       "        239.63963964, 239.73973974, 239.83983984, 239.93993994,\n",
       "        240.04004004, 240.14014014, 240.24024024, 240.34034034,\n",
       "        240.44044044, 240.54054054, 240.64064064, 240.74074074,\n",
       "        240.84084084, 240.94094094, 241.04104104, 241.14114114,\n",
       "        241.24124124, 241.34134134, 241.44144144, 241.54154154,\n",
       "        241.64164164, 241.74174174, 241.84184184, 241.94194194,\n",
       "        242.04204204, 242.14214214, 242.24224224, 242.34234234,\n",
       "        242.44244244, 242.54254254, 242.64264264, 242.74274274,\n",
       "        242.84284284, 242.94294294, 243.04304304, 243.14314314,\n",
       "        243.24324324, 243.34334334, 243.44344344, 243.54354354,\n",
       "        243.64364364, 243.74374374, 243.84384384, 243.94394394,\n",
       "        244.04404404, 244.14414414, 244.24424424, 244.34434434,\n",
       "        244.44444444, 244.54454454, 244.64464464, 244.74474474,\n",
       "        244.84484484, 244.94494494, 245.04504505, 245.14514515,\n",
       "        245.24524525, 245.34534535, 245.44544545, 245.54554555,\n",
       "        245.64564565, 245.74574575, 245.84584585, 245.94594595,\n",
       "        246.04604605, 246.14614615, 246.24624625, 246.34634635,\n",
       "        246.44644645, 246.54654655, 246.64664665, 246.74674675,\n",
       "        246.84684685, 246.94694695, 247.04704705, 247.14714715,\n",
       "        247.24724725, 247.34734735, 247.44744745, 247.54754755,\n",
       "        247.64764765, 247.74774775, 247.84784785, 247.94794795,\n",
       "        248.04804805, 248.14814815, 248.24824825, 248.34834835,\n",
       "        248.44844845, 248.54854855, 248.64864865, 248.74874875,\n",
       "        248.84884885, 248.94894895, 249.04904905, 249.14914915,\n",
       "        249.24924925, 249.34934935, 249.44944945, 249.54954955,\n",
       "        249.64964965, 249.74974975, 249.84984985, 249.94994995,\n",
       "        250.05005005, 250.15015015, 250.25025025, 250.35035035,\n",
       "        250.45045045, 250.55055055, 250.65065065, 250.75075075,\n",
       "        250.85085085, 250.95095095, 251.05105105, 251.15115115,\n",
       "        251.25125125, 251.35135135, 251.45145145, 251.55155155,\n",
       "        251.65165165, 251.75175175, 251.85185185, 251.95195195,\n",
       "        252.05205205, 252.15215215, 252.25225225, 252.35235235,\n",
       "        252.45245245, 252.55255255, 252.65265265, 252.75275275,\n",
       "        252.85285285, 252.95295295, 253.05305305, 253.15315315,\n",
       "        253.25325325, 253.35335335, 253.45345345, 253.55355355,\n",
       "        253.65365365, 253.75375375, 253.85385385, 253.95395395,\n",
       "        254.05405405, 254.15415415, 254.25425425, 254.35435435,\n",
       "        254.45445445, 254.55455455, 254.65465465, 254.75475475,\n",
       "        254.85485485, 254.95495495, 255.05505506, 255.15515516,\n",
       "        255.25525526, 255.35535536, 255.45545546, 255.55555556,\n",
       "        255.65565566, 255.75575576, 255.85585586, 255.95595596,\n",
       "        256.05605606, 256.15615616, 256.25625626, 256.35635636,\n",
       "        256.45645646, 256.55655656, 256.65665666, 256.75675676,\n",
       "        256.85685686, 256.95695696, 257.05705706, 257.15715716,\n",
       "        257.25725726, 257.35735736, 257.45745746, 257.55755756,\n",
       "        257.65765766, 257.75775776, 257.85785786, 257.95795796,\n",
       "        258.05805806, 258.15815816, 258.25825826, 258.35835836,\n",
       "        258.45845846, 258.55855856, 258.65865866, 258.75875876,\n",
       "        258.85885886, 258.95895896, 259.05905906, 259.15915916,\n",
       "        259.25925926, 259.35935936, 259.45945946, 259.55955956,\n",
       "        259.65965966, 259.75975976, 259.85985986, 259.95995996,\n",
       "        260.06006006, 260.16016016, 260.26026026, 260.36036036,\n",
       "        260.46046046, 260.56056056, 260.66066066, 260.76076076,\n",
       "        260.86086086, 260.96096096, 261.06106106, 261.16116116,\n",
       "        261.26126126, 261.36136136, 261.46146146, 261.56156156,\n",
       "        261.66166166, 261.76176176, 261.86186186, 261.96196196,\n",
       "        262.06206206, 262.16216216, 262.26226226, 262.36236236,\n",
       "        262.46246246, 262.56256256, 262.66266266, 262.76276276,\n",
       "        262.86286286, 262.96296296, 263.06306306, 263.16316316,\n",
       "        263.26326326, 263.36336336, 263.46346346, 263.56356356,\n",
       "        263.66366366, 263.76376376, 263.86386386, 263.96396396,\n",
       "        264.06406406, 264.16416416, 264.26426426, 264.36436436,\n",
       "        264.46446446, 264.56456456, 264.66466466, 264.76476476,\n",
       "        264.86486486, 264.96496496, 265.06506507, 265.16516517,\n",
       "        265.26526527, 265.36536537, 265.46546547, 265.56556557,\n",
       "        265.66566567, 265.76576577, 265.86586587, 265.96596597,\n",
       "        266.06606607, 266.16616617, 266.26626627, 266.36636637,\n",
       "        266.46646647, 266.56656657, 266.66666667, 266.76676677,\n",
       "        266.86686687, 266.96696697, 267.06706707, 267.16716717,\n",
       "        267.26726727, 267.36736737, 267.46746747, 267.56756757,\n",
       "        267.66766767, 267.76776777, 267.86786787, 267.96796797,\n",
       "        268.06806807, 268.16816817, 268.26826827, 268.36836837,\n",
       "        268.46846847, 268.56856857, 268.66866867, 268.76876877,\n",
       "        268.86886887, 268.96896897, 269.06906907, 269.16916917,\n",
       "        269.26926927, 269.36936937, 269.46946947, 269.56956957,\n",
       "        269.66966967, 269.76976977, 269.86986987, 269.96996997,\n",
       "        270.07007007, 270.17017017, 270.27027027, 270.37037037,\n",
       "        270.47047047, 270.57057057, 270.67067067, 270.77077077,\n",
       "        270.87087087, 270.97097097, 271.07107107, 271.17117117,\n",
       "        271.27127127, 271.37137137, 271.47147147, 271.57157157,\n",
       "        271.67167167, 271.77177177, 271.87187187, 271.97197197,\n",
       "        272.07207207, 272.17217217, 272.27227227, 272.37237237,\n",
       "        272.47247247, 272.57257257, 272.67267267, 272.77277277,\n",
       "        272.87287287, 272.97297297, 273.07307307, 273.17317317,\n",
       "        273.27327327, 273.37337337, 273.47347347, 273.57357357,\n",
       "        273.67367367, 273.77377377, 273.87387387, 273.97397397,\n",
       "        274.07407407, 274.17417417, 274.27427427, 274.37437437,\n",
       "        274.47447447, 274.57457457, 274.67467467, 274.77477477,\n",
       "        274.87487487, 274.97497497, 275.07507508, 275.17517518,\n",
       "        275.27527528, 275.37537538, 275.47547548, 275.57557558,\n",
       "        275.67567568, 275.77577578, 275.87587588, 275.97597598,\n",
       "        276.07607608, 276.17617618, 276.27627628, 276.37637638,\n",
       "        276.47647648, 276.57657658, 276.67667668, 276.77677678,\n",
       "        276.87687688, 276.97697698, 277.07707708, 277.17717718,\n",
       "        277.27727728, 277.37737738, 277.47747748, 277.57757758,\n",
       "        277.67767768, 277.77777778, 277.87787788, 277.97797798,\n",
       "        278.07807808, 278.17817818, 278.27827828, 278.37837838,\n",
       "        278.47847848, 278.57857858, 278.67867868, 278.77877878,\n",
       "        278.87887888, 278.97897898, 279.07907908, 279.17917918,\n",
       "        279.27927928, 279.37937938, 279.47947948, 279.57957958,\n",
       "        279.67967968, 279.77977978, 279.87987988, 279.97997998,\n",
       "        280.08008008, 280.18018018, 280.28028028, 280.38038038,\n",
       "        280.48048048, 280.58058058, 280.68068068, 280.78078078,\n",
       "        280.88088088, 280.98098098, 281.08108108, 281.18118118,\n",
       "        281.28128128, 281.38138138, 281.48148148, 281.58158158,\n",
       "        281.68168168, 281.78178178, 281.88188188, 281.98198198,\n",
       "        282.08208208, 282.18218218, 282.28228228, 282.38238238,\n",
       "        282.48248248, 282.58258258, 282.68268268, 282.78278278,\n",
       "        282.88288288, 282.98298298, 283.08308308, 283.18318318,\n",
       "        283.28328328, 283.38338338, 283.48348348, 283.58358358,\n",
       "        283.68368368, 283.78378378, 283.88388388, 283.98398398,\n",
       "        284.08408408, 284.18418418, 284.28428428, 284.38438438,\n",
       "        284.48448448, 284.58458458, 284.68468468, 284.78478478,\n",
       "        284.88488488, 284.98498498, 285.08508509, 285.18518519,\n",
       "        285.28528529, 285.38538539, 285.48548549, 285.58558559,\n",
       "        285.68568569, 285.78578579, 285.88588589, 285.98598599,\n",
       "        286.08608609, 286.18618619, 286.28628629, 286.38638639,\n",
       "        286.48648649, 286.58658659, 286.68668669, 286.78678679,\n",
       "        286.88688689, 286.98698699, 287.08708709, 287.18718719,\n",
       "        287.28728729, 287.38738739, 287.48748749, 287.58758759,\n",
       "        287.68768769, 287.78778779, 287.88788789, 287.98798799,\n",
       "        288.08808809, 288.18818819, 288.28828829, 288.38838839,\n",
       "        288.48848849, 288.58858859, 288.68868869, 288.78878879,\n",
       "        288.88888889, 288.98898899, 289.08908909, 289.18918919,\n",
       "        289.28928929, 289.38938939, 289.48948949, 289.58958959,\n",
       "        289.68968969, 289.78978979, 289.88988989, 289.98998999,\n",
       "        290.09009009, 290.19019019, 290.29029029, 290.39039039,\n",
       "        290.49049049, 290.59059059, 290.69069069, 290.79079079,\n",
       "        290.89089089, 290.99099099, 291.09109109, 291.19119119,\n",
       "        291.29129129, 291.39139139, 291.49149149, 291.59159159,\n",
       "        291.69169169, 291.79179179, 291.89189189, 291.99199199,\n",
       "        292.09209209, 292.19219219, 292.29229229, 292.39239239,\n",
       "        292.49249249, 292.59259259, 292.69269269, 292.79279279,\n",
       "        292.89289289, 292.99299299, 293.09309309, 293.19319319,\n",
       "        293.29329329, 293.39339339, 293.49349349, 293.59359359,\n",
       "        293.69369369, 293.79379379, 293.89389389, 293.99399399,\n",
       "        294.09409409, 294.19419419, 294.29429429, 294.39439439,\n",
       "        294.49449449, 294.59459459, 294.69469469, 294.79479479,\n",
       "        294.89489489, 294.99499499, 295.0950951 , 295.1951952 ,\n",
       "        295.2952953 , 295.3953954 , 295.4954955 , 295.5955956 ,\n",
       "        295.6956957 , 295.7957958 , 295.8958959 , 295.995996  ,\n",
       "        296.0960961 , 296.1961962 , 296.2962963 , 296.3963964 ,\n",
       "        296.4964965 , 296.5965966 , 296.6966967 , 296.7967968 ,\n",
       "        296.8968969 , 296.996997  , 297.0970971 , 297.1971972 ,\n",
       "        297.2972973 , 297.3973974 , 297.4974975 , 297.5975976 ,\n",
       "        297.6976977 , 297.7977978 , 297.8978979 , 297.997998  ,\n",
       "        298.0980981 , 298.1981982 , 298.2982983 , 298.3983984 ,\n",
       "        298.4984985 , 298.5985986 , 298.6986987 , 298.7987988 ,\n",
       "        298.8988989 , 298.998999  , 299.0990991 , 299.1991992 ,\n",
       "        299.2992993 , 299.3993994 , 299.4994995 , 299.5995996 ,\n",
       "        299.6996997 , 299.7997998 , 299.8998999 , 300.        ]),\n",
       " np.float64(0.1001001001001001))"
      ]
     },
     "execution_count": 142,
     "metadata": {},
     "output_type": "execute_result"
    }
   ],
   "source": [
    "# linspace\n",
    "num  = np.linspace(start  =  200 , stop  =  300 , num  =  1000  , retstep =  True)\n",
    "num"
   ]
  },
  {
   "cell_type": "code",
   "execution_count": 135,
   "id": "44f81663",
   "metadata": {},
   "outputs": [
    {
     "data": {
      "text/plain": [
       "1000"
      ]
     },
     "execution_count": 135,
     "metadata": {},
     "output_type": "execute_result"
    }
   ],
   "source": [
    "len(num)"
   ]
  },
  {
   "cell_type": "code",
   "execution_count": 137,
   "id": "682bd5aa",
   "metadata": {},
   "outputs": [
    {
     "name": "stdout",
     "output_type": "stream",
     "text": [
      "0.10010010000002012\n",
      "0.10010009999996328\n"
     ]
    }
   ],
   "source": [
    "print(300 -299.8998999 )\n",
    "print(299.8998999-299.7997998)"
   ]
  },
  {
   "cell_type": "code",
   "execution_count": null,
   "id": "0e2a1dc4",
   "metadata": {},
   "outputs": [],
   "source": []
  }
 ],
 "metadata": {
  "kernelspec": {
   "display_name": "venv",
   "language": "python",
   "name": "python3"
  },
  "language_info": {
   "codemirror_mode": {
    "name": "ipython",
    "version": 3
   },
   "file_extension": ".py",
   "mimetype": "text/x-python",
   "name": "python",
   "nbconvert_exporter": "python",
   "pygments_lexer": "ipython3",
   "version": "3.13.5"
  }
 },
 "nbformat": 4,
 "nbformat_minor": 5
}
